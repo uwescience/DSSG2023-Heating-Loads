{
 "cells": [
  {
   "cell_type": "markdown",
   "id": "8c86f2dd",
   "metadata": {},
   "source": [
    "### ERA5 Data Extraction for Census Places"
   ]
  },
  {
   "cell_type": "code",
   "execution_count": null,
   "id": "7e6baf97",
   "metadata": {},
   "outputs": [],
   "source": [
    "#%pip install google\n",
    "#%conda install google\n",
    "#%pip install --upgrade google-api-python-client\n",
    "#%pip install --upgrade ee\n",
    "#%pip install earthengine-api --upgrade"
   ]
  },
  {
   "cell_type": "code",
   "execution_count": null,
   "id": "f135ac85",
   "metadata": {},
   "outputs": [],
   "source": [
    "import numpy as np\n",
    "import re\n",
    "import pandas as pd\n",
    "import geopandas as gpd\n",
    "import gdown\n",
    "import ee\n",
    "import google\n",
    "import os"
   ]
  },
  {
   "cell_type": "code",
   "execution_count": null,
   "id": "c4856b17",
   "metadata": {},
   "outputs": [],
   "source": [
    "ee.Authenticate()\n",
    "ee.Initialize()"
   ]
  },
  {
   "cell_type": "markdown",
   "id": "0b55a534",
   "metadata": {},
   "source": [
    "### Get ERA5 hourly data by Census places"
   ]
  },
  {
   "cell_type": "code",
   "execution_count": null,
   "id": "d74fa3e5",
   "metadata": {},
   "outputs": [],
   "source": [
    "era5 = ee.ImageCollection(\"ECMWF/ERA5_LAND/HOURLY\")\n",
    "hourly2022 = era5.filterDate('2022-01-01', '2022-01-02').select('temperature_2m')"
   ]
  },
  {
   "cell_type": "code",
   "execution_count": null,
   "id": "8dc9db51",
   "metadata": {},
   "outputs": [],
   "source": [
    "# AK Census places as feature collection\n",
    "ak_places = ee.FeatureCollection('projects/geospatial-data-kpleung/assets/akplaces_2010')"
   ]
  },
  {
   "cell_type": "code",
   "execution_count": null,
   "id": "f3ecff95",
   "metadata": {},
   "outputs": [],
   "source": [
    "# reducer \n",
    "def reduceByPlaces(image):\n",
    "  return image.reduceRegions(collection = ak_places,\n",
    "                             reducer = ee.Reducer.mean().setOutputs(['avg_air_temp']))\n",
    "\n",
    "placesHourly2022 = hourly2022.map(reduceByPlaces).flatten()"
   ]
  },
  {
   "cell_type": "code",
   "execution_count": null,
   "id": "91ccd87b",
   "metadata": {},
   "outputs": [],
   "source": [
    "## Run with caution: expected runtime: 45m\n",
    "\n",
    "# task = ee.batch.Export.table.toDrive(**{\n",
    "#   'collection': placesHourly2022,\n",
    "#   'description': 'Places Average Temp by Hourly 2022',\n",
    "#   'folder': 'EarthEngine',\n",
    "#   'selectors': ['system:index','NAME', 'FIPS', 'avg_air_temp'], \n",
    "#   'fileFormat': 'CSV'\n",
    "# })\n",
    "# task.start()"
   ]
  },
  {
   "cell_type": "code",
   "execution_count": null,
   "id": "5102d5e0",
   "metadata": {},
   "outputs": [],
   "source": [
    "# download the result from Google drive (later change to Github submodule)\n",
    "url = \"https://drive.google.com/file/d/1T1vRS8OU1S89sfaoDCynN9BxAKRlGRPO/view?usp=drive_link\"\n",
    "output_path = \"../Data/\"\n",
    "gdown.download(url, output_path, quiet=False,fuzzy=True)"
   ]
  },
  {
   "cell_type": "code",
   "execution_count": null,
   "id": "1ee39bdb",
   "metadata": {},
   "outputs": [],
   "source": [
    "# reading in data\n",
    "temp_data = pd.read_csv(\"../Data/Places Average Temp by Hourly 2022.csv\")\n",
    "temp_data.head()"
   ]
  },
  {
   "cell_type": "code",
   "execution_count": null,
   "id": "724bf002",
   "metadata": {},
   "outputs": [],
   "source": [
    "# extracting month from system:index, converting temp from kelvin to faranheit, extracting timestamp from system:index\n",
    "# susetting specific columns\n",
    "temp_data['Month'] = temp_data['system:index'].str[4:6]\n",
    "temp_data['db_temp'] = (1.8 * (temp_data['avg_air_temp']-273)) + 32\n",
    "temp_data['timestamp'] = temp_data['system:index'].str[:11].str.replace(\"T\",\"\")\n",
    "temp_data['timestamp'] = pd.to_datetime(temp_data['timestamp'], format ='%Y%m%d%H')\n",
    "data = temp_data[['FIPS','NAME','timestamp', 'db_temp', 'Month']]\n",
    "data.tail(10)"
   ]
  },
  {
   "cell_type": "code",
   "execution_count": null,
   "id": "fcabed94",
   "metadata": {},
   "outputs": [],
   "source": [
    "# partitioning data into different FIPS and changind it to a dataframes\n",
    "df = data\n",
    "df_dict = {str(g): d for g, d in df.groupby('FIPS')}"
   ]
  },
  {
   "cell_type": "code",
   "execution_count": null,
   "id": "c24dd5c6",
   "metadata": {},
   "outputs": [],
   "source": [
    "# saving FIPS data as csv\n",
    "for i in df_dict:\n",
    "    df_dict[i].to_csv ('../Data/ERA5/'+ i + '.csv', index = None, header=True) "
   ]
  },
  {
   "cell_type": "code",
   "execution_count": null,
   "id": "9c9e01ca",
   "metadata": {},
   "outputs": [],
   "source": [
    "# saving FIPS data as pickle\n",
    "for i in df_dict:\n",
    "    df_dict[i].to_pickle ('../Data/ERA5/'+ i + '.pkl', compression = 'bz2') "
   ]
  }
 ],
 "metadata": {
  "kernelspec": {
   "display_name": "Python 3",
   "language": "python",
   "name": "python3"
  },
  "language_info": {
   "codemirror_mode": {
    "name": "ipython",
    "version": 3
   },
   "file_extension": ".py",
   "mimetype": "text/x-python",
   "name": "python",
   "nbconvert_exporter": "python",
   "pygments_lexer": "ipython3",
   "version": "3.8.8"
  }
 },
 "nbformat": 4,
 "nbformat_minor": 5
}
