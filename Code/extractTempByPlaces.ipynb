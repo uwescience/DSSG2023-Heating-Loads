{
 "cells": [
  {
   "cell_type": "markdown",
   "id": "8c86f2dd",
   "metadata": {},
   "source": [
    "### ERA5 Data Extraction for Census Places"
   ]
  },
  {
   "cell_type": "code",
   "execution_count": 1,
   "id": "f135ac85",
   "metadata": {},
   "outputs": [],
   "source": [
    "import pandas as pd\n",
    "import gdown\n",
    "import ee\n",
    "import google"
   ]
  },
  {
   "cell_type": "code",
   "execution_count": null,
   "id": "c4856b17",
   "metadata": {},
   "outputs": [],
   "source": [
    "ee.Authenticate()\n",
    "ee.Initialize()"
   ]
  },
  {
   "cell_type": "markdown",
   "id": "0b55a534",
   "metadata": {},
   "source": [
    "### Get ERA5 hourly data by Census places"
   ]
  },
  {
   "cell_type": "code",
   "execution_count": null,
   "id": "d74fa3e5",
   "metadata": {},
   "outputs": [],
   "source": [
    "era5 = ee.ImageCollection(\"ECMWF/ERA5_LAND/HOURLY\")\n",
    "hourly2022 = era5.filterDate('2022-01-01', '2022-01-02').select('temperature_2m')"
   ]
  },
  {
   "cell_type": "code",
   "execution_count": null,
   "id": "8dc9db51",
   "metadata": {},
   "outputs": [],
   "source": [
    "# AK Census places as feature collection\n",
    "ak_places = ee.FeatureCollection('projects/geospatial-data-kpleung/assets/akplaces_2010')"
   ]
  },
  {
   "cell_type": "code",
   "execution_count": null,
   "id": "f3ecff95",
   "metadata": {},
   "outputs": [],
   "source": [
    "# reducer \n",
    "def reduceByPlaces(image):\n",
    "  return image.reduceRegions(collection = ak_places,\n",
    "                             reducer = ee.Reducer.mean().setOutputs(['avg_air_temp']))\n",
    "\n",
    "placesHourly2022 = hourly2022.map(reduceByPlaces).flatten()"
   ]
  },
  {
   "cell_type": "code",
   "execution_count": null,
   "id": "91ccd87b",
   "metadata": {},
   "outputs": [],
   "source": [
    "# getting temperature data\n",
    "## Run with caution: expected runtime: 45m\n",
    "\n",
    " task = ee.batch.Export.table.toDrive(**{\n",
    "   'collection': placesHourly2022,\n",
    "   'description': 'Places Average Temp by Hourly 2022',\n",
    "   'folder': 'EarthEngine',\n",
    "   'selectors': ['system:index','NAME', 'FIPS', 'avg_air_temp'], \n",
    "   'fileFormat': 'CSV'\n",
    " })\n",
    " task.start()"
   ]
  },
  {
   "cell_type": "code",
   "execution_count": null,
   "id": "5102d5e0",
   "metadata": {},
   "outputs": [],
   "source": [
    "# download the result from Google drive (later change to Github submodule)\n",
    "url = \"https://drive.google.com/file/d/1T1vRS8OU1S89sfaoDCynN9BxAKRlGRPO/view?usp=drive_link\"\n",
    "output_path = \"../Data/\"\n",
    "gdown.download(url, output_path, quiet=False,fuzzy=True)"
   ]
  },
  {
   "cell_type": "code",
   "execution_count": null,
   "id": "1ee39bdb",
   "metadata": {},
   "outputs": [],
   "source": [
    "# reading in data\n",
    "temp_data = pd.read_csv(\"../Data/Places Average Temp by Hourly 2022.csv\")\n",
    "temp_data.head()"
   ]
  },
  {
   "cell_type": "code",
   "execution_count": 6,
   "id": "724bf002",
   "metadata": {},
   "outputs": [
    {
     "data": {
      "text/html": [
       "<div>\n",
       "<style scoped>\n",
       "    .dataframe tbody tr th:only-of-type {\n",
       "        vertical-align: middle;\n",
       "    }\n",
       "\n",
       "    .dataframe tbody tr th {\n",
       "        vertical-align: top;\n",
       "    }\n",
       "\n",
       "    .dataframe thead th {\n",
       "        text-align: right;\n",
       "    }\n",
       "</style>\n",
       "<table border=\"1\" class=\"dataframe\">\n",
       "  <thead>\n",
       "    <tr style=\"text-align: right;\">\n",
       "      <th></th>\n",
       "      <th>FIPS</th>\n",
       "      <th>NAME</th>\n",
       "      <th>timestamp</th>\n",
       "      <th>db_temp</th>\n",
       "      <th>Month</th>\n",
       "    </tr>\n",
       "  </thead>\n",
       "  <tbody>\n",
       "    <tr>\n",
       "      <th>3101270</th>\n",
       "      <td>217410</td>\n",
       "      <td>Cordova city</td>\n",
       "      <td>2022-12-30 23:00:00</td>\n",
       "      <td>34.112994</td>\n",
       "      <td>12</td>\n",
       "    </tr>\n",
       "    <tr>\n",
       "      <th>3101271</th>\n",
       "      <td>270540</td>\n",
       "      <td>Sitka city and borough</td>\n",
       "      <td>2022-12-30 23:00:00</td>\n",
       "      <td>35.988650</td>\n",
       "      <td>12</td>\n",
       "    </tr>\n",
       "    <tr>\n",
       "      <th>3101272</th>\n",
       "      <td>224230</td>\n",
       "      <td>Fairbanks city</td>\n",
       "      <td>2022-12-30 23:00:00</td>\n",
       "      <td>-2.567381</td>\n",
       "      <td>12</td>\n",
       "    </tr>\n",
       "    <tr>\n",
       "      <th>3101273</th>\n",
       "      <td>242832</td>\n",
       "      <td>Lakes CDP</td>\n",
       "      <td>2022-12-30 23:00:00</td>\n",
       "      <td>27.502363</td>\n",
       "      <td>12</td>\n",
       "    </tr>\n",
       "    <tr>\n",
       "      <th>3101274</th>\n",
       "      <td>260310</td>\n",
       "      <td>Petersburg city</td>\n",
       "      <td>2022-12-30 23:00:00</td>\n",
       "      <td>33.778169</td>\n",
       "      <td>12</td>\n",
       "    </tr>\n",
       "    <tr>\n",
       "      <th>3101275</th>\n",
       "      <td>201090</td>\n",
       "      <td>Akutan city</td>\n",
       "      <td>2022-12-30 23:00:00</td>\n",
       "      <td>36.943349</td>\n",
       "      <td>12</td>\n",
       "    </tr>\n",
       "    <tr>\n",
       "      <th>3101276</th>\n",
       "      <td>283080</td>\n",
       "      <td>Wasilla city</td>\n",
       "      <td>2022-12-30 23:00:00</td>\n",
       "      <td>27.773250</td>\n",
       "      <td>12</td>\n",
       "    </tr>\n",
       "    <tr>\n",
       "      <th>3101277</th>\n",
       "      <td>240645</td>\n",
       "      <td>Knik-Fairview CDP</td>\n",
       "      <td>2022-12-30 23:00:00</td>\n",
       "      <td>28.403257</td>\n",
       "      <td>12</td>\n",
       "    </tr>\n",
       "    <tr>\n",
       "      <th>3101278</th>\n",
       "      <td>240950</td>\n",
       "      <td>Kodiak city</td>\n",
       "      <td>2022-12-30 23:00:00</td>\n",
       "      <td>NaN</td>\n",
       "      <td>12</td>\n",
       "    </tr>\n",
       "    <tr>\n",
       "      <th>3101279</th>\n",
       "      <td>236400</td>\n",
       "      <td>Juneau city and borough</td>\n",
       "      <td>2022-12-30 23:00:00</td>\n",
       "      <td>24.122793</td>\n",
       "      <td>12</td>\n",
       "    </tr>\n",
       "  </tbody>\n",
       "</table>\n",
       "</div>"
      ],
      "text/plain": [
       "           FIPS                     NAME           timestamp    db_temp Month\n",
       "3101270  217410             Cordova city 2022-12-30 23:00:00  34.112994    12\n",
       "3101271  270540   Sitka city and borough 2022-12-30 23:00:00  35.988650    12\n",
       "3101272  224230           Fairbanks city 2022-12-30 23:00:00  -2.567381    12\n",
       "3101273  242832                Lakes CDP 2022-12-30 23:00:00  27.502363    12\n",
       "3101274  260310          Petersburg city 2022-12-30 23:00:00  33.778169    12\n",
       "3101275  201090              Akutan city 2022-12-30 23:00:00  36.943349    12\n",
       "3101276  283080             Wasilla city 2022-12-30 23:00:00  27.773250    12\n",
       "3101277  240645        Knik-Fairview CDP 2022-12-30 23:00:00  28.403257    12\n",
       "3101278  240950              Kodiak city 2022-12-30 23:00:00        NaN    12\n",
       "3101279  236400  Juneau city and borough 2022-12-30 23:00:00  24.122793    12"
      ]
     },
     "execution_count": 6,
     "metadata": {},
     "output_type": "execute_result"
    }
   ],
   "source": [
    "# extracting month from system:index, converting temp from kelvin to faranheit, extracting timestamp from system:index\n",
    "# susetting specific columns\n",
    "temp_data['Month'] = temp_data['system:index'].str[4:6]\n",
    "temp_data['db_temp'] = (1.8 * (temp_data['avg_air_temp']-273)) + 32\n",
    "temp_data['timestamp'] = temp_data['system:index'].str[:11].str.replace(\"T\",\"\")\n",
    "temp_data['timestamp'] = pd.to_datetime(temp_data['timestamp'], format ='%Y%m%d%H')\n",
    "data = temp_data[['FIPS','NAME','timestamp', 'db_temp', 'Month']]\n",
    "data.tail(10)"
   ]
  },
  {
   "cell_type": "code",
   "execution_count": 8,
   "id": "4c30a50e",
   "metadata": {},
   "outputs": [
    {
     "data": {
      "text/html": [
       "<div>\n",
       "<style scoped>\n",
       "    .dataframe tbody tr th:only-of-type {\n",
       "        vertical-align: middle;\n",
       "    }\n",
       "\n",
       "    .dataframe tbody tr th {\n",
       "        vertical-align: top;\n",
       "    }\n",
       "\n",
       "    .dataframe thead th {\n",
       "        text-align: right;\n",
       "    }\n",
       "</style>\n",
       "<table border=\"1\" class=\"dataframe\">\n",
       "  <thead>\n",
       "    <tr style=\"text-align: right;\">\n",
       "      <th></th>\n",
       "      <th>FIPS</th>\n",
       "      <th>NAME</th>\n",
       "      <th>db_temp</th>\n",
       "      <th>Month</th>\n",
       "    </tr>\n",
       "    <tr>\n",
       "      <th>timestamp</th>\n",
       "      <th></th>\n",
       "      <th></th>\n",
       "      <th></th>\n",
       "      <th></th>\n",
       "    </tr>\n",
       "  </thead>\n",
       "  <tbody>\n",
       "    <tr>\n",
       "      <th>2022-12-30 23:00:00</th>\n",
       "      <td>201090</td>\n",
       "      <td>Akutan city</td>\n",
       "      <td>36.943349</td>\n",
       "      <td>12</td>\n",
       "    </tr>\n",
       "    <tr>\n",
       "      <th>2022-12-30 23:00:00</th>\n",
       "      <td>283080</td>\n",
       "      <td>Wasilla city</td>\n",
       "      <td>27.773250</td>\n",
       "      <td>12</td>\n",
       "    </tr>\n",
       "    <tr>\n",
       "      <th>2022-12-30 23:00:00</th>\n",
       "      <td>240645</td>\n",
       "      <td>Knik-Fairview CDP</td>\n",
       "      <td>28.403257</td>\n",
       "      <td>12</td>\n",
       "    </tr>\n",
       "    <tr>\n",
       "      <th>2022-12-30 23:00:00</th>\n",
       "      <td>240950</td>\n",
       "      <td>Kodiak city</td>\n",
       "      <td>NaN</td>\n",
       "      <td>12</td>\n",
       "    </tr>\n",
       "    <tr>\n",
       "      <th>2022-12-30 23:00:00</th>\n",
       "      <td>236400</td>\n",
       "      <td>Juneau city and borough</td>\n",
       "      <td>24.122793</td>\n",
       "      <td>12</td>\n",
       "    </tr>\n",
       "  </tbody>\n",
       "</table>\n",
       "</div>"
      ],
      "text/plain": [
       "                       FIPS                     NAME    db_temp Month\n",
       "timestamp                                                            \n",
       "2022-12-30 23:00:00  201090              Akutan city  36.943349    12\n",
       "2022-12-30 23:00:00  283080             Wasilla city  27.773250    12\n",
       "2022-12-30 23:00:00  240645        Knik-Fairview CDP  28.403257    12\n",
       "2022-12-30 23:00:00  240950              Kodiak city        NaN    12\n",
       "2022-12-30 23:00:00  236400  Juneau city and borough  24.122793    12"
      ]
     },
     "execution_count": 8,
     "metadata": {},
     "output_type": "execute_result"
    }
   ],
   "source": [
    "# making the timestamp the index\n",
    "df = data.set_index('timestamp')"
   ]
  },
  {
   "cell_type": "code",
   "execution_count": 9,
   "id": "fcabed94",
   "metadata": {},
   "outputs": [],
   "source": [
    "# partitioning data into different FIPS and changind it to a dataframes\n",
    "df_dict = {str(g): d for g, d in df.groupby('FIPS')}"
   ]
  },
  {
   "cell_type": "code",
   "execution_count": 11,
   "id": "c24dd5c6",
   "metadata": {},
   "outputs": [],
   "source": [
    "# saving FIPS data as csv\n",
    "for i in df_dict:\n",
    "    df_dict[i].to_csv ('../Data/ERA5/'+ i + '.csv', index = None, header=True) "
   ]
  },
  {
   "cell_type": "code",
   "execution_count": 12,
   "id": "9c9e01ca",
   "metadata": {},
   "outputs": [],
   "source": [
    "# saving FIPS data as pickle\n",
    "for i in df_dict:\n",
    "    df_dict[i].to_pickle ('../Data/ERA5/'+ i + '.pkl', compression = 'bz2') "
   ]
  }
 ],
 "metadata": {
  "kernelspec": {
   "display_name": "Python 3",
   "language": "python",
   "name": "python3"
  },
  "language_info": {
   "codemirror_mode": {
    "name": "ipython",
    "version": 3
   },
   "file_extension": ".py",
   "mimetype": "text/x-python",
   "name": "python",
   "nbconvert_exporter": "python",
   "pygments_lexer": "ipython3",
   "version": "3.8.8"
  }
 },
 "nbformat": 4,
 "nbformat_minor": 5
}
