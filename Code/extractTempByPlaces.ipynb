{
 "cells": [
  {
   "cell_type": "markdown",
   "id": "8c86f2dd",
   "metadata": {},
   "source": [
    "### ERA5 Data Extraction for Census Places"
   ]
  },
  {
   "cell_type": "code",
   "execution_count": null,
   "id": "7e6baf97",
   "metadata": {},
   "outputs": [],
   "source": [
    "#%pip install google\n",
    "#%conda install google\n",
    "#%pip install --upgrade google-api-python-client\n",
    "#%pip install --upgrade ee\n",
    "#%pip install earthengine-api --upgrade"
   ]
  },
  {
   "cell_type": "code",
   "execution_count": 1,
   "id": "f135ac85",
   "metadata": {},
   "outputs": [],
   "source": [
    "import numpy as np\n",
    "import re\n",
    "import pandas as pd\n",
    "import geopandas as gpd\n",
    "import gdown\n",
    "import ee\n",
    "import google\n",
    "import os"
   ]
  },
  {
   "cell_type": "code",
   "execution_count": 2,
   "id": "c4856b17",
   "metadata": {},
   "outputs": [
    {
     "data": {
      "text/html": [
       "<p>To authorize access needed by Earth Engine, open the following\n",
       "        URL in a web browser and follow the instructions:</p>\n",
       "        <p><a href=https://code.earthengine.google.com/client-auth?scopes=https%3A//www.googleapis.com/auth/earthengine%20https%3A//www.googleapis.com/auth/devstorage.full_control&request_id=bLvvScwGDQI3dn9qxD9VSftZTii_x0ed84CPmOYORJs&tc=8g9rxOQLSbbEhyLfXJ_pndHjMZNU09lTb9Wm8Op63T0&cc=J8USHvsWkMcyEaxWHUjiArk4pZ112SUyMsh9VvL0kwc>https://code.earthengine.google.com/client-auth?scopes=https%3A//www.googleapis.com/auth/earthengine%20https%3A//www.googleapis.com/auth/devstorage.full_control&request_id=bLvvScwGDQI3dn9qxD9VSftZTii_x0ed84CPmOYORJs&tc=8g9rxOQLSbbEhyLfXJ_pndHjMZNU09lTb9Wm8Op63T0&cc=J8USHvsWkMcyEaxWHUjiArk4pZ112SUyMsh9VvL0kwc</a></p>\n",
       "        <p>The authorization workflow will generate a code, which you should paste in the box below.</p>\n",
       "        "
      ],
      "text/plain": [
       "<IPython.core.display.HTML object>"
      ]
     },
     "metadata": {},
     "output_type": "display_data"
    },
    {
     "name": "stdout",
     "output_type": "stream",
     "text": [
      "\n",
      "Successfully saved authorization token.\n"
     ]
    }
   ],
   "source": [
    "ee.Authenticate()\n",
    "ee.Initialize()"
   ]
  },
  {
   "cell_type": "markdown",
   "id": "0b55a534",
   "metadata": {},
   "source": [
    "### Get ERA5 hourly data by Census places"
   ]
  },
  {
   "cell_type": "code",
   "execution_count": 3,
   "id": "d74fa3e5",
   "metadata": {},
   "outputs": [],
   "source": [
    "era5 = ee.ImageCollection(\"ECMWF/ERA5_LAND/HOURLY\")\n",
    "hourly2022 = era5.filterDate('2022-01-01', '2022-01-02').select('temperature_2m')"
   ]
  },
  {
   "cell_type": "code",
   "execution_count": 4,
   "id": "8dc9db51",
   "metadata": {},
   "outputs": [],
   "source": [
    "# AK Census places as feature collection\n",
    "ak_places = ee.FeatureCollection('projects/geospatial-data-kpleung/assets/akplaces_2010')"
   ]
  },
  {
   "cell_type": "code",
   "execution_count": null,
   "id": "f3ecff95",
   "metadata": {},
   "outputs": [],
   "source": [
    "# reducer \n",
    "def reduceByPlaces(image):\n",
    "  return image.reduceRegions(collection = ak_places,\n",
    "                             reducer = ee.Reducer.mean().setOutputs(['avg_air_temp']))\n",
    "\n",
    "placesHourly2022 = hourly2022.map(reduceByPlaces).flatten()"
   ]
  },
  {
   "cell_type": "code",
   "execution_count": null,
   "id": "91ccd87b",
   "metadata": {},
   "outputs": [],
   "source": [
    "## Run with caution: expected runtime: 45m\n",
    "\n",
    "# task = ee.batch.Export.table.toDrive(**{\n",
    "#   'collection': placesHourly2022,\n",
    "#   'description': 'Places Average Temp by Hourly 2022',\n",
    "#   'folder': 'EarthEngine',\n",
    "#   'selectors': ['system:index','NAME', 'FIPS', 'avg_air_temp'], \n",
    "#   'fileFormat': 'CSV'\n",
    "# })\n",
    "# task.start()"
   ]
  },
  {
   "cell_type": "code",
   "execution_count": 5,
   "id": "5102d5e0",
   "metadata": {},
   "outputs": [
    {
     "name": "stderr",
     "output_type": "stream",
     "text": [
      "Downloading...\n",
      "From (uriginal): https://drive.google.com/uc?id=1T1vRS8OU1S89sfaoDCynN9BxAKRlGRPO\n",
      "From (redirected): https://drive.google.com/uc?id=1T1vRS8OU1S89sfaoDCynN9BxAKRlGRPO&confirm=t&uuid=7927446a-026c-4a3f-a776-b0f4f8d038e1\n",
      "To: /Users/brianleung/Documents/Python-Projects/DSSG2023-Heating-Loads/Data/Places Average Temp by Hourly 2022.csv\n",
      "100%|██████████| 226M/226M [00:10<00:00, 21.5MB/s] \n"
     ]
    },
    {
     "data": {
      "text/plain": [
       "'../Data/Places Average Temp by Hourly 2022.csv'"
      ]
     },
     "execution_count": 5,
     "metadata": {},
     "output_type": "execute_result"
    }
   ],
   "source": [
    "# download the result from Google drive (later change to Github submodule)\n",
    "url = \"https://drive.google.com/file/d/1T1vRS8OU1S89sfaoDCynN9BxAKRlGRPO/view?usp=drive_link\"\n",
    "output_path = \"../Data/\"\n",
    "gdown.download(url, output_path, quiet=False,fuzzy=True)"
   ]
  },
  {
   "cell_type": "code",
   "execution_count": null,
   "id": "1ee39bdb",
   "metadata": {},
   "outputs": [],
   "source": [
    "# replicating above with the full hourly data\n",
    "temp_data = pd.read_csv(\"../Data/Places Average Temp by Hourly 2022.csv\")\n",
    "temp_data.head()"
   ]
  },
  {
   "cell_type": "code",
   "execution_count": null,
   "id": "724bf002",
   "metadata": {},
   "outputs": [],
   "source": [
    "temp_data['Month'] = temp_data['system:index'].str[4:6]\n",
    "temp_data['db_temp'] = (1.8 * (temp_data['avg_air_temp']-273)) + 32\n",
    "temp_data['timestamp'] = temp_data['system:index'].str[:11].str.replace(\"T\",\"\")\n",
    "temp_data['timestamp'] = pd.to_datetime(temp_data['timestamp'], format ='%Y%m%d%H')\n",
    "data = temp_data[['FIPS','NAME','timestamp', 'db_temp', 'Month']]\n",
    "data.tail(10)"
   ]
  },
  {
   "cell_type": "code",
   "execution_count": null,
   "id": "fcabed94",
   "metadata": {},
   "outputs": [],
   "source": [
    "df = data\n",
    "df_dict = {str(g): d for g, d in df.groupby('FIPS')}"
   ]
  },
  {
   "cell_type": "code",
   "execution_count": null,
   "id": "c24dd5c6",
   "metadata": {},
   "outputs": [],
   "source": [
    "for i in df_dict:\n",
    "    df_dict[i].to_csv ('../Data/ERA5/'+ i + '.csv', index = None, header=True) "
   ]
  },
  {
   "cell_type": "code",
   "execution_count": null,
   "id": "9c9e01ca",
   "metadata": {},
   "outputs": [],
   "source": [
    "for i in df_dict:\n",
    "    df_dict[i].to_pickle ('../Data/ERA5/'+ i + '.pkl') "
   ]
  }
 ],
 "metadata": {
  "kernelspec": {
   "display_name": "Python 3",
   "language": "python",
   "name": "python3"
  },
  "language_info": {
   "codemirror_mode": {
    "name": "ipython",
    "version": 3
   },
   "file_extension": ".py",
   "mimetype": "text/x-python",
   "name": "python",
   "nbconvert_exporter": "python",
   "pygments_lexer": "ipython3",
   "version": "3.11.4"
  }
 },
 "nbformat": 4,
 "nbformat_minor": 5
}
