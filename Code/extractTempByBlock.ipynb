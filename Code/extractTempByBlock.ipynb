{
 "cells": [
  {
   "cell_type": "markdown",
   "id": "8c86f2dd",
   "metadata": {},
   "source": [
    "# ERA5 Data Extraction for Census Blocks\n",
    "\n",
    "Exports are split by borough for export convenience."
   ]
  },
  {
   "cell_type": "code",
   "execution_count": 1,
   "id": "f135ac85",
   "metadata": {},
   "outputs": [],
   "source": [
    "import numpy as np\n",
    "import re\n",
    "import pandas as pd\n",
    "import geopandas as gpd\n",
    "import gdown\n",
    "import ee\n",
    "import google\n",
    "import os\n",
    "import geemap\n",
    "\n",
    "from tobler.util import h3fy\n",
    "from ee_jupyter.ipyleaflet import Map"
   ]
  },
  {
   "cell_type": "code",
   "execution_count": 2,
   "id": "68a65d07",
   "metadata": {},
   "outputs": [],
   "source": [
    "import warnings\n",
    "warnings.filterwarnings('ignore')"
   ]
  },
  {
   "cell_type": "code",
   "execution_count": 3,
   "id": "c4856b17",
   "metadata": {},
   "outputs": [
    {
     "data": {
      "text/html": [
       "<p>To authorize access needed by Earth Engine, open the following\n",
       "        URL in a web browser and follow the instructions:</p>\n",
       "        <p><a href=https://code.earthengine.google.com/client-auth?scopes=https%3A//www.googleapis.com/auth/earthengine%20https%3A//www.googleapis.com/auth/devstorage.full_control&request_id=wOszqe-ENMFr60ScdReGKwckwYcfgevKYLTHEWcAzLQ&tc=1NDpAAeHk3F0xTfMV3dGrea-H4FkXSU820T_lyeHQU4&cc=dTzcpdgRpHbS1F4qlv2Shuyrgg7xUcX6cJtoQ6f8osU>https://code.earthengine.google.com/client-auth?scopes=https%3A//www.googleapis.com/auth/earthengine%20https%3A//www.googleapis.com/auth/devstorage.full_control&request_id=wOszqe-ENMFr60ScdReGKwckwYcfgevKYLTHEWcAzLQ&tc=1NDpAAeHk3F0xTfMV3dGrea-H4FkXSU820T_lyeHQU4&cc=dTzcpdgRpHbS1F4qlv2Shuyrgg7xUcX6cJtoQ6f8osU</a></p>\n",
       "        <p>The authorization workflow will generate a code, which you should paste in the box below.</p>\n",
       "        "
      ],
      "text/plain": [
       "<IPython.core.display.HTML object>"
      ]
     },
     "metadata": {},
     "output_type": "display_data"
    },
    {
     "name": "stdout",
     "output_type": "stream",
     "text": [
      "Enter verification code: 4/1AZEOvhWspWqeDABsBuTecWBJGHNdc9qFTRdLGOIaoT2KoS6DMuT95LAKroY\n",
      "\n",
      "Successfully saved authorization token.\n"
     ]
    }
   ],
   "source": [
    "ee.Authenticate()\n",
    "ee.Initialize()"
   ]
  },
  {
   "cell_type": "markdown",
   "id": "0adb329f",
   "metadata": {},
   "source": [
    "## Load in the Block Data"
   ]
  },
  {
   "cell_type": "code",
   "execution_count": 6,
   "id": "d52ddf0d",
   "metadata": {},
   "outputs": [],
   "source": [
    "blocks = gpd.read_file('../Data/Blocks2020/Blocks2020.shp')"
   ]
  },
  {
   "cell_type": "code",
   "execution_count": 7,
   "id": "bd74b2ac",
   "metadata": {},
   "outputs": [
    {
     "data": {
      "text/plain": [
       "(28568, 21)"
      ]
     },
     "execution_count": 7,
     "metadata": {},
     "output_type": "execute_result"
    }
   ],
   "source": [
    "blocks.shape"
   ]
  },
  {
   "cell_type": "code",
   "execution_count": 8,
   "id": "d67e7365",
   "metadata": {},
   "outputs": [],
   "source": [
    "blocks = blocks[['NAME', 'STATE', 'BOROUGH', 'TRACT', 'BLOCK', 'FIPS', 'TOTALPOP', 'HOUSEUNITS', 'geometry']]"
   ]
  },
  {
   "cell_type": "code",
   "execution_count": 9,
   "id": "80d2fa61",
   "metadata": {},
   "outputs": [
    {
     "data": {
      "text/html": [
       "<div>\n",
       "<style scoped>\n",
       "    .dataframe tbody tr th:only-of-type {\n",
       "        vertical-align: middle;\n",
       "    }\n",
       "\n",
       "    .dataframe tbody tr th {\n",
       "        vertical-align: top;\n",
       "    }\n",
       "\n",
       "    .dataframe thead th {\n",
       "        text-align: right;\n",
       "    }\n",
       "</style>\n",
       "<table border=\"1\" class=\"dataframe\">\n",
       "  <thead>\n",
       "    <tr style=\"text-align: right;\">\n",
       "      <th></th>\n",
       "      <th>NAME</th>\n",
       "      <th>STATE</th>\n",
       "      <th>BOROUGH</th>\n",
       "      <th>TRACT</th>\n",
       "      <th>BLOCK</th>\n",
       "      <th>FIPS</th>\n",
       "      <th>TOTALPOP</th>\n",
       "      <th>HOUSEUNITS</th>\n",
       "      <th>geometry</th>\n",
       "    </tr>\n",
       "  </thead>\n",
       "  <tbody>\n",
       "    <tr>\n",
       "      <th>0</th>\n",
       "      <td>Block 1224</td>\n",
       "      <td>02</td>\n",
       "      <td>282</td>\n",
       "      <td>000100</td>\n",
       "      <td>1224</td>\n",
       "      <td>022820001001224</td>\n",
       "      <td>0.0</td>\n",
       "      <td>0.0</td>\n",
       "      <td>POLYGON ((798058.221 1196684.982, 798238.898 1...</td>\n",
       "    </tr>\n",
       "    <tr>\n",
       "      <th>1</th>\n",
       "      <td>Block 1080</td>\n",
       "      <td>02</td>\n",
       "      <td>185</td>\n",
       "      <td>000200</td>\n",
       "      <td>1080</td>\n",
       "      <td>021850002001080</td>\n",
       "      <td>24.0</td>\n",
       "      <td>14.0</td>\n",
       "      <td>POLYGON ((-526365.293 2093756.131, -526343.435...</td>\n",
       "    </tr>\n",
       "    <tr>\n",
       "      <th>2</th>\n",
       "      <td>Block 2180</td>\n",
       "      <td>02</td>\n",
       "      <td>185</td>\n",
       "      <td>000200</td>\n",
       "      <td>2180</td>\n",
       "      <td>021850002002180</td>\n",
       "      <td>50.0</td>\n",
       "      <td>15.0</td>\n",
       "      <td>POLYGON ((-227333.603 2305244.729, -227247.314...</td>\n",
       "    </tr>\n",
       "    <tr>\n",
       "      <th>3</th>\n",
       "      <td>Block 1018</td>\n",
       "      <td>02</td>\n",
       "      <td>185</td>\n",
       "      <td>000300</td>\n",
       "      <td>1018</td>\n",
       "      <td>021850003001018</td>\n",
       "      <td>0.0</td>\n",
       "      <td>0.0</td>\n",
       "      <td>POLYGON ((141825.171 2294747.938, 142101.298 2...</td>\n",
       "    </tr>\n",
       "    <tr>\n",
       "      <th>4</th>\n",
       "      <td>Block 1074</td>\n",
       "      <td>02</td>\n",
       "      <td>185</td>\n",
       "      <td>000100</td>\n",
       "      <td>1074</td>\n",
       "      <td>021850001001074</td>\n",
       "      <td>53.0</td>\n",
       "      <td>22.0</td>\n",
       "      <td>POLYGON ((-101290.982 2368756.518, -101177.439...</td>\n",
       "    </tr>\n",
       "  </tbody>\n",
       "</table>\n",
       "</div>"
      ],
      "text/plain": [
       "         NAME STATE BOROUGH   TRACT BLOCK             FIPS  TOTALPOP  \\\n",
       "0  Block 1224    02     282  000100  1224  022820001001224       0.0   \n",
       "1  Block 1080    02     185  000200  1080  021850002001080      24.0   \n",
       "2  Block 2180    02     185  000200  2180  021850002002180      50.0   \n",
       "3  Block 1018    02     185  000300  1018  021850003001018       0.0   \n",
       "4  Block 1074    02     185  000100  1074  021850001001074      53.0   \n",
       "\n",
       "   HOUSEUNITS                                           geometry  \n",
       "0         0.0  POLYGON ((798058.221 1196684.982, 798238.898 1...  \n",
       "1        14.0  POLYGON ((-526365.293 2093756.131, -526343.435...  \n",
       "2        15.0  POLYGON ((-227333.603 2305244.729, -227247.314...  \n",
       "3         0.0  POLYGON ((141825.171 2294747.938, 142101.298 2...  \n",
       "4        22.0  POLYGON ((-101290.982 2368756.518, -101177.439...  "
      ]
     },
     "execution_count": 9,
     "metadata": {},
     "output_type": "execute_result"
    }
   ],
   "source": [
    "blocks.head()"
   ]
  },
  {
   "cell_type": "code",
   "execution_count": 10,
   "id": "00bf8e60",
   "metadata": {},
   "outputs": [
    {
     "data": {
      "text/plain": [
       "(11765, 9)"
      ]
     },
     "execution_count": 10,
     "metadata": {},
     "output_type": "execute_result"
    }
   ],
   "source": [
    "blocks_nonzero = blocks[blocks['TOTALPOP'] > 0]\n",
    "blocks_nonzero.shape"
   ]
  },
  {
   "cell_type": "markdown",
   "id": "3d023c2d",
   "metadata": {},
   "source": [
    "## Filter down to Fairbanks North Star Borough"
   ]
  },
  {
   "cell_type": "code",
   "execution_count": 11,
   "id": "0564a9aa",
   "metadata": {},
   "outputs": [
    {
     "data": {
      "text/plain": [
       "(1828, 9)"
      ]
     },
     "execution_count": 11,
     "metadata": {},
     "output_type": "execute_result"
    }
   ],
   "source": [
    "fairbanks_blocks = blocks_nonzero[blocks_nonzero['BOROUGH'] == '090']\n",
    "fairbanks_blocks.shape"
   ]
  },
  {
   "cell_type": "code",
   "execution_count": 22,
   "id": "f63c3d8b",
   "metadata": {},
   "outputs": [],
   "source": [
    "fairbanks_block_fc = geemap.geopandas_to_ee(fairbanks_blocks)"
   ]
  },
  {
   "cell_type": "code",
   "execution_count": 13,
   "id": "b16a2e0a",
   "metadata": {},
   "outputs": [
    {
     "data": {
      "text/plain": [
       "ee.featurecollection.FeatureCollection"
      ]
     },
     "execution_count": 13,
     "metadata": {},
     "output_type": "execute_result"
    }
   ],
   "source": [
    "type(fairbanks_block_fc)"
   ]
  },
  {
   "cell_type": "code",
   "execution_count": 14,
   "id": "06db098a",
   "metadata": {},
   "outputs": [
    {
     "data": {
      "text/plain": [
       "1828"
      ]
     },
     "execution_count": 14,
     "metadata": {},
     "output_type": "execute_result"
    }
   ],
   "source": [
    "fairbanks_block_fc.size().getInfo()"
   ]
  },
  {
   "cell_type": "markdown",
   "id": "c1bc5b76",
   "metadata": {},
   "source": [
    "Examine just one block as a Feature"
   ]
  },
  {
   "cell_type": "code",
   "execution_count": 91,
   "id": "eef8653d",
   "metadata": {},
   "outputs": [],
   "source": [
    "one_block = fairbanks_block_fc.filter(ee.Filter.eq('FIPS', '020900001002006'))"
   ]
  },
  {
   "cell_type": "code",
   "execution_count": 92,
   "id": "1e3741b2",
   "metadata": {},
   "outputs": [
    {
     "data": {
      "text/plain": [
       "{'type': 'FeatureCollection',\n",
       " 'columns': {'BLOCK': 'String',\n",
       "  'BOROUGH': 'String',\n",
       "  'FIPS': 'String',\n",
       "  'HOUSEUNITS': 'Integer',\n",
       "  'NAME': 'String',\n",
       "  'STATE': 'String',\n",
       "  'TOTALPOP': 'Integer',\n",
       "  'TRACT': 'String',\n",
       "  'system:index': 'String'},\n",
       " 'features': [{'type': 'Feature',\n",
       "   'geometry': {'type': 'Polygon',\n",
       "    'coordinates': [[[-147.729781, 64.843503],\n",
       "      [-147.729939, 64.843422],\n",
       "      [-147.729345, 64.8432519999999],\n",
       "      [-147.727565, 64.842743],\n",
       "      [-147.727173, 64.842632],\n",
       "      [-147.726966, 64.842606],\n",
       "      [-147.726898, 64.8426979999999],\n",
       "      [-147.726694, 64.84298],\n",
       "      [-147.726627, 64.843074],\n",
       "      [-147.726908, 64.843132],\n",
       "      [-147.727137, 64.843203],\n",
       "      [-147.728646, 64.843675],\n",
       "      [-147.729149, 64.843833],\n",
       "      [-147.729306, 64.84375],\n",
       "      [-147.729781, 64.843503]]]},\n",
       "   'id': '127',\n",
       "   'properties': {'BLOCK': '2006',\n",
       "    'BOROUGH': '090',\n",
       "    'FIPS': '020900001002006',\n",
       "    'HOUSEUNITS': 16,\n",
       "    'NAME': 'Block 2006',\n",
       "    'STATE': '02',\n",
       "    'TOTALPOP': 45,\n",
       "    'TRACT': '000100'}}]}"
      ]
     },
     "execution_count": 92,
     "metadata": {},
     "output_type": "execute_result"
    }
   ],
   "source": [
    "one_block.getInfo()"
   ]
  },
  {
   "cell_type": "markdown",
   "id": "c4b0f819",
   "metadata": {},
   "source": [
    "## Load in Temperature Data"
   ]
  },
  {
   "cell_type": "code",
   "execution_count": null,
   "id": "73bf6670",
   "metadata": {},
   "outputs": [],
   "source": [
    "era5_land = ee.ImageCollection(\"ECMWF/ERA5_LAND/DAILY_AGGR\")\n",
    "daily_land_10years = era5_land.filterDate('2010-01-01', '2019-12-31').select('temperature_2m', 'temperature_2m_min', 'temperature_2m_max')"
   ]
  },
  {
   "cell_type": "code",
   "execution_count": null,
   "id": "310d39c1",
   "metadata": {},
   "outputs": [],
   "source": [
    "era5_gen = ee.ImageCollection(\"ECMWF/ERA5/DAILY\")\n",
    "daily_gen_10years = era5_gen.filterDate('2010-01-01', '2019-12-31').select('minimum_2m_air_temperature', 'mean_2m_air_temperature', 'maximum_2m_air_temperature')"
   ]
  },
  {
   "cell_type": "markdown",
   "id": "7de31066",
   "metadata": {},
   "source": [
    "## Reductions and Export for Fairbanks"
   ]
  },
  {
   "cell_type": "markdown",
   "id": "4a00231b",
   "metadata": {},
   "source": [
    "Get 10 year averages for temperature"
   ]
  },
  {
   "cell_type": "code",
   "execution_count": 21,
   "id": "0b23ab90",
   "metadata": {},
   "outputs": [],
   "source": [
    "JulianDayList = ee.List.sequence(1, 365)\n",
    "\n",
    "def julianDayMeansLand(day):\n",
    "    means = daily_land_10years.filter(ee.Filter.dayOfYear(day, day)).mean()\n",
    "    ret_means = means.set('julian_date', day)\n",
    "    return ret_means\n",
    "\n",
    "def julianDayMeansGen(day):\n",
    "    means = daily_gen_10years.filter(ee.Filter.dayOfYear(day, day)).mean() #temporal reduction\n",
    "    ret_means = means.set('julian_date', day)\n",
    "    return ret_means\n",
    "\n",
    "mappedListLand = JulianDayList.map(julianDayMeansLand)\n",
    "mappedListGen = JulianDayList.map(julianDayMeansGen)\n",
    "daily_averages_collection_land = ee.ImageCollection(mappedListLand)\n",
    "daily_averages_collection_gen = ee.ImageCollection(mappedListGen)"
   ]
  },
  {
   "cell_type": "markdown",
   "id": "441ae42b",
   "metadata": {},
   "source": [
    "Get temperature data by block"
   ]
  },
  {
   "cell_type": "code",
   "execution_count": 23,
   "id": "02bd01fe",
   "metadata": {},
   "outputs": [],
   "source": [
    "# Reduce the ImageCollection using reduceRegions to get the mean temperature for each region for each day\n",
    "def reduce_to_region(image):\n",
    "    # use the scale of the image (ERA5)\n",
    "    reduced_image = image.reduceRegions(collection=fairbanks_block_fc, reducer=ee.Reducer.mean(), scale=11132) #spatial reduction\n",
    "    reduced_image = reduced_image.set('date', image.get('julian_date'))\n",
    "    return reduced_image\n",
    "\n",
    "# Map over the ImageCollection to reduce to regions\n",
    "#reduced_by_region = daily_averages_collection.map(reduce_to_region)\n",
    "reduced_by_region_land = daily_averages_collection_land.map(reduce_to_region)\n",
    "reduced_by_region_gen = daily_averages_collection_gen.map(reduce_to_region)\n",
    "\n",
    "def doublemapOuter(fc):\n",
    "    jd = fc.get('date')\n",
    "    def doublemapInner(feature):\n",
    "        return feature.set('date', jd)\n",
    "    return ee.FeatureCollection(fc).map(doublemapInner)\n",
    "    \n",
    "\n",
    "reduced_by_region_with_date_land = reduced_by_region_land.map(doublemapOuter)\n",
    "reduced_by_region_with_date_gen = reduced_by_region_gen.map(doublemapOuter)"
   ]
  },
  {
   "cell_type": "markdown",
   "id": "7ba19c15",
   "metadata": {},
   "source": [
    "Check the sizes "
   ]
  },
  {
   "cell_type": "code",
   "execution_count": 231,
   "id": "1bd3bf25",
   "metadata": {},
   "outputs": [],
   "source": [
    "#print('Land:')\n",
    "#print(reduced_by_region_with_date_land.size().getInfo())\n",
    "#print(ee.FeatureCollection(reduced_by_region_with_date_land.first()).size().getInfo())\n",
    "\n",
    "#print('Gen:')\n",
    "#print(reduced_by_region_with_date_gen.size().getInfo())\n",
    "#print(ee.FeatureCollection(reduced_by_region_with_date_gen.first()).size().getInfo())"
   ]
  },
  {
   "cell_type": "code",
   "execution_count": 26,
   "id": "50dd2dd8",
   "metadata": {},
   "outputs": [
    {
     "name": "stdout",
     "output_type": "stream",
     "text": [
      "667220\n"
     ]
    }
   ],
   "source": [
    "# Flatten the ImageCollection to get a feature collection\n",
    "flattened_land = reduced_by_region_with_date_land.flatten()\n",
    "flattened_gen = reduced_by_region_with_date_gen.flatten()\n",
    "\n",
    "# Check the number of outputs (should be 1828 * 365)\n",
    "#print(flattened_land.size().getInfo())\n",
    "print(flattened_gen.size().getInfo())\n",
    "#print(1828 * 365)"
   ]
  },
  {
   "cell_type": "markdown",
   "id": "db99a093",
   "metadata": {},
   "source": [
    "filter flattened_land to remove blocks with empty temperature data"
   ]
  },
  {
   "cell_type": "code",
   "execution_count": null,
   "id": "3179dd31",
   "metadata": {},
   "outputs": [],
   "source": [
    "flattened_land_null = flattened_land.filter(ee.Filter.Not(ee.Filter.notNull(['temperature_2m', 'temperature_2m_max', 'temperature_2m_min'])))\n",
    "## the following line will cause a memory error, yay!\n",
    "# flattened_land_null.size().getInfo()\n",
    "\n",
    "## instead export\n",
    "task = ee.batch.Export.table.toDrive(**{\n",
    "  'collection': flattened_land_null,\n",
    "  'description': 'ERA5 LAND Data for Empty Temperature Try 1',\n",
    "  'folder': 'EarthEngine',\n",
    "  'fileFormat': 'CSV'\n",
    "})\n",
    "task.start()"
   ]
  },
  {
   "cell_type": "code",
   "execution_count": 73,
   "id": "b994f7ae",
   "metadata": {},
   "outputs": [
    {
     "data": {
      "text/plain": [
       "470850"
      ]
     },
     "execution_count": 73,
     "metadata": {},
     "output_type": "execute_result"
    }
   ],
   "source": [
    "flattened_gen_null = flattened_gen.filter(ee.Filter.Not(ee.Filter.notNull(['mean_2m_air_temperature', 'maximum_2m_air_temperature', 'minimum_2m_air_temperature'])))\n",
    "\n",
    "# divide the following by 365 to get the number of blocks with empty temperature data\n",
    "flattened_gen_null.size().getInfo()"
   ]
  },
  {
   "cell_type": "code",
   "execution_count": 103,
   "id": "1458c974",
   "metadata": {},
   "outputs": [
    {
     "data": {
      "text/plain": [
       "1290"
      ]
     },
     "execution_count": 103,
     "metadata": {},
     "output_type": "execute_result"
    }
   ],
   "source": [
    "flattened_gen_null_distinct = flattened_gen_null.distinct('.geo')\n",
    "flattened_gen_null_distinct.size().getInfo()"
   ]
  },
  {
   "cell_type": "markdown",
   "id": "bb994433",
   "metadata": {},
   "source": [
    "Try decreasing the scale of the reduction because the blocks are significantly smaller than the temperature data "
   ]
  },
  {
   "cell_type": "code",
   "execution_count": null,
   "id": "0772179c",
   "metadata": {},
   "outputs": [],
   "source": [
    "def reduce_to_region_gen_scale_1000(image):\n",
    "    # use the scale of the image (ERA5)\n",
    "    reduced_image = image.reduceRegions(collection=flattened_gen_null_distinct, reducer=ee.Reducer.mean(), scale=1000) #spatial reduction\n",
    "    reduced_image = reduced_image.set('date', image.get('julian_date'))\n",
    "    return reduced_image\n",
    "\n",
    "reduced_with_date_gen_scale1000 = daily_averages_collection_gen.map(reduce_to_region_gen_scale_1000)\n",
    "reduced_with_date_gen_scale1000 = reduced_with_date_gen_scale1000.map(doublemapOuter)"
   ]
  },
  {
   "cell_type": "code",
   "execution_count": 150,
   "id": "07f4cd3e",
   "metadata": {},
   "outputs": [
    {
     "data": {
      "text/plain": [
       "{'type': 'Feature',\n",
       " 'geometry': {'type': 'Polygon',\n",
       "  'coordinates': [[[-147.729781, 64.843503],\n",
       "    [-147.729939, 64.843422],\n",
       "    [-147.729345, 64.8432519999999],\n",
       "    [-147.727565, 64.842743],\n",
       "    [-147.727173, 64.842632],\n",
       "    [-147.726966, 64.842606],\n",
       "    [-147.726898, 64.8426979999999],\n",
       "    [-147.726694, 64.84298],\n",
       "    [-147.726627, 64.843074],\n",
       "    [-147.726908, 64.843132],\n",
       "    [-147.727137, 64.843203],\n",
       "    [-147.728646, 64.843675],\n",
       "    [-147.729149, 64.843833],\n",
       "    [-147.729306, 64.84375],\n",
       "    [-147.729781, 64.843503]]]},\n",
       " 'id': '0_127',\n",
       " 'properties': {'BLOCK': '2006',\n",
       "  'BOROUGH': '090',\n",
       "  'FIPS': '020900001002006',\n",
       "  'HOUSEUNITS': 16,\n",
       "  'NAME': 'Block 2006',\n",
       "  'STATE': '02',\n",
       "  'TOTALPOP': 45,\n",
       "  'TRACT': '000100',\n",
       "  'date': 1,\n",
       "  'maximum_2m_air_temperature': 264.2896728515625,\n",
       "  'mean_2m_air_temperature': 260.2138366699219,\n",
       "  'minimum_2m_air_temperature': 255.99856567382812}}"
      ]
     },
     "execution_count": 150,
     "metadata": {},
     "output_type": "execute_result"
    }
   ],
   "source": [
    "reduced_with_date_gen_scale1000.flatten().first().getInfo()"
   ]
  },
  {
   "cell_type": "code",
   "execution_count": 105,
   "id": "16d5a086",
   "metadata": {},
   "outputs": [
    {
     "data": {
      "text/plain": [
       "365"
      ]
     },
     "execution_count": 105,
     "metadata": {},
     "output_type": "execute_result"
    }
   ],
   "source": [
    "# should be 365 for each day of the year\n",
    "reduced_with_date_gen_scale1000.size().getInfo()"
   ]
  },
  {
   "cell_type": "code",
   "execution_count": 106,
   "id": "816908d1",
   "metadata": {},
   "outputs": [
    {
     "data": {
      "text/plain": [
       "1290"
      ]
     },
     "execution_count": 106,
     "metadata": {},
     "output_type": "execute_result"
    }
   ],
   "source": [
    "# should match the number of distinct blocks without temperature data from the first try\n",
    "ee.FeatureCollection(reduced_with_date_gen_scale1000.first()).size().getInfo()"
   ]
  },
  {
   "cell_type": "code",
   "execution_count": 113,
   "id": "fdfa89b3",
   "metadata": {},
   "outputs": [],
   "source": [
    "flattened_gen_scale1000 = reduced_with_date_gen_scale1000.flatten()\n",
    "# flattened_gen_scale1000.size().getInfo()"
   ]
  },
  {
   "cell_type": "markdown",
   "id": "1870ada9",
   "metadata": {},
   "source": [
    "Export the temperature data that was previously empty"
   ]
  },
  {
   "cell_type": "code",
   "execution_count": 110,
   "id": "00f7731f",
   "metadata": {},
   "outputs": [],
   "source": [
    "flattened_gen_scale1000_with_temp = flattened_gen_scale1000.filter(ee.Filter.notNull(['mean_2m_air_temperature', 'maximum_2m_air_temperature', 'minimum_2m_air_temperature']))"
   ]
  },
  {
   "cell_type": "code",
   "execution_count": 111,
   "id": "bb5c86e9",
   "metadata": {},
   "outputs": [],
   "source": [
    "task = ee.batch.Export.table.toDrive(**{\n",
    "  'collection': flattened_gen_scale1000_with_temp,\n",
    "  'description': 'ERA5 GEN Data for Originally Empty Blocks with Scale 1000 Try 1',\n",
    "  'folder': 'EarthEngine',\n",
    "  'selectors': ['BLOCK','FIPS', 'date', 'mean_2m_air_temperature', 'maximum_2m_air_temperature', 'minimum_2m_air_temperature'], \n",
    "  'fileFormat': 'CSV'\n",
    "})\n",
    "task.start()"
   ]
  },
  {
   "cell_type": "code",
   "execution_count": 121,
   "id": "0175d11c",
   "metadata": {},
   "outputs": [],
   "source": [
    "flattened_land_null_distinct = flattened_land_null.distinct('.geo')\n",
    "\n",
    "def reduce_to_region_empty_temp_block_land(image):\n",
    "    reduced_image = image.reduceRegions(collection=flattened_land_null_distinct, reducer=ee.Reducer.mean(), scale=5000) #spatial reduction\n",
    "    reduced_image = reduced_image.set('date', image.get('julian_date'))\n",
    "    return reduced_image\n",
    "\n",
    "reduced_by_region_land_scale1000 = daily_averages_collection_land.map(reduce_to_region_empty_temp_block_land)\n",
    "reduced_with_date_land_scale1000 = reduced_by_region_land_scale1000.map(doublemapOuter)\n",
    "flattened_land_scale1000 = reduced_with_date_land_scale1000.flatten()"
   ]
  },
  {
   "cell_type": "code",
   "execution_count": 122,
   "id": "cb23b68c",
   "metadata": {},
   "outputs": [],
   "source": [
    "flattened_land_scale1000_with_temp = flattened_land_scale1000.filter(ee.Filter.notNull(['temperature_2m',\n",
    "                                                                                      'temperature_2m_max', \n",
    "                                                                                      'temperature_2m_min']))\n"
   ]
  },
  {
   "cell_type": "code",
   "execution_count": 123,
   "id": "57d43224",
   "metadata": {},
   "outputs": [],
   "source": [
    "task = ee.batch.Export.table.toDrive(**{\n",
    "  'collection': flattened_land_scale1000_with_temp,\n",
    "  'description': 'ERA5 LAND Data for Originally Empty Blocks with Scale 5000 Try 1',\n",
    "  'folder': 'EarthEngine',\n",
    "  'selectors': ['BLOCK','FIPS', 'date', 'temperature_2m', 'temperature_2m_max', 'temperature_2m_min'], \n",
    "  'fileFormat': 'CSV'\n",
    "})\n",
    "task.start()"
   ]
  },
  {
   "cell_type": "markdown",
   "id": "d1ef10e0",
   "metadata": {},
   "source": [
    "## Repeat the above process for other boroughs"
   ]
  },
  {
   "cell_type": "markdown",
   "id": "6104b281",
   "metadata": {},
   "source": [
    "Make a master function that does all the above in one step.\n",
    "\n",
    "Process:\n",
    "1. Load in the land temperature data\n",
    "2. Produce 10 year temperature averages for each day in the year (ignoring leap years)\n",
    "3. Reduce the temperature data according to the blocks in `blocks_fc`\n",
    "4. Determine if the land temperature data has any missing values for the block.\n",
    "5. If there are missing values, repeat steps 1 to 3 for the more general temperature data that covers non-land area and has lower resolution.\n",
    "6. Export data to drive"
   ]
  },
  {
   "cell_type": "code",
   "execution_count": 162,
   "id": "4863bfb9",
   "metadata": {},
   "outputs": [],
   "source": [
    "def full_process(block_fc, export_description):\n",
    "    '''\n",
    "    block_fc: a FeatureCollection for some blocks\n",
    "    \n",
    "    returns: nothing but will export data to drive\n",
    "    '''\n",
    "\n",
    "    ##############\n",
    "    #### LAND ####\n",
    "    ##############\n",
    "    \n",
    "    # load the temperature data for ERA5 land\n",
    "    era5_land = ee.ImageCollection(\"ECMWF/ERA5_LAND/DAILY_AGGR\")\n",
    "    daily_land_10years = era5_land.filterDate('2010-01-01', '2019-12-31').select('temperature_2m', \n",
    "                                                                                 'temperature_2m_min', \n",
    "                                                                                 'temperature_2m_max')\n",
    "    \n",
    "    # get the 10 year temp averages (temporal reduction)\n",
    "    JulianDayList = ee.List.sequence(1, 365)\n",
    "\n",
    "    def julianDayMeansLand(day):\n",
    "        means = daily_land_10years.filter(ee.Filter.dayOfYear(day, day)).mean()\n",
    "        ret_means = means.set('julian_date', day)\n",
    "        return ret_means\n",
    "\n",
    "    mappedListLand = JulianDayList.map(julianDayMeansLand)\n",
    "    daily_averages_collection_land = ee.ImageCollection(mappedListLand)\n",
    "    \n",
    "    # spatial reduction according to the blocks\n",
    "    def reduce_to_region(image):\n",
    "        reduced_image = image.reduceRegions(collection=block_fc, reducer=ee.Reducer.mean(), scale=1000)\n",
    "        reduced_image = reduced_image.set('date', image.get('julian_date'))\n",
    "        return reduced_image\n",
    "\n",
    "    reduced_by_region_land = daily_averages_collection_land.map(reduce_to_region)\n",
    "\n",
    "    # keep track of date\n",
    "    def doublemapOuter(fc):\n",
    "        jd = fc.get('date')\n",
    "        def doublemapInner(feature):\n",
    "            return feature.set('date', jd)\n",
    "        return ee.FeatureCollection(fc).map(doublemapInner)\n",
    "    \n",
    "    reduced_by_region_with_date_land = reduced_by_region_land.map(doublemapOuter)\n",
    "\n",
    "    # flatten\n",
    "    flattened_land = reduced_by_region_with_date_land.flatten()\n",
    "    \n",
    "    # determine which blocks don't have temperature data\n",
    "    flattened_land_null = flattened_land.filter(ee.Filter.Not(ee.Filter.notNull(['temperature_2m', 'temperature_2m_max', 'temperature_2m_min'])))\n",
    "    \n",
    "    # if null temperature values exist, then merge with the more general ERA5 data\n",
    "    if flattened_land_null.size().neq(ee.Number(0)):\n",
    "        \n",
    "        ##############\n",
    "        #### GEN #####\n",
    "        ##############\n",
    "\n",
    "        # load in temperature data for ERA5 daily aggregates\n",
    "        era5_gen = ee.ImageCollection(\"ECMWF/ERA5/DAILY\")\n",
    "        daily_gen_10years = era5_gen.filterDate('2010-01-01', '2019-12-31').select('minimum_2m_air_temperature', \n",
    "                                                                                   'mean_2m_air_temperature', \n",
    "                                                                                   'maximum_2m_air_temperature')\n",
    "        \n",
    "        # get the 10 year temp averages (temporal reduction)\n",
    "        def julianDayMeansGen(day):\n",
    "            means = daily_gen_10years.filter(ee.Filter.dayOfYear(day, day)).mean() \n",
    "            ret_means = means.set('julian_date', day)\n",
    "            return ret_means\n",
    "\n",
    "        mappedListGen = JulianDayList.map(julianDayMeansGen)\n",
    "        daily_averages_collection_gen = ee.ImageCollection(mappedListGen)\n",
    "\n",
    "        # spatial reduction according to the empty temp data blocks\n",
    "        empty_block_fc = flattened_land_null.distinct('FIPS')\n",
    "        \n",
    "        def reduce_to_empty_regions(image):\n",
    "            reduced_image = image.reduceRegions(collection=empty_block_fc, reducer=ee.Reducer.mean(), scale=1000)\n",
    "            reduced_image = reduced_image.set('date', image.get('julian_date'))\n",
    "            return reduced_image\n",
    "        \n",
    "        reduced_by_region_gen = daily_averages_collection_gen.map(reduce_to_empty_regions)\n",
    "        \n",
    "        # keep track of date\n",
    "        reduced_by_region_with_date_gen = reduced_by_region_gen.map(doublemapOuter)\n",
    "        \n",
    "        # flatten\n",
    "        flattened_gen = reduced_by_region_with_date_gen.flatten()\n",
    "        \n",
    "        \n",
    "        # note: there are two possible problems with merging\n",
    "        # 1. the 'FIPS' property for the gen data has a leading zero where the land data does not\n",
    "        # 2. the names of the temperature properties do not match between the land and the gen data\n",
    "        \n",
    "        # combine land and gen\n",
    "        flattened_land_non_empty = flattened_land.filter(ee.Filter.notNull(['temperature_2m', 'temperature_2m_max', 'temperature_2m_min']))\n",
    "        merged = flattened_land_non_empty.merge(flattened_gen)\n",
    "        print('exporting merged')\n",
    "        \n",
    "        # export merged data\n",
    "        task = ee.batch.Export.table.toDrive(**{\n",
    "          'collection': merged,\n",
    "          'description': export_description,\n",
    "          'folder': 'EarthEngine',\n",
    "          'selectors': ['BLOCK','FIPS', 'date', 'mean_2m_air_temperature', 'maximum_2m_air_temperature', 'minimum_2m_air_temperature', 'temperature_2m', 'temperature_2m_max', 'temperature_2m_min'], \n",
    "          'fileFormat': 'CSV'\n",
    "        })\n",
    "        task.start()\n",
    "        return\n",
    "    # if the land data gets everything, just export it\n",
    "    print('exporting just land')\n",
    "    task = ee.batch.Export.table.toDrive(**{\n",
    "      'collection': flattened_land,\n",
    "      'description': export_description,\n",
    "      'folder': 'EarthEngine',\n",
    "      'selectors': ['BLOCK','FIPS', 'date', 'temperature_2m', 'temperature_2m_max', 'temperature_2m_min'], \n",
    "      'fileFormat': 'CSV'\n",
    "    })\n",
    "    task.start()\n"
   ]
  },
  {
   "cell_type": "code",
   "execution_count": 165,
   "id": "ea6f8af8",
   "metadata": {},
   "outputs": [
    {
     "name": "stdout",
     "output_type": "stream",
     "text": [
      "exporting merged\n"
     ]
    }
   ],
   "source": [
    "smallest_blocks1 = blocks_nonzero[(blocks_nonzero['BOROUGH'] == '016') | \n",
    "               (blocks_nonzero['BOROUGH'] == '230') | \n",
    "               (blocks_nonzero['BOROUGH'] == '195') |\n",
    "               (blocks_nonzero['BOROUGH'] == '013') |\n",
    "               (blocks_nonzero['BOROUGH'] == '275')]\n",
    "\n",
    "smallest_blocks1_fc = geemap.geopandas_to_ee(smallest_blocks1)\n",
    "\n",
    "full_process(smallest_blocks1_fc, \"export for smallest boroughs 016 230 195 013 and 275 Try 1\")"
   ]
  },
  {
   "cell_type": "code",
   "execution_count": 166,
   "id": "51366701",
   "metadata": {},
   "outputs": [
    {
     "name": "stdout",
     "output_type": "stream",
     "text": [
      "exporting merged\n"
     ]
    }
   ],
   "source": [
    "smallest_blocks2 = blocks_nonzero[(blocks_nonzero['BOROUGH'] == '282') | \n",
    "               (blocks_nonzero['BOROUGH'] == '105') | \n",
    "               (blocks_nonzero['BOROUGH'] == '100') |\n",
    "               (blocks_nonzero['BOROUGH'] == '164') |\n",
    "               (blocks_nonzero['BOROUGH'] == '060')]\n",
    "\n",
    "smallest_blocks2_fc = geemap.geopandas_to_ee(smallest_blocks2)\n",
    "\n",
    "full_process(smallest_blocks2_fc, \"export for smallest boroughs 282 105 100 164 060 Try 1\")"
   ]
  },
  {
   "cell_type": "code",
   "execution_count": 168,
   "id": "488eeb2c",
   "metadata": {},
   "outputs": [
    {
     "name": "stdout",
     "output_type": "stream",
     "text": [
      "exporting merged\n"
     ]
    }
   ],
   "source": [
    "blocks185 = blocks_nonzero[blocks_nonzero['BOROUGH'] == '185']\n",
    "\n",
    "blocks185_fc = geemap.geopandas_to_ee(blocks185)\n",
    "full_process(blocks185_fc, \"export for borough 185 Try 1\")"
   ]
  },
  {
   "cell_type": "code",
   "execution_count": 169,
   "id": "92aa8d4b",
   "metadata": {},
   "outputs": [
    {
     "name": "stdout",
     "output_type": "stream",
     "text": [
      "exporting merged\n"
     ]
    }
   ],
   "source": [
    "blocks150 = blocks_nonzero[blocks_nonzero['BOROUGH'] == '150']\n",
    "\n",
    "blocks150_fc = geemap.geopandas_to_ee(blocks150)\n",
    "full_process(blocks150_fc, \"export for borough 150 Try 1\")"
   ]
  },
  {
   "cell_type": "code",
   "execution_count": 170,
   "id": "d1d49082",
   "metadata": {},
   "outputs": [
    {
     "name": "stdout",
     "output_type": "stream",
     "text": [
      "exporting merged\n"
     ]
    }
   ],
   "source": [
    "blocks198 = blocks_nonzero[blocks_nonzero['BOROUGH'] == '198']\n",
    "\n",
    "blocks198_fc = geemap.geopandas_to_ee(blocks198)\n",
    "full_process(blocks198_fc, \"export for borough 198 Try 1\")"
   ]
  },
  {
   "cell_type": "code",
   "execution_count": 171,
   "id": "9febd2df",
   "metadata": {},
   "outputs": [
    {
     "name": "stdout",
     "output_type": "stream",
     "text": [
      "exporting merged\n"
     ]
    }
   ],
   "source": [
    "blocks110 = blocks_nonzero[blocks_nonzero['BOROUGH'] == '110']\n",
    "\n",
    "blocks110_fc = geemap.geopandas_to_ee(blocks110)\n",
    "full_process(blocks110_fc, \"export for borough 110 Try 1\")"
   ]
  },
  {
   "cell_type": "code",
   "execution_count": 172,
   "id": "26675875",
   "metadata": {},
   "outputs": [
    {
     "name": "stdout",
     "output_type": "stream",
     "text": [
      "exporting merged\n"
     ]
    }
   ],
   "source": [
    "blocks188 = blocks_nonzero[blocks_nonzero['BOROUGH'] == '188']\n",
    "\n",
    "blocks188_fc = geemap.geopandas_to_ee(blocks188)\n",
    "full_process(blocks188_fc, \"export for borough 188 Try 1\")"
   ]
  },
  {
   "cell_type": "code",
   "execution_count": 173,
   "id": "d7b91f56",
   "metadata": {},
   "outputs": [
    {
     "name": "stdout",
     "output_type": "stream",
     "text": [
      "exporting merged\n"
     ]
    }
   ],
   "source": [
    "blocks063 = blocks_nonzero[blocks_nonzero['BOROUGH'] == '063']\n",
    "\n",
    "blocks063_fc = geemap.geopandas_to_ee(blocks063)\n",
    "full_process(blocks063_fc, \"export for borough 063 Try 1\")"
   ]
  },
  {
   "cell_type": "code",
   "execution_count": 174,
   "id": "af89c5c0",
   "metadata": {},
   "outputs": [
    {
     "name": "stdout",
     "output_type": "stream",
     "text": [
      "exporting merged\n"
     ]
    }
   ],
   "source": [
    "blocks068 = blocks_nonzero[blocks_nonzero['BOROUGH'] == '068']\n",
    "\n",
    "blocks068_fc = geemap.geopandas_to_ee(blocks068)\n",
    "full_process(blocks068_fc, \"export for borough 068 Try 1\")"
   ]
  },
  {
   "cell_type": "code",
   "execution_count": 175,
   "id": "dfafec87",
   "metadata": {},
   "outputs": [
    {
     "name": "stdout",
     "output_type": "stream",
     "text": [
      "exporting merged\n"
     ]
    }
   ],
   "source": [
    "blocks220 = blocks_nonzero[blocks_nonzero['BOROUGH'] == '220']\n",
    "\n",
    "blocks220_fc = geemap.geopandas_to_ee(blocks220)\n",
    "full_process(blocks220_fc, \"export for borough 220 Try 1\")"
   ]
  },
  {
   "cell_type": "code",
   "execution_count": 223,
   "id": "4e7a8d42",
   "metadata": {},
   "outputs": [],
   "source": [
    "# too big\n",
    "\n",
    "# blocks290 = blocks_nonzero[blocks_nonzero['BOROUGH'] == '290']\n",
    "\n",
    "# blocks290_fc = geemap.geopandas_to_ee(blocks290)\n",
    "# full_process(blocks290_fc, \"export for borough 290 Try 1\")"
   ]
  },
  {
   "cell_type": "code",
   "execution_count": 215,
   "id": "74a232f0",
   "metadata": {},
   "outputs": [
    {
     "name": "stdout",
     "output_type": "stream",
     "text": [
      "exporting merged\n"
     ]
    }
   ],
   "source": [
    "blocks290_1 = blocks290[blocks290['TOTALPOP'] < 8]\n",
    "\n",
    "blocks290_1_fc = geemap.geopandas_to_ee(blocks290_1)\n",
    "full_process(blocks290_1_fc, \"export for borough 290 part 1 Try 1\")"
   ]
  },
  {
   "cell_type": "code",
   "execution_count": 216,
   "id": "73f5f58d",
   "metadata": {},
   "outputs": [
    {
     "name": "stdout",
     "output_type": "stream",
     "text": [
      "exporting merged\n"
     ]
    }
   ],
   "source": [
    "blocks290_2 = blocks290[blocks290['TOTALPOP'] >= 8]\n",
    "\n",
    "blocks290_2_fc = geemap.geopandas_to_ee(blocks290_2)\n",
    "full_process(blocks290_2_fc, \"export for borough 290 part 2 Try 1\")"
   ]
  },
  {
   "cell_type": "code",
   "execution_count": 181,
   "id": "437ed359",
   "metadata": {},
   "outputs": [
    {
     "name": "stdout",
     "output_type": "stream",
     "text": [
      "exporting merged\n"
     ]
    }
   ],
   "source": [
    "blocks180 = blocks_nonzero[blocks_nonzero['BOROUGH'] == '180']\n",
    "\n",
    "blocks180_fc = geemap.geopandas_to_ee(blocks180)\n",
    "full_process(blocks180_fc, \"export for borough 180 Try 1\")"
   ]
  },
  {
   "cell_type": "code",
   "execution_count": 182,
   "id": "cdef24fc",
   "metadata": {},
   "outputs": [
    {
     "name": "stdout",
     "output_type": "stream",
     "text": [
      "exporting merged\n"
     ]
    }
   ],
   "source": [
    "blocks240 = blocks_nonzero[blocks_nonzero['BOROUGH'] == '240']\n",
    "\n",
    "blocks240_fc = geemap.geopandas_to_ee(blocks240)\n",
    "full_process(blocks240_fc, \"export for borough 240 Try 1\")"
   ]
  },
  {
   "cell_type": "code",
   "execution_count": 183,
   "id": "dc4feb0f",
   "metadata": {},
   "outputs": [
    {
     "name": "stdout",
     "output_type": "stream",
     "text": [
      "exporting merged\n"
     ]
    }
   ],
   "source": [
    "blocks070 = blocks_nonzero[blocks_nonzero['BOROUGH'] == '070']\n",
    "\n",
    "blocks070_fc = geemap.geopandas_to_ee(blocks070)\n",
    "full_process(blocks070_fc, \"export for borough 070 Try 1\")"
   ]
  },
  {
   "cell_type": "code",
   "execution_count": 184,
   "id": "7dbbaa4e",
   "metadata": {},
   "outputs": [
    {
     "name": "stdout",
     "output_type": "stream",
     "text": [
      "exporting merged\n"
     ]
    }
   ],
   "source": [
    "blocks050 = blocks_nonzero[blocks_nonzero['BOROUGH'] == '050']\n",
    "\n",
    "blocks050_fc = geemap.geopandas_to_ee(blocks050)\n",
    "full_process(blocks068_fc, \"export for borough 050 Try 1\")"
   ]
  },
  {
   "cell_type": "code",
   "execution_count": 185,
   "id": "1f1c274f",
   "metadata": {},
   "outputs": [
    {
     "name": "stdout",
     "output_type": "stream",
     "text": [
      "exporting merged\n"
     ]
    }
   ],
   "source": [
    "blocks130 = blocks_nonzero[blocks_nonzero['BOROUGH'] == '130']\n",
    "\n",
    "blocks130_fc = geemap.geopandas_to_ee(blocks130)\n",
    "full_process(blocks130_fc, \"export for borough 130 Try 1\")"
   ]
  },
  {
   "cell_type": "code",
   "execution_count": 186,
   "id": "447d174b",
   "metadata": {},
   "outputs": [
    {
     "name": "stdout",
     "output_type": "stream",
     "text": [
      "exporting merged\n"
     ]
    }
   ],
   "source": [
    "blocks066 = blocks_nonzero[blocks_nonzero['BOROUGH'] == '066']\n",
    "\n",
    "blocks066_fc = geemap.geopandas_to_ee(blocks066)\n",
    "full_process(blocks066_fc, \"export for borough 066 Try 1\")"
   ]
  },
  {
   "cell_type": "code",
   "execution_count": 187,
   "id": "c6a288cf",
   "metadata": {},
   "outputs": [
    {
     "name": "stdout",
     "output_type": "stream",
     "text": [
      "exporting merged\n"
     ]
    }
   ],
   "source": [
    "blocks158 = blocks_nonzero[blocks_nonzero['BOROUGH'] == '158']\n",
    "\n",
    "blocks158_fc = geemap.geopandas_to_ee(blocks158)\n",
    "full_process(blocks158_fc, \"export for borough 158 Try 1\")"
   ]
  },
  {
   "cell_type": "code",
   "execution_count": 222,
   "id": "6ccab984",
   "metadata": {},
   "outputs": [
    {
     "name": "stdout",
     "output_type": "stream",
     "text": [
      "exporting merged\n"
     ]
    }
   ],
   "source": [
    "blocks122_1 = blocks122[blocks['TOTALPOP'] < 18]\n",
    "\n",
    "blocks122_1_fc = geemap.geopandas_to_ee(blocks122_1)\n",
    "full_process(blocks122_1_fc, \"export for borough 122 part 1 Try 1\")"
   ]
  },
  {
   "cell_type": "code",
   "execution_count": 224,
   "id": "96776248",
   "metadata": {},
   "outputs": [
    {
     "name": "stdout",
     "output_type": "stream",
     "text": [
      "exporting merged\n"
     ]
    }
   ],
   "source": [
    "blocks122_2 = blocks122[blocks['TOTALPOP'] >= 18]\n",
    "\n",
    "blocks122_2_fc = geemap.geopandas_to_ee(blocks122_2)\n",
    "full_process(blocks122_2_fc, \"export for borough 122 part 2 Try 1\")"
   ]
  },
  {
   "cell_type": "code",
   "execution_count": 225,
   "id": "d1419b40",
   "metadata": {},
   "outputs": [],
   "source": [
    "# too big\n",
    "# blocks122 = blocks_nonzero[blocks_nonzero['BOROUGH'] == '122']\n",
    "\n",
    "# blocks122_fc = geemap.geopandas_to_ee(blocks122)\n",
    "# full_process(blocks122_fc, \"export for borough 122 Try 1\")"
   ]
  },
  {
   "cell_type": "code",
   "execution_count": 180,
   "id": "73a7d4f7",
   "metadata": {},
   "outputs": [
    {
     "name": "stdout",
     "output_type": "stream",
     "text": [
      "exporting merged\n"
     ]
    }
   ],
   "source": [
    "blocks020 = blocks_nonzero[blocks_nonzero['BOROUGH'] == '020']\n",
    "\n",
    "blocks020_fc = geemap.geopandas_to_ee(blocks020)\n",
    "full_process(blocks020_fc, \"export for borough 020 Try 1\")"
   ]
  },
  {
   "cell_type": "code",
   "execution_count": 226,
   "id": "7a2c8a9f",
   "metadata": {},
   "outputs": [
    {
     "data": {
      "text/plain": [
       "(1659, 9)"
      ]
     },
     "execution_count": 226,
     "metadata": {},
     "output_type": "execute_result"
    }
   ],
   "source": [
    "blocks170.shape"
   ]
  },
  {
   "cell_type": "code",
   "execution_count": 228,
   "id": "5b6100f3",
   "metadata": {},
   "outputs": [
    {
     "name": "stdout",
     "output_type": "stream",
     "text": [
      "exporting merged\n"
     ]
    }
   ],
   "source": [
    "blocks170_1 = blocks170[blocks170['TOTALPOP'] < 30]\n",
    "\n",
    "blocks170_1_fc = geemap.geopandas_to_ee(blocks170_1)\n",
    "full_process(blocks170_1_fc, \"export for borough 170 part 1 Try 1\")"
   ]
  },
  {
   "cell_type": "code",
   "execution_count": 229,
   "id": "1fae0dc9",
   "metadata": {},
   "outputs": [
    {
     "name": "stdout",
     "output_type": "stream",
     "text": [
      "exporting merged\n"
     ]
    }
   ],
   "source": [
    "blocks170_2 = blocks170[blocks170['TOTALPOP'] >= 30]\n",
    "\n",
    "blocks170_2_fc = geemap.geopandas_to_ee(blocks170_2)\n",
    "full_process(blocks170_2_fc, \"export for borough 170 part 2 Try 1\")"
   ]
  },
  {
   "cell_type": "code",
   "execution_count": 230,
   "id": "0e3e88b0",
   "metadata": {},
   "outputs": [],
   "source": [
    "# too big\n",
    "\n",
    "# blocks170 = blocks_nonzero[blocks_nonzero['BOROUGH'] == '170']\n",
    "\n",
    "# blocks170_fc = geemap.geopandas_to_ee(blocks170)\n",
    "# full_process(blocks170_fc, \"export for borough 170 Try 1\")"
   ]
  },
  {
   "cell_type": "code",
   "execution_count": 280,
   "id": "01c2bd43",
   "metadata": {},
   "outputs": [
    {
     "name": "stdout",
     "output_type": "stream",
     "text": [
      "exporting merged\n"
     ]
    }
   ],
   "source": [
    "blocks090 = blocks_nonzero[blocks_nonzero['BOROUGH'] == '090']\n",
    "\n",
    "blocks090_fc = geemap.geopandas_to_ee(blocks090)\n",
    "full_process(blocks090_fc, \"export for borough 090 Try 1\")"
   ]
  },
  {
   "cell_type": "markdown",
   "id": "2a5dc301",
   "metadata": {},
   "source": [
    "## Put the extracted temperature Data into one file\n",
    "\n",
    "Problems to address:\n",
    "1. Land and general temperature data refer to the temperature bands differently; need to combine the two different columns\n",
    "2. Many different CSV export files need to be combined\n",
    "3. There are still some empty temperature values :("
   ]
  },
  {
   "cell_type": "markdown",
   "id": "2db39384",
   "metadata": {},
   "source": [
    "### Start by looking at just one of the exported temperature files"
   ]
  },
  {
   "cell_type": "code",
   "execution_count": 239,
   "id": "595bf6b4",
   "metadata": {},
   "outputs": [
    {
     "data": {
      "text/html": [
       "<div>\n",
       "<style scoped>\n",
       "    .dataframe tbody tr th:only-of-type {\n",
       "        vertical-align: middle;\n",
       "    }\n",
       "\n",
       "    .dataframe tbody tr th {\n",
       "        vertical-align: top;\n",
       "    }\n",
       "\n",
       "    .dataframe thead th {\n",
       "        text-align: right;\n",
       "    }\n",
       "</style>\n",
       "<table border=\"1\" class=\"dataframe\">\n",
       "  <thead>\n",
       "    <tr style=\"text-align: right;\">\n",
       "      <th></th>\n",
       "      <th>BLOCK</th>\n",
       "      <th>FIPS</th>\n",
       "      <th>date</th>\n",
       "      <th>min_temp</th>\n",
       "      <th>mean_temp</th>\n",
       "      <th>max_temp</th>\n",
       "    </tr>\n",
       "  </thead>\n",
       "  <tbody>\n",
       "    <tr>\n",
       "      <th>0</th>\n",
       "      <td>1061</td>\n",
       "      <td>22300001001061</td>\n",
       "      <td>1.0</td>\n",
       "      <td>263.855821</td>\n",
       "      <td>265.556790</td>\n",
       "      <td>267.090930</td>\n",
       "    </tr>\n",
       "    <tr>\n",
       "      <th>1</th>\n",
       "      <td>1058</td>\n",
       "      <td>22300001001058</td>\n",
       "      <td>1.0</td>\n",
       "      <td>263.855821</td>\n",
       "      <td>265.556790</td>\n",
       "      <td>267.090930</td>\n",
       "    </tr>\n",
       "    <tr>\n",
       "      <th>2</th>\n",
       "      <td>4102</td>\n",
       "      <td>21950002004102</td>\n",
       "      <td>1.0</td>\n",
       "      <td>269.532498</td>\n",
       "      <td>271.327224</td>\n",
       "      <td>273.511868</td>\n",
       "    </tr>\n",
       "    <tr>\n",
       "      <th>3</th>\n",
       "      <td>4193</td>\n",
       "      <td>21950002004193</td>\n",
       "      <td>1.0</td>\n",
       "      <td>270.038328</td>\n",
       "      <td>271.782951</td>\n",
       "      <td>274.020266</td>\n",
       "    </tr>\n",
       "    <tr>\n",
       "      <th>4</th>\n",
       "      <td>1134</td>\n",
       "      <td>22750003001134</td>\n",
       "      <td>1.0</td>\n",
       "      <td>271.091117</td>\n",
       "      <td>272.701396</td>\n",
       "      <td>274.896804</td>\n",
       "    </tr>\n",
       "  </tbody>\n",
       "</table>\n",
       "</div>"
      ],
      "text/plain": [
       "   BLOCK            FIPS  date    min_temp   mean_temp    max_temp\n",
       "0   1061  22300001001061   1.0  263.855821  265.556790  267.090930\n",
       "1   1058  22300001001058   1.0  263.855821  265.556790  267.090930\n",
       "2   4102  21950002004102   1.0  269.532498  271.327224  273.511868\n",
       "3   4193  21950002004193   1.0  270.038328  271.782951  274.020266\n",
       "4   1134  22750003001134   1.0  271.091117  272.701396  274.896804"
      ]
     },
     "execution_count": 239,
     "metadata": {},
     "output_type": "execute_result"
    }
   ],
   "source": [
    "smallest_boroughs1_temp = pd.read_csv('../Data/smallest_boroughs_016_230_195_013_and_275.csv')\n",
    "# address problem 1 for this CSV\n",
    "mean_temp = smallest_boroughs1_temp['temperature_2m'].fillna(smallest_boroughs1_temp['mean_2m_air_temperature'])\n",
    "min_temp = smallest_boroughs1_temp['temperature_2m_min'].fillna(smallest_boroughs1_temp['minimum_2m_air_temperature'])\n",
    "max_temp = smallest_boroughs1_temp['temperature_2m_max'].fillna(smallest_boroughs1_temp['maximum_2m_air_temperature'])\n",
    "\n",
    "# format a dataframe\n",
    "smallest_boroughs1_formatted = smallest_boroughs1_temp[['BLOCK', \"FIPS\", 'date']]\n",
    "\n",
    "smallest_boroughs1_formatted['min_temp'] = min_temp\n",
    "smallest_boroughs1_formatted['mean_temp'] = mean_temp\n",
    "smallest_boroughs1_formatted['max_temp'] = max_temp\n",
    "\n",
    "smallest_boroughs1_formatted.head()"
   ]
  },
  {
   "cell_type": "markdown",
   "id": "7bc0b2d4",
   "metadata": {},
   "source": [
    "Check to see if there are still any empty temperature cells"
   ]
  },
  {
   "cell_type": "code",
   "execution_count": 253,
   "id": "f2c086f3",
   "metadata": {},
   "outputs": [
    {
     "data": {
      "text/plain": [
       "23"
      ]
     },
     "execution_count": 253,
     "metadata": {},
     "output_type": "execute_result"
    }
   ],
   "source": [
    "smallest_boroughs1_empty = smallest_boroughs1_formatted[smallest_boroughs1_formatted['min_temp'].isnull()]\n",
    "len(smallest_boroughs1_empty['FIPS'].unique())"
   ]
  },
  {
   "cell_type": "markdown",
   "id": "92f02fc0",
   "metadata": {},
   "source": [
    "There are empty temperature values so pull out the ones that don't have empty values and check that sizes match up (i.e. a day-block combination is missing all three temp values)"
   ]
  },
  {
   "cell_type": "code",
   "execution_count": 266,
   "id": "9cd4550a",
   "metadata": {},
   "outputs": [],
   "source": [
    "smallest_boroughs1_formatted_temp = smallest_boroughs1_formatted.dropna()\n",
    "\n",
    "assert(smallest_boroughs1_empty.shape[0] + smallest_boroughs1_formatted_temp.shape[0] == smallest_boroughs1_temp.shape[0])"
   ]
  },
  {
   "cell_type": "markdown",
   "id": "aef5c271",
   "metadata": {},
   "source": [
    "### Whole process"
   ]
  },
  {
   "cell_type": "code",
   "execution_count": 508,
   "id": "cf99f873",
   "metadata": {},
   "outputs": [
    {
     "name": "stdout",
     "output_type": "stream",
     "text": [
      "28\n"
     ]
    }
   ],
   "source": [
    "export_dir = \"../Data/temp_export_raw/\"\n",
    "\n",
    "file_list = []\n",
    "for root, dirs, files in os.walk(export_dir):\n",
    "    for filename in files:\n",
    "        if filename.lower().endswith(('.csv')):\n",
    "            file_list.append(export_dir + filename)\n",
    "print(len(file_list))"
   ]
  },
  {
   "cell_type": "code",
   "execution_count": 510,
   "id": "a4d5d705",
   "metadata": {},
   "outputs": [
    {
     "name": "stdout",
     "output_type": "stream",
     "text": [
      "total empty 1044.0\n"
     ]
    }
   ],
   "source": [
    "def process_exports(file_list):\n",
    "    \n",
    "    temp_df = pd.DataFrame()\n",
    "    empty_df = pd.DataFrame()\n",
    "    \n",
    "    total_empty = 0\n",
    "    \n",
    "    for f in file_list:\n",
    "        df = pd.read_csv(f)\n",
    "        \n",
    "        mean_temp = df['temperature_2m'].fillna(df['mean_2m_air_temperature'])\n",
    "        min_temp = df['temperature_2m_min'].fillna(df['minimum_2m_air_temperature'])\n",
    "        max_temp = df['temperature_2m_max'].fillna(df['maximum_2m_air_temperature'])\n",
    "        \n",
    "        df_formatted = df[['BLOCK', \"FIPS\", 'date']]\n",
    "\n",
    "        df_formatted['min_temp'] = min_temp\n",
    "        df_formatted['mean_temp'] = mean_temp\n",
    "        df_formatted['max_temp'] = max_temp\n",
    "        \n",
    "        empty = df_formatted[df_formatted['min_temp'].isnull()]\n",
    "        total_empty += empty.shape[0] / 365\n",
    "        \n",
    "        full = df_formatted.dropna()\n",
    "        \n",
    "        #assert(empty.shape[0] + full.shape[0] == df.shape[0])\n",
    "        \n",
    "        temp_df = pd.concat([temp_df, full])\n",
    "        empty_df = pd.concat([empty_df, empty])\n",
    "        \n",
    "    print('total empty', total_empty)\n",
    "    return temp_df, empty_df\n",
    "\n",
    "temp, empty = process_exports(file_list)"
   ]
  },
  {
   "cell_type": "code",
   "execution_count": 322,
   "id": "dc9d8cfc",
   "metadata": {},
   "outputs": [
    {
     "data": {
      "text/html": [
       "<div>\n",
       "<style scoped>\n",
       "    .dataframe tbody tr th:only-of-type {\n",
       "        vertical-align: middle;\n",
       "    }\n",
       "\n",
       "    .dataframe tbody tr th {\n",
       "        vertical-align: top;\n",
       "    }\n",
       "\n",
       "    .dataframe thead th {\n",
       "        text-align: right;\n",
       "    }\n",
       "</style>\n",
       "<table border=\"1\" class=\"dataframe\">\n",
       "  <thead>\n",
       "    <tr style=\"text-align: right;\">\n",
       "      <th></th>\n",
       "      <th>BLOCK</th>\n",
       "      <th>FIPS</th>\n",
       "      <th>date</th>\n",
       "      <th>min_temp</th>\n",
       "      <th>mean_temp</th>\n",
       "      <th>max_temp</th>\n",
       "    </tr>\n",
       "  </thead>\n",
       "  <tbody>\n",
       "    <tr>\n",
       "      <th>0</th>\n",
       "      <td>1245</td>\n",
       "      <td>20700001001245</td>\n",
       "      <td>1.0</td>\n",
       "      <td>266.462904</td>\n",
       "      <td>269.285745</td>\n",
       "      <td>271.749924</td>\n",
       "    </tr>\n",
       "    <tr>\n",
       "      <th>1</th>\n",
       "      <td>1001</td>\n",
       "      <td>20700002001001</td>\n",
       "      <td>1.0</td>\n",
       "      <td>266.558705</td>\n",
       "      <td>269.145364</td>\n",
       "      <td>271.637401</td>\n",
       "    </tr>\n",
       "    <tr>\n",
       "      <th>2</th>\n",
       "      <td>1018</td>\n",
       "      <td>20700002001018</td>\n",
       "      <td>1.0</td>\n",
       "      <td>266.973592</td>\n",
       "      <td>269.518289</td>\n",
       "      <td>272.001239</td>\n",
       "    </tr>\n",
       "    <tr>\n",
       "      <th>3</th>\n",
       "      <td>1251</td>\n",
       "      <td>20700001001251</td>\n",
       "      <td>1.0</td>\n",
       "      <td>266.462904</td>\n",
       "      <td>269.285745</td>\n",
       "      <td>271.749924</td>\n",
       "    </tr>\n",
       "    <tr>\n",
       "      <th>4</th>\n",
       "      <td>1015</td>\n",
       "      <td>20700002001015</td>\n",
       "      <td>1.0</td>\n",
       "      <td>266.973592</td>\n",
       "      <td>269.518289</td>\n",
       "      <td>272.001239</td>\n",
       "    </tr>\n",
       "  </tbody>\n",
       "</table>\n",
       "</div>"
      ],
      "text/plain": [
       "   BLOCK            FIPS  date    min_temp   mean_temp    max_temp\n",
       "0   1245  20700001001245   1.0  266.462904  269.285745  271.749924\n",
       "1   1001  20700002001001   1.0  266.558705  269.145364  271.637401\n",
       "2   1018  20700002001018   1.0  266.973592  269.518289  272.001239\n",
       "3   1251  20700001001251   1.0  266.462904  269.285745  271.749924\n",
       "4   1015  20700002001015   1.0  266.973592  269.518289  272.001239"
      ]
     },
     "execution_count": 322,
     "metadata": {},
     "output_type": "execute_result"
    }
   ],
   "source": [
    "temp.head()"
   ]
  },
  {
   "cell_type": "code",
   "execution_count": 323,
   "id": "b7253ff8",
   "metadata": {},
   "outputs": [
    {
     "data": {
      "text/html": [
       "<div>\n",
       "<style scoped>\n",
       "    .dataframe tbody tr th:only-of-type {\n",
       "        vertical-align: middle;\n",
       "    }\n",
       "\n",
       "    .dataframe tbody tr th {\n",
       "        vertical-align: top;\n",
       "    }\n",
       "\n",
       "    .dataframe thead th {\n",
       "        text-align: right;\n",
       "    }\n",
       "</style>\n",
       "<table border=\"1\" class=\"dataframe\">\n",
       "  <thead>\n",
       "    <tr style=\"text-align: right;\">\n",
       "      <th></th>\n",
       "      <th>BLOCK</th>\n",
       "      <th>FIPS</th>\n",
       "      <th>date</th>\n",
       "      <th>min_temp</th>\n",
       "      <th>mean_temp</th>\n",
       "      <th>max_temp</th>\n",
       "    </tr>\n",
       "  </thead>\n",
       "  <tbody>\n",
       "    <tr>\n",
       "      <th>35770</th>\n",
       "      <td>1249</td>\n",
       "      <td>20700001001249</td>\n",
       "      <td>1.0</td>\n",
       "      <td>NaN</td>\n",
       "      <td>NaN</td>\n",
       "      <td>NaN</td>\n",
       "    </tr>\n",
       "    <tr>\n",
       "      <th>35771</th>\n",
       "      <td>1213</td>\n",
       "      <td>20700001001213</td>\n",
       "      <td>1.0</td>\n",
       "      <td>NaN</td>\n",
       "      <td>NaN</td>\n",
       "      <td>NaN</td>\n",
       "    </tr>\n",
       "    <tr>\n",
       "      <th>35772</th>\n",
       "      <td>1249</td>\n",
       "      <td>20700001001249</td>\n",
       "      <td>2.0</td>\n",
       "      <td>NaN</td>\n",
       "      <td>NaN</td>\n",
       "      <td>NaN</td>\n",
       "    </tr>\n",
       "    <tr>\n",
       "      <th>35773</th>\n",
       "      <td>1213</td>\n",
       "      <td>20700001001213</td>\n",
       "      <td>2.0</td>\n",
       "      <td>NaN</td>\n",
       "      <td>NaN</td>\n",
       "      <td>NaN</td>\n",
       "    </tr>\n",
       "    <tr>\n",
       "      <th>35774</th>\n",
       "      <td>1249</td>\n",
       "      <td>20700001001249</td>\n",
       "      <td>3.0</td>\n",
       "      <td>NaN</td>\n",
       "      <td>NaN</td>\n",
       "      <td>NaN</td>\n",
       "    </tr>\n",
       "  </tbody>\n",
       "</table>\n",
       "</div>"
      ],
      "text/plain": [
       "       BLOCK            FIPS  date  min_temp  mean_temp  max_temp\n",
       "35770   1249  20700001001249   1.0       NaN        NaN       NaN\n",
       "35771   1213  20700001001213   1.0       NaN        NaN       NaN\n",
       "35772   1249  20700001001249   2.0       NaN        NaN       NaN\n",
       "35773   1213  20700001001213   2.0       NaN        NaN       NaN\n",
       "35774   1249  20700001001249   3.0       NaN        NaN       NaN"
      ]
     },
     "execution_count": 323,
     "metadata": {},
     "output_type": "execute_result"
    }
   ],
   "source": [
    "empty.head()"
   ]
  },
  {
   "cell_type": "code",
   "execution_count": 511,
   "id": "9f5e630f",
   "metadata": {},
   "outputs": [
    {
     "name": "stdout",
     "output_type": "stream",
     "text": [
      "there are 11276 blocks with temperature data and 1044 blocks without\n"
     ]
    }
   ],
   "source": [
    "print('there are', str(temp.shape[0] // 365), 'blocks with temperature data and', set(empty['FIPS'].unique()).difference(set(temp['FIPS'].unique())), 'blocks without')"
   ]
  },
  {
   "cell_type": "code",
   "execution_count": 325,
   "id": "5eddf4e2",
   "metadata": {},
   "outputs": [],
   "source": [
    "empty['FIPS'] = '0' + empty['FIPS'].astype('string') "
   ]
  },
  {
   "cell_type": "markdown",
   "id": "64f5867d",
   "metadata": {},
   "source": [
    "Join the `empty` dataframe with the `blocks_nonzero` geopandas dataframe to regain the `geometry` column"
   ]
  },
  {
   "cell_type": "code",
   "execution_count": 341,
   "id": "14620a89",
   "metadata": {},
   "outputs": [
    {
     "name": "stdout",
     "output_type": "stream",
     "text": [
      "548\n"
     ]
    }
   ],
   "source": [
    "empty_with_geo = pd.merge(\n",
    "    blocks_nonzero,\n",
    "    empty,\n",
    "    how=\"inner\",\n",
    "    on='FIPS'\n",
    ").drop(['BLOCK_x', 'date'], axis=1).drop_duplicates()\n",
    "\n",
    "print(empty_with_geo.shape[0])"
   ]
  },
  {
   "cell_type": "code",
   "execution_count": 336,
   "id": "481d5dd2",
   "metadata": {},
   "outputs": [
    {
     "data": {
      "text/html": [
       "<div>\n",
       "<style scoped>\n",
       "    .dataframe tbody tr th:only-of-type {\n",
       "        vertical-align: middle;\n",
       "    }\n",
       "\n",
       "    .dataframe tbody tr th {\n",
       "        vertical-align: top;\n",
       "    }\n",
       "\n",
       "    .dataframe thead th {\n",
       "        text-align: right;\n",
       "    }\n",
       "</style>\n",
       "<table border=\"1\" class=\"dataframe\">\n",
       "  <thead>\n",
       "    <tr style=\"text-align: right;\">\n",
       "      <th></th>\n",
       "      <th>FIPS</th>\n",
       "      <th>min_temp</th>\n",
       "      <th>mean_temp</th>\n",
       "      <th>max_temp</th>\n",
       "      <th>NAME</th>\n",
       "      <th>STATE</th>\n",
       "      <th>BOROUGH</th>\n",
       "      <th>TRACT</th>\n",
       "      <th>BLOCK_y</th>\n",
       "      <th>TOTALPOP</th>\n",
       "      <th>HOUSEUNITS</th>\n",
       "      <th>geometry</th>\n",
       "    </tr>\n",
       "  </thead>\n",
       "  <tbody>\n",
       "    <tr>\n",
       "      <th>0</th>\n",
       "      <td>020700001001249</td>\n",
       "      <td>NaN</td>\n",
       "      <td>NaN</td>\n",
       "      <td>NaN</td>\n",
       "      <td>Block 1249</td>\n",
       "      <td>02</td>\n",
       "      <td>070</td>\n",
       "      <td>000100</td>\n",
       "      <td>1249</td>\n",
       "      <td>6.0</td>\n",
       "      <td>4.0</td>\n",
       "      <td>POLYGON ((-364156.869 1024788.366, -364126.866...</td>\n",
       "    </tr>\n",
       "    <tr>\n",
       "      <th>365</th>\n",
       "      <td>020700001001213</td>\n",
       "      <td>NaN</td>\n",
       "      <td>NaN</td>\n",
       "      <td>NaN</td>\n",
       "      <td>Block 1213</td>\n",
       "      <td>02</td>\n",
       "      <td>070</td>\n",
       "      <td>000100</td>\n",
       "      <td>1213</td>\n",
       "      <td>17.0</td>\n",
       "      <td>5.0</td>\n",
       "      <td>POLYGON ((-289619.984 1009335.416, -289608.965...</td>\n",
       "    </tr>\n",
       "    <tr>\n",
       "      <th>730</th>\n",
       "      <td>021100005003050</td>\n",
       "      <td>NaN</td>\n",
       "      <td>NaN</td>\n",
       "      <td>NaN</td>\n",
       "      <td>Block 3050</td>\n",
       "      <td>02</td>\n",
       "      <td>110</td>\n",
       "      <td>000500</td>\n",
       "      <td>3050</td>\n",
       "      <td>21.0</td>\n",
       "      <td>5.0</td>\n",
       "      <td>POLYGON ((1127807.264 1089892.478, 1127854.373...</td>\n",
       "    </tr>\n",
       "    <tr>\n",
       "      <th>1095</th>\n",
       "      <td>021100005002077</td>\n",
       "      <td>NaN</td>\n",
       "      <td>NaN</td>\n",
       "      <td>NaN</td>\n",
       "      <td>Block 2077</td>\n",
       "      <td>02</td>\n",
       "      <td>110</td>\n",
       "      <td>000500</td>\n",
       "      <td>2077</td>\n",
       "      <td>9.0</td>\n",
       "      <td>1.0</td>\n",
       "      <td>POLYGON ((1128547.497 1090010.942, 1128556.067...</td>\n",
       "    </tr>\n",
       "    <tr>\n",
       "      <th>1460</th>\n",
       "      <td>021100003001008</td>\n",
       "      <td>NaN</td>\n",
       "      <td>NaN</td>\n",
       "      <td>NaN</td>\n",
       "      <td>Block 1008</td>\n",
       "      <td>02</td>\n",
       "      <td>110</td>\n",
       "      <td>000300</td>\n",
       "      <td>1008</td>\n",
       "      <td>84.0</td>\n",
       "      <td>23.0</td>\n",
       "      <td>POLYGON ((1117018.876 1097768.691, 1117030.782...</td>\n",
       "    </tr>\n",
       "  </tbody>\n",
       "</table>\n",
       "</div>"
      ],
      "text/plain": [
       "                 FIPS  min_temp  mean_temp  max_temp        NAME STATE  \\\n",
       "0     020700001001249       NaN        NaN       NaN  Block 1249    02   \n",
       "365   020700001001213       NaN        NaN       NaN  Block 1213    02   \n",
       "730   021100005003050       NaN        NaN       NaN  Block 3050    02   \n",
       "1095  021100005002077       NaN        NaN       NaN  Block 2077    02   \n",
       "1460  021100003001008       NaN        NaN       NaN  Block 1008    02   \n",
       "\n",
       "     BOROUGH   TRACT BLOCK_y  TOTALPOP  HOUSEUNITS  \\\n",
       "0        070  000100    1249       6.0         4.0   \n",
       "365      070  000100    1213      17.0         5.0   \n",
       "730      110  000500    3050      21.0         5.0   \n",
       "1095     110  000500    2077       9.0         1.0   \n",
       "1460     110  000300    1008      84.0        23.0   \n",
       "\n",
       "                                               geometry  \n",
       "0     POLYGON ((-364156.869 1024788.366, -364126.866...  \n",
       "365   POLYGON ((-289619.984 1009335.416, -289608.965...  \n",
       "730   POLYGON ((1127807.264 1089892.478, 1127854.373...  \n",
       "1095  POLYGON ((1128547.497 1090010.942, 1128556.067...  \n",
       "1460  POLYGON ((1117018.876 1097768.691, 1117030.782...  "
      ]
     },
     "execution_count": 336,
     "metadata": {},
     "output_type": "execute_result"
    }
   ],
   "source": [
    "empty_with_geo.head()"
   ]
  },
  {
   "cell_type": "markdown",
   "id": "03eadce8",
   "metadata": {},
   "source": [
    "Make a feature collection, simplify the geometries, and repeat the process of exporting"
   ]
  },
  {
   "cell_type": "code",
   "execution_count": 343,
   "id": "d16d154a",
   "metadata": {},
   "outputs": [],
   "source": [
    "empty_fc = geemap.geopandas_to_ee(empty_with_geo)"
   ]
  },
  {
   "cell_type": "code",
   "execution_count": 345,
   "id": "aa2beb77",
   "metadata": {},
   "outputs": [],
   "source": [
    "def simplify_map(feature):\n",
    "    return feature.simplify(1000)"
   ]
  },
  {
   "cell_type": "code",
   "execution_count": 346,
   "id": "709c9b22",
   "metadata": {},
   "outputs": [],
   "source": [
    "simple_empty_fc = empty_fc.map(simplify_map)"
   ]
  },
  {
   "cell_type": "code",
   "execution_count": 347,
   "id": "dc44d21d",
   "metadata": {
    "scrolled": true
   },
   "outputs": [
    {
     "name": "stdout",
     "output_type": "stream",
     "text": [
      "exporting merged\n"
     ]
    }
   ],
   "source": [
    "full_process(simple_empty_fc, 'export previously empty features Try 1')"
   ]
  },
  {
   "cell_type": "code",
   "execution_count": 352,
   "id": "d69f3e62",
   "metadata": {},
   "outputs": [],
   "source": [
    "prev_empty = pd.read_csv('../Data/temp_export_raw/previously_empty_features1.csv')"
   ]
  },
  {
   "cell_type": "code",
   "execution_count": 356,
   "id": "b0116237",
   "metadata": {},
   "outputs": [
    {
     "data": {
      "text/html": [
       "<div>\n",
       "<style scoped>\n",
       "    .dataframe tbody tr th:only-of-type {\n",
       "        vertical-align: middle;\n",
       "    }\n",
       "\n",
       "    .dataframe tbody tr th {\n",
       "        vertical-align: top;\n",
       "    }\n",
       "\n",
       "    .dataframe thead th {\n",
       "        text-align: right;\n",
       "    }\n",
       "</style>\n",
       "<table border=\"1\" class=\"dataframe\">\n",
       "  <thead>\n",
       "    <tr style=\"text-align: right;\">\n",
       "      <th></th>\n",
       "      <th>BLOCK</th>\n",
       "      <th>FIPS</th>\n",
       "      <th>date</th>\n",
       "      <th>min_temp</th>\n",
       "      <th>mean_temp</th>\n",
       "      <th>max_temp</th>\n",
       "    </tr>\n",
       "  </thead>\n",
       "  <tbody>\n",
       "    <tr>\n",
       "      <th>0</th>\n",
       "      <td>NaN</td>\n",
       "      <td>20200002061019</td>\n",
       "      <td>1.0</td>\n",
       "      <td>258.073230</td>\n",
       "      <td>260.929655</td>\n",
       "      <td>263.593041</td>\n",
       "    </tr>\n",
       "    <tr>\n",
       "      <th>1</th>\n",
       "      <td>NaN</td>\n",
       "      <td>20200010002035</td>\n",
       "      <td>1.0</td>\n",
       "      <td>266.794147</td>\n",
       "      <td>268.383954</td>\n",
       "      <td>270.239012</td>\n",
       "    </tr>\n",
       "    <tr>\n",
       "      <th>2</th>\n",
       "      <td>NaN</td>\n",
       "      <td>20900003003016</td>\n",
       "      <td>1.0</td>\n",
       "      <td>258.073230</td>\n",
       "      <td>260.929655</td>\n",
       "      <td>263.593041</td>\n",
       "    </tr>\n",
       "    <tr>\n",
       "      <th>3</th>\n",
       "      <td>NaN</td>\n",
       "      <td>20900002002021</td>\n",
       "      <td>1.0</td>\n",
       "      <td>258.073230</td>\n",
       "      <td>260.929655</td>\n",
       "      <td>263.593041</td>\n",
       "    </tr>\n",
       "    <tr>\n",
       "      <th>4</th>\n",
       "      <td>NaN</td>\n",
       "      <td>20900002002025</td>\n",
       "      <td>1.0</td>\n",
       "      <td>258.073230</td>\n",
       "      <td>260.929655</td>\n",
       "      <td>263.593041</td>\n",
       "    </tr>\n",
       "  </tbody>\n",
       "</table>\n",
       "</div>"
      ],
      "text/plain": [
       "   BLOCK            FIPS  date    min_temp   mean_temp    max_temp\n",
       "0    NaN  20200002061019   1.0  258.073230  260.929655  263.593041\n",
       "1    NaN  20200010002035   1.0  266.794147  268.383954  270.239012\n",
       "2    NaN  20900003003016   1.0  258.073230  260.929655  263.593041\n",
       "3    NaN  20900002002021   1.0  258.073230  260.929655  263.593041\n",
       "4    NaN  20900002002025   1.0  258.073230  260.929655  263.593041"
      ]
     },
     "execution_count": 356,
     "metadata": {},
     "output_type": "execute_result"
    }
   ],
   "source": [
    "mean_temp = prev_empty['temperature_2m'].fillna(prev_empty['mean_2m_air_temperature'])\n",
    "min_temp = prev_empty['temperature_2m_min'].fillna(prev_empty['minimum_2m_air_temperature'])\n",
    "max_temp = prev_empty['temperature_2m_max'].fillna(prev_empty['maximum_2m_air_temperature'])\n",
    "\n",
    "# format a dataframe\n",
    "prev_empty_formatted = prev_empty[['BLOCK', \"FIPS\", 'date']]\n",
    "\n",
    "prev_empty_formatted['min_temp'] = min_temp\n",
    "prev_empty_formatted['mean_temp'] = mean_temp\n",
    "prev_empty_formatted['max_temp'] = max_temp\n",
    "\n",
    "prev_empty_formatted.head()"
   ]
  },
  {
   "cell_type": "markdown",
   "id": "0d295554",
   "metadata": {},
   "source": [
    "Erin said to just try again with the same ones that didn't come out in case it was a backend thing."
   ]
  },
  {
   "cell_type": "code",
   "execution_count": 366,
   "id": "f448054b",
   "metadata": {},
   "outputs": [],
   "source": [
    "really_empty = prev_empty_formatted[prev_empty_formatted['min_temp'].isnull()]"
   ]
  },
  {
   "cell_type": "code",
   "execution_count": 367,
   "id": "8368cd4f",
   "metadata": {},
   "outputs": [],
   "source": [
    "really_empty = really_empty.drop(['BLOCK', 'date'], axis = 1).drop_duplicates()\n",
    "really_empty['FIPS'] = '0' + really_empty['FIPS'].astype('string') "
   ]
  },
  {
   "cell_type": "code",
   "execution_count": 368,
   "id": "e6f93fdf",
   "metadata": {},
   "outputs": [
    {
     "name": "stdout",
     "output_type": "stream",
     "text": [
      "248\n"
     ]
    }
   ],
   "source": [
    "really_empty_with_geo = pd.merge(\n",
    "    blocks_nonzero,\n",
    "    really_empty,\n",
    "    how=\"inner\",\n",
    "    on='FIPS'\n",
    ")\n",
    "\n",
    "print(really_empty_with_geo.shape[0])"
   ]
  },
  {
   "cell_type": "code",
   "execution_count": 370,
   "id": "c60180d3",
   "metadata": {},
   "outputs": [],
   "source": [
    "really_empty_fc = geemap.geopandas_to_ee(really_empty_with_geo)"
   ]
  },
  {
   "cell_type": "code",
   "execution_count": 371,
   "id": "c9c405b8",
   "metadata": {},
   "outputs": [
    {
     "name": "stdout",
     "output_type": "stream",
     "text": [
      "exporting merged\n"
     ]
    }
   ],
   "source": [
    "full_process(really_empty_fc, 'export previously empty features for 248 blocks Try 2')"
   ]
  },
  {
   "cell_type": "code",
   "execution_count": 372,
   "id": "32c7dc29",
   "metadata": {},
   "outputs": [],
   "source": [
    "empty_export2 = pd.read_csv('../Data/temp_export_raw/previously_empty_features2.csv')"
   ]
  },
  {
   "cell_type": "code",
   "execution_count": 376,
   "id": "b8aedf28",
   "metadata": {},
   "outputs": [
    {
     "data": {
      "text/plain": [
       "(90520, 6)"
      ]
     },
     "execution_count": 376,
     "metadata": {},
     "output_type": "execute_result"
    }
   ],
   "source": [
    "mean_temp = empty_export2['temperature_2m'].fillna(empty_export2['mean_2m_air_temperature'])\n",
    "min_temp = empty_export2['temperature_2m_min'].fillna(empty_export2['minimum_2m_air_temperature'])\n",
    "max_temp = empty_export2['temperature_2m_max'].fillna(empty_export2['maximum_2m_air_temperature'])\n",
    "\n",
    "# format a dataframe\n",
    "empty_export2_formatted = empty_export2[['BLOCK', \"FIPS\", 'date']]\n",
    "\n",
    "empty_export2_formatted['min_temp'] = min_temp\n",
    "empty_export2_formatted['mean_temp'] = mean_temp\n",
    "empty_export2_formatted['max_temp'] = max_temp\n",
    "\n",
    "empty_export2_formatted.shape"
   ]
  },
  {
   "cell_type": "code",
   "execution_count": 377,
   "id": "a4971cca",
   "metadata": {},
   "outputs": [
    {
     "data": {
      "text/plain": [
       "248.0"
      ]
     },
     "execution_count": 377,
     "metadata": {},
     "output_type": "execute_result"
    }
   ],
   "source": [
    "empty_export2_formatted[empty_export2_formatted['min_temp'].isnull()].shape[0] / 365"
   ]
  },
  {
   "cell_type": "markdown",
   "id": "9dd1c6bd",
   "metadata": {},
   "source": [
    "But again, all previously empty blocks came out empty again. **Now try the centroid approach.**"
   ]
  },
  {
   "cell_type": "code",
   "execution_count": 398,
   "id": "57f69b93",
   "metadata": {},
   "outputs": [],
   "source": [
    "really_empty_centroid = really_empty_with_geo.drop(['geometry'], axis = 1)\n",
    "really_empty_centroid['geometry'] = really_empty_centroid['centroid']\n",
    "really_empty_centroid = really_empty_centroid.drop('centroid', axis = 1)\n",
    "centroid_fc = geemap.geopandas_to_ee(really_empty_centroid)"
   ]
  },
  {
   "cell_type": "code",
   "execution_count": 400,
   "id": "d2cb8e47",
   "metadata": {},
   "outputs": [
    {
     "name": "stdout",
     "output_type": "stream",
     "text": [
      "exporting merged\n"
     ]
    }
   ],
   "source": [
    "full_process(centroid_fc, 'export previously empty features with centroids try 1')"
   ]
  },
  {
   "cell_type": "code",
   "execution_count": 401,
   "id": "6aa75c3c",
   "metadata": {},
   "outputs": [],
   "source": [
    "centroids = pd.read_csv('../Data/temp_export_raw/centroids.csv')"
   ]
  },
  {
   "cell_type": "code",
   "execution_count": 406,
   "id": "e84b5c4f",
   "metadata": {},
   "outputs": [
    {
     "name": "stdout",
     "output_type": "stream",
     "text": [
      "with centroids, there are 0 empty temperature values still\n"
     ]
    }
   ],
   "source": [
    "mean_temp = centroids['temperature_2m'].fillna(centroids['mean_2m_air_temperature'])\n",
    "min_temp = centroids['temperature_2m_min'].fillna(centroids['minimum_2m_air_temperature'])\n",
    "max_temp = centroids['temperature_2m_max'].fillna(centroids['maximum_2m_air_temperature'])\n",
    "\n",
    "# format a dataframe\n",
    "centroids_formatted = centroids[['BLOCK', \"FIPS\", 'date']]\n",
    "\n",
    "centroids_formatted['min_temp'] = min_temp\n",
    "centroids_formatted['mean_temp'] = mean_temp\n",
    "centroids_formatted['max_temp'] = max_temp\n",
    "\n",
    "print('with centroids, there are', centroids_formatted[centroids_formatted['min_temp'].isnull()].shape[0], 'empty temperature values still')"
   ]
  },
  {
   "cell_type": "code",
   "execution_count": 522,
   "id": "5bdf8657",
   "metadata": {},
   "outputs": [
    {
     "name": "stdout",
     "output_type": "stream",
     "text": [
      "../Data/temp_export_raw/borough_070.csv\n",
      "../Data/temp_export_raw/borough_110.csv\n",
      "../Data/temp_export_raw/previously_empty_features2.csv\n",
      "../Data/temp_export_raw/previously_empty_features1.csv\n",
      "../Data/temp_export_raw/borough_063.csv\n",
      "../Data/temp_export_raw/borough_122_2.csv\n",
      "../Data/temp_export_raw/borough_122_1.csv\n",
      "../Data/temp_export_raw/borough_198.csv\n",
      "../Data/temp_export_raw/borough_158.csv\n",
      "../Data/temp_export_raw/smallest_boroughs_016_230_195_013_275.csv\n",
      "../Data/temp_export_raw/borough _090.csv\n",
      "../Data/temp_export_raw/borough_188.csv\n",
      "../Data/temp_export_raw/borough_185.csv\n",
      "../Data/temp_export_raw/borough_150.csv\n",
      "../Data/temp_export_raw/borough_020.csv\n",
      "../Data/temp_export_raw/borough_290_2.csv\n",
      "../Data/temp_export_raw/borough_290_1.csv\n",
      "../Data/temp_export_raw/borough_180.csv\n",
      "../Data/temp_export_raw/borough_220.csv\n",
      "../Data/temp_export_raw/borough_170_2.csv\n",
      "../Data/temp_export_raw/borough_130.csv\n",
      "../Data/temp_export_raw/borough_170_1.csv\n",
      "../Data/temp_export_raw/smallest_boroughs_282_105_100_164_060.csv\n",
      "total empty 548\n"
     ]
    }
   ],
   "source": [
    "def process_exports_full(file_list):\n",
    "    \n",
    "    temp_df = pd.DataFrame()\n",
    "    empty_df = pd.DataFrame()\n",
    "    \n",
    "    total_empty = set()\n",
    "    \n",
    "    for f in file_list:\n",
    "        df = pd.read_csv(f)\n",
    "        \n",
    "        mean_temp = df['temperature_2m'].fillna(df['mean_2m_air_temperature'])\n",
    "        min_temp = df['temperature_2m_min'].fillna(df['minimum_2m_air_temperature'])\n",
    "        max_temp = df['temperature_2m_max'].fillna(df['maximum_2m_air_temperature'])\n",
    "        \n",
    "        df_formatted = df[['BLOCK', \"FIPS\", 'date']]\n",
    "\n",
    "        df_formatted['min_temp'] = min_temp\n",
    "        df_formatted['mean_temp'] = mean_temp\n",
    "        df_formatted['max_temp'] = max_temp\n",
    "        \n",
    "        empty = df_formatted[df_formatted['min_temp'].isnull()]\n",
    "        \n",
    "        if empty.shape[0] != 0:\n",
    "            print(f)\n",
    "        \n",
    "        total_empty.update(empty['FIPS'].unique())\n",
    "        \n",
    "        full = df_formatted.dropna()\n",
    "        \n",
    "        \n",
    "        temp_df = pd.concat([temp_df, full])\n",
    "        empty_df = pd.concat([empty_df, empty])\n",
    "        \n",
    "    print('total empty', len(total_empty))\n",
    "    return temp_df, empty_df\n",
    "\n",
    "temp, empty = process_exports_full(file_list)"
   ]
  },
  {
   "cell_type": "markdown",
   "id": "054e6aa0",
   "metadata": {},
   "source": [
    "The above doesn't check if the empty temperature data has actually already been processed (thanks to `centroids.csv` and `previously_empty_features1.csv` and `previously_empty_features2.csv`). Do so now:"
   ]
  },
  {
   "cell_type": "code",
   "execution_count": 533,
   "id": "e78e07a0",
   "metadata": {},
   "outputs": [
    {
     "name": "stdout",
     "output_type": "stream",
     "text": [
      "the number of blocks in both empty and temp is 248 (intersection).\n",
      "the exports are for a total of 11465 blocks regardless of if temperature data was grabbed or not (union).\n",
      "the number of blocks still with empty data is 300 (difference).\n"
     ]
    }
   ],
   "source": [
    "emptyFIPS = set(empty['FIPS'].unique()) \n",
    "tempFIPS = set(temp['FIPS'].unique())\n",
    "exportFIPS = emptyFIPS.union(tempFIPS)\n",
    "\n",
    "print(\"the number of blocks in both empty and temp is\", len(emptyFIPS.intersection(tempFIPS)), \"(intersection).\")\n",
    "print(\"the exports are for a total of\", len(exportFIPS), \"blocks regardless of if temperature data was grabbed or not (union).\")\n",
    "print(\"the number of blocks still with empty data is\", len(emptyFIPS.difference(tempFIPS)), \"(difference).\")"
   ]
  },
  {
   "cell_type": "markdown",
   "id": "a76ec8ab",
   "metadata": {},
   "source": [
    "PROBLEM: the union should have the same number of FIPS as is `blocks_nonzero`"
   ]
  },
  {
   "cell_type": "code",
   "execution_count": 534,
   "id": "f71304ca",
   "metadata": {},
   "outputs": [
    {
     "data": {
      "text/plain": [
       "11765"
      ]
     },
     "execution_count": 534,
     "metadata": {},
     "output_type": "execute_result"
    }
   ],
   "source": [
    "len(blocks_nonzero['FIPS'].unique())"
   ]
  },
  {
   "cell_type": "code",
   "execution_count": 538,
   "id": "e851e216",
   "metadata": {},
   "outputs": [
    {
     "data": {
      "text/plain": [
       "300"
      ]
     },
     "execution_count": 538,
     "metadata": {},
     "output_type": "execute_result"
    }
   ],
   "source": [
    "allFIPS = set(blocks_nonzero['FIPS'])\n",
    "\n",
    "missingFIPS = allFIPS.difference(exportFIPS)"
   ]
  },
  {
   "cell_type": "code",
   "execution_count": null,
   "id": "fb11114a",
   "metadata": {},
   "outputs": [],
   "source": []
  },
  {
   "cell_type": "code",
   "execution_count": 495,
   "id": "33ea92a1",
   "metadata": {},
   "outputs": [
    {
     "data": {
      "text/plain": [
       "11276.0"
      ]
     },
     "execution_count": 495,
     "metadata": {},
     "output_type": "execute_result"
    }
   ],
   "source": [
    "temp.shape[0] / 365"
   ]
  },
  {
   "cell_type": "code",
   "execution_count": 498,
   "id": "fb7cb79f",
   "metadata": {},
   "outputs": [
    {
     "data": {
      "text/plain": [
       "11826"
      ]
     },
     "execution_count": 498,
     "metadata": {},
     "output_type": "execute_result"
    }
   ],
   "source": [
    "548 + 11278"
   ]
  },
  {
   "cell_type": "code",
   "execution_count": 437,
   "id": "1e69c442",
   "metadata": {},
   "outputs": [
    {
     "data": {
      "text/plain": [
       "0        20700001001245\n",
       "1        20700002001001\n",
       "2        20700002001018\n",
       "3        20700001001251\n",
       "4        20700002001015\n",
       "              ...      \n",
       "40510    20680001002024\n",
       "40511    20680001002039\n",
       "40512    20680001001032\n",
       "40513    20680001001012\n",
       "40514    20680001002173\n",
       "Name: FIPS, Length: 4115740, dtype: int64"
      ]
     },
     "execution_count": 437,
     "metadata": {},
     "output_type": "execute_result"
    }
   ],
   "source": [
    "temp['FIPS']"
   ]
  },
  {
   "cell_type": "code",
   "execution_count": 440,
   "id": "e45982f3",
   "metadata": {},
   "outputs": [],
   "source": [
    "blocks_nonzero['FIPS'] = blocks_nonzero['FIPS'].astype(int)"
   ]
  },
  {
   "cell_type": "code",
   "execution_count": 483,
   "id": "b0de9962",
   "metadata": {},
   "outputs": [
    {
     "name": "stdout",
     "output_type": "stream",
     "text": [
      "30\n",
      "11765\n"
     ]
    }
   ],
   "source": [
    "with_borough = pd.merge(\n",
    "    temp,\n",
    "    blocks_nonzero,\n",
    "    how=\"outer\",\n",
    "    on=['FIPS'])\n",
    "\n",
    "print(len(with_borough['BOROUGH'].unique()))\n",
    "print(len(with_borough['FIPS'].unique()))"
   ]
  },
  {
   "cell_type": "code",
   "execution_count": 484,
   "id": "34d7e7ad",
   "metadata": {},
   "outputs": [
    {
     "data": {
      "text/plain": [
       "600"
      ]
     },
     "execution_count": 484,
     "metadata": {},
     "output_type": "execute_result"
    }
   ],
   "source": [
    "empty_boroughs = with_borough[with_borough['min_temp'].isnull()]\n",
    "len(empty_boroughs['FIPS'].unique())"
   ]
  },
  {
   "cell_type": "code",
   "execution_count": 485,
   "id": "46da4cac",
   "metadata": {},
   "outputs": [
    {
     "data": {
      "text/plain": [
       "11276.0"
      ]
     },
     "execution_count": 485,
     "metadata": {},
     "output_type": "execute_result"
    }
   ],
   "source": [
    "temp.shape[0] / 365"
   ]
  },
  {
   "cell_type": "code",
   "execution_count": 505,
   "id": "f7247467",
   "metadata": {},
   "outputs": [
    {
     "data": {
      "text/plain": [
       "11165"
      ]
     },
     "execution_count": 505,
     "metadata": {},
     "output_type": "execute_result"
    }
   ],
   "source": [
    "len(temp['FIPS'].unique())"
   ]
  },
  {
   "cell_type": "code",
   "execution_count": 506,
   "id": "5a9b904e",
   "metadata": {},
   "outputs": [
    {
     "data": {
      "text/plain": [
       "548"
      ]
     },
     "execution_count": 506,
     "metadata": {},
     "output_type": "execute_result"
    }
   ],
   "source": [
    "len(empty['FIPS'].unique())"
   ]
  },
  {
   "cell_type": "code",
   "execution_count": 507,
   "id": "cfb889bd",
   "metadata": {},
   "outputs": [
    {
     "data": {
      "text/plain": [
       "11713"
      ]
     },
     "execution_count": 507,
     "metadata": {},
     "output_type": "execute_result"
    }
   ],
   "source": []
  },
  {
   "cell_type": "code",
   "execution_count": null,
   "id": "c7e6775e",
   "metadata": {},
   "outputs": [],
   "source": []
  },
  {
   "cell_type": "code",
   "execution_count": null,
   "id": "98e6d199",
   "metadata": {},
   "outputs": [],
   "source": []
  },
  {
   "cell_type": "code",
   "execution_count": null,
   "id": "0df11a85",
   "metadata": {},
   "outputs": [],
   "source": []
  },
  {
   "cell_type": "code",
   "execution_count": null,
   "id": "5f9b81b3",
   "metadata": {},
   "outputs": [],
   "source": []
  },
  {
   "cell_type": "code",
   "execution_count": null,
   "id": "3ebd9342",
   "metadata": {},
   "outputs": [],
   "source": []
  },
  {
   "cell_type": "code",
   "execution_count": null,
   "id": "230b7927",
   "metadata": {},
   "outputs": [],
   "source": [
    "#### download the result from Google drive (later change to Github submodule)\n",
    "url = \"https://drive.google.com/file/d/1T1vRS8OU1S89sfaoDCynN9BxAKRlGRPO/view?usp=drive_link\"\n",
    "output_path = \"../Data/\"\n",
    "gdown.download(url, output_path, quiet=False,fuzzy=True)"
   ]
  },
  {
   "cell_type": "code",
   "execution_count": null,
   "id": "1ee39bdb",
   "metadata": {},
   "outputs": [],
   "source": [
    "# replicating above with the full hourly data\n",
    "temp_data = pd.read_csv(\"../Data/Places Average Temp by Hourly 2022.csv\")\n",
    "temp_data.head()"
   ]
  },
  {
   "cell_type": "code",
   "execution_count": null,
   "id": "724bf002",
   "metadata": {},
   "outputs": [],
   "source": [
    "temp_data['Month'] = temp_data['system:index'].str[4:6]\n",
    "temp_data['db_temp'] = (1.8 * (temp_data['avg_air_temp']-273)) + 32\n",
    "temp_data['timestamp'] = temp_data['system:index'].str[:11].str.replace(\"T\",\"\")\n",
    "temp_data['timestamp'] = pd.to_datetime(temp_data['timestamp'], format ='%Y%m%d%H')\n",
    "data = temp_data[['FIPS','NAME','timestamp', 'db_temp', 'Month']]\n",
    "data.tail(10)"
   ]
  },
  {
   "cell_type": "code",
   "execution_count": null,
   "id": "fcabed94",
   "metadata": {},
   "outputs": [],
   "source": [
    "df = data\n",
    "df_dict = {str(g): d for g, d in df.groupby('FIPS')}"
   ]
  },
  {
   "cell_type": "code",
   "execution_count": null,
   "id": "c24dd5c6",
   "metadata": {},
   "outputs": [],
   "source": [
    "for i in df_dict:\n",
    "    df_dict[i].to_csv ('../Data/ERA5/'+ i + '.csv', index = None, header=True) "
   ]
  },
  {
   "cell_type": "code",
   "execution_count": null,
   "id": "9c9e01ca",
   "metadata": {},
   "outputs": [],
   "source": [
    "for i in df_dict:\n",
    "    df_dict[i].to_pickle ('../Data/ERA5/'+ i + '.pkl') "
   ]
  }
 ],
 "metadata": {
  "kernelspec": {
   "display_name": "Python 3 (ipykernel)",
   "language": "python",
   "name": "python3"
  },
  "language_info": {
   "codemirror_mode": {
    "name": "ipython",
    "version": 3
   },
   "file_extension": ".py",
   "mimetype": "text/x-python",
   "name": "python",
   "nbconvert_exporter": "python",
   "pygments_lexer": "ipython3",
   "version": "3.10.8"
  }
 },
 "nbformat": 4,
 "nbformat_minor": 5
}
