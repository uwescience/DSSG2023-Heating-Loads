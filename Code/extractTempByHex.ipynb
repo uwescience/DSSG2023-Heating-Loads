{
 "cells": [
  {
   "cell_type": "markdown",
   "id": "8c86f2dd",
   "metadata": {},
   "source": [
    "### ERA5 Data Extraction for Census Places"
   ]
  },
  {
   "cell_type": "code",
   "execution_count": 2,
   "id": "f135ac85",
   "metadata": {},
   "outputs": [],
   "source": [
    "import numpy as np\n",
    "import re\n",
    "import pandas as pd\n",
    "import geopandas as gpd\n",
    "import gdown\n",
    "import ee\n",
    "import google\n",
    "import os\n",
    "import geemap\n",
    "import warnings\n",
    "warnings.filterwarnings('ignore')\n",
    "\n",
    "from tobler.util import h3fy\n",
    "from ee_jupyter.ipyleaflet import Map"
   ]
  },
  {
   "cell_type": "code",
   "execution_count": 3,
   "id": "c4856b17",
   "metadata": {},
   "outputs": [
    {
     "data": {
      "text/html": [
       "<p>To authorize access needed by Earth Engine, open the following\n",
       "        URL in a web browser and follow the instructions:</p>\n",
       "        <p><a href=https://code.earthengine.google.com/client-auth?scopes=https%3A//www.googleapis.com/auth/earthengine%20https%3A//www.googleapis.com/auth/devstorage.full_control&request_id=9O3p5fn9ICFreqIKMIonIVGicnPqWA0itR4DpGkMzFs&tc=4OU0FoS028RrssTvOgDMeC3GCwO-5BubvwjsMLFucyg&cc=bxfDBEdhBJApmb-grifo5wE2a_ArhNeCIOsPmqALsSE>https://code.earthengine.google.com/client-auth?scopes=https%3A//www.googleapis.com/auth/earthengine%20https%3A//www.googleapis.com/auth/devstorage.full_control&request_id=9O3p5fn9ICFreqIKMIonIVGicnPqWA0itR4DpGkMzFs&tc=4OU0FoS028RrssTvOgDMeC3GCwO-5BubvwjsMLFucyg&cc=bxfDBEdhBJApmb-grifo5wE2a_ArhNeCIOsPmqALsSE</a></p>\n",
       "        <p>The authorization workflow will generate a code, which you should paste in the box below.</p>\n",
       "        "
      ],
      "text/plain": [
       "<IPython.core.display.HTML object>"
      ]
     },
     "metadata": {},
     "output_type": "display_data"
    },
    {
     "name": "stdout",
     "output_type": "stream",
     "text": [
      "Enter verification code: 4/1Adeu5BWGz_ArfFT0RryA5HY2wAmDpnbrsDEagyRCLZUD_OoiBz48LFP21AY\n",
      "\n",
      "Successfully saved authorization token.\n"
     ]
    }
   ],
   "source": [
    "ee.Authenticate()\n",
    "ee.Initialize()"
   ]
  },
  {
   "cell_type": "markdown",
   "id": "0b55a534",
   "metadata": {},
   "source": [
    "### Get ERA5 hourly data by h3 hexagons, resolution 5"
   ]
  },
  {
   "cell_type": "code",
   "execution_count": 4,
   "id": "d74fa3e5",
   "metadata": {},
   "outputs": [],
   "source": [
    "era5 = ee.ImageCollection(\"ECMWF/ERA5_LAND/HOURLY\")\n",
    "hourly2022 = era5.filterDate('2022-01-01', '2022-01-02').select('temperature_2m')"
   ]
  },
  {
   "cell_type": "code",
   "execution_count": 5,
   "id": "4ea9ab6e",
   "metadata": {},
   "outputs": [],
   "source": [
    "def get_ee_feature(geom):\n",
    "    x,y = geom.exterior.coords.xy\n",
    "    coords = np.dstack((x,y)).tolist()\n",
    "    g = ee.Geometry.Polygon(coords)\n",
    "    return ee.Feature(g)"
   ]
  },
  {
   "cell_type": "markdown",
   "id": "d54c91a7",
   "metadata": {},
   "source": [
    "Data source: https://catalog.data.gov/dataset/tiger-line-shapefile-2019-state-alaska-current-alaska-native-regional-corporation-anrc-state-ba"
   ]
  },
  {
   "cell_type": "code",
   "execution_count": 34,
   "id": "56e3dac7",
   "metadata": {},
   "outputs": [
    {
     "data": {
      "text/plain": [
       "7287"
      ]
     },
     "execution_count": 34,
     "metadata": {},
     "output_type": "execute_result"
    }
   ],
   "source": [
    "features.size().getInfo()"
   ]
  },
  {
   "cell_type": "code",
   "execution_count": 11,
   "id": "d8198e2f",
   "metadata": {},
   "outputs": [],
   "source": [
    "# ak shapefile\n",
    "geodf_alaska = gpd.read_file('../Data/tl_2019_02_anrc/tl_2019_02_anrc.shp')\n",
    "geodf_alaska = geodf_alaska.to_crs(epsg=3338) \n",
    "# to hexagons\n",
    "hexgrid_ak = h3fy(geodf_alaska.buffer(0.01), resolution=5)\n",
    "# to feature collection\n",
    "features = ee.FeatureCollection([get_ee_feature(x[1].geometry) for x in hexgrid_ak.iterrows()])"
   ]
  },
  {
   "cell_type": "code",
   "execution_count": 12,
   "id": "d69092a4",
   "metadata": {},
   "outputs": [
    {
     "data": {
      "text/plain": [
       "2"
      ]
     },
     "execution_count": 12,
     "metadata": {},
     "output_type": "execute_result"
    }
   ],
   "source": [
    "map1 = geemap.Map()\n",
    "\n",
    "rectangle_left = ee.Geometry.Rectangle([-200, 10, -150, 80])\n",
    "rectangle_right = ee.Geometry.Rectangle([-150, 10, -100, 80])\n",
    "\n",
    "map1.addLayer(rectangle1, {'color': \"yellow\"}, 'AK Left')\n",
    "map1.addLayer(rectangle2, {'color': 'blue'}, 'AK Right')\n",
    "\n",
    "\n",
    "map1"
   ]
  },
  {
   "cell_type": "code",
   "execution_count": 90,
   "id": "56694fb2",
   "metadata": {},
   "outputs": [
    {
     "name": "stdout",
     "output_type": "stream",
     "text": [
      "4260 4221 8481\n"
     ]
    }
   ],
   "source": [
    "filtered_features_AK_left = features.filterBounds(rectangle_left)\n",
    "filtered_features_AK_right = features.filterBounds(rectangle_right)\n",
    "\n",
    "left_size = filtered_features_AK_left.size().getInfo()\n",
    "right_size = filtered_features_AK_right.size().getInfo()\n",
    "print(left_size, right_size, left_size + right_size)"
   ]
  },
  {
   "cell_type": "code",
   "execution_count": 91,
   "id": "ee7d9688",
   "metadata": {},
   "outputs": [],
   "source": [
    "# reducer \n",
    "def reduceByFeatureLeft(image):\n",
    "  return image.reduceRegions(collection = filtered_features_AK_left,\n",
    "                             reducer = ee.Reducer.mean().setOutputs(['avg_air_temp']),\n",
    "                            scale = 11132)\n",
    "def reduceByFeatureRight(image):\n",
    "  return image.reduceRegions(collection = filtered_features_AK_right,\n",
    "                             reducer = ee.Reducer.mean().setOutputs(['avg_air_temp']),\n",
    "                            scale = 11132)"
   ]
  },
  {
   "cell_type": "code",
   "execution_count": 92,
   "id": "7f8d1908",
   "metadata": {},
   "outputs": [],
   "source": [
    "hourlyClippedLeft = hourly2022.map(lambda image: image.clipToCollection(filtered_features_AK_left))\n",
    "\n",
    "hexExportLeft = hourlyClippedLeft.map(reduceByFeatureLeft).flatten()"
   ]
  },
  {
   "cell_type": "code",
   "execution_count": 93,
   "id": "74ac085d",
   "metadata": {},
   "outputs": [],
   "source": [
    "hourlyClippedRight = hourly2022.map(lambda image: image.clipToCollection(filtered_features_AK_right))\n",
    "\n",
    "hexExportRight = hourlyClippedRight.map(reduceByFeatureRight).flatten()"
   ]
  },
  {
   "cell_type": "code",
   "execution_count": 94,
   "id": "41b4ced8",
   "metadata": {},
   "outputs": [],
   "source": [
    "task = ee.batch.Export.table.toDrive(**{\n",
    "  'collection': hexExportRight,\n",
    "  'description': 'Hexagons Average Temp by Hourly 2022 Try 6 Right',\n",
    "  'folder': 'EarthEngine',\n",
    "  'selectors': ['system:index','NAME', 'FIPS', 'avg_air_temp'], \n",
    "  'fileFormat': 'CSV'\n",
    "})\n",
    "task.start()"
   ]
  },
  {
   "cell_type": "code",
   "execution_count": 95,
   "id": "7dc49e54",
   "metadata": {},
   "outputs": [],
   "source": [
    "task = ee.batch.Export.table.toDrive(**{\n",
    "  'collection': hexExportLeft,\n",
    "  'description': 'Hexagons Average Temp by Hourly 2022 Try 6 Left',\n",
    "  'folder': 'EarthEngine',\n",
    "  'selectors': ['system:index','NAME', 'FIPS', 'avg_air_temp'], \n",
    "  'fileFormat': 'CSV'\n",
    "})\n",
    "task.start()"
   ]
  },
  {
   "cell_type": "code",
   "execution_count": 46,
   "id": "f3ecff95",
   "metadata": {},
   "outputs": [],
   "source": [
    "# # reducer \n",
    "# def reduceByFeature(image):\n",
    "#   return image.reduceRegions(collection = features,\n",
    "#                              reducer = ee.Reducer.mean().setOutputs(['avg_air_temp']),\n",
    "#                             scale = 11132)"
   ]
  },
  {
   "cell_type": "code",
   "execution_count": 47,
   "id": "7984a9c9",
   "metadata": {},
   "outputs": [],
   "source": [
    "# hourlyClipped = hourly2022.map(lambda image: image.clipToCollection(features))\n",
    "\n",
    "# hexExport = hourlyClipped.map(reduceByFeature).flatten()"
   ]
  },
  {
   "cell_type": "code",
   "execution_count": 48,
   "id": "91ccd87b",
   "metadata": {},
   "outputs": [],
   "source": [
    "# # Run with caution: expected runtime: 45m\n",
    "\n",
    "# task = ee.batch.Export.table.toDrive(**{\n",
    "#   'collection': hexExport,\n",
    "#   'description': 'Hexagons Average Temp by Hourly 2022 Clipped Try 4',\n",
    "#   'folder': 'EarthEngine',\n",
    "#   'selectors': ['system:index','NAME', 'FIPS', 'avg_air_temp'], \n",
    "#   'fileFormat': 'CSV'\n",
    "# })\n",
    "# task.start()"
   ]
  },
  {
   "cell_type": "code",
   "execution_count": 5,
   "id": "5102d5e0",
   "metadata": {},
   "outputs": [
    {
     "name": "stderr",
     "output_type": "stream",
     "text": [
      "Downloading...\n",
      "From (uriginal): https://drive.google.com/uc?id=1T1vRS8OU1S89sfaoDCynN9BxAKRlGRPO\n",
      "From (redirected): https://drive.google.com/uc?id=1T1vRS8OU1S89sfaoDCynN9BxAKRlGRPO&confirm=t&uuid=7927446a-026c-4a3f-a776-b0f4f8d038e1\n",
      "To: /Users/brianleung/Documents/Python-Projects/DSSG2023-Heating-Loads/Data/Places Average Temp by Hourly 2022.csv\n",
      "100%|██████████| 226M/226M [00:10<00:00, 21.5MB/s] \n"
     ]
    },
    {
     "data": {
      "text/plain": [
       "'../Data/Places Average Temp by Hourly 2022.csv'"
      ]
     },
     "execution_count": 5,
     "metadata": {},
     "output_type": "execute_result"
    }
   ],
   "source": [
    "# download the result from Google drive (later change to Github submodule)\n",
    "url = \"https://drive.google.com/file/d/1T1vRS8OU1S89sfaoDCynN9BxAKRlGRPO/view?usp=drive_link\"\n",
    "output_path = \"../Data/\"\n",
    "gdown.download(url, output_path, quiet=False,fuzzy=True)"
   ]
  }
 ],
 "metadata": {
  "kernelspec": {
   "display_name": "Python 3",
   "language": "python",
   "name": "python3"
  },
  "language_info": {
   "codemirror_mode": {
    "name": "ipython",
    "version": 3
   },
   "file_extension": ".py",
   "mimetype": "text/x-python",
   "name": "python",
   "nbconvert_exporter": "python",
   "pygments_lexer": "ipython3",
   "version": "3.8.8"
  }
 },
 "nbformat": 4,
 "nbformat_minor": 5
}
