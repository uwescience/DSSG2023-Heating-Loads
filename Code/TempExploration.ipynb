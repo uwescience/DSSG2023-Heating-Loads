{
 "cells": [
  {
   "cell_type": "markdown",
   "id": "8EavOIRs7UP7",
   "metadata": {
    "id": "8EavOIRs7UP7"
   },
   "source": [
    "# Imports\n"
   ]
  },
  {
   "cell_type": "code",
   "execution_count": null,
   "id": "46179f04",
   "metadata": {
    "id": "46179f04"
   },
   "outputs": [],
   "source": [
    "import warnings\n",
    "import h3\n",
    "import ee\n",
    "import google\n",
    "import os\n",
    "import folium\n",
    "\n",
    "import geopandas as gpd\n",
    "import numpy as np\n",
    "import matplotlib.pyplot as plt\n",
    "\n",
    "from shapely.geometry import Polygon\n",
    "from mpl_toolkits.axes_grid1 import make_axes_locatable\n",
    "from tobler.util import h3fy"
   ]
  },
  {
   "cell_type": "code",
   "execution_count": null,
   "id": "b8e601a2",
   "metadata": {},
   "outputs": [],
   "source": [
    "ee.Authenticate()"
   ]
  },
  {
   "cell_type": "code",
   "execution_count": null,
   "id": "8e913db2",
   "metadata": {},
   "outputs": [],
   "source": [
    "ee.Initialize()"
   ]
  },
  {
   "cell_type": "code",
   "execution_count": null,
   "id": "99a9c3b6",
   "metadata": {
    "colab": {
     "base_uri": "https://localhost:8080/"
    },
    "id": "99a9c3b6",
    "outputId": "31e608d3-b11e-4075-fb0e-8740bd5c70b2"
   },
   "outputs": [],
   "source": [
    "try:\n",
    "  import ee_jupyter\n",
    "except ModuleNotFoundError:\n",
    "  print('ee_jupyter was not found. Installing now...')\n",
    "  result = os.system('pip -q install earthengine-jupyter')\n",
    "  import ee_jupyter\n",
    "print(f'ee_jupyter (version {ee_jupyter.__version__}) '\n",
    "        f'is installed.')"
   ]
  },
  {
   "cell_type": "code",
   "execution_count": null,
   "id": "7866029f",
   "metadata": {
    "id": "7866029f"
   },
   "outputs": [],
   "source": [
    "from ee_jupyter.ipyleaflet import Map"
   ]
  },
  {
   "cell_type": "code",
   "execution_count": null,
   "id": "mEaXZh5z3i6R",
   "metadata": {
    "id": "mEaXZh5z3i6R"
   },
   "outputs": [],
   "source": [
    "warnings.filterwarnings('ignore')"
   ]
  },
  {
   "cell_type": "markdown",
   "id": "P11sLF5V7fTu",
   "metadata": {
    "id": "P11sLF5V7fTu"
   },
   "source": [
    "# Import Temperature Data and Set Up Map"
   ]
  },
  {
   "cell_type": "code",
   "execution_count": null,
   "id": "2cfb19c4",
   "metadata": {
    "id": "2cfb19c4"
   },
   "outputs": [],
   "source": [
    "# kelvin air temperature for Feburary 1, 7 AM\n",
    "kelvin_air_temp = ee.Image('ECMWF/ERA5_LAND/HOURLY/20230201T07').select('temperature_2m')\n",
    "farenheit_air_temp = kelvin_air_temp.multiply(1.8).subtract(459.67)"
   ]
  },
  {
   "cell_type": "code",
   "execution_count": null,
   "id": "78aa8cd3",
   "metadata": {
    "id": "78aa8cd3"
   },
   "outputs": [],
   "source": [
    "location_lonlat= [-134.424637, 58.301041]\n",
    "map_init_params = {\n",
    "    'center': list(reversed(location_lonlat)), # <lat,lon> ordering\n",
    "    'zoom': 3\n",
    "}\n",
    "map1 = Map(**map_init_params)"
   ]
  },
  {
   "cell_type": "code",
   "execution_count": null,
   "id": "86fc5755",
   "metadata": {
    "id": "86fc5755"
   },
   "outputs": [],
   "source": [
    "map1.addLayer(\n",
    "  kelvin_air_temp,\n",
    "  {'min': 233, 'max': 270, 'palette': ['grey', 'blue']}, # remember temperature here is in Kelvin\n",
    "  'air temperature (Kelvin)'\n",
    ")"
   ]
  },
  {
   "cell_type": "code",
   "execution_count": null,
   "id": "3235eeb0",
   "metadata": {},
   "outputs": [],
   "source": [
    "map1.addLayer(\n",
    "  farenheit_air_temp,\n",
    "  {'min': -40, 'max': 26, 'palette': ['white', 'green']}, # remember temperature here is in Farenheit\n",
    "  'air temperature (Farenheit)'\n",
    ")"
   ]
  },
  {
   "cell_type": "markdown",
   "id": "VKCU2qdy7r6e",
   "metadata": {
    "id": "VKCU2qdy7r6e"
   },
   "source": [
    "# Census Tract (2020)"
   ]
  },
  {
   "cell_type": "code",
   "execution_count": null,
   "id": "19a0a18b",
   "metadata": {
    "id": "19a0a18b"
   },
   "outputs": [],
   "source": [
    "tracts_feature = ee.FeatureCollection(\"TIGER/2020/TRACT\")\n",
    "ak_tracts = tracts_feature.filter(ee.Filter.equals('STATEFP', '02'))"
   ]
  },
  {
   "cell_type": "code",
   "execution_count": null,
   "id": "mlgQcV2W-OQ2",
   "metadata": {
    "colab": {
     "base_uri": "https://localhost:8080/"
    },
    "id": "mlgQcV2W-OQ2",
    "outputId": "98bb2313-30ee-4ff1-bbf2-8b1f2157d0a4"
   },
   "outputs": [],
   "source": [
    "ak_tracts.size().getInfo()"
   ]
  },
  {
   "cell_type": "code",
   "execution_count": null,
   "id": "5a1cef0b",
   "metadata": {
    "id": "5a1cef0b"
   },
   "outputs": [],
   "source": [
    "style = {'color': '0000ffff', 'width': 2, 'lineType': 'solid', 'fillColor': '00000080'}\n",
    "map1.addLayer(ak_tracts.style(**style), {}, \"Census Tracts\")"
   ]
  },
  {
   "cell_type": "code",
   "execution_count": null,
   "id": "95b637b2",
   "metadata": {
    "colab": {
     "base_uri": "https://localhost:8080/",
     "height": 441,
     "referenced_widgets": [
      "2179fdbef14c47eebff6dac5f88379bb",
      "5cc0c6b870d64b558bed094f3511e494",
      "187087a6e69c4d9482d5e5552a4777af",
      "041079e6017844bfa8c247a0408b18fd",
      "dcebe5eda4084850ad327963962283b5",
      "a571f71baddf4fc0aeeced9846a06450",
      "d01eaabf38c743929b886eb4b44152f8",
      "113c3d1cfcc8405492c803798f12182d",
      "fb00752aa0644be2920ee2629929529b",
      "77762c3d30ed47e184a7f78bc25b776e",
      "a1efff705bc542ce8c2680a900f2414f"
     ]
    },
    "id": "95b637b2",
    "outputId": "d9c384e3-b34f-41d8-cd78-c517ac4dfeb4"
   },
   "outputs": [],
   "source": [
    "map1"
   ]
  },
  {
   "cell_type": "code",
   "execution_count": null,
   "id": "0c843aa3",
   "metadata": {
    "id": "0c843aa3"
   },
   "outputs": [],
   "source": [
    "reduced_temp_tract = kelvin_air_temp.reduceRegions(ak_tracts, ee.Reducer.mean())"
   ]
  },
  {
   "cell_type": "code",
   "execution_count": null,
   "id": "fabd1d53",
   "metadata": {
    "colab": {
     "base_uri": "https://localhost:8080/"
    },
    "id": "fabd1d53",
    "outputId": "87e348ef-fdbb-4fb7-ea0b-21d9b0f14b2e"
   },
   "outputs": [],
   "source": [
    "print(type(reduced_temp_tract))\n",
    "print(type(reduced_temp_tract.first()))\n",
    "# find the smallest and biggest man temperature across alaska for this time period\n",
    "print(reduced_temp_tract.aggregate_max('mean').getInfo())\n",
    "print(reduced_temp_tract.aggregate_min('mean').getInfo())"
   ]
  },
  {
   "cell_type": "code",
   "execution_count": null,
   "id": "-HpqqqzEJjQ4",
   "metadata": {
    "id": "-HpqqqzEJjQ4"
   },
   "outputs": [],
   "source": [
    "tract_map = Map(**map_init_params)\n",
    "\n",
    "empty = ee.Image().byte()\n",
    "fills_tract = empty.paint(\n",
    "  featureCollection = reduced_temp_tract,\n",
    "  color = 'mean',\n",
    ")\n",
    "tract_map.addLayer(fills_tract, {'palette': ['white', 'red'], 'min': 247, 'max': 277.5}, 'mean temp by census tract')"
   ]
  },
  {
   "cell_type": "code",
   "execution_count": null,
   "id": "L1-7xcnGwchH",
   "metadata": {
    "colab": {
     "base_uri": "https://localhost:8080/",
     "height": 441,
     "referenced_widgets": [
      "ca932c2f06a64008aae70f6b4c3fe4f7",
      "5cf38c8b82af4379a0be6a39133962b6",
      "f5daf509968c4753b0c18534bb64707b",
      "aa698678dfc6468b8181181fa431e2a0",
      "3d68772977bc424992cbacc117625eec",
      "88bc16910c554f7b98b83673c8bea4ef",
      "ee2142e7bcf14f9fb36aa7272a3154ec",
      "48d31a01ea854ecd87487e79d6b18e5b",
      "62198f38a81b4506a8f21f0728bc0f1b",
      "ce1cb320559c4ba79a16b63099f6ae24"
     ]
    },
    "id": "L1-7xcnGwchH",
    "outputId": "3503306e-9e7a-413a-eba0-e121ffa05865"
   },
   "outputs": [],
   "source": [
    "tract_map"
   ]
  },
  {
   "cell_type": "code",
   "execution_count": null,
   "id": "QDlud-7ZH-Mc",
   "metadata": {
    "id": "QDlud-7ZH-Mc"
   },
   "outputs": [],
   "source": [
    "task = ee.batch.Export.table.toDrive(**{\n",
    "  'collection': reduced_temp_tract,\n",
    "  'description': 'Tract Average Temp',\n",
    "  'folder': 'EarthEngine',\n",
    "  'fileFormat': 'CSV'\n",
    "})\n",
    "task.start()"
   ]
  },
  {
   "cell_type": "markdown",
   "id": "hHZ09HqX7Snb",
   "metadata": {
    "id": "hHZ09HqX7Snb"
   },
   "source": [
    "# Census Boroughs (2018)"
   ]
  },
  {
   "cell_type": "code",
   "execution_count": null,
   "id": "1EhKZbRk81bd",
   "metadata": {
    "id": "1EhKZbRk81bd"
   },
   "outputs": [],
   "source": [
    "census_boroughs = ee.FeatureCollection(\"TIGER/2018/Counties\")\n",
    "ak_boroughs = census_boroughs.filter(ee.Filter.equals('STATEFP', '02'))"
   ]
  },
  {
   "cell_type": "code",
   "execution_count": null,
   "id": "OT9Sdfds8AAi",
   "metadata": {
    "colab": {
     "base_uri": "https://localhost:8080/"
    },
    "id": "OT9Sdfds8AAi",
    "outputId": "c13eb2a1-1c8c-4a86-e3b2-62873862f459"
   },
   "outputs": [],
   "source": [
    "ak_boroughs.size().getInfo()"
   ]
  },
  {
   "cell_type": "code",
   "execution_count": null,
   "id": "Qmx2koTZ8a8S",
   "metadata": {
    "id": "Qmx2koTZ8a8S"
   },
   "outputs": [],
   "source": [
    "reduced_temp_borough = kelvin_air_temp.reduceRegions(ak_tracts, ee.Reducer.mean())"
   ]
  },
  {
   "cell_type": "code",
   "execution_count": null,
   "id": "Jqd53n-_8wVh",
   "metadata": {
    "id": "Jqd53n-_8wVh"
   },
   "outputs": [],
   "source": [
    "borough_map = Map(**map_init_params)\n",
    "\n",
    "empty = ee.Image().byte()\n",
    "fills_borough = empty.paint(\n",
    "  featureCollection = reduced_temp_borough,\n",
    "  color = 'mean',\n",
    ")\n",
    "borough_map.addLayer(fills_borough, {'palette': ['white', 'red'], 'min': 247, 'max': 277.5}, 'mean temp by borough')"
   ]
  },
  {
   "cell_type": "code",
   "execution_count": null,
   "id": "gp4aJnPN86JC",
   "metadata": {
    "colab": {
     "base_uri": "https://localhost:8080/",
     "height": 441,
     "referenced_widgets": [
      "fb04f8abb2f24921b4485183efc09930",
      "4409a2dc67054768b42398741e1c77b8",
      "080c7e04380b4e01b50e6f89fe922ed2",
      "18bf2847df214e88a261aedbbb293854",
      "0b1ca3b0b8de49aabd39030fe9a612fb",
      "02a79df6a6ef472fb9ff8f7f141c02b1",
      "8f492783687e4b78ac4f93412309282d",
      "da98757de9e64e8e8064280d667bdc14",
      "26ddc5734cdb46068f8f8dcbd0e3b065",
      "249539a852a047d6ba5bb47c5bf29cfd"
     ]
    },
    "id": "gp4aJnPN86JC",
    "outputId": "78aaea8c-d56f-4982-cd3f-653a107029fe"
   },
   "outputs": [],
   "source": [
    "borough_map"
   ]
  },
  {
   "cell_type": "code",
   "execution_count": null,
   "id": "A3rF4FwsH4cI",
   "metadata": {
    "id": "A3rF4FwsH4cI"
   },
   "outputs": [],
   "source": [
    "task = ee.batch.Export.table.toDrive(**{\n",
    "  'collection': reduced_temp_borough,\n",
    "  'description': 'Borough Average Temp',\n",
    "  'folder': 'EarthEngine',\n",
    "  'fileFormat': 'CSV'\n",
    "})\n",
    "task.start()"
   ]
  },
  {
   "cell_type": "markdown",
   "id": "O9RvdFOu9JMx",
   "metadata": {
    "id": "O9RvdFOu9JMx"
   },
   "source": [
    "# Census Block Groups (2020)\n",
    "\n",
    "This is a little slower than the above calculations, but not too bad."
   ]
  },
  {
   "cell_type": "code",
   "execution_count": null,
   "id": "jFZ_hTlS87oW",
   "metadata": {
    "colab": {
     "base_uri": "https://localhost:8080/"
    },
    "id": "jFZ_hTlS87oW",
    "outputId": "5b3c4387-2c24-4c26-9ca1-4b08e547af7b"
   },
   "outputs": [],
   "source": [
    "census_bg = ee.FeatureCollection(\"TIGER/2020/BG\")\n",
    "ak_bg = census_bg.filter(ee.Filter.equals('STATEFP', '02'))\n",
    "ak_bg.size().getInfo()"
   ]
  },
  {
   "cell_type": "code",
   "execution_count": null,
   "id": "3eROr68G9RfP",
   "metadata": {
    "id": "3eROr68G9RfP"
   },
   "outputs": [],
   "source": [
    "reduced_temp_bg = kelvin_air_temp.reduceRegions(ak_bg, ee.Reducer.mean())"
   ]
  },
  {
   "cell_type": "code",
   "execution_count": null,
   "id": "oJy5gua_9di0",
   "metadata": {
    "id": "oJy5gua_9di0"
   },
   "outputs": [],
   "source": [
    "bg_map = Map(**map_init_params)\n",
    "\n",
    "empty = ee.Image().byte()\n",
    "fills_bg = empty.paint(\n",
    "  featureCollection = reduced_temp_bg,\n",
    "  color = 'mean',\n",
    ")\n",
    "bg_map.addLayer(fills_bg, {'palette': ['white', 'red'], 'min': 247, 'max': 277.5}, 'mean temp by census block group')"
   ]
  },
  {
   "cell_type": "code",
   "execution_count": null,
   "id": "nzjRLc7y9mFJ",
   "metadata": {
    "colab": {
     "base_uri": "https://localhost:8080/",
     "height": 441,
     "referenced_widgets": [
      "5535e7ce59fc43eab2894fe992e5c0f4",
      "ff471c69e9404a2f8b4ca3294110e468",
      "f5c1caa0c8a5497db1afdd52adfca336",
      "587049bc91a448cea556abf2264d6182",
      "cb3818eef2c64147a50c992e4ae559d8",
      "a6371c54f65748b390978bc13f34baa0",
      "b809f9b88daa4de5b9f4fc7465c930c0",
      "0a9238509d1741d8849e12a2ffb01c01",
      "902bf14099ab456aa4335cec0a1f88f9",
      "049d65b348604197a848feec05d560ce"
     ]
    },
    "id": "nzjRLc7y9mFJ",
    "outputId": "9a39b9df-0b77-4bf2-9b87-189cd62bbc58"
   },
   "outputs": [],
   "source": [
    "bg_map"
   ]
  },
  {
   "cell_type": "code",
   "execution_count": null,
   "id": "EAwLKrOO_y4M",
   "metadata": {
    "id": "EAwLKrOO_y4M"
   },
   "outputs": [],
   "source": [
    "task = ee.batch.Export.table.toDrive(**{\n",
    "  'collection': reduced_temp_bg,\n",
    "  'description': 'Block Group Average Temp',\n",
    "  'folder': 'EarthEngine',\n",
    "  'fileFormat': 'CSV'\n",
    "})\n",
    "task.start()"
   ]
  },
  {
   "cell_type": "markdown",
   "id": "RSPZ0R_fLcuq",
   "metadata": {
    "id": "RSPZ0R_fLcuq"
   },
   "source": [
    "# Hexagons!!"
   ]
  },
  {
   "cell_type": "code",
   "execution_count": null,
   "id": "upE6zw4euz1g",
   "metadata": {
    "id": "upE6zw4euz1g"
   },
   "outputs": [],
   "source": [
    "latitude_fairbanks = 64.837776\n",
    "longitude_fairbanks = -147.716385\n",
    "hex_id = h3.geo_to_h3(latitude_fairbanks, longitude_fairbanks, resolution=4)\n",
    "geometry = Polygon(h3.h3_to_geo_boundary(hex_id, geo_json=True))"
   ]
  },
  {
   "cell_type": "code",
   "execution_count": null,
   "id": "tpc0rR-WLir4",
   "metadata": {
    "colab": {
     "base_uri": "https://localhost:8080/",
     "height": 660
    },
    "id": "tpc0rR-WLir4",
    "outputId": "fedc57c1-94e2-4116-c3c8-de6e76eb7cea"
   },
   "outputs": [],
   "source": [
    "# get the following shape file from\n",
    "# https://live.laborstats.alaska.gov/cen/maps/gis/Boroughs2020.zip\n",
    "# hosted at\n",
    "# https://live.laborstats.alaska.gov/cen/maps-gis\n",
    "\n",
    "geodf = gpd.read_file('../DSSG2023-Heating-Loads-Data/shapefiles/Boroughs2020/Boroughs2020.shp')\n",
    "hexgrid_res5 = h3fy(geodf.buffer(0.01), resolution=5)\n",
    "hexgrid_res5.plot(figsize=(15,15))"
   ]
  },
  {
   "cell_type": "code",
   "execution_count": null,
   "id": "Pa0RZ9ADLMoR",
   "metadata": {
    "colab": {
     "base_uri": "https://localhost:8080/",
     "height": 666
    },
    "id": "Pa0RZ9ADLMoR",
    "outputId": "c5cdecb1-305d-4c2e-e0a4-109a32cc72eb"
   },
   "outputs": [],
   "source": [
    "hexgrid_res4 = h3fy(geodf.buffer(0.01), resolution=4)\n",
    "hexgrid_res4.plot(figsize=(15,15))"
   ]
  },
  {
   "cell_type": "code",
   "execution_count": null,
   "id": "sABHs7_UOLBa",
   "metadata": {
    "colab": {
     "base_uri": "https://localhost:8080/"
    },
    "id": "sABHs7_UOLBa",
    "outputId": "361b9e86-1aed-4f64-bce1-687c2361ad0e"
   },
   "outputs": [],
   "source": [
    "hexgrid_res4.size"
   ]
  },
  {
   "cell_type": "code",
   "execution_count": null,
   "id": "Gtvw7A3rOUf8",
   "metadata": {
    "colab": {
     "base_uri": "https://localhost:8080/"
    },
    "id": "Gtvw7A3rOUf8",
    "outputId": "8c58097d-1c44-45e3-a4a9-bca1352320bb"
   },
   "outputs": [],
   "source": [
    "hexgrid_res5.size"
   ]
  },
  {
   "cell_type": "code",
   "execution_count": null,
   "id": "ELDcy30oPGSB",
   "metadata": {
    "id": "ELDcy30oPGSB"
   },
   "outputs": [],
   "source": [
    "geodf = geodf.to_crs(4326)\n",
    "hexgrid_res5_4326 = h3fy(geodf.buffer(0.01), resolution=5)\n",
    "hexgrid_res4_4326 = h3fy(geodf.buffer(0.01), resolution=4)"
   ]
  },
  {
   "cell_type": "code",
   "execution_count": null,
   "id": "Z3qyTZ78My4-",
   "metadata": {
    "id": "Z3qyTZ78My4-"
   },
   "outputs": [],
   "source": [
    "def get_ee_feature(geom):\n",
    "    x,y = geom.exterior.coords.xy\n",
    "    coords = np.dstack((x,y)).tolist()\n",
    "    g = ee.Geometry.Polygon(coords)\n",
    "    return ee.Feature(g)\n",
    "features5 = ee.FeatureCollection([get_ee_feature(x[1].geometry) for x in hexgrid_res5_4326.iterrows()])\n",
    "features4 = ee.FeatureCollection([get_ee_feature(x[1].geometry) for x in hexgrid_res4_4326.iterrows()])"
   ]
  },
  {
   "cell_type": "code",
   "execution_count": null,
   "id": "yie5r_rmN8sb",
   "metadata": {
    "id": "yie5r_rmN8sb"
   },
   "outputs": [],
   "source": [
    "image_collection = ee.ImageCollection(\"ECMWF/ERA5_LAND/MONTHLY\")\n",
    "image = image_collection.filterDate('2012-01-01', '2022-12-31').select('temperature_2m').mean().multiply(1.8).subtract(459.67)\n"
   ]
  },
  {
   "cell_type": "code",
   "execution_count": null,
   "id": "kPw__7aHRI3O",
   "metadata": {
    "colab": {
     "base_uri": "https://localhost:8080/"
    },
    "id": "kPw__7aHRI3O",
    "outputId": "14f2a2d9-bc7c-4c78-8c2a-80346b6b4935"
   },
   "outputs": [],
   "source": [
    "image.reduceRegions(collection=features4, reducer=ee.Reducer.mean(), scale=11132, tileScale=1).size().getInfo()"
   ]
  },
  {
   "cell_type": "code",
   "execution_count": null,
   "id": "UPBoNzbGOGzt",
   "metadata": {
    "id": "UPBoNzbGOGzt"
   },
   "outputs": [],
   "source": [
    "zone_stats4 = image.reduceRegions(collection=features4, reducer=ee.Reducer.mean(), scale=11132, tileScale=1).getInfo()\n",
    "zone_stats4 = gpd.GeoDataFrame.from_features(zone_stats4, crs='epsg:4326')\n",
    "zone_stats4_3338 = zone_stats4.to_crs(3338)\n"
   ]
  },
  {
   "cell_type": "code",
   "execution_count": null,
   "id": "ZzG0U6zvOLMX",
   "metadata": {
    "colab": {
     "base_uri": "https://localhost:8080/",
     "height": 133
    },
    "id": "ZzG0U6zvOLMX",
    "outputId": "536b1482-cb1e-46dd-f6f0-87119e025a26"
   },
   "outputs": [],
   "source": [
    "# the following plot is wacky due to CRS; Alaska crosses the international date line\n",
    "fig, ax = plt.subplots(figsize=(15,15))\n",
    "\n",
    "# Define the legend axis\n",
    "divider = make_axes_locatable(ax)\n",
    "cax = divider.append_axes(\"right\", size=\"5%\",  pad=0.1)\n",
    "\n",
    "# Plot the U.S. map with hexagons, where the colour represents the mean air temperature\n",
    "zone_stats4.plot(column='mean', ax=ax, cmap='OrRd', legend=True, cax=cax)\n",
    "\n",
    "# Customise the legend\n",
    "cax.minorticks_on()\n",
    "cax.tick_params(which='major', direction='in', length=18, width=2, labelsize=24)\n",
    "cax.tick_params(which='minor', direction='in', length=12, width=2, labelsize=24)\n",
    "cax.set_title('Temperature (K)', fontsize=24)\n",
    "\n",
    "# Turn the x-axis and y-axis off\n",
    "ax.set_axis_off()"
   ]
  },
  {
   "cell_type": "code",
   "execution_count": null,
   "id": "17mMqFzF56La",
   "metadata": {
    "id": "17mMqFzF56La"
   },
   "outputs": [],
   "source": [
    "zone_stats4_3338 = zone_stats4.to_crs(3338)"
   ]
  },
  {
   "cell_type": "code",
   "execution_count": null,
   "id": "HT5Lgyq-OqxL",
   "metadata": {
    "colab": {
     "base_uri": "https://localhost:8080/",
     "height": 587
    },
    "id": "HT5Lgyq-OqxL",
    "outputId": "f9ea7491-bd9b-49cd-a45f-63cf3182cbcc"
   },
   "outputs": [],
   "source": [
    "fig, ax = plt.subplots(figsize=(15,15))\n",
    "\n",
    "# Define the legend axis\n",
    "divider = make_axes_locatable(ax)\n",
    "cax = divider.append_axes(\"right\", size=\"5%\",  pad=0.1)\n",
    "\n",
    "# Plot the U.S. map with hexagons, where the colour represents the mean air temperature\n",
    "zone_stats4_3338.plot(column='mean', ax=ax, cmap='OrRd', legend=True, cax=cax)\n",
    "\n",
    "# Customise the legend\n",
    "cax.minorticks_on()\n",
    "cax.tick_params(which='major', direction='in', length=18, width=2, labelsize=24)\n",
    "cax.tick_params(which='minor', direction='in', length=12, width=2, labelsize=24)\n",
    "cax.set_title('Temperature (K)', fontsize=24)\n",
    "\n",
    "# Turn the x-axis and y-axis off\n",
    "ax.set_axis_off()"
   ]
  },
  {
   "cell_type": "markdown",
   "id": "c2d27ad9",
   "metadata": {},
   "source": [
    "Visualizing Resolution 5 is not possible due to the number of hexagons."
   ]
  },
  {
   "cell_type": "code",
   "execution_count": null,
   "id": "CE2CzKYckV9F",
   "metadata": {
    "id": "CE2CzKYckV9F"
   },
   "outputs": [],
   "source": [
    "temp_map = zone_stats4_3338.explore(column='mean', name='Mean Temperature', cmap='OrRd', \n",
    "                              style_kwds={'opacity':0.4, 'color':'black', 'opacity':0.2}, \n",
    "                              highlight_kwds={'fillOpacity':1}, \n",
    "                              tooltip_kwds={'aliases':['Temperature']}, \n",
    "                              legend_kwds={'caption':'Mean Temperature (F)'})\n",
    "\n",
    "# Add layer control to the map\n",
    "folium.TileLayer('cartodbdark_matter',overlay=True,name=\"View in Dark Mode\").add_to(temp_map)\n",
    "folium.TileLayer('cartodbpositron',overlay=True,name=\"View in Light Mode\").add_to(temp_map)\n",
    "folium.LayerControl(collapsed=False).add_to(temp_map)\n",
    "\n",
    "temp_map"
   ]
  }
 ],
 "metadata": {
  "colab": {
   "provenance": []
  },
  "kernelspec": {
   "display_name": "Python 3 (ipykernel)",
   "language": "python",
   "name": "python3"
  },
  "language_info": {
   "codemirror_mode": {
    "name": "ipython",
    "version": 3
   },
   "file_extension": ".py",
   "mimetype": "text/x-python",
   "name": "python",
   "nbconvert_exporter": "python",
   "pygments_lexer": "ipython3",
   "version": "3.10.8"
  },
  "widgets": {
   "application/vnd.jupyter.widget-state+json": {
    "02a79df6a6ef472fb9ff8f7f141c02b1": {
     "model_module": "jupyter-leaflet",
     "model_module_version": "^0.17",
     "model_name": "LeafletMapStyleModel",
     "state": {
      "_model_module": "jupyter-leaflet",
      "_model_module_version": "^0.17",
      "_model_name": "LeafletMapStyleModel",
      "_view_count": null,
      "_view_module": "@jupyter-widgets/base",
      "_view_module_version": "1.2.0",
      "_view_name": "StyleView",
      "cursor": "move"
     }
    },
    "041079e6017844bfa8c247a0408b18fd": {
     "model_module": "jupyter-leaflet",
     "model_module_version": "^0.17",
     "model_name": "LeafletLayersControlModel",
     "state": {
      "_model_module": "jupyter-leaflet",
      "_model_module_version": "^0.17",
      "_model_name": "LeafletLayersControlModel",
      "_view_count": null,
      "_view_module": "jupyter-leaflet",
      "_view_module_version": "^0.17",
      "_view_name": "LeafletLayersControlView",
      "options": [
       "position"
      ],
      "position": "topright"
     }
    },
    "049d65b348604197a848feec05d560ce": {
     "model_module": "jupyter-leaflet",
     "model_module_version": "^0.17",
     "model_name": "LeafletMapStyleModel",
     "state": {
      "_model_module": "jupyter-leaflet",
      "_model_module_version": "^0.17",
      "_model_name": "LeafletMapStyleModel",
      "_view_count": null,
      "_view_module": "@jupyter-widgets/base",
      "_view_module_version": "1.2.0",
      "_view_name": "StyleView",
      "cursor": "grab"
     }
    },
    "080c7e04380b4e01b50e6f89fe922ed2": {
     "model_module": "jupyter-leaflet",
     "model_module_version": "^0.17",
     "model_name": "LeafletAttributionControlModel",
     "state": {
      "_model_module": "jupyter-leaflet",
      "_model_module_version": "^0.17",
      "_model_name": "LeafletAttributionControlModel",
      "_view_count": null,
      "_view_module": "jupyter-leaflet",
      "_view_module_version": "^0.17",
      "_view_name": "LeafletAttributionControlView",
      "options": [
       "position",
       "prefix"
      ],
      "position": "bottomright",
      "prefix": "ipyleaflet"
     }
    },
    "0a9238509d1741d8849e12a2ffb01c01": {
     "model_module": "jupyter-leaflet",
     "model_module_version": "^0.17",
     "model_name": "LeafletTileLayerModel",
     "state": {
      "_model_module": "jupyter-leaflet",
      "_model_module_version": "^0.17",
      "_model_name": "LeafletTileLayerModel",
      "_view_count": null,
      "_view_module": "jupyter-leaflet",
      "_view_module_version": "^0.17",
      "_view_name": "LeafletTileLayerView",
      "attribution": null,
      "base": false,
      "bottom": true,
      "bounds": null,
      "detect_retina": false,
      "loading": false,
      "max_native_zoom": null,
      "max_zoom": 18,
      "min_native_zoom": null,
      "min_zoom": 0,
      "name": "mean temp by census block group",
      "no_wrap": false,
      "opacity": 1,
      "options": [
       "attribution",
       "bounds",
       "detect_retina",
       "max_native_zoom",
       "max_zoom",
       "min_native_zoom",
       "min_zoom",
       "no_wrap",
       "tile_size",
       "tms",
       "zoom_offset"
      ],
      "pane": "",
      "popup": null,
      "popup_max_height": null,
      "popup_max_width": 300,
      "popup_min_width": 50,
      "show_loading": false,
      "subitems": [],
      "tile_size": 256,
      "tms": false,
      "url": "https://earthengine.googleapis.com/v1alpha/projects/earthengine-legacy/maps/cfa8dfa40720f1471ba704767f8ad0ff-fc31e8a832027565c0960674708a9fc7/tiles/{z}/{x}/{y}",
      "visible": true,
      "zoom_offset": 0
     }
    },
    "0b1ca3b0b8de49aabd39030fe9a612fb": {
     "model_module": "jupyter-leaflet",
     "model_module_version": "^0.17",
     "model_name": "LeafletMapStyleModel",
     "state": {
      "_model_module": "jupyter-leaflet",
      "_model_module_version": "^0.17",
      "_model_name": "LeafletMapStyleModel",
      "_view_count": null,
      "_view_module": "@jupyter-widgets/base",
      "_view_module_version": "1.2.0",
      "_view_name": "StyleView",
      "cursor": "crosshair"
     }
    },
    "113c3d1cfcc8405492c803798f12182d": {
     "model_module": "jupyter-leaflet",
     "model_module_version": "^0.17",
     "model_name": "LeafletTileLayerModel",
     "state": {
      "_model_module": "jupyter-leaflet",
      "_model_module_version": "^0.17",
      "_model_name": "LeafletTileLayerModel",
      "_view_count": null,
      "_view_module": "jupyter-leaflet",
      "_view_module_version": "^0.17",
      "_view_name": "LeafletTileLayerView",
      "attribution": null,
      "base": false,
      "bottom": true,
      "bounds": null,
      "detect_retina": false,
      "loading": false,
      "max_native_zoom": null,
      "max_zoom": 18,
      "min_native_zoom": null,
      "min_zoom": 0,
      "name": "air temperature (custom palette)",
      "no_wrap": false,
      "opacity": 1,
      "options": [
       "attribution",
       "bounds",
       "detect_retina",
       "max_native_zoom",
       "max_zoom",
       "min_native_zoom",
       "min_zoom",
       "no_wrap",
       "tile_size",
       "tms",
       "zoom_offset"
      ],
      "pane": "",
      "popup": null,
      "popup_max_height": null,
      "popup_max_width": 300,
      "popup_min_width": 50,
      "show_loading": false,
      "subitems": [],
      "tile_size": 256,
      "tms": false,
      "url": "https://earthengine.googleapis.com/v1alpha/projects/earthengine-legacy/maps/e7be904f992d96a91f1a9c7de4720743-64cf1aabe9cc4f46e6052a8e8ec1aabe/tiles/{z}/{x}/{y}",
      "visible": true,
      "zoom_offset": 0
     }
    },
    "187087a6e69c4d9482d5e5552a4777af": {
     "model_module": "jupyter-leaflet",
     "model_module_version": "^0.17",
     "model_name": "LeafletAttributionControlModel",
     "state": {
      "_model_module": "jupyter-leaflet",
      "_model_module_version": "^0.17",
      "_model_name": "LeafletAttributionControlModel",
      "_view_count": null,
      "_view_module": "jupyter-leaflet",
      "_view_module_version": "^0.17",
      "_view_name": "LeafletAttributionControlView",
      "options": [
       "position",
       "prefix"
      ],
      "position": "bottomright",
      "prefix": "ipyleaflet"
     }
    },
    "18bf2847df214e88a261aedbbb293854": {
     "model_module": "jupyter-leaflet",
     "model_module_version": "^0.17",
     "model_name": "LeafletLayersControlModel",
     "state": {
      "_model_module": "jupyter-leaflet",
      "_model_module_version": "^0.17",
      "_model_name": "LeafletLayersControlModel",
      "_view_count": null,
      "_view_module": "jupyter-leaflet",
      "_view_module_version": "^0.17",
      "_view_name": "LeafletLayersControlView",
      "options": [
       "position"
      ],
      "position": "topright"
     }
    },
    "2179fdbef14c47eebff6dac5f88379bb": {
     "model_module": "jupyter-leaflet",
     "model_module_version": "^0.17",
     "model_name": "LeafletMapModel",
     "state": {
      "_dom_classes": [],
      "_model_module": "jupyter-leaflet",
      "_model_module_version": "^0.17",
      "_model_name": "LeafletMapModel",
      "_view_count": null,
      "_view_module": "jupyter-leaflet",
      "_view_module_version": "^0.17",
      "_view_name": "LeafletMapView",
      "bottom": 814,
      "bounce_at_zoom_limits": true,
      "box_zoom": true,
      "center": [
       58.301041,
       -134.424637
      ],
      "close_popup_on_click": true,
      "controls": [
       "IPY_MODEL_5cc0c6b870d64b558bed094f3511e494",
       "IPY_MODEL_187087a6e69c4d9482d5e5552a4777af",
       "IPY_MODEL_041079e6017844bfa8c247a0408b18fd"
      ],
      "crs": {
       "custom": false,
       "name": "EPSG3857"
      },
      "default_style": "IPY_MODEL_dcebe5eda4084850ad327963962283b5",
      "double_click_zoom": true,
      "dragging": true,
      "dragging_style": "IPY_MODEL_a571f71baddf4fc0aeeced9846a06450",
      "east": -38.67187500000001,
      "fullscreen": false,
      "inertia": true,
      "inertia_deceleration": 3000,
      "inertia_max_speed": 1500,
      "interpolation": "bilinear",
      "keyboard": true,
      "keyboard_pan_offset": 80,
      "keyboard_zoom_offset": 1,
      "layers": [
       "IPY_MODEL_d01eaabf38c743929b886eb4b44152f8",
       "IPY_MODEL_113c3d1cfcc8405492c803798f12182d",
       "IPY_MODEL_fb00752aa0644be2920ee2629929529b"
      ],
      "layout": "IPY_MODEL_77762c3d30ed47e184a7f78bc25b776e",
      "left": -285,
      "max_zoom": null,
      "min_zoom": null,
      "modisdate": "2023-07-11",
      "north": 72.50172235139388,
      "options": [
       "bounce_at_zoom_limits",
       "box_zoom",
       "center",
       "close_popup_on_click",
       "double_click_zoom",
       "dragging",
       "fullscreen",
       "inertia",
       "inertia_deceleration",
       "inertia_max_speed",
       "interpolation",
       "keyboard",
       "keyboard_pan_offset",
       "keyboard_zoom_offset",
       "max_zoom",
       "min_zoom",
       "prefer_canvas",
       "scroll_wheel_zoom",
       "tap",
       "tap_tolerance",
       "touch_zoom",
       "world_copy_jump",
       "zoom",
       "zoom_animation_threshold",
       "zoom_delta",
       "zoom_snap"
      ],
      "panes": {},
      "prefer_canvas": false,
      "right": 804,
      "scroll_wheel_zoom": false,
      "south": 34.59704151614417,
      "style": "IPY_MODEL_a1efff705bc542ce8c2680a900f2414f",
      "tap": true,
      "tap_tolerance": 15,
      "top": 414,
      "touch_zoom": true,
      "west": -230.09765625000003,
      "window_url": "https://g79ehi5675s-496ff2e9c6d22116-0-colab.googleusercontent.com/outputframe.html?vrz=colab-20230707-060141-RC00_546237046",
      "world_copy_jump": false,
      "zoom": 3,
      "zoom_animation_threshold": 4,
      "zoom_delta": 1,
      "zoom_snap": 1
     }
    },
    "249539a852a047d6ba5bb47c5bf29cfd": {
     "model_module": "jupyter-leaflet",
     "model_module_version": "^0.17",
     "model_name": "LeafletMapStyleModel",
     "state": {
      "_model_module": "jupyter-leaflet",
      "_model_module_version": "^0.17",
      "_model_name": "LeafletMapStyleModel",
      "_view_count": null,
      "_view_module": "@jupyter-widgets/base",
      "_view_module_version": "1.2.0",
      "_view_name": "StyleView",
      "cursor": "grab"
     }
    },
    "26ddc5734cdb46068f8f8dcbd0e3b065": {
     "model_module": "@jupyter-widgets/base",
     "model_module_version": "1.2.0",
     "model_name": "LayoutModel",
     "state": {
      "_model_module": "@jupyter-widgets/base",
      "_model_module_version": "1.2.0",
      "_model_name": "LayoutModel",
      "_view_count": null,
      "_view_module": "@jupyter-widgets/base",
      "_view_module_version": "1.2.0",
      "_view_name": "LayoutView",
      "align_content": null,
      "align_items": null,
      "align_self": null,
      "border": null,
      "bottom": null,
      "display": null,
      "flex": null,
      "flex_flow": null,
      "grid_area": null,
      "grid_auto_columns": null,
      "grid_auto_flow": null,
      "grid_auto_rows": null,
      "grid_column": null,
      "grid_gap": null,
      "grid_row": null,
      "grid_template_areas": null,
      "grid_template_columns": null,
      "grid_template_rows": null,
      "height": null,
      "justify_content": null,
      "justify_items": null,
      "left": null,
      "margin": null,
      "max_height": null,
      "max_width": null,
      "min_height": null,
      "min_width": null,
      "object_fit": null,
      "object_position": null,
      "order": null,
      "overflow": null,
      "overflow_x": null,
      "overflow_y": null,
      "padding": null,
      "right": null,
      "top": null,
      "visibility": null,
      "width": "100%"
     }
    },
    "3d68772977bc424992cbacc117625eec": {
     "model_module": "jupyter-leaflet",
     "model_module_version": "^0.17",
     "model_name": "LeafletMapStyleModel",
     "state": {
      "_model_module": "jupyter-leaflet",
      "_model_module_version": "^0.17",
      "_model_name": "LeafletMapStyleModel",
      "_view_count": null,
      "_view_module": "@jupyter-widgets/base",
      "_view_module_version": "1.2.0",
      "_view_name": "StyleView",
      "cursor": "crosshair"
     }
    },
    "4409a2dc67054768b42398741e1c77b8": {
     "model_module": "jupyter-leaflet",
     "model_module_version": "^0.17",
     "model_name": "LeafletZoomControlModel",
     "state": {
      "_model_module": "jupyter-leaflet",
      "_model_module_version": "^0.17",
      "_model_name": "LeafletZoomControlModel",
      "_view_count": null,
      "_view_module": "jupyter-leaflet",
      "_view_module_version": "^0.17",
      "_view_name": "LeafletZoomControlView",
      "options": [
       "position",
       "zoom_in_text",
       "zoom_in_title",
       "zoom_out_text",
       "zoom_out_title"
      ],
      "position": "topleft",
      "zoom_in_text": "+",
      "zoom_in_title": "Zoom in",
      "zoom_out_text": "-",
      "zoom_out_title": "Zoom out"
     }
    },
    "48d31a01ea854ecd87487e79d6b18e5b": {
     "model_module": "jupyter-leaflet",
     "model_module_version": "^0.17",
     "model_name": "LeafletTileLayerModel",
     "state": {
      "_model_module": "jupyter-leaflet",
      "_model_module_version": "^0.17",
      "_model_name": "LeafletTileLayerModel",
      "_view_count": null,
      "_view_module": "jupyter-leaflet",
      "_view_module_version": "^0.17",
      "_view_name": "LeafletTileLayerView",
      "attribution": null,
      "base": false,
      "bottom": true,
      "bounds": null,
      "detect_retina": false,
      "loading": false,
      "max_native_zoom": null,
      "max_zoom": 18,
      "min_native_zoom": null,
      "min_zoom": 0,
      "name": "mean temp by census tract",
      "no_wrap": false,
      "opacity": 1,
      "options": [
       "attribution",
       "bounds",
       "detect_retina",
       "max_native_zoom",
       "max_zoom",
       "min_native_zoom",
       "min_zoom",
       "no_wrap",
       "tile_size",
       "tms",
       "zoom_offset"
      ],
      "pane": "",
      "popup": null,
      "popup_max_height": null,
      "popup_max_width": 300,
      "popup_min_width": 50,
      "show_loading": false,
      "subitems": [],
      "tile_size": 256,
      "tms": false,
      "url": "https://earthengine.googleapis.com/v1alpha/projects/earthengine-legacy/maps/afb2d3e17d4078e93486adfaa0635f07-1758893164404ac9015bff678ec93040/tiles/{z}/{x}/{y}",
      "visible": true,
      "zoom_offset": 0
     }
    },
    "5535e7ce59fc43eab2894fe992e5c0f4": {
     "model_module": "jupyter-leaflet",
     "model_module_version": "^0.17",
     "model_name": "LeafletMapModel",
     "state": {
      "_dom_classes": [],
      "_model_module": "jupyter-leaflet",
      "_model_module_version": "^0.17",
      "_model_name": "LeafletMapModel",
      "_view_count": null,
      "_view_module": "jupyter-leaflet",
      "_view_module_version": "^0.17",
      "_view_name": "LeafletMapView",
      "bottom": 814,
      "bounce_at_zoom_limits": true,
      "box_zoom": true,
      "center": [
       58.301041,
       -134.424637
      ],
      "close_popup_on_click": true,
      "controls": [
       "IPY_MODEL_ff471c69e9404a2f8b4ca3294110e468",
       "IPY_MODEL_f5c1caa0c8a5497db1afdd52adfca336",
       "IPY_MODEL_587049bc91a448cea556abf2264d6182"
      ],
      "crs": {
       "custom": false,
       "name": "EPSG3857"
      },
      "default_style": "IPY_MODEL_cb3818eef2c64147a50c992e4ae559d8",
      "double_click_zoom": true,
      "dragging": true,
      "dragging_style": "IPY_MODEL_a6371c54f65748b390978bc13f34baa0",
      "east": -38.67187500000001,
      "fullscreen": false,
      "inertia": true,
      "inertia_deceleration": 3000,
      "inertia_max_speed": 1500,
      "interpolation": "bilinear",
      "keyboard": true,
      "keyboard_pan_offset": 80,
      "keyboard_zoom_offset": 1,
      "layers": [
       "IPY_MODEL_b809f9b88daa4de5b9f4fc7465c930c0",
       "IPY_MODEL_0a9238509d1741d8849e12a2ffb01c01"
      ],
      "layout": "IPY_MODEL_902bf14099ab456aa4335cec0a1f88f9",
      "left": -285,
      "max_zoom": null,
      "min_zoom": null,
      "modisdate": "2023-07-11",
      "north": 72.50172235139388,
      "options": [
       "bounce_at_zoom_limits",
       "box_zoom",
       "center",
       "close_popup_on_click",
       "double_click_zoom",
       "dragging",
       "fullscreen",
       "inertia",
       "inertia_deceleration",
       "inertia_max_speed",
       "interpolation",
       "keyboard",
       "keyboard_pan_offset",
       "keyboard_zoom_offset",
       "max_zoom",
       "min_zoom",
       "prefer_canvas",
       "scroll_wheel_zoom",
       "tap",
       "tap_tolerance",
       "touch_zoom",
       "world_copy_jump",
       "zoom",
       "zoom_animation_threshold",
       "zoom_delta",
       "zoom_snap"
      ],
      "panes": {},
      "prefer_canvas": false,
      "right": 804,
      "scroll_wheel_zoom": false,
      "south": 34.59704151614417,
      "style": "IPY_MODEL_049d65b348604197a848feec05d560ce",
      "tap": true,
      "tap_tolerance": 15,
      "top": 414,
      "touch_zoom": true,
      "west": -230.09765625000003,
      "window_url": "https://g79ehi5675s-496ff2e9c6d22116-0-colab.googleusercontent.com/outputframe.html?vrz=colab-20230707-060141-RC00_546237046",
      "world_copy_jump": false,
      "zoom": 3,
      "zoom_animation_threshold": 4,
      "zoom_delta": 1,
      "zoom_snap": 1
     }
    },
    "587049bc91a448cea556abf2264d6182": {
     "model_module": "jupyter-leaflet",
     "model_module_version": "^0.17",
     "model_name": "LeafletLayersControlModel",
     "state": {
      "_model_module": "jupyter-leaflet",
      "_model_module_version": "^0.17",
      "_model_name": "LeafletLayersControlModel",
      "_view_count": null,
      "_view_module": "jupyter-leaflet",
      "_view_module_version": "^0.17",
      "_view_name": "LeafletLayersControlView",
      "options": [
       "position"
      ],
      "position": "topright"
     }
    },
    "5cc0c6b870d64b558bed094f3511e494": {
     "model_module": "jupyter-leaflet",
     "model_module_version": "^0.17",
     "model_name": "LeafletZoomControlModel",
     "state": {
      "_model_module": "jupyter-leaflet",
      "_model_module_version": "^0.17",
      "_model_name": "LeafletZoomControlModel",
      "_view_count": null,
      "_view_module": "jupyter-leaflet",
      "_view_module_version": "^0.17",
      "_view_name": "LeafletZoomControlView",
      "options": [
       "position",
       "zoom_in_text",
       "zoom_in_title",
       "zoom_out_text",
       "zoom_out_title"
      ],
      "position": "topleft",
      "zoom_in_text": "+",
      "zoom_in_title": "Zoom in",
      "zoom_out_text": "-",
      "zoom_out_title": "Zoom out"
     }
    },
    "5cf38c8b82af4379a0be6a39133962b6": {
     "model_module": "jupyter-leaflet",
     "model_module_version": "^0.17",
     "model_name": "LeafletZoomControlModel",
     "state": {
      "_model_module": "jupyter-leaflet",
      "_model_module_version": "^0.17",
      "_model_name": "LeafletZoomControlModel",
      "_view_count": null,
      "_view_module": "jupyter-leaflet",
      "_view_module_version": "^0.17",
      "_view_name": "LeafletZoomControlView",
      "options": [
       "position",
       "zoom_in_text",
       "zoom_in_title",
       "zoom_out_text",
       "zoom_out_title"
      ],
      "position": "topleft",
      "zoom_in_text": "+",
      "zoom_in_title": "Zoom in",
      "zoom_out_text": "-",
      "zoom_out_title": "Zoom out"
     }
    },
    "62198f38a81b4506a8f21f0728bc0f1b": {
     "model_module": "@jupyter-widgets/base",
     "model_module_version": "1.2.0",
     "model_name": "LayoutModel",
     "state": {
      "_model_module": "@jupyter-widgets/base",
      "_model_module_version": "1.2.0",
      "_model_name": "LayoutModel",
      "_view_count": null,
      "_view_module": "@jupyter-widgets/base",
      "_view_module_version": "1.2.0",
      "_view_name": "LayoutView",
      "align_content": null,
      "align_items": null,
      "align_self": null,
      "border": null,
      "bottom": null,
      "display": null,
      "flex": null,
      "flex_flow": null,
      "grid_area": null,
      "grid_auto_columns": null,
      "grid_auto_flow": null,
      "grid_auto_rows": null,
      "grid_column": null,
      "grid_gap": null,
      "grid_row": null,
      "grid_template_areas": null,
      "grid_template_columns": null,
      "grid_template_rows": null,
      "height": null,
      "justify_content": null,
      "justify_items": null,
      "left": null,
      "margin": null,
      "max_height": null,
      "max_width": null,
      "min_height": null,
      "min_width": null,
      "object_fit": null,
      "object_position": null,
      "order": null,
      "overflow": null,
      "overflow_x": null,
      "overflow_y": null,
      "padding": null,
      "right": null,
      "top": null,
      "visibility": null,
      "width": "100%"
     }
    },
    "77762c3d30ed47e184a7f78bc25b776e": {
     "model_module": "@jupyter-widgets/base",
     "model_module_version": "1.2.0",
     "model_name": "LayoutModel",
     "state": {
      "_model_module": "@jupyter-widgets/base",
      "_model_module_version": "1.2.0",
      "_model_name": "LayoutModel",
      "_view_count": null,
      "_view_module": "@jupyter-widgets/base",
      "_view_module_version": "1.2.0",
      "_view_name": "LayoutView",
      "align_content": null,
      "align_items": null,
      "align_self": null,
      "border": null,
      "bottom": null,
      "display": null,
      "flex": null,
      "flex_flow": null,
      "grid_area": null,
      "grid_auto_columns": null,
      "grid_auto_flow": null,
      "grid_auto_rows": null,
      "grid_column": null,
      "grid_gap": null,
      "grid_row": null,
      "grid_template_areas": null,
      "grid_template_columns": null,
      "grid_template_rows": null,
      "height": null,
      "justify_content": null,
      "justify_items": null,
      "left": null,
      "margin": null,
      "max_height": null,
      "max_width": null,
      "min_height": null,
      "min_width": null,
      "object_fit": null,
      "object_position": null,
      "order": null,
      "overflow": null,
      "overflow_x": null,
      "overflow_y": null,
      "padding": null,
      "right": null,
      "top": null,
      "visibility": null,
      "width": "100%"
     }
    },
    "88bc16910c554f7b98b83673c8bea4ef": {
     "model_module": "jupyter-leaflet",
     "model_module_version": "^0.17",
     "model_name": "LeafletMapStyleModel",
     "state": {
      "_model_module": "jupyter-leaflet",
      "_model_module_version": "^0.17",
      "_model_name": "LeafletMapStyleModel",
      "_view_count": null,
      "_view_module": "@jupyter-widgets/base",
      "_view_module_version": "1.2.0",
      "_view_name": "StyleView",
      "cursor": "move"
     }
    },
    "8f492783687e4b78ac4f93412309282d": {
     "model_module": "jupyter-leaflet",
     "model_module_version": "^0.17",
     "model_name": "LeafletTileLayerModel",
     "state": {
      "_model_module": "jupyter-leaflet",
      "_model_module_version": "^0.17",
      "_model_name": "LeafletTileLayerModel",
      "_view_count": null,
      "_view_module": "jupyter-leaflet",
      "_view_module_version": "^0.17",
      "_view_name": "LeafletTileLayerView",
      "attribution": "Map tiles by <a href=\"http://stamen.com\">Stamen Design</a>, <a href=\"http://creativecommons.org/licenses/by/3.0\">CC BY 3.0</a> &mdash; Map data &copy; <a href=\"https://www.openstreetmap.org/copyright\">OpenStreetMap</a> contributors",
      "base": true,
      "bottom": true,
      "bounds": null,
      "detect_retina": false,
      "loading": false,
      "max_native_zoom": null,
      "max_zoom": 16,
      "min_native_zoom": null,
      "min_zoom": 1,
      "name": "Stamen.Watercolor",
      "no_wrap": false,
      "opacity": 1,
      "options": [
       "attribution",
       "bounds",
       "detect_retina",
       "max_native_zoom",
       "max_zoom",
       "min_native_zoom",
       "min_zoom",
       "no_wrap",
       "tile_size",
       "tms",
       "zoom_offset"
      ],
      "pane": "",
      "popup": null,
      "popup_max_height": null,
      "popup_max_width": 300,
      "popup_min_width": 50,
      "show_loading": false,
      "subitems": [],
      "tile_size": 256,
      "tms": false,
      "url": "https://stamen-tiles-a.a.ssl.fastly.net/watercolor/{z}/{x}/{y}.jpg",
      "visible": true,
      "zoom_offset": 0
     }
    },
    "902bf14099ab456aa4335cec0a1f88f9": {
     "model_module": "@jupyter-widgets/base",
     "model_module_version": "1.2.0",
     "model_name": "LayoutModel",
     "state": {
      "_model_module": "@jupyter-widgets/base",
      "_model_module_version": "1.2.0",
      "_model_name": "LayoutModel",
      "_view_count": null,
      "_view_module": "@jupyter-widgets/base",
      "_view_module_version": "1.2.0",
      "_view_name": "LayoutView",
      "align_content": null,
      "align_items": null,
      "align_self": null,
      "border": null,
      "bottom": null,
      "display": null,
      "flex": null,
      "flex_flow": null,
      "grid_area": null,
      "grid_auto_columns": null,
      "grid_auto_flow": null,
      "grid_auto_rows": null,
      "grid_column": null,
      "grid_gap": null,
      "grid_row": null,
      "grid_template_areas": null,
      "grid_template_columns": null,
      "grid_template_rows": null,
      "height": null,
      "justify_content": null,
      "justify_items": null,
      "left": null,
      "margin": null,
      "max_height": null,
      "max_width": null,
      "min_height": null,
      "min_width": null,
      "object_fit": null,
      "object_position": null,
      "order": null,
      "overflow": null,
      "overflow_x": null,
      "overflow_y": null,
      "padding": null,
      "right": null,
      "top": null,
      "visibility": null,
      "width": "100%"
     }
    },
    "a1efff705bc542ce8c2680a900f2414f": {
     "model_module": "jupyter-leaflet",
     "model_module_version": "^0.17",
     "model_name": "LeafletMapStyleModel",
     "state": {
      "_model_module": "jupyter-leaflet",
      "_model_module_version": "^0.17",
      "_model_name": "LeafletMapStyleModel",
      "_view_count": null,
      "_view_module": "@jupyter-widgets/base",
      "_view_module_version": "1.2.0",
      "_view_name": "StyleView",
      "cursor": "grab"
     }
    },
    "a571f71baddf4fc0aeeced9846a06450": {
     "model_module": "jupyter-leaflet",
     "model_module_version": "^0.17",
     "model_name": "LeafletMapStyleModel",
     "state": {
      "_model_module": "jupyter-leaflet",
      "_model_module_version": "^0.17",
      "_model_name": "LeafletMapStyleModel",
      "_view_count": null,
      "_view_module": "@jupyter-widgets/base",
      "_view_module_version": "1.2.0",
      "_view_name": "StyleView",
      "cursor": "move"
     }
    },
    "a6371c54f65748b390978bc13f34baa0": {
     "model_module": "jupyter-leaflet",
     "model_module_version": "^0.17",
     "model_name": "LeafletMapStyleModel",
     "state": {
      "_model_module": "jupyter-leaflet",
      "_model_module_version": "^0.17",
      "_model_name": "LeafletMapStyleModel",
      "_view_count": null,
      "_view_module": "@jupyter-widgets/base",
      "_view_module_version": "1.2.0",
      "_view_name": "StyleView",
      "cursor": "move"
     }
    },
    "aa698678dfc6468b8181181fa431e2a0": {
     "model_module": "jupyter-leaflet",
     "model_module_version": "^0.17",
     "model_name": "LeafletLayersControlModel",
     "state": {
      "_model_module": "jupyter-leaflet",
      "_model_module_version": "^0.17",
      "_model_name": "LeafletLayersControlModel",
      "_view_count": null,
      "_view_module": "jupyter-leaflet",
      "_view_module_version": "^0.17",
      "_view_name": "LeafletLayersControlView",
      "options": [
       "position"
      ],
      "position": "topright"
     }
    },
    "b809f9b88daa4de5b9f4fc7465c930c0": {
     "model_module": "jupyter-leaflet",
     "model_module_version": "^0.17",
     "model_name": "LeafletTileLayerModel",
     "state": {
      "_model_module": "jupyter-leaflet",
      "_model_module_version": "^0.17",
      "_model_name": "LeafletTileLayerModel",
      "_view_count": null,
      "_view_module": "jupyter-leaflet",
      "_view_module_version": "^0.17",
      "_view_name": "LeafletTileLayerView",
      "attribution": "Map tiles by <a href=\"http://stamen.com\">Stamen Design</a>, <a href=\"http://creativecommons.org/licenses/by/3.0\">CC BY 3.0</a> &mdash; Map data &copy; <a href=\"https://www.openstreetmap.org/copyright\">OpenStreetMap</a> contributors",
      "base": true,
      "bottom": true,
      "bounds": null,
      "detect_retina": false,
      "loading": false,
      "max_native_zoom": null,
      "max_zoom": 16,
      "min_native_zoom": null,
      "min_zoom": 1,
      "name": "Stamen.Watercolor",
      "no_wrap": false,
      "opacity": 1,
      "options": [
       "attribution",
       "bounds",
       "detect_retina",
       "max_native_zoom",
       "max_zoom",
       "min_native_zoom",
       "min_zoom",
       "no_wrap",
       "tile_size",
       "tms",
       "zoom_offset"
      ],
      "pane": "",
      "popup": null,
      "popup_max_height": null,
      "popup_max_width": 300,
      "popup_min_width": 50,
      "show_loading": false,
      "subitems": [],
      "tile_size": 256,
      "tms": false,
      "url": "https://stamen-tiles-a.a.ssl.fastly.net/watercolor/{z}/{x}/{y}.jpg",
      "visible": true,
      "zoom_offset": 0
     }
    },
    "ca932c2f06a64008aae70f6b4c3fe4f7": {
     "model_module": "jupyter-leaflet",
     "model_module_version": "^0.17",
     "model_name": "LeafletMapModel",
     "state": {
      "_dom_classes": [],
      "_model_module": "jupyter-leaflet",
      "_model_module_version": "^0.17",
      "_model_name": "LeafletMapModel",
      "_view_count": null,
      "_view_module": "jupyter-leaflet",
      "_view_module_version": "^0.17",
      "_view_name": "LeafletMapView",
      "bottom": 814,
      "bounce_at_zoom_limits": true,
      "box_zoom": true,
      "center": [
       58.301041,
       -134.424637
      ],
      "close_popup_on_click": true,
      "controls": [
       "IPY_MODEL_5cf38c8b82af4379a0be6a39133962b6",
       "IPY_MODEL_f5daf509968c4753b0c18534bb64707b",
       "IPY_MODEL_aa698678dfc6468b8181181fa431e2a0"
      ],
      "crs": {
       "custom": false,
       "name": "EPSG3857"
      },
      "default_style": "IPY_MODEL_3d68772977bc424992cbacc117625eec",
      "double_click_zoom": true,
      "dragging": true,
      "dragging_style": "IPY_MODEL_88bc16910c554f7b98b83673c8bea4ef",
      "east": -38.67187500000001,
      "fullscreen": false,
      "inertia": true,
      "inertia_deceleration": 3000,
      "inertia_max_speed": 1500,
      "interpolation": "bilinear",
      "keyboard": true,
      "keyboard_pan_offset": 80,
      "keyboard_zoom_offset": 1,
      "layers": [
       "IPY_MODEL_ee2142e7bcf14f9fb36aa7272a3154ec",
       "IPY_MODEL_48d31a01ea854ecd87487e79d6b18e5b"
      ],
      "layout": "IPY_MODEL_62198f38a81b4506a8f21f0728bc0f1b",
      "left": -285,
      "max_zoom": null,
      "min_zoom": null,
      "modisdate": "2023-07-11",
      "north": 72.50172235139388,
      "options": [
       "bounce_at_zoom_limits",
       "box_zoom",
       "center",
       "close_popup_on_click",
       "double_click_zoom",
       "dragging",
       "fullscreen",
       "inertia",
       "inertia_deceleration",
       "inertia_max_speed",
       "interpolation",
       "keyboard",
       "keyboard_pan_offset",
       "keyboard_zoom_offset",
       "max_zoom",
       "min_zoom",
       "prefer_canvas",
       "scroll_wheel_zoom",
       "tap",
       "tap_tolerance",
       "touch_zoom",
       "world_copy_jump",
       "zoom",
       "zoom_animation_threshold",
       "zoom_delta",
       "zoom_snap"
      ],
      "panes": {},
      "prefer_canvas": false,
      "right": 804,
      "scroll_wheel_zoom": false,
      "south": 34.59704151614417,
      "style": "IPY_MODEL_ce1cb320559c4ba79a16b63099f6ae24",
      "tap": true,
      "tap_tolerance": 15,
      "top": 414,
      "touch_zoom": true,
      "west": -230.09765625000003,
      "window_url": "https://g79ehi5675s-496ff2e9c6d22116-0-colab.googleusercontent.com/outputframe.html?vrz=colab-20230707-060141-RC00_546237046",
      "world_copy_jump": false,
      "zoom": 3,
      "zoom_animation_threshold": 4,
      "zoom_delta": 1,
      "zoom_snap": 1
     }
    },
    "cb3818eef2c64147a50c992e4ae559d8": {
     "model_module": "jupyter-leaflet",
     "model_module_version": "^0.17",
     "model_name": "LeafletMapStyleModel",
     "state": {
      "_model_module": "jupyter-leaflet",
      "_model_module_version": "^0.17",
      "_model_name": "LeafletMapStyleModel",
      "_view_count": null,
      "_view_module": "@jupyter-widgets/base",
      "_view_module_version": "1.2.0",
      "_view_name": "StyleView",
      "cursor": "crosshair"
     }
    },
    "ce1cb320559c4ba79a16b63099f6ae24": {
     "model_module": "jupyter-leaflet",
     "model_module_version": "^0.17",
     "model_name": "LeafletMapStyleModel",
     "state": {
      "_model_module": "jupyter-leaflet",
      "_model_module_version": "^0.17",
      "_model_name": "LeafletMapStyleModel",
      "_view_count": null,
      "_view_module": "@jupyter-widgets/base",
      "_view_module_version": "1.2.0",
      "_view_name": "StyleView",
      "cursor": "grab"
     }
    },
    "d01eaabf38c743929b886eb4b44152f8": {
     "model_module": "jupyter-leaflet",
     "model_module_version": "^0.17",
     "model_name": "LeafletTileLayerModel",
     "state": {
      "_model_module": "jupyter-leaflet",
      "_model_module_version": "^0.17",
      "_model_name": "LeafletTileLayerModel",
      "_view_count": null,
      "_view_module": "jupyter-leaflet",
      "_view_module_version": "^0.17",
      "_view_name": "LeafletTileLayerView",
      "attribution": "Map tiles by <a href=\"http://stamen.com\">Stamen Design</a>, <a href=\"http://creativecommons.org/licenses/by/3.0\">CC BY 3.0</a> &mdash; Map data &copy; <a href=\"https://www.openstreetmap.org/copyright\">OpenStreetMap</a> contributors",
      "base": true,
      "bottom": true,
      "bounds": null,
      "detect_retina": false,
      "loading": false,
      "max_native_zoom": null,
      "max_zoom": 16,
      "min_native_zoom": null,
      "min_zoom": 1,
      "name": "Stamen.Watercolor",
      "no_wrap": false,
      "opacity": 1,
      "options": [
       "attribution",
       "bounds",
       "detect_retina",
       "max_native_zoom",
       "max_zoom",
       "min_native_zoom",
       "min_zoom",
       "no_wrap",
       "tile_size",
       "tms",
       "zoom_offset"
      ],
      "pane": "",
      "popup": null,
      "popup_max_height": null,
      "popup_max_width": 300,
      "popup_min_width": 50,
      "show_loading": false,
      "subitems": [],
      "tile_size": 256,
      "tms": false,
      "url": "https://stamen-tiles-a.a.ssl.fastly.net/watercolor/{z}/{x}/{y}.jpg",
      "visible": true,
      "zoom_offset": 0
     }
    },
    "da98757de9e64e8e8064280d667bdc14": {
     "model_module": "jupyter-leaflet",
     "model_module_version": "^0.17",
     "model_name": "LeafletTileLayerModel",
     "state": {
      "_model_module": "jupyter-leaflet",
      "_model_module_version": "^0.17",
      "_model_name": "LeafletTileLayerModel",
      "_view_count": null,
      "_view_module": "jupyter-leaflet",
      "_view_module_version": "^0.17",
      "_view_name": "LeafletTileLayerView",
      "attribution": null,
      "base": false,
      "bottom": true,
      "bounds": null,
      "detect_retina": false,
      "loading": false,
      "max_native_zoom": null,
      "max_zoom": 18,
      "min_native_zoom": null,
      "min_zoom": 0,
      "name": "mean temp by borough",
      "no_wrap": false,
      "opacity": 1,
      "options": [
       "attribution",
       "bounds",
       "detect_retina",
       "max_native_zoom",
       "max_zoom",
       "min_native_zoom",
       "min_zoom",
       "no_wrap",
       "tile_size",
       "tms",
       "zoom_offset"
      ],
      "pane": "",
      "popup": null,
      "popup_max_height": null,
      "popup_max_width": 300,
      "popup_min_width": 50,
      "show_loading": false,
      "subitems": [],
      "tile_size": 256,
      "tms": false,
      "url": "https://earthengine.googleapis.com/v1alpha/projects/earthengine-legacy/maps/afb2d3e17d4078e93486adfaa0635f07-0115db0971ef98d88f34d3f83fc38828/tiles/{z}/{x}/{y}",
      "visible": true,
      "zoom_offset": 0
     }
    },
    "dcebe5eda4084850ad327963962283b5": {
     "model_module": "jupyter-leaflet",
     "model_module_version": "^0.17",
     "model_name": "LeafletMapStyleModel",
     "state": {
      "_model_module": "jupyter-leaflet",
      "_model_module_version": "^0.17",
      "_model_name": "LeafletMapStyleModel",
      "_view_count": null,
      "_view_module": "@jupyter-widgets/base",
      "_view_module_version": "1.2.0",
      "_view_name": "StyleView",
      "cursor": "crosshair"
     }
    },
    "ee2142e7bcf14f9fb36aa7272a3154ec": {
     "model_module": "jupyter-leaflet",
     "model_module_version": "^0.17",
     "model_name": "LeafletTileLayerModel",
     "state": {
      "_model_module": "jupyter-leaflet",
      "_model_module_version": "^0.17",
      "_model_name": "LeafletTileLayerModel",
      "_view_count": null,
      "_view_module": "jupyter-leaflet",
      "_view_module_version": "^0.17",
      "_view_name": "LeafletTileLayerView",
      "attribution": "Map tiles by <a href=\"http://stamen.com\">Stamen Design</a>, <a href=\"http://creativecommons.org/licenses/by/3.0\">CC BY 3.0</a> &mdash; Map data &copy; <a href=\"https://www.openstreetmap.org/copyright\">OpenStreetMap</a> contributors",
      "base": true,
      "bottom": true,
      "bounds": null,
      "detect_retina": false,
      "loading": false,
      "max_native_zoom": null,
      "max_zoom": 16,
      "min_native_zoom": null,
      "min_zoom": 1,
      "name": "Stamen.Watercolor",
      "no_wrap": false,
      "opacity": 1,
      "options": [
       "attribution",
       "bounds",
       "detect_retina",
       "max_native_zoom",
       "max_zoom",
       "min_native_zoom",
       "min_zoom",
       "no_wrap",
       "tile_size",
       "tms",
       "zoom_offset"
      ],
      "pane": "",
      "popup": null,
      "popup_max_height": null,
      "popup_max_width": 300,
      "popup_min_width": 50,
      "show_loading": false,
      "subitems": [],
      "tile_size": 256,
      "tms": false,
      "url": "https://stamen-tiles-a.a.ssl.fastly.net/watercolor/{z}/{x}/{y}.jpg",
      "visible": true,
      "zoom_offset": 0
     }
    },
    "f5c1caa0c8a5497db1afdd52adfca336": {
     "model_module": "jupyter-leaflet",
     "model_module_version": "^0.17",
     "model_name": "LeafletAttributionControlModel",
     "state": {
      "_model_module": "jupyter-leaflet",
      "_model_module_version": "^0.17",
      "_model_name": "LeafletAttributionControlModel",
      "_view_count": null,
      "_view_module": "jupyter-leaflet",
      "_view_module_version": "^0.17",
      "_view_name": "LeafletAttributionControlView",
      "options": [
       "position",
       "prefix"
      ],
      "position": "bottomright",
      "prefix": "ipyleaflet"
     }
    },
    "f5daf509968c4753b0c18534bb64707b": {
     "model_module": "jupyter-leaflet",
     "model_module_version": "^0.17",
     "model_name": "LeafletAttributionControlModel",
     "state": {
      "_model_module": "jupyter-leaflet",
      "_model_module_version": "^0.17",
      "_model_name": "LeafletAttributionControlModel",
      "_view_count": null,
      "_view_module": "jupyter-leaflet",
      "_view_module_version": "^0.17",
      "_view_name": "LeafletAttributionControlView",
      "options": [
       "position",
       "prefix"
      ],
      "position": "bottomright",
      "prefix": "ipyleaflet"
     }
    },
    "fb00752aa0644be2920ee2629929529b": {
     "model_module": "jupyter-leaflet",
     "model_module_version": "^0.17",
     "model_name": "LeafletTileLayerModel",
     "state": {
      "_model_module": "jupyter-leaflet",
      "_model_module_version": "^0.17",
      "_model_name": "LeafletTileLayerModel",
      "_view_count": null,
      "_view_module": "jupyter-leaflet",
      "_view_module_version": "^0.17",
      "_view_name": "LeafletTileLayerView",
      "attribution": null,
      "base": false,
      "bottom": true,
      "bounds": null,
      "detect_retina": false,
      "loading": false,
      "max_native_zoom": null,
      "max_zoom": 18,
      "min_native_zoom": null,
      "min_zoom": 0,
      "name": "Census Tracts",
      "no_wrap": false,
      "opacity": 1,
      "options": [
       "attribution",
       "bounds",
       "detect_retina",
       "max_native_zoom",
       "max_zoom",
       "min_native_zoom",
       "min_zoom",
       "no_wrap",
       "tile_size",
       "tms",
       "zoom_offset"
      ],
      "pane": "",
      "popup": null,
      "popup_max_height": null,
      "popup_max_width": 300,
      "popup_min_width": 50,
      "show_loading": false,
      "subitems": [],
      "tile_size": 256,
      "tms": false,
      "url": "https://earthengine.googleapis.com/v1alpha/projects/earthengine-legacy/maps/14184c48bcf086d06459b50c5bc4a1ba-16822fad51cbdb10660af709ac7042b3/tiles/{z}/{x}/{y}",
      "visible": true,
      "zoom_offset": 0
     }
    },
    "fb04f8abb2f24921b4485183efc09930": {
     "model_module": "jupyter-leaflet",
     "model_module_version": "^0.17",
     "model_name": "LeafletMapModel",
     "state": {
      "_dom_classes": [],
      "_model_module": "jupyter-leaflet",
      "_model_module_version": "^0.17",
      "_model_name": "LeafletMapModel",
      "_view_count": null,
      "_view_module": "jupyter-leaflet",
      "_view_module_version": "^0.17",
      "_view_name": "LeafletMapView",
      "bottom": 814,
      "bounce_at_zoom_limits": true,
      "box_zoom": true,
      "center": [
       58.301041,
       -134.424637
      ],
      "close_popup_on_click": true,
      "controls": [
       "IPY_MODEL_4409a2dc67054768b42398741e1c77b8",
       "IPY_MODEL_080c7e04380b4e01b50e6f89fe922ed2",
       "IPY_MODEL_18bf2847df214e88a261aedbbb293854"
      ],
      "crs": {
       "custom": false,
       "name": "EPSG3857"
      },
      "default_style": "IPY_MODEL_0b1ca3b0b8de49aabd39030fe9a612fb",
      "double_click_zoom": true,
      "dragging": true,
      "dragging_style": "IPY_MODEL_02a79df6a6ef472fb9ff8f7f141c02b1",
      "east": -38.67187500000001,
      "fullscreen": false,
      "inertia": true,
      "inertia_deceleration": 3000,
      "inertia_max_speed": 1500,
      "interpolation": "bilinear",
      "keyboard": true,
      "keyboard_pan_offset": 80,
      "keyboard_zoom_offset": 1,
      "layers": [
       "IPY_MODEL_8f492783687e4b78ac4f93412309282d",
       "IPY_MODEL_da98757de9e64e8e8064280d667bdc14"
      ],
      "layout": "IPY_MODEL_26ddc5734cdb46068f8f8dcbd0e3b065",
      "left": -285,
      "max_zoom": null,
      "min_zoom": null,
      "modisdate": "2023-07-11",
      "north": 72.50172235139388,
      "options": [
       "bounce_at_zoom_limits",
       "box_zoom",
       "center",
       "close_popup_on_click",
       "double_click_zoom",
       "dragging",
       "fullscreen",
       "inertia",
       "inertia_deceleration",
       "inertia_max_speed",
       "interpolation",
       "keyboard",
       "keyboard_pan_offset",
       "keyboard_zoom_offset",
       "max_zoom",
       "min_zoom",
       "prefer_canvas",
       "scroll_wheel_zoom",
       "tap",
       "tap_tolerance",
       "touch_zoom",
       "world_copy_jump",
       "zoom",
       "zoom_animation_threshold",
       "zoom_delta",
       "zoom_snap"
      ],
      "panes": {},
      "prefer_canvas": false,
      "right": 804,
      "scroll_wheel_zoom": false,
      "south": 34.59704151614417,
      "style": "IPY_MODEL_249539a852a047d6ba5bb47c5bf29cfd",
      "tap": true,
      "tap_tolerance": 15,
      "top": 414,
      "touch_zoom": true,
      "west": -230.09765625000003,
      "window_url": "https://g79ehi5675s-496ff2e9c6d22116-0-colab.googleusercontent.com/outputframe.html?vrz=colab-20230707-060141-RC00_546237046",
      "world_copy_jump": false,
      "zoom": 3,
      "zoom_animation_threshold": 4,
      "zoom_delta": 1,
      "zoom_snap": 1
     }
    },
    "ff471c69e9404a2f8b4ca3294110e468": {
     "model_module": "jupyter-leaflet",
     "model_module_version": "^0.17",
     "model_name": "LeafletZoomControlModel",
     "state": {
      "_model_module": "jupyter-leaflet",
      "_model_module_version": "^0.17",
      "_model_name": "LeafletZoomControlModel",
      "_view_count": null,
      "_view_module": "jupyter-leaflet",
      "_view_module_version": "^0.17",
      "_view_name": "LeafletZoomControlView",
      "options": [
       "position",
       "zoom_in_text",
       "zoom_in_title",
       "zoom_out_text",
       "zoom_out_title"
      ],
      "position": "topleft",
      "zoom_in_text": "+",
      "zoom_in_title": "Zoom in",
      "zoom_out_text": "-",
      "zoom_out_title": "Zoom out"
     }
    }
   }
  }
 },
 "nbformat": 4,
 "nbformat_minor": 5
}
