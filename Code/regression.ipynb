{
 "cells": [
  {
   "cell_type": "code",
   "execution_count": 1,
   "metadata": {},
   "outputs": [],
   "source": [
    "import numpy as np\n",
    "import pandas as pd\n",
    "from sklearn.metrics import mean_squared_error \n",
    "from sklearn.metrics import mean_absolute_error \n",
    "from sklearn.ensemble import RandomForestRegressor\n",
    "from sklearn.model_selection import train_test_split\n",
    "from sklearn.model_selection import RandomizedSearchCV\n",
    "from sklearn.model_selection import GroupKFold \n",
    "import xgboost as xgb"
   ]
  },
  {
   "cell_type": "markdown",
   "metadata": {},
   "source": [
    "## Loading simulated data with AM's original code and TMY3 data"
   ]
  },
  {
   "cell_type": "code",
   "execution_count": 2,
   "metadata": {},
   "outputs": [],
   "source": [
    "allScens = pd.read_csv('../Output/allScens_augmented.csv', usecols=lambda x: x not in ['Unnamed: 0'])"
   ]
  },
  {
   "cell_type": "code",
   "execution_count": 3,
   "metadata": {},
   "outputs": [],
   "source": [
    "allScens = pd.get_dummies(allScens, columns=['Exist_Fuel', 'Scenario'])"
   ]
  },
  {
   "cell_type": "code",
   "execution_count": 4,
   "metadata": {},
   "outputs": [
    {
     "data": {
      "text/plain": [
       "Index(['City', 'Exist_Fuel_Type', 'Census_Area', 'ANCSA_Region', 'Util_Name',\n",
       "       'PCE', 'Sq_Ft', 'Capital_Cost', 'Elec_Use_Jan', 'Elec_Use_May',\n",
       "       'Design_Heat_Load', 'Design_Heat_Temp', 'COP', 'Max_HP_Cap_Reached',\n",
       "       'HP_Load_Frac', 'IRR', 'NPV', 'CO2_lbs_saved',\n",
       "       'CO2_driving_miles_saved', 'Fuel_Use_Chg', 'Fuel_Price_Incremental',\n",
       "       'Elec_Use_Chg', 'Elec_Rate_Incremental', 'Econ', 'rebate_dol',\n",
       "       'fuel_esc_rate', 'TMYid', 'Longitude', 'Latitude', 'Oil1Price',\n",
       "       'PropanePrice', 'GasPrice', 'avg_elec_usage1', 'avg_elec_usage2',\n",
       "       'avg_elec_usage3', 'avg_elec_usage4', 'avg_elec_usage5',\n",
       "       'avg_elec_usage6', 'avg_elec_usage7', 'avg_elec_usage8',\n",
       "       'avg_elec_usage9', 'avg_elec_usage10', 'avg_elec_usage11',\n",
       "       'avg_elec_usage12', 'avgTemp_1', 'avgTemp_2', 'avgTemp_3', 'avgTemp_4',\n",
       "       'avgTemp_5', 'avgTemp_6', 'avgTemp_7', 'avgTemp_8', 'avgTemp_9',\n",
       "       'avgTemp_10', 'avgTemp_11', 'avgTemp_12', 'freezing_days', 'Railbelt',\n",
       "       'Exist_Fuel_#1 Oil', 'Exist_Fuel_Electricity', 'Exist_Fuel_Natural Gas',\n",
       "       'Exist_Fuel_Propane', 'Scenario_Base', 'Scenario_Community Bldg',\n",
       "       'Scenario_Large Load', 'Scenario_Low Elec', 'Scenario_No PCE',\n",
       "       'Scenario_Small Load'],\n",
       "      dtype='object')"
      ]
     },
     "execution_count": 4,
     "metadata": {},
     "output_type": "execute_result"
    }
   ],
   "source": [
    "allScens.columns"
   ]
  },
  {
   "cell_type": "code",
   "execution_count": 5,
   "metadata": {},
   "outputs": [
    {
     "data": {
      "text/plain": [
       "28107.264750234277"
      ]
     },
     "execution_count": 5,
     "metadata": {},
     "output_type": "execute_result"
    }
   ],
   "source": [
    "# getting a sense of the outcome (NPV)\n",
    "np.mean(allScens['NPV'])"
   ]
  },
  {
   "cell_type": "markdown",
   "metadata": {},
   "source": [
    "## AM Original Data :: Preparing Features and Outcome"
   ]
  },
  {
   "cell_type": "code",
   "execution_count": 6,
   "metadata": {},
   "outputs": [],
   "source": [
    "# Separating the df into input and output components\n",
    "allScens_X1 = allScens.filter(regex = 'Exist_Fuel_(?!Type)|avgTemp_[1,2,3,10,11,12]|avg_elec_usage[1,2,3,10,11,12]')\n",
    "allScens_X2 = allScens[['freezing_days', 'Oil1Price', 'PropanePrice', 'GasPrice', 'PCE', 'Sq_Ft', 'Capital_Cost', 'Design_Heat_Load', 'Design_Heat_Temp', 'rebate_dol', 'fuel_esc_rate']]\n",
    "\n",
    "X = pd.concat([allScens_X1, allScens_X2], axis=1)\n",
    "Y = allScens['NPV']\n",
    "cities = allScens['City']"
   ]
  },
  {
   "cell_type": "code",
   "execution_count": 7,
   "metadata": {},
   "outputs": [
    {
     "data": {
      "text/html": [
       "<div>\n",
       "<style scoped>\n",
       "    .dataframe tbody tr th:only-of-type {\n",
       "        vertical-align: middle;\n",
       "    }\n",
       "\n",
       "    .dataframe tbody tr th {\n",
       "        vertical-align: top;\n",
       "    }\n",
       "\n",
       "    .dataframe thead th {\n",
       "        text-align: right;\n",
       "    }\n",
       "</style>\n",
       "<table border=\"1\" class=\"dataframe\">\n",
       "  <thead>\n",
       "    <tr style=\"text-align: right;\">\n",
       "      <th></th>\n",
       "      <th>avg_elec_usage1</th>\n",
       "      <th>avg_elec_usage2</th>\n",
       "      <th>avg_elec_usage3</th>\n",
       "      <th>avg_elec_usage10</th>\n",
       "      <th>avg_elec_usage11</th>\n",
       "      <th>avg_elec_usage12</th>\n",
       "      <th>avgTemp_1</th>\n",
       "      <th>avgTemp_2</th>\n",
       "      <th>avgTemp_3</th>\n",
       "      <th>avgTemp_10</th>\n",
       "      <th>...</th>\n",
       "      <th>Oil1Price</th>\n",
       "      <th>PropanePrice</th>\n",
       "      <th>GasPrice</th>\n",
       "      <th>PCE</th>\n",
       "      <th>Sq_Ft</th>\n",
       "      <th>Capital_Cost</th>\n",
       "      <th>Design_Heat_Load</th>\n",
       "      <th>Design_Heat_Temp</th>\n",
       "      <th>rebate_dol</th>\n",
       "      <th>fuel_esc_rate</th>\n",
       "    </tr>\n",
       "  </thead>\n",
       "  <tbody>\n",
       "    <tr>\n",
       "      <th>0</th>\n",
       "      <td>471.936998</td>\n",
       "      <td>423.455318</td>\n",
       "      <td>460.815493</td>\n",
       "      <td>425.89382</td>\n",
       "      <td>443.33996</td>\n",
       "      <td>463.328994</td>\n",
       "      <td>32.287177</td>\n",
       "      <td>33.65</td>\n",
       "      <td>35.370403</td>\n",
       "      <td>42.440242</td>\n",
       "      <td>...</td>\n",
       "      <td>7.3</td>\n",
       "      <td>0.0</td>\n",
       "      <td>0.0</td>\n",
       "      <td>0.7597</td>\n",
       "      <td>1130.0</td>\n",
       "      <td>6400.0</td>\n",
       "      <td>12197.89368</td>\n",
       "      <td>22.6</td>\n",
       "      <td>0</td>\n",
       "      <td>0.03</td>\n",
       "    </tr>\n",
       "    <tr>\n",
       "      <th>1</th>\n",
       "      <td>471.936998</td>\n",
       "      <td>423.455318</td>\n",
       "      <td>460.815493</td>\n",
       "      <td>425.89382</td>\n",
       "      <td>443.33996</td>\n",
       "      <td>463.328994</td>\n",
       "      <td>32.287177</td>\n",
       "      <td>33.65</td>\n",
       "      <td>35.370403</td>\n",
       "      <td>42.440242</td>\n",
       "      <td>...</td>\n",
       "      <td>7.3</td>\n",
       "      <td>0.0</td>\n",
       "      <td>0.0</td>\n",
       "      <td>0.7597</td>\n",
       "      <td>678.0</td>\n",
       "      <td>6400.0</td>\n",
       "      <td>8148.60648</td>\n",
       "      <td>22.6</td>\n",
       "      <td>0</td>\n",
       "      <td>0.03</td>\n",
       "    </tr>\n",
       "    <tr>\n",
       "      <th>2</th>\n",
       "      <td>471.936998</td>\n",
       "      <td>423.455318</td>\n",
       "      <td>460.815493</td>\n",
       "      <td>425.89382</td>\n",
       "      <td>443.33996</td>\n",
       "      <td>463.328994</td>\n",
       "      <td>32.287177</td>\n",
       "      <td>33.65</td>\n",
       "      <td>35.370403</td>\n",
       "      <td>42.440242</td>\n",
       "      <td>...</td>\n",
       "      <td>7.3</td>\n",
       "      <td>0.0</td>\n",
       "      <td>0.0</td>\n",
       "      <td>0.7597</td>\n",
       "      <td>1695.0</td>\n",
       "      <td>6400.0</td>\n",
       "      <td>17259.50268</td>\n",
       "      <td>22.6</td>\n",
       "      <td>0</td>\n",
       "      <td>0.03</td>\n",
       "    </tr>\n",
       "    <tr>\n",
       "      <th>3</th>\n",
       "      <td>471.936998</td>\n",
       "      <td>423.455318</td>\n",
       "      <td>460.815493</td>\n",
       "      <td>425.89382</td>\n",
       "      <td>443.33996</td>\n",
       "      <td>463.328994</td>\n",
       "      <td>32.287177</td>\n",
       "      <td>33.65</td>\n",
       "      <td>35.370403</td>\n",
       "      <td>42.440242</td>\n",
       "      <td>...</td>\n",
       "      <td>7.3</td>\n",
       "      <td>0.0</td>\n",
       "      <td>0.0</td>\n",
       "      <td>0.7597</td>\n",
       "      <td>1130.0</td>\n",
       "      <td>6400.0</td>\n",
       "      <td>12197.89368</td>\n",
       "      <td>22.6</td>\n",
       "      <td>0</td>\n",
       "      <td>0.03</td>\n",
       "    </tr>\n",
       "    <tr>\n",
       "      <th>4</th>\n",
       "      <td>471.936998</td>\n",
       "      <td>423.455318</td>\n",
       "      <td>460.815493</td>\n",
       "      <td>425.89382</td>\n",
       "      <td>443.33996</td>\n",
       "      <td>463.328994</td>\n",
       "      <td>32.287177</td>\n",
       "      <td>33.65</td>\n",
       "      <td>35.370403</td>\n",
       "      <td>42.440242</td>\n",
       "      <td>...</td>\n",
       "      <td>7.3</td>\n",
       "      <td>0.0</td>\n",
       "      <td>0.0</td>\n",
       "      <td>0.7597</td>\n",
       "      <td>1130.0</td>\n",
       "      <td>6400.0</td>\n",
       "      <td>12197.89368</td>\n",
       "      <td>22.6</td>\n",
       "      <td>0</td>\n",
       "      <td>0.03</td>\n",
       "    </tr>\n",
       "  </tbody>\n",
       "</table>\n",
       "<p>5 rows × 27 columns</p>\n",
       "</div>"
      ],
      "text/plain": [
       "   avg_elec_usage1  avg_elec_usage2  avg_elec_usage3  avg_elec_usage10  \\\n",
       "0       471.936998       423.455318       460.815493         425.89382   \n",
       "1       471.936998       423.455318       460.815493         425.89382   \n",
       "2       471.936998       423.455318       460.815493         425.89382   \n",
       "3       471.936998       423.455318       460.815493         425.89382   \n",
       "4       471.936998       423.455318       460.815493         425.89382   \n",
       "\n",
       "   avg_elec_usage11  avg_elec_usage12  avgTemp_1  avgTemp_2  avgTemp_3  \\\n",
       "0         443.33996        463.328994  32.287177      33.65  35.370403   \n",
       "1         443.33996        463.328994  32.287177      33.65  35.370403   \n",
       "2         443.33996        463.328994  32.287177      33.65  35.370403   \n",
       "3         443.33996        463.328994  32.287177      33.65  35.370403   \n",
       "4         443.33996        463.328994  32.287177      33.65  35.370403   \n",
       "\n",
       "   avgTemp_10  ...  Oil1Price  PropanePrice  GasPrice     PCE   Sq_Ft  \\\n",
       "0   42.440242  ...        7.3           0.0       0.0  0.7597  1130.0   \n",
       "1   42.440242  ...        7.3           0.0       0.0  0.7597   678.0   \n",
       "2   42.440242  ...        7.3           0.0       0.0  0.7597  1695.0   \n",
       "3   42.440242  ...        7.3           0.0       0.0  0.7597  1130.0   \n",
       "4   42.440242  ...        7.3           0.0       0.0  0.7597  1130.0   \n",
       "\n",
       "   Capital_Cost  Design_Heat_Load  Design_Heat_Temp  rebate_dol  fuel_esc_rate  \n",
       "0        6400.0       12197.89368              22.6           0           0.03  \n",
       "1        6400.0        8148.60648              22.6           0           0.03  \n",
       "2        6400.0       17259.50268              22.6           0           0.03  \n",
       "3        6400.0       12197.89368              22.6           0           0.03  \n",
       "4        6400.0       12197.89368              22.6           0           0.03  \n",
       "\n",
       "[5 rows x 27 columns]"
      ]
     },
     "execution_count": 7,
     "metadata": {},
     "output_type": "execute_result"
    }
   ],
   "source": [
    "X.head()"
   ]
  },
  {
   "cell_type": "markdown",
   "metadata": {},
   "source": [
    "## AM Original Data :: Simple Random Forest"
   ]
  },
  {
   "cell_type": "code",
   "execution_count": 8,
   "metadata": {},
   "outputs": [
    {
     "name": "stdout",
     "output_type": "stream",
     "text": [
      "The RMSE of the model is 5802.487617533115\n",
      "The MAE of the model is 3114.3351434556293\n"
     ]
    }
   ],
   "source": [
    "# Naive split (disregard cities)\n",
    "X_train, X_test, Y_train, Y_test = train_test_split(X, Y, test_size=0.33)\n",
    "\n",
    "# Fitting a random forest \n",
    "model = RandomForestRegressor()\n",
    "model.fit(X_train, Y_train)\n",
    "\n",
    "# Making predictions\n",
    "Y_pred = model.predict(X_test)\n",
    "\n",
    "# Assess performance\n",
    "rmse = mean_squared_error(Y_test, Y_pred, squared=False)\n",
    "mae = mean_absolute_error(Y_test, Y_pred)\n",
    "print(\"The RMSE of the model is\", rmse)\n",
    "print(\"The MAE of the model is\", mae)"
   ]
  },
  {
   "cell_type": "code",
   "execution_count": 9,
   "metadata": {},
   "outputs": [
    {
     "name": "stdout",
     "output_type": "stream",
     "text": [
      "The RMSE of the model is 11701.980226834643\n",
      "The MAE of the model is 6778.082774000571\n"
     ]
    }
   ],
   "source": [
    "# Split by city (some cities only appear in training, but not testing sets)\n",
    "split = GroupKFold(n_splits=5).split(allScens, groups=allScens['City'])\n",
    "train_inds, test_inds = next(split)\n",
    "\n",
    "X_train_byCity = X.iloc[train_inds]\n",
    "Y_train_byCity = Y.iloc[train_inds]\n",
    "X_test_byCity = X.iloc[test_inds]\n",
    "Y_test_byCity = Y.iloc[test_inds]\n",
    "\n",
    "# Naive model\n",
    "model = RandomForestRegressor()\n",
    "model.fit(X_train_byCity, Y_train_byCity)\n",
    "\n",
    "# Making predictions\n",
    "Y_pred_byCity = model.predict(X_test_byCity)\n",
    "\n",
    "# Assess performance\n",
    "rmse_byCity = mean_squared_error(Y_test_byCity, Y_pred_byCity, squared=False)\n",
    "mae_byCity = mean_absolute_error(Y_test_byCity, Y_pred_byCity)\n",
    "print(\"The RMSE of the model is\", rmse_byCity)\n",
    "print(\"The MAE of the model is\", mae_byCity)"
   ]
  },
  {
   "cell_type": "markdown",
   "metadata": {},
   "source": [
    "## AM Original Data :: Extreme Gradient Boosting Model (XGB)"
   ]
  },
  {
   "cell_type": "code",
   "execution_count": 10,
   "metadata": {},
   "outputs": [
    {
     "name": "stdout",
     "output_type": "stream",
     "text": [
      "The RMSE of the model is 4484.902173913567\n",
      "The MAE of the model is 3061.823319073927\n"
     ]
    }
   ],
   "source": [
    "# Naive split (disregard cities)\n",
    "X_train, X_test, Y_train, Y_test = train_test_split(X, Y, test_size=0.33)\n",
    "\n",
    "# Naive model\n",
    "xgb_reg = xgb.XGBRegressor()\n",
    "xgb_reg.fit(X_train, Y_train)\n",
    "\n",
    "# Making predictions\n",
    "Y_pred = xgb_reg.predict(X_test)\n",
    "\n",
    "# Assess performance\n",
    "rmse = mean_squared_error(Y_test, Y_pred, squared=False)\n",
    "mae = mean_absolute_error(Y_test, Y_pred)\n",
    "print(\"The RMSE of the model is\", rmse)\n",
    "print(\"The MAE of the model is\", mae)"
   ]
  },
  {
   "cell_type": "code",
   "execution_count": 11,
   "metadata": {},
   "outputs": [
    {
     "name": "stdout",
     "output_type": "stream",
     "text": [
      "The RMSE of the model is 11699.056505365146\n",
      "The MAE of the model is 7057.575274930493\n"
     ]
    }
   ],
   "source": [
    "# Group based split\n",
    "split = GroupKFold(n_splits=5).split(allScens, groups=allScens['City'])\n",
    "train_inds, test_inds = next(split)\n",
    "\n",
    "X_train_byCity = X.iloc[train_inds]\n",
    "Y_train_byCity = Y.iloc[train_inds]\n",
    "X_test_byCity = X.iloc[test_inds]\n",
    "Y_test_byCity = Y.iloc[test_inds]\n",
    "\n",
    "# Naive model\n",
    "xgb_reg = xgb.XGBRegressor()\n",
    "xgb_reg.fit(X_train_byCity, Y_train_byCity)\n",
    "\n",
    "# Making predictions\n",
    "Y_pred_byCity = xgb_reg.predict(X_test_byCity)\n",
    "\n",
    "# Assess performance\n",
    "rmse_byCity = mean_squared_error(Y_test_byCity, Y_pred_byCity, squared=False)\n",
    "mae_byCity = mean_absolute_error(Y_test_byCity, Y_pred_byCity)\n",
    "print(\"The RMSE of the model is\", rmse_byCity)\n",
    "print(\"The MAE of the model is\", mae_byCity)"
   ]
  },
  {
   "cell_type": "markdown",
   "metadata": {},
   "source": [
    "## Loading simulated data with extra randomness"
   ]
  },
  {
   "cell_type": "code",
   "execution_count": 12,
   "metadata": {},
   "outputs": [],
   "source": [
    "allScensR = pd.read_csv('../Output/allScens_wRandomness_augmented.csv', usecols=lambda x: x not in ['Unnamed: 0'])"
   ]
  },
  {
   "cell_type": "code",
   "execution_count": 13,
   "metadata": {},
   "outputs": [],
   "source": [
    "allScensR = pd.get_dummies(allScensR, columns=['Exist_Fuel', 'Scenario'])"
   ]
  },
  {
   "cell_type": "code",
   "execution_count": 14,
   "metadata": {},
   "outputs": [],
   "source": [
    "# Separating the df into input and output components\n",
    "allScensR_X1 = allScensR.filter(regex = 'Exist_Fuel_(?!Type)|Avg_Temp_[1,2,3,10,11,12]|Elec_Use_')\n",
    "allScensR_X2 = allScensR[['Freezing_days', 'Exist_Unit_Fuel_Cost', 'Elec_Rate_Avg_Base', 'PCE', 'Sq_Ft', 'Capital_Cost', 'Design_Heat_Load', 'Design_Heat_Temp', 'Rebate_dol', 'Fuel_Esc_Rate']]\n",
    "\n",
    "Xr = pd.concat([allScensR_X1, allScensR_X2], axis=1)\n",
    "Yr = allScensR['NPV']\n",
    "citiesR = allScensR['City']"
   ]
  },
  {
   "cell_type": "code",
   "execution_count": 15,
   "metadata": {},
   "outputs": [
    {
     "data": {
      "text/plain": [
       "33683.30427644264"
      ]
     },
     "execution_count": 15,
     "metadata": {},
     "output_type": "execute_result"
    }
   ],
   "source": [
    "# getting a sense of the outcome (NPV)\n",
    "np.mean(allScensR['NPV'])"
   ]
  },
  {
   "cell_type": "markdown",
   "metadata": {},
   "source": [
    "## Simulated Data w/ Extra Randomness :: XGB"
   ]
  },
  {
   "cell_type": "code",
   "execution_count": 16,
   "metadata": {},
   "outputs": [
    {
     "name": "stdout",
     "output_type": "stream",
     "text": [
      "The RMSE of the model is 17594.844098330377\n",
      "The MAE of the model is 10765.983139977405\n"
     ]
    }
   ],
   "source": [
    "# Naive split (disregard cities)\n",
    "Xr_train, Xr_test, Yr_train, Yr_test = train_test_split(Xr, Yr, test_size=0.33)\n",
    "\n",
    "# Naive model\n",
    "xgb_reg = xgb.XGBRegressor()\n",
    "xgb_reg.fit(Xr_train, Yr_train)\n",
    "\n",
    "# Making predictions\n",
    "Yr_pred = xgb_reg.predict(Xr_test)\n",
    "\n",
    "# Assess performance\n",
    "rmseR = mean_squared_error(Yr_test, Yr_pred, squared=False)\n",
    "maeR = mean_absolute_error(Yr_test, Yr_pred)\n",
    "print(\"The RMSE of the model is\", rmseR)\n",
    "print(\"The MAE of the model is\", maeR)"
   ]
  },
  {
   "cell_type": "code",
   "execution_count": 17,
   "metadata": {},
   "outputs": [
    {
     "name": "stdout",
     "output_type": "stream",
     "text": [
      "The RMSE of the model is 16588.076477921913\n",
      "The MAE of the model is 10098.849507728251\n"
     ]
    }
   ],
   "source": [
    "# Group based split\n",
    "splitR = GroupKFold(n_splits=5).split(allScensR, groups=allScensR['City'])\n",
    "trainR_inds, testR_inds = next(splitR)\n",
    "\n",
    "Xr_train_byCity = Xr.iloc[trainR_inds]\n",
    "Yr_train_byCity = Yr.iloc[trainR_inds]\n",
    "Xr_test_byCity = Xr.iloc[testR_inds]\n",
    "Yr_test_byCity = Yr.iloc[testR_inds]\n",
    "\n",
    "# Naive model\n",
    "xgb_reg = xgb.XGBRegressor()\n",
    "xgb_reg.fit(Xr_train_byCity, Yr_train_byCity)\n",
    "\n",
    "# Making predictions\n",
    "Yr_pred_byCity = xgb_reg.predict(Xr_test_byCity)\n",
    "\n",
    "# Assess performance\n",
    "rmseR_byCity = mean_squared_error(Yr_test_byCity, Yr_pred_byCity, squared=False)\n",
    "maeR_byCity = mean_absolute_error(Yr_test_byCity, Yr_pred_byCity)\n",
    "print(\"The RMSE of the model is\", rmseR_byCity)\n",
    "print(\"The MAE of the model is\", maeR_byCity)"
   ]
  },
  {
   "cell_type": "markdown",
   "metadata": {},
   "source": [
    "## Simulated Data w/ Extra Randomness :: XGB with Random Search CV"
   ]
  },
  {
   "cell_type": "code",
   "execution_count": 18,
   "metadata": {},
   "outputs": [],
   "source": [
    "random_grid = {\n",
    " 'learning_rate' : [0.05,0.10,0.15,0.20,0.25,0.30],\n",
    " 'n_estimators': [50, 100, 200, 500],\n",
    " 'max_depth' : [ 3, 4, 5, 6, 8, 10, 12, 15],\n",
    " 'subsample' : [0.2, 0.4, 0.8, 1.0],\n",
    " 'min_child_weight' : [ 1, 3, 5, 7 ],\n",
    " 'gamma': [ 0.0, 0.1, 0.2 , 0.3, 0.4 ],\n",
    " 'colsample_bytree' : [ 0.3, 0.4, 0.5 , 0.7 ]\n",
    "}"
   ]
  },
  {
   "cell_type": "code",
   "execution_count": 20,
   "metadata": {},
   "outputs": [],
   "source": [
    "rs_model=RandomizedSearchCV(xgb_reg,\n",
    "                            param_distributions=random_grid,\n",
    "                            n_iter=5,\n",
    "                            cv=GroupKFold(n_splits=5).split(allScensR, groups=allScensR['City']),\n",
    "                            scoring='neg_mean_absolute_error',\n",
    "                            n_jobs=-1,\n",
    "                            verbose=2)"
   ]
  },
  {
   "cell_type": "code",
   "execution_count": 21,
   "metadata": {},
   "outputs": [
    {
     "name": "stdout",
     "output_type": "stream",
     "text": [
      "Fitting 5 folds for each of 5 candidates, totalling 25 fits\n",
      "[CV] END colsample_bytree=0.3, gamma=0.4, learning_rate=0.1, max_depth=4, min_child_weight=5, n_estimators=100, subsample=1.0; total time=   1.0s\n",
      "[CV] END colsample_bytree=0.3, gamma=0.4, learning_rate=0.1, max_depth=4, min_child_weight=5, n_estimators=100, subsample=1.0; total time=   1.0s\n",
      "[CV] END colsample_bytree=0.3, gamma=0.4, learning_rate=0.1, max_depth=4, min_child_weight=5, n_estimators=100, subsample=1.0; total time=   1.0s\n",
      "[CV] END colsample_bytree=0.3, gamma=0.4, learning_rate=0.1, max_depth=4, min_child_weight=5, n_estimators=100, subsample=1.0; total time=   1.0s\n",
      "[CV] END colsample_bytree=0.3, gamma=0.4, learning_rate=0.1, max_depth=4, min_child_weight=5, n_estimators=100, subsample=1.0; total time=   1.1s\n",
      "[CV] END colsample_bytree=0.4, gamma=0.0, learning_rate=0.2, max_depth=4, min_child_weight=3, n_estimators=100, subsample=0.8; total time=   1.3s\n",
      "[CV] END colsample_bytree=0.4, gamma=0.0, learning_rate=0.2, max_depth=4, min_child_weight=3, n_estimators=100, subsample=0.8; total time=   1.4s\n",
      "[CV] END colsample_bytree=0.4, gamma=0.0, learning_rate=0.2, max_depth=4, min_child_weight=3, n_estimators=100, subsample=0.8; total time=   1.6s\n",
      "[CV] END colsample_bytree=0.4, gamma=0.0, learning_rate=0.2, max_depth=4, min_child_weight=3, n_estimators=100, subsample=0.8; total time=   1.2s\n",
      "[CV] END colsample_bytree=0.4, gamma=0.0, learning_rate=0.2, max_depth=4, min_child_weight=3, n_estimators=100, subsample=0.8; total time=   1.2s\n",
      "[CV] END colsample_bytree=0.3, gamma=0.4, learning_rate=0.05, max_depth=3, min_child_weight=1, n_estimators=100, subsample=0.4; total time=   0.6s\n",
      "[CV] END colsample_bytree=0.3, gamma=0.4, learning_rate=0.05, max_depth=3, min_child_weight=1, n_estimators=100, subsample=0.4; total time=   1.0s\n",
      "[CV] END colsample_bytree=0.3, gamma=0.4, learning_rate=0.05, max_depth=3, min_child_weight=1, n_estimators=100, subsample=0.4; total time=   0.7s\n",
      "[CV] END colsample_bytree=0.5, gamma=0.4, learning_rate=0.15, max_depth=15, min_child_weight=5, n_estimators=50, subsample=0.2; total time=   1.9s\n",
      "[CV] END colsample_bytree=0.5, gamma=0.4, learning_rate=0.15, max_depth=15, min_child_weight=5, n_estimators=50, subsample=0.2; total time=   1.6s\n",
      "[CV] END colsample_bytree=0.5, gamma=0.4, learning_rate=0.15, max_depth=15, min_child_weight=5, n_estimators=50, subsample=0.2; total time=   2.0s\n",
      "[CV] END colsample_bytree=0.5, gamma=0.4, learning_rate=0.15, max_depth=15, min_child_weight=5, n_estimators=50, subsample=0.2; total time=   2.2s\n",
      "[CV] END colsample_bytree=0.5, gamma=0.4, learning_rate=0.15, max_depth=15, min_child_weight=5, n_estimators=50, subsample=0.2; total time=   2.0s\n",
      "[CV] END colsample_bytree=0.3, gamma=0.4, learning_rate=0.05, max_depth=3, min_child_weight=1, n_estimators=100, subsample=0.4; total time=   0.7s\n",
      "[CV] END colsample_bytree=0.3, gamma=0.4, learning_rate=0.05, max_depth=3, min_child_weight=1, n_estimators=100, subsample=0.4; total time=   0.8s\n",
      "[CV] END colsample_bytree=0.4, gamma=0.4, learning_rate=0.1, max_depth=12, min_child_weight=1, n_estimators=50, subsample=0.8; total time=   1.9s\n",
      "[CV] END colsample_bytree=0.4, gamma=0.4, learning_rate=0.1, max_depth=12, min_child_weight=1, n_estimators=50, subsample=0.8; total time=   2.0s\n",
      "[CV] END colsample_bytree=0.4, gamma=0.4, learning_rate=0.1, max_depth=12, min_child_weight=1, n_estimators=50, subsample=0.8; total time=   2.1s\n",
      "[CV] END colsample_bytree=0.4, gamma=0.4, learning_rate=0.1, max_depth=12, min_child_weight=1, n_estimators=50, subsample=0.8; total time=   2.0s\n",
      "[CV] END colsample_bytree=0.4, gamma=0.4, learning_rate=0.1, max_depth=12, min_child_weight=1, n_estimators=50, subsample=0.8; total time=   1.9s\n"
     ]
    },
    {
     "data": {
      "text/html": [
       "<style>#sk-container-id-1 {color: black;}#sk-container-id-1 pre{padding: 0;}#sk-container-id-1 div.sk-toggleable {background-color: white;}#sk-container-id-1 label.sk-toggleable__label {cursor: pointer;display: block;width: 100%;margin-bottom: 0;padding: 0.3em;box-sizing: border-box;text-align: center;}#sk-container-id-1 label.sk-toggleable__label-arrow:before {content: \"▸\";float: left;margin-right: 0.25em;color: #696969;}#sk-container-id-1 label.sk-toggleable__label-arrow:hover:before {color: black;}#sk-container-id-1 div.sk-estimator:hover label.sk-toggleable__label-arrow:before {color: black;}#sk-container-id-1 div.sk-toggleable__content {max-height: 0;max-width: 0;overflow: hidden;text-align: left;background-color: #f0f8ff;}#sk-container-id-1 div.sk-toggleable__content pre {margin: 0.2em;color: black;border-radius: 0.25em;background-color: #f0f8ff;}#sk-container-id-1 input.sk-toggleable__control:checked~div.sk-toggleable__content {max-height: 200px;max-width: 100%;overflow: auto;}#sk-container-id-1 input.sk-toggleable__control:checked~label.sk-toggleable__label-arrow:before {content: \"▾\";}#sk-container-id-1 div.sk-estimator input.sk-toggleable__control:checked~label.sk-toggleable__label {background-color: #d4ebff;}#sk-container-id-1 div.sk-label input.sk-toggleable__control:checked~label.sk-toggleable__label {background-color: #d4ebff;}#sk-container-id-1 input.sk-hidden--visually {border: 0;clip: rect(1px 1px 1px 1px);clip: rect(1px, 1px, 1px, 1px);height: 1px;margin: -1px;overflow: hidden;padding: 0;position: absolute;width: 1px;}#sk-container-id-1 div.sk-estimator {font-family: monospace;background-color: #f0f8ff;border: 1px dotted black;border-radius: 0.25em;box-sizing: border-box;margin-bottom: 0.5em;}#sk-container-id-1 div.sk-estimator:hover {background-color: #d4ebff;}#sk-container-id-1 div.sk-parallel-item::after {content: \"\";width: 100%;border-bottom: 1px solid gray;flex-grow: 1;}#sk-container-id-1 div.sk-label:hover label.sk-toggleable__label {background-color: #d4ebff;}#sk-container-id-1 div.sk-serial::before {content: \"\";position: absolute;border-left: 1px solid gray;box-sizing: border-box;top: 0;bottom: 0;left: 50%;z-index: 0;}#sk-container-id-1 div.sk-serial {display: flex;flex-direction: column;align-items: center;background-color: white;padding-right: 0.2em;padding-left: 0.2em;position: relative;}#sk-container-id-1 div.sk-item {position: relative;z-index: 1;}#sk-container-id-1 div.sk-parallel {display: flex;align-items: stretch;justify-content: center;background-color: white;position: relative;}#sk-container-id-1 div.sk-item::before, #sk-container-id-1 div.sk-parallel-item::before {content: \"\";position: absolute;border-left: 1px solid gray;box-sizing: border-box;top: 0;bottom: 0;left: 50%;z-index: -1;}#sk-container-id-1 div.sk-parallel-item {display: flex;flex-direction: column;z-index: 1;position: relative;background-color: white;}#sk-container-id-1 div.sk-parallel-item:first-child::after {align-self: flex-end;width: 50%;}#sk-container-id-1 div.sk-parallel-item:last-child::after {align-self: flex-start;width: 50%;}#sk-container-id-1 div.sk-parallel-item:only-child::after {width: 0;}#sk-container-id-1 div.sk-dashed-wrapped {border: 1px dashed gray;margin: 0 0.4em 0.5em 0.4em;box-sizing: border-box;padding-bottom: 0.4em;background-color: white;}#sk-container-id-1 div.sk-label label {font-family: monospace;font-weight: bold;display: inline-block;line-height: 1.2em;}#sk-container-id-1 div.sk-label-container {text-align: center;}#sk-container-id-1 div.sk-container {/* jupyter's `normalize.less` sets `[hidden] { display: none; }` but bootstrap.min.css set `[hidden] { display: none !important; }` so we also need the `!important` here to be able to override the default hidden behavior on the sphinx rendered scikit-learn.org. See: https://github.com/scikit-learn/scikit-learn/issues/21755 */display: inline-block !important;position: relative;}#sk-container-id-1 div.sk-text-repr-fallback {display: none;}</style><div id=\"sk-container-id-1\" class=\"sk-top-container\"><div class=\"sk-text-repr-fallback\"><pre>RandomizedSearchCV(cv=&lt;generator object _BaseKFold.split at 0x14046af80&gt;,\n",
       "                   estimator=XGBRegressor(base_score=None, booster=None,\n",
       "                                          callbacks=None,\n",
       "                                          colsample_bylevel=None,\n",
       "                                          colsample_bynode=None,\n",
       "                                          colsample_bytree=None,\n",
       "                                          early_stopping_rounds=None,\n",
       "                                          enable_categorical=False,\n",
       "                                          eval_metric=None, feature_types=None,\n",
       "                                          gamma=None, gpu_id=None,\n",
       "                                          grow_policy=None,\n",
       "                                          importance_type=Non...\n",
       "                                          predictor=None, random_state=None, ...),\n",
       "                   n_iter=5, n_jobs=-1,\n",
       "                   param_distributions={&#x27;colsample_bytree&#x27;: [0.3, 0.4, 0.5,\n",
       "                                                             0.7],\n",
       "                                        &#x27;gamma&#x27;: [0.0, 0.1, 0.2, 0.3, 0.4],\n",
       "                                        &#x27;learning_rate&#x27;: [0.05, 0.1, 0.15, 0.2,\n",
       "                                                          0.25, 0.3],\n",
       "                                        &#x27;max_depth&#x27;: [3, 4, 5, 6, 8, 10, 12,\n",
       "                                                      15],\n",
       "                                        &#x27;min_child_weight&#x27;: [1, 3, 5, 7],\n",
       "                                        &#x27;n_estimators&#x27;: [50, 100, 200, 500],\n",
       "                                        &#x27;subsample&#x27;: [0.2, 0.4, 0.8, 1.0]},\n",
       "                   scoring=&#x27;neg_mean_absolute_error&#x27;, verbose=2)</pre><b>In a Jupyter environment, please rerun this cell to show the HTML representation or trust the notebook. <br />On GitHub, the HTML representation is unable to render, please try loading this page with nbviewer.org.</b></div><div class=\"sk-container\" hidden><div class=\"sk-item sk-dashed-wrapped\"><div class=\"sk-label-container\"><div class=\"sk-label sk-toggleable\"><input class=\"sk-toggleable__control sk-hidden--visually\" id=\"sk-estimator-id-1\" type=\"checkbox\" ><label for=\"sk-estimator-id-1\" class=\"sk-toggleable__label sk-toggleable__label-arrow\">RandomizedSearchCV</label><div class=\"sk-toggleable__content\"><pre>RandomizedSearchCV(cv=&lt;generator object _BaseKFold.split at 0x14046af80&gt;,\n",
       "                   estimator=XGBRegressor(base_score=None, booster=None,\n",
       "                                          callbacks=None,\n",
       "                                          colsample_bylevel=None,\n",
       "                                          colsample_bynode=None,\n",
       "                                          colsample_bytree=None,\n",
       "                                          early_stopping_rounds=None,\n",
       "                                          enable_categorical=False,\n",
       "                                          eval_metric=None, feature_types=None,\n",
       "                                          gamma=None, gpu_id=None,\n",
       "                                          grow_policy=None,\n",
       "                                          importance_type=Non...\n",
       "                                          predictor=None, random_state=None, ...),\n",
       "                   n_iter=5, n_jobs=-1,\n",
       "                   param_distributions={&#x27;colsample_bytree&#x27;: [0.3, 0.4, 0.5,\n",
       "                                                             0.7],\n",
       "                                        &#x27;gamma&#x27;: [0.0, 0.1, 0.2, 0.3, 0.4],\n",
       "                                        &#x27;learning_rate&#x27;: [0.05, 0.1, 0.15, 0.2,\n",
       "                                                          0.25, 0.3],\n",
       "                                        &#x27;max_depth&#x27;: [3, 4, 5, 6, 8, 10, 12,\n",
       "                                                      15],\n",
       "                                        &#x27;min_child_weight&#x27;: [1, 3, 5, 7],\n",
       "                                        &#x27;n_estimators&#x27;: [50, 100, 200, 500],\n",
       "                                        &#x27;subsample&#x27;: [0.2, 0.4, 0.8, 1.0]},\n",
       "                   scoring=&#x27;neg_mean_absolute_error&#x27;, verbose=2)</pre></div></div></div><div class=\"sk-parallel\"><div class=\"sk-parallel-item\"><div class=\"sk-item\"><div class=\"sk-label-container\"><div class=\"sk-label sk-toggleable\"><input class=\"sk-toggleable__control sk-hidden--visually\" id=\"sk-estimator-id-2\" type=\"checkbox\" ><label for=\"sk-estimator-id-2\" class=\"sk-toggleable__label sk-toggleable__label-arrow\">estimator: XGBRegressor</label><div class=\"sk-toggleable__content\"><pre>XGBRegressor(base_score=None, booster=None, callbacks=None,\n",
       "             colsample_bylevel=None, colsample_bynode=None,\n",
       "             colsample_bytree=None, early_stopping_rounds=None,\n",
       "             enable_categorical=False, eval_metric=None, feature_types=None,\n",
       "             gamma=None, gpu_id=None, grow_policy=None, importance_type=None,\n",
       "             interaction_constraints=None, learning_rate=None, max_bin=None,\n",
       "             max_cat_threshold=None, max_cat_to_onehot=None,\n",
       "             max_delta_step=None, max_depth=None, max_leaves=None,\n",
       "             min_child_weight=None, missing=nan, monotone_constraints=None,\n",
       "             n_estimators=100, n_jobs=None, num_parallel_tree=None,\n",
       "             predictor=None, random_state=None, ...)</pre></div></div></div><div class=\"sk-serial\"><div class=\"sk-item\"><div class=\"sk-estimator sk-toggleable\"><input class=\"sk-toggleable__control sk-hidden--visually\" id=\"sk-estimator-id-3\" type=\"checkbox\" ><label for=\"sk-estimator-id-3\" class=\"sk-toggleable__label sk-toggleable__label-arrow\">XGBRegressor</label><div class=\"sk-toggleable__content\"><pre>XGBRegressor(base_score=None, booster=None, callbacks=None,\n",
       "             colsample_bylevel=None, colsample_bynode=None,\n",
       "             colsample_bytree=None, early_stopping_rounds=None,\n",
       "             enable_categorical=False, eval_metric=None, feature_types=None,\n",
       "             gamma=None, gpu_id=None, grow_policy=None, importance_type=None,\n",
       "             interaction_constraints=None, learning_rate=None, max_bin=None,\n",
       "             max_cat_threshold=None, max_cat_to_onehot=None,\n",
       "             max_delta_step=None, max_depth=None, max_leaves=None,\n",
       "             min_child_weight=None, missing=nan, monotone_constraints=None,\n",
       "             n_estimators=100, n_jobs=None, num_parallel_tree=None,\n",
       "             predictor=None, random_state=None, ...)</pre></div></div></div></div></div></div></div></div></div></div>"
      ],
      "text/plain": [
       "RandomizedSearchCV(cv=<generator object _BaseKFold.split at 0x14046af80>,\n",
       "                   estimator=XGBRegressor(base_score=None, booster=None,\n",
       "                                          callbacks=None,\n",
       "                                          colsample_bylevel=None,\n",
       "                                          colsample_bynode=None,\n",
       "                                          colsample_bytree=None,\n",
       "                                          early_stopping_rounds=None,\n",
       "                                          enable_categorical=False,\n",
       "                                          eval_metric=None, feature_types=None,\n",
       "                                          gamma=None, gpu_id=None,\n",
       "                                          grow_policy=None,\n",
       "                                          importance_type=Non...\n",
       "                                          predictor=None, random_state=None, ...),\n",
       "                   n_iter=5, n_jobs=-1,\n",
       "                   param_distributions={'colsample_bytree': [0.3, 0.4, 0.5,\n",
       "                                                             0.7],\n",
       "                                        'gamma': [0.0, 0.1, 0.2, 0.3, 0.4],\n",
       "                                        'learning_rate': [0.05, 0.1, 0.15, 0.2,\n",
       "                                                          0.25, 0.3],\n",
       "                                        'max_depth': [3, 4, 5, 6, 8, 10, 12,\n",
       "                                                      15],\n",
       "                                        'min_child_weight': [1, 3, 5, 7],\n",
       "                                        'n_estimators': [50, 100, 200, 500],\n",
       "                                        'subsample': [0.2, 0.4, 0.8, 1.0]},\n",
       "                   scoring='neg_mean_absolute_error', verbose=2)"
      ]
     },
     "execution_count": 21,
     "metadata": {},
     "output_type": "execute_result"
    }
   ],
   "source": [
    "rs_model.fit(Xr, Yr, groups=allScensR['City'])"
   ]
  },
  {
   "cell_type": "code",
   "execution_count": 22,
   "metadata": {},
   "outputs": [
    {
     "data": {
      "text/plain": [
       "{'subsample': 0.8,\n",
       " 'n_estimators': 100,\n",
       " 'min_child_weight': 3,\n",
       " 'max_depth': 4,\n",
       " 'learning_rate': 0.2,\n",
       " 'gamma': 0.0,\n",
       " 'colsample_bytree': 0.4}"
      ]
     },
     "execution_count": 22,
     "metadata": {},
     "output_type": "execute_result"
    }
   ],
   "source": [
    "rs_model.best_params_"
   ]
  },
  {
   "cell_type": "code",
   "execution_count": 23,
   "metadata": {},
   "outputs": [],
   "source": [
    "best_model = rs_model.best_estimator_"
   ]
  },
  {
   "cell_type": "code",
   "execution_count": 24,
   "metadata": {},
   "outputs": [
    {
     "data": {
      "text/plain": [
       "16290.284062436445"
      ]
     },
     "execution_count": 24,
     "metadata": {},
     "output_type": "execute_result"
    }
   ],
   "source": [
    "Yr_pred_byCity = best_model.predict(Xr_test_byCity)\n",
    "mean_absolute_error(Y_test_byCity, Yr_pred_byCity)"
   ]
  }
 ],
 "metadata": {
  "kernelspec": {
   "display_name": "base",
   "language": "python",
   "name": "python3"
  },
  "language_info": {
   "codemirror_mode": {
    "name": "ipython",
    "version": 3
   },
   "file_extension": ".py",
   "mimetype": "text/x-python",
   "name": "python",
   "nbconvert_exporter": "python",
   "pygments_lexer": "ipython3",
   "version": "3.11.4"
  },
  "orig_nbformat": 4
 },
 "nbformat": 4,
 "nbformat_minor": 2
}
