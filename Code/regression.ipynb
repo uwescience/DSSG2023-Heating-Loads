{
 "cells": [
  {
   "cell_type": "code",
   "execution_count": 10,
   "metadata": {},
   "outputs": [],
   "source": [
    "import numpy as np\n",
    "from numpy import mean\n",
    "from numpy import std\n",
    "import pandas as pd\n",
    "from sklearn.metrics import mean_squared_error \n",
    "from sklearn.metrics import mean_absolute_error \n",
    "from sklearn.linear_model import LinearRegression\n",
    "from sklearn.linear_model import Lasso\n",
    "from sklearn.linear_model import RidgeCV\n",
    "from sklearn.ensemble import RandomForestRegressor\n",
    "from sklearn.ensemble import GradientBoostingRegressor\n",
    "from sklearn.model_selection import train_test_split\n",
    "from sklearn.model_selection import RepeatedKFold\n",
    "from sklearn.model_selection import cross_val_score\n",
    "from sklearn.model_selection import RandomizedSearchCV\n",
    "from sklearn.pipeline import make_pipeline\n",
    "from sklearn.preprocessing import StandardScaler\n",
    "import matplotlib.pyplot as plt\n",
    "import xgboost as xgb"
   ]
  },
  {
   "cell_type": "markdown",
   "metadata": {},
   "source": [
    "## Loading simulated data with AM's original code and TMY3 data"
   ]
  },
  {
   "cell_type": "code",
   "execution_count": 32,
   "metadata": {},
   "outputs": [],
   "source": [
    "allScens = pd.read_csv('../Output/allScens_augmented.csv', usecols=lambda x: x not in ['Unnamed: 0'])"
   ]
  },
  {
   "cell_type": "code",
   "execution_count": 33,
   "metadata": {},
   "outputs": [],
   "source": [
    "allScens = pd.get_dummies(allScens, columns=['Exist_Fuel', 'Scenario'])"
   ]
  },
  {
   "cell_type": "code",
   "execution_count": 34,
   "metadata": {},
   "outputs": [
    {
     "data": {
      "text/plain": [
       "Index(['City', 'Exist_Fuel_Type', 'Census_Area', 'ANCSA_Region', 'Util_Name',\n",
       "       'PCE', 'Sq_Ft', 'Capital_Cost', 'Elec_Use_Jan', 'Elec_Use_May',\n",
       "       'Design_Heat_Load', 'Design_Heat_Temp', 'COP', 'Max_HP_Cap_Reached',\n",
       "       'HP_Load_Frac', 'IRR', 'NPV', 'CO2_lbs_saved',\n",
       "       'CO2_driving_miles_saved', 'Fuel_Use_Chg', 'Fuel_Price_Incremental',\n",
       "       'Elec_Use_Chg', 'Elec_Rate_Incremental', 'Econ', 'rebate_dol',\n",
       "       'fuel_esc_rate', 'TMYid', 'Longitude', 'Latitude', 'Oil1Price',\n",
       "       'PropanePrice', 'GasPrice', 'avg_elec_usage1', 'avg_elec_usage2',\n",
       "       'avg_elec_usage3', 'avg_elec_usage4', 'avg_elec_usage5',\n",
       "       'avg_elec_usage6', 'avg_elec_usage7', 'avg_elec_usage8',\n",
       "       'avg_elec_usage9', 'avg_elec_usage10', 'avg_elec_usage11',\n",
       "       'avg_elec_usage12', 'avgTemp_1', 'avgTemp_2', 'avgTemp_3', 'avgTemp_4',\n",
       "       'avgTemp_5', 'avgTemp_6', 'avgTemp_7', 'avgTemp_8', 'avgTemp_9',\n",
       "       'avgTemp_10', 'avgTemp_11', 'avgTemp_12', 'freezing_days', 'Railbelt',\n",
       "       'Exist_Fuel_#1 Oil', 'Exist_Fuel_Electricity', 'Exist_Fuel_Natural Gas',\n",
       "       'Exist_Fuel_Propane', 'Scenario_Base', 'Scenario_Community Bldg',\n",
       "       'Scenario_Large Load', 'Scenario_Low Elec', 'Scenario_No PCE',\n",
       "       'Scenario_Small Load'],\n",
       "      dtype='object')"
      ]
     },
     "execution_count": 34,
     "metadata": {},
     "output_type": "execute_result"
    }
   ],
   "source": [
    "allScens.columns"
   ]
  },
  {
   "cell_type": "markdown",
   "metadata": {},
   "source": [
    "## Building regression models"
   ]
  },
  {
   "cell_type": "code",
   "execution_count": 35,
   "metadata": {},
   "outputs": [],
   "source": [
    "# Separating the df into input and output components\n",
    "allScens_numerics1 = allScens.filter(regex = 'Exist_Fuel_(?!Type)|avgTemp_[1,2,3,10,11,12]|avg_elec_usage[1,2,3,10,11,12]')\n",
    "allScens_numerics2 = allScens[['freezing_days', 'Oil1Price', 'PropanePrice', 'GasPrice', 'PCE', 'Sq_Ft', 'Capital_Cost', 'Design_Heat_Load', 'Design_Heat_Temp', 'rebate_dol', 'fuel_esc_rate']]\n",
    "\n",
    "X = pd.concat([allScens_numerics1, allScens_numerics2], axis=1)\n",
    "Y = allScens['NPV']\n",
    "cities = allScens['City']"
   ]
  },
  {
   "cell_type": "code",
   "execution_count": 36,
   "metadata": {},
   "outputs": [
    {
     "data": {
      "text/html": [
       "<div>\n",
       "<style scoped>\n",
       "    .dataframe tbody tr th:only-of-type {\n",
       "        vertical-align: middle;\n",
       "    }\n",
       "\n",
       "    .dataframe tbody tr th {\n",
       "        vertical-align: top;\n",
       "    }\n",
       "\n",
       "    .dataframe thead th {\n",
       "        text-align: right;\n",
       "    }\n",
       "</style>\n",
       "<table border=\"1\" class=\"dataframe\">\n",
       "  <thead>\n",
       "    <tr style=\"text-align: right;\">\n",
       "      <th></th>\n",
       "      <th>avg_elec_usage1</th>\n",
       "      <th>avg_elec_usage2</th>\n",
       "      <th>avg_elec_usage3</th>\n",
       "      <th>avg_elec_usage10</th>\n",
       "      <th>avg_elec_usage11</th>\n",
       "      <th>avg_elec_usage12</th>\n",
       "      <th>avgTemp_1</th>\n",
       "      <th>avgTemp_2</th>\n",
       "      <th>avgTemp_3</th>\n",
       "      <th>avgTemp_10</th>\n",
       "      <th>...</th>\n",
       "      <th>Oil1Price</th>\n",
       "      <th>PropanePrice</th>\n",
       "      <th>GasPrice</th>\n",
       "      <th>PCE</th>\n",
       "      <th>Sq_Ft</th>\n",
       "      <th>Capital_Cost</th>\n",
       "      <th>Design_Heat_Load</th>\n",
       "      <th>Design_Heat_Temp</th>\n",
       "      <th>rebate_dol</th>\n",
       "      <th>fuel_esc_rate</th>\n",
       "    </tr>\n",
       "  </thead>\n",
       "  <tbody>\n",
       "    <tr>\n",
       "      <th>0</th>\n",
       "      <td>471.936998</td>\n",
       "      <td>423.455318</td>\n",
       "      <td>460.815493</td>\n",
       "      <td>425.89382</td>\n",
       "      <td>443.33996</td>\n",
       "      <td>463.328994</td>\n",
       "      <td>32.287177</td>\n",
       "      <td>33.65</td>\n",
       "      <td>35.370403</td>\n",
       "      <td>42.440242</td>\n",
       "      <td>...</td>\n",
       "      <td>7.3</td>\n",
       "      <td>0.0</td>\n",
       "      <td>0.0</td>\n",
       "      <td>0.7597</td>\n",
       "      <td>1130.0</td>\n",
       "      <td>6400.0</td>\n",
       "      <td>12197.89368</td>\n",
       "      <td>22.6</td>\n",
       "      <td>0</td>\n",
       "      <td>0.03</td>\n",
       "    </tr>\n",
       "    <tr>\n",
       "      <th>1</th>\n",
       "      <td>471.936998</td>\n",
       "      <td>423.455318</td>\n",
       "      <td>460.815493</td>\n",
       "      <td>425.89382</td>\n",
       "      <td>443.33996</td>\n",
       "      <td>463.328994</td>\n",
       "      <td>32.287177</td>\n",
       "      <td>33.65</td>\n",
       "      <td>35.370403</td>\n",
       "      <td>42.440242</td>\n",
       "      <td>...</td>\n",
       "      <td>7.3</td>\n",
       "      <td>0.0</td>\n",
       "      <td>0.0</td>\n",
       "      <td>0.7597</td>\n",
       "      <td>678.0</td>\n",
       "      <td>6400.0</td>\n",
       "      <td>8148.60648</td>\n",
       "      <td>22.6</td>\n",
       "      <td>0</td>\n",
       "      <td>0.03</td>\n",
       "    </tr>\n",
       "    <tr>\n",
       "      <th>2</th>\n",
       "      <td>471.936998</td>\n",
       "      <td>423.455318</td>\n",
       "      <td>460.815493</td>\n",
       "      <td>425.89382</td>\n",
       "      <td>443.33996</td>\n",
       "      <td>463.328994</td>\n",
       "      <td>32.287177</td>\n",
       "      <td>33.65</td>\n",
       "      <td>35.370403</td>\n",
       "      <td>42.440242</td>\n",
       "      <td>...</td>\n",
       "      <td>7.3</td>\n",
       "      <td>0.0</td>\n",
       "      <td>0.0</td>\n",
       "      <td>0.7597</td>\n",
       "      <td>1695.0</td>\n",
       "      <td>6400.0</td>\n",
       "      <td>17259.50268</td>\n",
       "      <td>22.6</td>\n",
       "      <td>0</td>\n",
       "      <td>0.03</td>\n",
       "    </tr>\n",
       "    <tr>\n",
       "      <th>3</th>\n",
       "      <td>471.936998</td>\n",
       "      <td>423.455318</td>\n",
       "      <td>460.815493</td>\n",
       "      <td>425.89382</td>\n",
       "      <td>443.33996</td>\n",
       "      <td>463.328994</td>\n",
       "      <td>32.287177</td>\n",
       "      <td>33.65</td>\n",
       "      <td>35.370403</td>\n",
       "      <td>42.440242</td>\n",
       "      <td>...</td>\n",
       "      <td>7.3</td>\n",
       "      <td>0.0</td>\n",
       "      <td>0.0</td>\n",
       "      <td>0.7597</td>\n",
       "      <td>1130.0</td>\n",
       "      <td>6400.0</td>\n",
       "      <td>12197.89368</td>\n",
       "      <td>22.6</td>\n",
       "      <td>0</td>\n",
       "      <td>0.03</td>\n",
       "    </tr>\n",
       "    <tr>\n",
       "      <th>4</th>\n",
       "      <td>471.936998</td>\n",
       "      <td>423.455318</td>\n",
       "      <td>460.815493</td>\n",
       "      <td>425.89382</td>\n",
       "      <td>443.33996</td>\n",
       "      <td>463.328994</td>\n",
       "      <td>32.287177</td>\n",
       "      <td>33.65</td>\n",
       "      <td>35.370403</td>\n",
       "      <td>42.440242</td>\n",
       "      <td>...</td>\n",
       "      <td>7.3</td>\n",
       "      <td>0.0</td>\n",
       "      <td>0.0</td>\n",
       "      <td>0.7597</td>\n",
       "      <td>1130.0</td>\n",
       "      <td>6400.0</td>\n",
       "      <td>12197.89368</td>\n",
       "      <td>22.6</td>\n",
       "      <td>0</td>\n",
       "      <td>0.03</td>\n",
       "    </tr>\n",
       "  </tbody>\n",
       "</table>\n",
       "<p>5 rows × 27 columns</p>\n",
       "</div>"
      ],
      "text/plain": [
       "   avg_elec_usage1  avg_elec_usage2  avg_elec_usage3  avg_elec_usage10  \\\n",
       "0       471.936998       423.455318       460.815493         425.89382   \n",
       "1       471.936998       423.455318       460.815493         425.89382   \n",
       "2       471.936998       423.455318       460.815493         425.89382   \n",
       "3       471.936998       423.455318       460.815493         425.89382   \n",
       "4       471.936998       423.455318       460.815493         425.89382   \n",
       "\n",
       "   avg_elec_usage11  avg_elec_usage12  avgTemp_1  avgTemp_2  avgTemp_3  \\\n",
       "0         443.33996        463.328994  32.287177      33.65  35.370403   \n",
       "1         443.33996        463.328994  32.287177      33.65  35.370403   \n",
       "2         443.33996        463.328994  32.287177      33.65  35.370403   \n",
       "3         443.33996        463.328994  32.287177      33.65  35.370403   \n",
       "4         443.33996        463.328994  32.287177      33.65  35.370403   \n",
       "\n",
       "   avgTemp_10  ...  Oil1Price  PropanePrice  GasPrice     PCE   Sq_Ft  \\\n",
       "0   42.440242  ...        7.3           0.0       0.0  0.7597  1130.0   \n",
       "1   42.440242  ...        7.3           0.0       0.0  0.7597   678.0   \n",
       "2   42.440242  ...        7.3           0.0       0.0  0.7597  1695.0   \n",
       "3   42.440242  ...        7.3           0.0       0.0  0.7597  1130.0   \n",
       "4   42.440242  ...        7.3           0.0       0.0  0.7597  1130.0   \n",
       "\n",
       "   Capital_Cost  Design_Heat_Load  Design_Heat_Temp  rebate_dol  fuel_esc_rate  \n",
       "0        6400.0       12197.89368              22.6           0           0.03  \n",
       "1        6400.0        8148.60648              22.6           0           0.03  \n",
       "2        6400.0       17259.50268              22.6           0           0.03  \n",
       "3        6400.0       12197.89368              22.6           0           0.03  \n",
       "4        6400.0       12197.89368              22.6           0           0.03  \n",
       "\n",
       "[5 rows x 27 columns]"
      ]
     },
     "execution_count": 36,
     "metadata": {},
     "output_type": "execute_result"
    }
   ],
   "source": [
    "X.head()"
   ]
  },
  {
   "cell_type": "code",
   "execution_count": 37,
   "metadata": {},
   "outputs": [
    {
     "data": {
      "text/plain": [
       "28107.264750234277"
      ]
     },
     "execution_count": 37,
     "metadata": {},
     "output_type": "execute_result"
    }
   ],
   "source": [
    "# Compare to the mean\n",
    "np.mean(allScens['NPV'])"
   ]
  },
  {
   "cell_type": "markdown",
   "metadata": {},
   "source": [
    "## AM Original Data :: Extreme Gradient Boosting Model (XGB)"
   ]
  },
  {
   "cell_type": "code",
   "execution_count": 45,
   "metadata": {},
   "outputs": [
    {
     "name": "stdout",
     "output_type": "stream",
     "text": [
      "The RMSE of the model is 4194.033544014309\n",
      "The MAE of the model is 2901.260632387525\n"
     ]
    }
   ],
   "source": [
    "# Naive split (disregard cities)\n",
    "X_train, X_test, Y_train, Y_test = train_test_split(X, Y, test_size=0.33)\n",
    "\n",
    "# Naive model\n",
    "xgb_reg = xgb.XGBRegressor()\n",
    "xgb_reg.fit(X_train, Y_train)\n",
    "\n",
    "# Making predictions\n",
    "Y_pred = xgb_reg.predict(X_test)\n",
    "\n",
    "# Assess performance\n",
    "rmse = mean_squared_error(Y_test, Y_pred, squared=False)\n",
    "mae = mean_absolute_error(Y_test, Y_pred)\n",
    "print(\"The RMSE of the model is\", rmse)\n",
    "print(\"The MAE of the model is\", mae)"
   ]
  },
  {
   "cell_type": "code",
   "execution_count": 47,
   "metadata": {},
   "outputs": [
    {
     "name": "stdout",
     "output_type": "stream",
     "text": [
      "The RMSE of the model is 11699.056505365146\n",
      "The MAE of the model is 7057.575274930493\n"
     ]
    }
   ],
   "source": [
    "# Group based split\n",
    "from sklearn.model_selection import GroupKFold \n",
    "split = GroupKFold(n_splits=5).split(allScens, groups=allScens['City'])\n",
    "train_inds, test_inds = next(split)\n",
    "\n",
    "X_train_byCity = X.iloc[train_inds]\n",
    "Y_train_byCity = Y.iloc[train_inds]\n",
    "X_test_byCity = X.iloc[test_inds]\n",
    "Y_test_byCity = Y.iloc[test_inds]\n",
    "\n",
    "# Naive model\n",
    "xgb_reg = xgb.XGBRegressor()\n",
    "xgb_reg.fit(X_train_byCity, Y_train_byCity)\n",
    "\n",
    "# Making predictions\n",
    "Y_pred_byCity = xgb_reg.predict(X_test_byCity)\n",
    "\n",
    "# Assess performance\n",
    "rmse_byCity = mean_squared_error(Y_test_byCity, Y_pred_byCity, squared=False)\n",
    "mae_byCity = mean_absolute_error(Y_test_byCity, Y_pred_byCity)\n",
    "print(\"The RMSE of the model is\", rmse_byCity)\n",
    "print(\"The MAE of the model is\", mae_byCity)"
   ]
  },
  {
   "cell_type": "code",
   "execution_count": null,
   "metadata": {},
   "outputs": [],
   "source": [
    "## Alternative splitting method:\n",
    "#from sklearn.model_selection import GroupShuffleSplit \n",
    "# splitter = GroupShuffleSplit(test_size=.33, n_splits=2, random_state = 7)\n",
    "# split = splitter.split(allScens, groups=allScens['City'])\n",
    "# train_inds, test_inds = next(split)"
   ]
  },
  {
   "cell_type": "markdown",
   "metadata": {},
   "source": [
    "## Loading simulated data with extra randomness"
   ]
  },
  {
   "cell_type": "code",
   "execution_count": 50,
   "metadata": {},
   "outputs": [],
   "source": [
    "allScensR = pd.read_csv('../Output/allScens_wRandomness_augmented.csv', usecols=lambda x: x not in ['Unnamed: 0'])"
   ]
  },
  {
   "cell_type": "code",
   "execution_count": 51,
   "metadata": {},
   "outputs": [],
   "source": [
    "allScensR = pd.get_dummies(allScensR, columns=['Exist_Fuel', 'Scenario'])"
   ]
  },
  {
   "cell_type": "code",
   "execution_count": 53,
   "metadata": {},
   "outputs": [],
   "source": [
    "# Separating the df into input and output components\n",
    "allScensR_numerics1 = allScensR.filter(regex = 'Exist_Fuel_(?!Type)|Avg_Temp_[1,2,3,10,11,12]|Elec_Use_')\n",
    "allScensR_numerics2 = allScensR[['Freezing_days', 'Exist_Unit_Fuel_Cost', 'Elec_Rate_Avg_Base', 'PCE', 'Sq_Ft', 'Capital_Cost', 'Design_Heat_Load', 'Design_Heat_Temp', 'Rebate_dol', 'Fuel_Esc_Rate']]\n",
    "\n",
    "Xr = pd.concat([allScensR_numerics1, allScensR_numerics2], axis=1)\n",
    "Yr = allScensR['NPV']\n",
    "citiesR = allScensR['City']"
   ]
  },
  {
   "cell_type": "code",
   "execution_count": 55,
   "metadata": {},
   "outputs": [
    {
     "data": {
      "text/plain": [
       "33683.30427644264"
      ]
     },
     "execution_count": 55,
     "metadata": {},
     "output_type": "execute_result"
    }
   ],
   "source": [
    "# Compare to the mean\n",
    "np.mean(allScensR['NPV'])"
   ]
  },
  {
   "cell_type": "markdown",
   "metadata": {},
   "source": [
    "## Simulated Data w/ Extra Randomness :: XGB"
   ]
  },
  {
   "cell_type": "code",
   "execution_count": 56,
   "metadata": {},
   "outputs": [
    {
     "name": "stdout",
     "output_type": "stream",
     "text": [
      "The RMSE of the model is 17244.921723924017\n",
      "The MAE of the model is 10536.626256032125\n"
     ]
    }
   ],
   "source": [
    "# Naive split (disregard cities)\n",
    "Xr_train, Xr_test, Yr_train, Yr_test = train_test_split(Xr, Yr, test_size=0.33)\n",
    "\n",
    "# Naive model\n",
    "xgb_reg = xgb.XGBRegressor()\n",
    "xgb_reg.fit(Xr_train, Yr_train)\n",
    "\n",
    "# Making predictions\n",
    "Yr_pred = xgb_reg.predict(Xr_test)\n",
    "\n",
    "# Assess performance\n",
    "rmseR = mean_squared_error(Yr_test, Yr_pred, squared=False)\n",
    "maeR = mean_absolute_error(Yr_test, Yr_pred)\n",
    "print(\"The RMSE of the model is\", rmseR)\n",
    "print(\"The MAE of the model is\", maeR)"
   ]
  },
  {
   "cell_type": "code",
   "execution_count": 57,
   "metadata": {},
   "outputs": [
    {
     "name": "stdout",
     "output_type": "stream",
     "text": [
      "The RMSE of the model is 16588.076477921913\n",
      "The MAE of the model is 10098.849507728251\n"
     ]
    }
   ],
   "source": [
    "# Group based split\n",
    "from sklearn.model_selection import GroupKFold \n",
    "splitR = GroupKFold(n_splits=5).split(allScensR, groups=allScensR['City'])\n",
    "trainR_inds, testR_inds = next(splitR)\n",
    "\n",
    "Xr_train_byCity = Xr.iloc[trainR_inds]\n",
    "Yr_train_byCity = Yr.iloc[trainR_inds]\n",
    "Xr_test_byCity = Xr.iloc[testR_inds]\n",
    "Yr_test_byCity = Yr.iloc[testR_inds]\n",
    "\n",
    "# Naive model\n",
    "xgb_reg = xgb.XGBRegressor()\n",
    "xgb_reg.fit(Xr_train_byCity, Yr_train_byCity)\n",
    "\n",
    "# Making predictions\n",
    "Yr_pred_byCity = xgb_reg.predict(Xr_test_byCity)\n",
    "\n",
    "# Assess performance\n",
    "rmseR_byCity = mean_squared_error(Yr_test_byCity, Yr_pred_byCity, squared=False)\n",
    "maeR_byCity = mean_absolute_error(Yr_test_byCity, Yr_pred_byCity)\n",
    "print(\"The RMSE of the model is\", rmseR_byCity)\n",
    "print(\"The MAE of the model is\", maeR_byCity)"
   ]
  },
  {
   "cell_type": "code",
   "execution_count": null,
   "metadata": {},
   "outputs": [],
   "source": []
  },
  {
   "cell_type": "code",
   "execution_count": null,
   "metadata": {},
   "outputs": [],
   "source": []
  },
  {
   "cell_type": "code",
   "execution_count": null,
   "metadata": {},
   "outputs": [],
   "source": []
  },
  {
   "cell_type": "code",
   "execution_count": null,
   "metadata": {},
   "outputs": [],
   "source": []
  },
  {
   "cell_type": "code",
   "execution_count": null,
   "metadata": {},
   "outputs": [],
   "source": []
  },
  {
   "cell_type": "markdown",
   "metadata": {},
   "source": [
    "## Code dump tab"
   ]
  },
  {
   "cell_type": "markdown",
   "metadata": {},
   "source": [
    "### Random Search CV"
   ]
  },
  {
   "cell_type": "code",
   "execution_count": 24,
   "metadata": {},
   "outputs": [],
   "source": [
    "params = {\n",
    " 'learning_rate' : [0.05,0.10,0.15,0.20,0.25,0.30],\n",
    " 'n_estimators': [50, 100, 200, 500],\n",
    " 'max_depth' : [ 3, 4, 5, 6, 8, 10, 12, 15],\n",
    " 'subsample' : [0.2, 0.4, 0.8, 1.0],\n",
    " 'min_child_weight' : [ 1, 3, 5, 7 ],\n",
    " 'gamma': [ 0.0, 0.1, 0.2 , 0.3, 0.4 ],\n",
    " 'colsample_bytree' : [ 0.3, 0.4, 0.5 , 0.7 ]\n",
    "}"
   ]
  },
  {
   "cell_type": "code",
   "execution_count": 25,
   "metadata": {},
   "outputs": [],
   "source": [
    "xgb_reg = xgb.XGBRegressor()"
   ]
  },
  {
   "cell_type": "code",
   "execution_count": 26,
   "metadata": {},
   "outputs": [],
   "source": [
    "cv = GroupKFold(n_splits=5)\n",
    "rs_model=RandomizedSearchCV(xgb_reg,\n",
    "                            param_distributions=params,\n",
    "                            n_iter=10,\n",
    "                            cv=cv,\n",
    "                            scoring='neg_mean_absolute_error',\n",
    "                            n_jobs=-1,\n",
    "                            verbose=2)"
   ]
  },
  {
   "cell_type": "code",
   "execution_count": 27,
   "metadata": {},
   "outputs": [
    {
     "ename": "ValueError",
     "evalue": "Found input variables with inconsistent numbers of samples: [13229, 13229, 15800]",
     "output_type": "error",
     "traceback": [
      "\u001b[0;31m---------------------------------------------------------------------------\u001b[0m",
      "\u001b[0;31mValueError\u001b[0m                                Traceback (most recent call last)",
      "Cell \u001b[0;32mIn[27], line 1\u001b[0m\n\u001b[0;32m----> 1\u001b[0m rs_model\u001b[39m.\u001b[39;49mfit(X_train, Y_train, groups \u001b[39m=\u001b[39;49m cities\u001b[39m.\u001b[39;49miloc[train_inds])\n",
      "File \u001b[0;32m~/miniconda3/lib/python3.11/site-packages/sklearn/base.py:1151\u001b[0m, in \u001b[0;36m_fit_context.<locals>.decorator.<locals>.wrapper\u001b[0;34m(estimator, *args, **kwargs)\u001b[0m\n\u001b[1;32m   1144\u001b[0m     estimator\u001b[39m.\u001b[39m_validate_params()\n\u001b[1;32m   1146\u001b[0m \u001b[39mwith\u001b[39;00m config_context(\n\u001b[1;32m   1147\u001b[0m     skip_parameter_validation\u001b[39m=\u001b[39m(\n\u001b[1;32m   1148\u001b[0m         prefer_skip_nested_validation \u001b[39mor\u001b[39;00m global_skip_validation\n\u001b[1;32m   1149\u001b[0m     )\n\u001b[1;32m   1150\u001b[0m ):\n\u001b[0;32m-> 1151\u001b[0m     \u001b[39mreturn\u001b[39;00m fit_method(estimator, \u001b[39m*\u001b[39;49margs, \u001b[39m*\u001b[39;49m\u001b[39m*\u001b[39;49mkwargs)\n",
      "File \u001b[0;32m~/miniconda3/lib/python3.11/site-packages/sklearn/model_selection/_search.py:806\u001b[0m, in \u001b[0;36mBaseSearchCV.fit\u001b[0;34m(self, X, y, groups, **fit_params)\u001b[0m\n\u001b[1;32m    803\u001b[0m     \u001b[39mself\u001b[39m\u001b[39m.\u001b[39m_check_refit_for_multimetric(scorers)\n\u001b[1;32m    804\u001b[0m     refit_metric \u001b[39m=\u001b[39m \u001b[39mself\u001b[39m\u001b[39m.\u001b[39mrefit\n\u001b[0;32m--> 806\u001b[0m X, y, groups \u001b[39m=\u001b[39m indexable(X, y, groups)\n\u001b[1;32m    807\u001b[0m fit_params \u001b[39m=\u001b[39m _check_fit_params(X, fit_params)\n\u001b[1;32m    809\u001b[0m cv_orig \u001b[39m=\u001b[39m check_cv(\u001b[39mself\u001b[39m\u001b[39m.\u001b[39mcv, y, classifier\u001b[39m=\u001b[39mis_classifier(estimator))\n",
      "File \u001b[0;32m~/miniconda3/lib/python3.11/site-packages/sklearn/utils/validation.py:455\u001b[0m, in \u001b[0;36mindexable\u001b[0;34m(*iterables)\u001b[0m\n\u001b[1;32m    436\u001b[0m \u001b[39m\u001b[39m\u001b[39m\"\"\"Make arrays indexable for cross-validation.\u001b[39;00m\n\u001b[1;32m    437\u001b[0m \n\u001b[1;32m    438\u001b[0m \u001b[39mChecks consistent length, passes through None, and ensures that everything\u001b[39;00m\n\u001b[0;32m   (...)\u001b[0m\n\u001b[1;32m    451\u001b[0m \u001b[39m    sparse matrix, or dataframe) or `None`.\u001b[39;00m\n\u001b[1;32m    452\u001b[0m \u001b[39m\"\"\"\u001b[39;00m\n\u001b[1;32m    454\u001b[0m result \u001b[39m=\u001b[39m [_make_indexable(X) \u001b[39mfor\u001b[39;00m X \u001b[39min\u001b[39;00m iterables]\n\u001b[0;32m--> 455\u001b[0m check_consistent_length(\u001b[39m*\u001b[39;49mresult)\n\u001b[1;32m    456\u001b[0m \u001b[39mreturn\u001b[39;00m result\n",
      "File \u001b[0;32m~/miniconda3/lib/python3.11/site-packages/sklearn/utils/validation.py:409\u001b[0m, in \u001b[0;36mcheck_consistent_length\u001b[0;34m(*arrays)\u001b[0m\n\u001b[1;32m    407\u001b[0m uniques \u001b[39m=\u001b[39m np\u001b[39m.\u001b[39munique(lengths)\n\u001b[1;32m    408\u001b[0m \u001b[39mif\u001b[39;00m \u001b[39mlen\u001b[39m(uniques) \u001b[39m>\u001b[39m \u001b[39m1\u001b[39m:\n\u001b[0;32m--> 409\u001b[0m     \u001b[39mraise\u001b[39;00m \u001b[39mValueError\u001b[39;00m(\n\u001b[1;32m    410\u001b[0m         \u001b[39m\"\u001b[39m\u001b[39mFound input variables with inconsistent numbers of samples: \u001b[39m\u001b[39m%r\u001b[39;00m\u001b[39m\"\u001b[39m\n\u001b[1;32m    411\u001b[0m         \u001b[39m%\u001b[39m [\u001b[39mint\u001b[39m(l) \u001b[39mfor\u001b[39;00m l \u001b[39min\u001b[39;00m lengths]\n\u001b[1;32m    412\u001b[0m     )\n",
      "\u001b[0;31mValueError\u001b[0m: Found input variables with inconsistent numbers of samples: [13229, 13229, 15800]"
     ]
    }
   ],
   "source": [
    "rs_model.fit(X_train, Y_train, groups = cities.iloc[train_inds])"
   ]
  },
  {
   "cell_type": "code",
   "execution_count": 28,
   "metadata": {},
   "outputs": [
    {
     "ename": "AttributeError",
     "evalue": "'RandomizedSearchCV' object has no attribute 'best_params_'",
     "output_type": "error",
     "traceback": [
      "\u001b[0;31m---------------------------------------------------------------------------\u001b[0m",
      "\u001b[0;31mAttributeError\u001b[0m                            Traceback (most recent call last)",
      "Cell \u001b[0;32mIn[28], line 1\u001b[0m\n\u001b[0;32m----> 1\u001b[0m rs_model\u001b[39m.\u001b[39;49mbest_params_\n",
      "\u001b[0;31mAttributeError\u001b[0m: 'RandomizedSearchCV' object has no attribute 'best_params_'"
     ]
    }
   ],
   "source": [
    "rs_model.best_params_"
   ]
  },
  {
   "cell_type": "code",
   "execution_count": 78,
   "metadata": {},
   "outputs": [],
   "source": [
    "best_model = rs_model.best_estimator_"
   ]
  },
  {
   "cell_type": "code",
   "execution_count": 79,
   "metadata": {},
   "outputs": [
    {
     "data": {
      "text/plain": [
       "9540.84480758613"
      ]
     },
     "execution_count": 79,
     "metadata": {},
     "output_type": "execute_result"
    }
   ],
   "source": [
    "Y_pred = best_model.predict(X_test)\n",
    "mean_absolute_error(Y_test, Y_pred)"
   ]
  },
  {
   "cell_type": "code",
   "execution_count": 80,
   "metadata": {},
   "outputs": [],
   "source": [
    "cv = GroupKFold(n_splits=5)\n",
    "score=cross_val_score(best_model,X,Y,cv=cv,groups=cities,scoring='neg_mean_absolute_error')"
   ]
  },
  {
   "cell_type": "code",
   "execution_count": 81,
   "metadata": {},
   "outputs": [
    {
     "data": {
      "text/plain": [
       "-10477.075601656821"
      ]
     },
     "execution_count": 81,
     "metadata": {},
     "output_type": "execute_result"
    }
   ],
   "source": [
    "score.mean()"
   ]
  },
  {
   "cell_type": "code",
   "execution_count": null,
   "metadata": {},
   "outputs": [],
   "source": []
  },
  {
   "cell_type": "code",
   "execution_count": null,
   "metadata": {},
   "outputs": [],
   "source": []
  },
  {
   "cell_type": "markdown",
   "metadata": {},
   "source": [
    "## Random Forest"
   ]
  },
  {
   "cell_type": "code",
   "execution_count": 29,
   "metadata": {},
   "outputs": [
    {
     "name": "stdout",
     "output_type": "stream",
     "text": [
      "The RMSE of the model is 18536.060103982018\n",
      "The MAE of the model is 11032.333956888468\n"
     ]
    }
   ],
   "source": [
    "# Fitting a random forest \n",
    "model = RandomForestRegressor()\n",
    "model.fit(X_train, Y_train)\n",
    "\n",
    "# Making predictions\n",
    "Y_pred = model.predict(X_test)\n",
    "\n",
    "# Assess performance\n",
    "rmse = mean_squared_error(Y_test, Y_pred, squared=False)\n",
    "mae = mean_absolute_error(Y_test, Y_pred)\n",
    "print(\"The RMSE of the model is\", rmse)\n",
    "print(\"The MAE of the model is\", mae)"
   ]
  },
  {
   "cell_type": "markdown",
   "metadata": {},
   "source": [
    "### Random Forest -- Random Search CV"
   ]
  },
  {
   "cell_type": "code",
   "execution_count": null,
   "metadata": {},
   "outputs": [],
   "source": [
    "n_estimators = [200, 400, 600, 800, 1000, 1200, 1400, 1600, 1800, 2000]\n",
    "max_depth = [10, 20, 30, 40, 50, 60, 70, 80, 90, 100, None]\n",
    "min_samples_leaf =  [1, 2, 4]\n",
    "min_samples_split = [2, 5, 10]\n",
    "max_features = ['sqrt', 'log2', None]\n",
    "\n",
    "hyperparameter_grid = {\n",
    "    'n_estimators': n_estimators,\n",
    "    'max_depth': max_depth,\n",
    "    'min_samples_leaf': min_samples_leaf,\n",
    "    'min_samples_split': min_samples_split,\n",
    "    'max_features': max_features}\n"
   ]
  },
  {
   "cell_type": "code",
   "execution_count": null,
   "metadata": {},
   "outputs": [
    {
     "data": {
      "text/plain": [
       "{'n_estimators': [200, 400, 600, 800, 1000, 1200, 1400, 1600, 1800, 2000],\n",
       " 'max_depth': [10, 20, 30, 40, 50, 60, 70, 80, 90, 100, None],\n",
       " 'min_samples_leaf': [1, 2, 4],\n",
       " 'min_samples_split': [2, 5, 10],\n",
       " 'max_features': ['sqrt', 'log2']}"
      ]
     },
     "metadata": {},
     "output_type": "display_data"
    }
   ],
   "source": [
    "hyperparameter_grid"
   ]
  },
  {
   "cell_type": "code",
   "execution_count": null,
   "metadata": {},
   "outputs": [],
   "source": [
    "X_train, X_test, Y_train, Y_test = train_test_split(X, Y, test_size=0.33)"
   ]
  },
  {
   "cell_type": "code",
   "execution_count": null,
   "metadata": {},
   "outputs": [
    {
     "name": "stdout",
     "output_type": "stream",
     "text": [
      "Fitting 5 folds for each of 50 candidates, totalling 250 fits\n",
      "[CV] END max_depth=10, max_features=sqrt, min_samples_leaf=2, min_samples_split=10, n_estimators=1400; total time=  11.9s\n",
      "[CV] END max_depth=10, max_features=sqrt, min_samples_leaf=2, min_samples_split=10, n_estimators=1400; total time=  12.3s\n",
      "[CV] END max_depth=10, max_features=sqrt, min_samples_leaf=2, min_samples_split=10, n_estimators=1400; total time=  12.6s\n",
      "[CV] END max_depth=20, max_features=log2, min_samples_leaf=4, min_samples_split=10, n_estimators=400; total time=   4.0s\n",
      "[CV] END max_depth=80, max_features=log2, min_samples_leaf=4, min_samples_split=5, n_estimators=1800; total time=  16.6s\n",
      "[CV] END max_depth=80, max_features=log2, min_samples_leaf=4, min_samples_split=5, n_estimators=1800; total time=  16.8s\n",
      "[CV] END max_depth=80, max_features=log2, min_samples_leaf=4, min_samples_split=5, n_estimators=1800; total time=  17.1s\n",
      "[CV] END max_depth=80, max_features=log2, min_samples_leaf=4, min_samples_split=5, n_estimators=1800; total time=  17.2s\n",
      "[CV] END max_depth=80, max_features=log2, min_samples_leaf=4, min_samples_split=5, n_estimators=1800; total time=  17.1s\n",
      "[CV] END max_depth=20, max_features=log2, min_samples_leaf=4, min_samples_split=10, n_estimators=400; total time=   3.7s\n",
      "[CV] END max_depth=20, max_features=log2, min_samples_leaf=4, min_samples_split=10, n_estimators=400; total time=   4.0s\n",
      "[CV] END max_depth=20, max_features=log2, min_samples_leaf=4, min_samples_split=10, n_estimators=400; total time=   4.0s\n",
      "[CV] END max_depth=20, max_features=log2, min_samples_leaf=4, min_samples_split=10, n_estimators=400; total time=   3.9s\n",
      "[CV] END max_depth=100, max_features=sqrt, min_samples_leaf=4, min_samples_split=2, n_estimators=400; total time=   4.6s\n",
      "[CV] END max_depth=100, max_features=sqrt, min_samples_leaf=4, min_samples_split=2, n_estimators=400; total time=   5.0s\n",
      "[CV] END max_depth=100, max_features=log2, min_samples_leaf=1, min_samples_split=10, n_estimators=200; total time=   2.1s\n",
      "[CV] END max_depth=100, max_features=log2, min_samples_leaf=1, min_samples_split=10, n_estimators=200; total time=   2.2s\n",
      "[CV] END max_depth=100, max_features=log2, min_samples_leaf=1, min_samples_split=10, n_estimators=200; total time=   2.2s\n",
      "[CV] END max_depth=10, max_features=sqrt, min_samples_leaf=2, min_samples_split=10, n_estimators=1400; total time=  12.8s\n",
      "[CV] END max_depth=100, max_features=log2, min_samples_leaf=1, min_samples_split=10, n_estimators=200; total time=   2.1s\n",
      "[CV] END max_depth=100, max_features=sqrt, min_samples_leaf=4, min_samples_split=2, n_estimators=400; total time=   4.8s\n",
      "[CV] END max_depth=100, max_features=sqrt, min_samples_leaf=4, min_samples_split=2, n_estimators=400; total time=   5.1s\n",
      "[CV] END max_depth=100, max_features=sqrt, min_samples_leaf=4, min_samples_split=2, n_estimators=400; total time=   5.0s\n",
      "[CV] END max_depth=10, max_features=sqrt, min_samples_leaf=2, min_samples_split=10, n_estimators=1400; total time=  13.5s\n",
      "[CV] END max_depth=100, max_features=log2, min_samples_leaf=1, min_samples_split=10, n_estimators=200; total time=   2.1s\n",
      "[CV] END max_depth=100, max_features=log2, min_samples_leaf=4, min_samples_split=10, n_estimators=800; total time=   8.1s\n",
      "[CV] END max_depth=100, max_features=log2, min_samples_leaf=4, min_samples_split=10, n_estimators=800; total time=   8.0s\n",
      "[CV] END max_depth=100, max_features=log2, min_samples_leaf=4, min_samples_split=10, n_estimators=800; total time=   8.1s\n",
      "[CV] END max_depth=100, max_features=log2, min_samples_leaf=4, min_samples_split=10, n_estimators=800; total time=   8.1s\n",
      "[CV] END max_depth=100, max_features=log2, min_samples_leaf=4, min_samples_split=10, n_estimators=800; total time=   8.1s\n",
      "[CV] END max_depth=30, max_features=log2, min_samples_leaf=1, min_samples_split=5, n_estimators=1000; total time=  11.7s\n",
      "[CV] END max_depth=30, max_features=log2, min_samples_leaf=1, min_samples_split=5, n_estimators=1000; total time=  12.0s\n",
      "[CV] END max_depth=30, max_features=log2, min_samples_leaf=1, min_samples_split=5, n_estimators=1000; total time=  12.4s\n",
      "[CV] END max_depth=30, max_features=log2, min_samples_leaf=1, min_samples_split=5, n_estimators=1000; total time=  12.1s\n",
      "[CV] END max_depth=30, max_features=log2, min_samples_leaf=1, min_samples_split=5, n_estimators=1000; total time=  12.5s\n",
      "[CV] END max_depth=30, max_features=sqrt, min_samples_leaf=2, min_samples_split=10, n_estimators=1000; total time=  12.4s\n",
      "[CV] END max_depth=30, max_features=sqrt, min_samples_leaf=2, min_samples_split=10, n_estimators=1000; total time=  13.0s\n",
      "[CV] END max_depth=30, max_features=sqrt, min_samples_leaf=2, min_samples_split=10, n_estimators=1000; total time=  12.6s\n",
      "[CV] END max_depth=100, max_features=sqrt, min_samples_leaf=2, min_samples_split=2, n_estimators=800; total time=  11.9s\n",
      "[CV] END max_depth=30, max_features=sqrt, min_samples_leaf=2, min_samples_split=10, n_estimators=1000; total time=  12.9s\n",
      "[CV] END max_depth=30, max_features=sqrt, min_samples_leaf=2, min_samples_split=10, n_estimators=1000; total time=  13.0s\n",
      "[CV] END max_depth=100, max_features=sqrt, min_samples_leaf=2, min_samples_split=2, n_estimators=800; total time=  11.9s\n",
      "[CV] END max_depth=100, max_features=sqrt, min_samples_leaf=2, min_samples_split=2, n_estimators=800; total time=  12.7s\n",
      "[CV] END max_depth=100, max_features=sqrt, min_samples_leaf=2, min_samples_split=2, n_estimators=800; total time=  12.6s\n",
      "[CV] END max_depth=100, max_features=sqrt, min_samples_leaf=2, min_samples_split=2, n_estimators=800; total time=  12.3s\n",
      "[CV] END max_depth=10, max_features=sqrt, min_samples_leaf=4, min_samples_split=2, n_estimators=2000; total time=  20.7s\n",
      "[CV] END max_depth=10, max_features=sqrt, min_samples_leaf=4, min_samples_split=2, n_estimators=2000; total time=  20.1s\n",
      "[CV] END max_depth=10, max_features=sqrt, min_samples_leaf=4, min_samples_split=2, n_estimators=2000; total time=  20.2s\n",
      "[CV] END max_depth=10, max_features=sqrt, min_samples_leaf=4, min_samples_split=2, n_estimators=2000; total time=  20.3s\n",
      "[CV] END max_depth=10, max_features=sqrt, min_samples_leaf=4, min_samples_split=2, n_estimators=2000; total time=  20.4s\n",
      "[CV] END max_depth=70, max_features=sqrt, min_samples_leaf=2, min_samples_split=2, n_estimators=1400; total time=  21.0s\n",
      "[CV] END max_depth=70, max_features=sqrt, min_samples_leaf=2, min_samples_split=2, n_estimators=1400; total time=  20.5s\n",
      "[CV] END max_depth=70, max_features=sqrt, min_samples_leaf=2, min_samples_split=2, n_estimators=1400; total time=  20.8s\n",
      "[CV] END max_depth=60, max_features=log2, min_samples_leaf=4, min_samples_split=10, n_estimators=800; total time=   8.5s\n",
      "[CV] END max_depth=60, max_features=log2, min_samples_leaf=4, min_samples_split=10, n_estimators=800; total time=   8.3s\n",
      "[CV] END max_depth=60, max_features=log2, min_samples_leaf=4, min_samples_split=10, n_estimators=800; total time=   8.5s\n",
      "[CV] END max_depth=60, max_features=log2, min_samples_leaf=4, min_samples_split=10, n_estimators=800; total time=   8.5s\n",
      "[CV] END max_depth=60, max_features=log2, min_samples_leaf=4, min_samples_split=10, n_estimators=800; total time=   8.6s\n",
      "[CV] END max_depth=70, max_features=sqrt, min_samples_leaf=2, min_samples_split=2, n_estimators=1400; total time=  21.8s\n"
     ]
    },
    {
     "name": "stderr",
     "output_type": "stream",
     "text": [
      "/Users/brianleung/miniconda3/lib/python3.11/site-packages/joblib/externals/loky/process_executor.py:752: UserWarning: A worker stopped while some jobs were given to the executor. This can be caused by a too short worker timeout or by a memory leak.\n",
      "  warnings.warn(\n"
     ]
    },
    {
     "name": "stdout",
     "output_type": "stream",
     "text": [
      "[CV] END max_depth=70, max_features=sqrt, min_samples_leaf=2, min_samples_split=2, n_estimators=1400; total time=  22.0s\n",
      "[CV] END max_depth=80, max_features=log2, min_samples_leaf=1, min_samples_split=10, n_estimators=2000; total time=  22.9s\n",
      "[CV] END max_depth=80, max_features=log2, min_samples_leaf=1, min_samples_split=10, n_estimators=2000; total time=  23.1s\n",
      "[CV] END max_depth=80, max_features=log2, min_samples_leaf=1, min_samples_split=10, n_estimators=2000; total time=  23.0s\n",
      "[CV] END max_depth=20, max_features=sqrt, min_samples_leaf=4, min_samples_split=2, n_estimators=1600; total time=  22.2s\n",
      "[CV] END max_depth=80, max_features=log2, min_samples_leaf=1, min_samples_split=10, n_estimators=2000; total time=  24.5s\n",
      "[CV] END max_depth=80, max_features=log2, min_samples_leaf=1, min_samples_split=10, n_estimators=2000; total time=  24.1s\n",
      "[CV] END max_depth=20, max_features=sqrt, min_samples_leaf=4, min_samples_split=2, n_estimators=1600; total time=  22.1s\n",
      "[CV] END max_depth=20, max_features=sqrt, min_samples_leaf=4, min_samples_split=2, n_estimators=1600; total time=  22.5s\n",
      "[CV] END max_depth=100, max_features=sqrt, min_samples_leaf=4, min_samples_split=5, n_estimators=1000; total time=  14.4s\n",
      "[CV] END max_depth=100, max_features=sqrt, min_samples_leaf=4, min_samples_split=5, n_estimators=1000; total time=  14.4s\n",
      "[CV] END max_depth=100, max_features=sqrt, min_samples_leaf=4, min_samples_split=5, n_estimators=1000; total time=  14.4s\n",
      "[CV] END max_depth=20, max_features=sqrt, min_samples_leaf=4, min_samples_split=2, n_estimators=1600; total time=  22.6s\n",
      "[CV] END max_depth=20, max_features=sqrt, min_samples_leaf=4, min_samples_split=2, n_estimators=1600; total time=  22.6s\n",
      "[CV] END max_depth=100, max_features=sqrt, min_samples_leaf=4, min_samples_split=5, n_estimators=1000; total time=  14.3s\n",
      "[CV] END max_depth=100, max_features=sqrt, min_samples_leaf=4, min_samples_split=5, n_estimators=1000; total time=  14.1s\n",
      "[CV] END max_depth=90, max_features=sqrt, min_samples_leaf=1, min_samples_split=5, n_estimators=1400; total time=  22.5s\n",
      "[CV] END max_depth=90, max_features=sqrt, min_samples_leaf=1, min_samples_split=5, n_estimators=1400; total time=  21.9s\n",
      "[CV] END max_depth=90, max_features=sqrt, min_samples_leaf=1, min_samples_split=5, n_estimators=1400; total time=  21.8s\n",
      "[CV] END max_depth=90, max_features=sqrt, min_samples_leaf=1, min_samples_split=5, n_estimators=1400; total time=  22.4s\n",
      "[CV] END max_depth=90, max_features=sqrt, min_samples_leaf=1, min_samples_split=5, n_estimators=1400; total time=  23.0s\n",
      "[CV] END max_depth=80, max_features=sqrt, min_samples_leaf=2, min_samples_split=10, n_estimators=1800; total time=  24.1s\n",
      "[CV] END max_depth=80, max_features=sqrt, min_samples_leaf=2, min_samples_split=10, n_estimators=1800; total time=  23.9s\n",
      "[CV] END max_depth=80, max_features=sqrt, min_samples_leaf=2, min_samples_split=10, n_estimators=1800; total time=  24.2s\n",
      "[CV] END max_depth=80, max_features=sqrt, min_samples_leaf=2, min_samples_split=10, n_estimators=1800; total time=  24.4s\n",
      "[CV] END max_depth=60, max_features=sqrt, min_samples_leaf=4, min_samples_split=10, n_estimators=1000; total time=  12.9s\n",
      "[CV] END max_depth=80, max_features=sqrt, min_samples_leaf=2, min_samples_split=10, n_estimators=1800; total time=  24.0s\n",
      "[CV] END max_depth=70, max_features=sqrt, min_samples_leaf=1, min_samples_split=10, n_estimators=1600; total time=  22.1s\n",
      "[CV] END max_depth=70, max_features=sqrt, min_samples_leaf=1, min_samples_split=10, n_estimators=1600; total time=  21.9s\n",
      "[CV] END max_depth=70, max_features=sqrt, min_samples_leaf=1, min_samples_split=10, n_estimators=1600; total time=  21.3s\n",
      "[CV] END max_depth=70, max_features=sqrt, min_samples_leaf=1, min_samples_split=10, n_estimators=1600; total time=  22.2s\n",
      "[CV] END max_depth=70, max_features=sqrt, min_samples_leaf=1, min_samples_split=10, n_estimators=1600; total time=  21.8s\n",
      "[CV] END max_depth=60, max_features=sqrt, min_samples_leaf=4, min_samples_split=10, n_estimators=1000; total time=  13.0s\n",
      "[CV] END max_depth=60, max_features=sqrt, min_samples_leaf=4, min_samples_split=10, n_estimators=1000; total time=  12.8s\n",
      "[CV] END max_depth=60, max_features=sqrt, min_samples_leaf=4, min_samples_split=10, n_estimators=1000; total time=  13.4s\n",
      "[CV] END max_depth=40, max_features=sqrt, min_samples_leaf=2, min_samples_split=5, n_estimators=600; total time=   9.0s\n",
      "[CV] END max_depth=40, max_features=sqrt, min_samples_leaf=2, min_samples_split=5, n_estimators=600; total time=   9.1s\n",
      "[CV] END max_depth=40, max_features=sqrt, min_samples_leaf=2, min_samples_split=5, n_estimators=600; total time=   9.1s\n",
      "[CV] END max_depth=40, max_features=sqrt, min_samples_leaf=2, min_samples_split=5, n_estimators=600; total time=   9.2s\n",
      "[CV] END max_depth=60, max_features=sqrt, min_samples_leaf=4, min_samples_split=10, n_estimators=1000; total time=  13.0s\n",
      "[CV] END max_depth=40, max_features=sqrt, min_samples_leaf=2, min_samples_split=5, n_estimators=600; total time=   8.7s\n",
      "[CV] END max_depth=30, max_features=sqrt, min_samples_leaf=4, min_samples_split=5, n_estimators=600; total time=   8.0s\n",
      "[CV] END max_depth=30, max_features=sqrt, min_samples_leaf=4, min_samples_split=5, n_estimators=600; total time=   7.9s\n",
      "[CV] END max_depth=30, max_features=sqrt, min_samples_leaf=4, min_samples_split=5, n_estimators=600; total time=   8.0s\n",
      "[CV] END max_depth=30, max_features=sqrt, min_samples_leaf=4, min_samples_split=5, n_estimators=600; total time=   8.2s\n",
      "[CV] END max_depth=30, max_features=sqrt, min_samples_leaf=4, min_samples_split=5, n_estimators=600; total time=   7.9s\n",
      "[CV] END max_depth=30, max_features=log2, min_samples_leaf=1, min_samples_split=5, n_estimators=600; total time=   7.9s\n",
      "[CV] END max_depth=30, max_features=log2, min_samples_leaf=1, min_samples_split=5, n_estimators=600; total time=   7.8s\n",
      "[CV] END max_depth=30, max_features=log2, min_samples_leaf=1, min_samples_split=5, n_estimators=600; total time=   8.0s\n",
      "[CV] END max_depth=30, max_features=log2, min_samples_leaf=1, min_samples_split=5, n_estimators=600; total time=   8.0s\n",
      "[CV] END max_depth=30, max_features=log2, min_samples_leaf=1, min_samples_split=5, n_estimators=600; total time=   7.8s\n",
      "[CV] END max_depth=70, max_features=sqrt, min_samples_leaf=4, min_samples_split=10, n_estimators=400; total time=   5.4s\n",
      "[CV] END max_depth=70, max_features=sqrt, min_samples_leaf=4, min_samples_split=10, n_estimators=400; total time=   5.3s\n",
      "[CV] END max_depth=70, max_features=sqrt, min_samples_leaf=4, min_samples_split=10, n_estimators=400; total time=   5.1s\n",
      "[CV] END max_depth=70, max_features=log2, min_samples_leaf=2, min_samples_split=2, n_estimators=200; total time=   2.8s\n",
      "[CV] END max_depth=70, max_features=sqrt, min_samples_leaf=4, min_samples_split=10, n_estimators=400; total time=   5.3s\n",
      "[CV] END max_depth=70, max_features=sqrt, min_samples_leaf=4, min_samples_split=10, n_estimators=400; total time=   5.5s\n",
      "[CV] END max_depth=70, max_features=log2, min_samples_leaf=2, min_samples_split=2, n_estimators=200; total time=   2.6s\n",
      "[CV] END max_depth=70, max_features=log2, min_samples_leaf=2, min_samples_split=2, n_estimators=200; total time=   2.5s\n",
      "[CV] END max_depth=70, max_features=log2, min_samples_leaf=2, min_samples_split=2, n_estimators=200; total time=   2.7s\n",
      "[CV] END max_depth=70, max_features=log2, min_samples_leaf=2, min_samples_split=2, n_estimators=200; total time=   2.5s\n",
      "[CV] END max_depth=80, max_features=sqrt, min_samples_leaf=2, min_samples_split=5, n_estimators=1600; total time=  24.1s\n",
      "[CV] END max_depth=80, max_features=sqrt, min_samples_leaf=2, min_samples_split=5, n_estimators=1600; total time=  24.2s\n",
      "[CV] END max_depth=80, max_features=sqrt, min_samples_leaf=2, min_samples_split=5, n_estimators=1600; total time=  24.1s\n",
      "[CV] END max_depth=80, max_features=sqrt, min_samples_leaf=2, min_samples_split=5, n_estimators=1600; total time=  24.6s\n",
      "[CV] END max_depth=80, max_features=sqrt, min_samples_leaf=2, min_samples_split=5, n_estimators=1600; total time=  24.5s\n",
      "[CV] END max_depth=90, max_features=sqrt, min_samples_leaf=4, min_samples_split=10, n_estimators=800; total time=  10.5s\n",
      "[CV] END max_depth=90, max_features=sqrt, min_samples_leaf=4, min_samples_split=10, n_estimators=800; total time=  10.9s\n",
      "[CV] END max_depth=90, max_features=sqrt, min_samples_leaf=4, min_samples_split=10, n_estimators=800; total time=  10.7s\n",
      "[CV] END max_depth=90, max_features=sqrt, min_samples_leaf=4, min_samples_split=10, n_estimators=800; total time=  10.5s\n",
      "[CV] END max_depth=90, max_features=sqrt, min_samples_leaf=4, min_samples_split=10, n_estimators=800; total time=  10.6s\n",
      "[CV] END max_depth=90, max_features=sqrt, min_samples_leaf=4, min_samples_split=5, n_estimators=1600; total time=  21.2s\n",
      "[CV] END max_depth=50, max_features=sqrt, min_samples_leaf=4, min_samples_split=10, n_estimators=2000; total time=  26.1s\n",
      "[CV] END max_depth=50, max_features=sqrt, min_samples_leaf=4, min_samples_split=10, n_estimators=2000; total time=  25.8s\n",
      "[CV] END max_depth=50, max_features=sqrt, min_samples_leaf=4, min_samples_split=10, n_estimators=2000; total time=  26.0s\n",
      "[CV] END max_depth=50, max_features=sqrt, min_samples_leaf=4, min_samples_split=10, n_estimators=2000; total time=  25.8s\n",
      "[CV] END max_depth=50, max_features=sqrt, min_samples_leaf=4, min_samples_split=10, n_estimators=2000; total time=  26.0s\n",
      "[CV] END max_depth=90, max_features=sqrt, min_samples_leaf=4, min_samples_split=5, n_estimators=1600; total time=  21.2s\n",
      "[CV] END max_depth=90, max_features=sqrt, min_samples_leaf=4, min_samples_split=5, n_estimators=1600; total time=  21.0s\n",
      "[CV] END max_depth=100, max_features=sqrt, min_samples_leaf=1, min_samples_split=5, n_estimators=200; total time=   3.2s\n",
      "[CV] END max_depth=100, max_features=sqrt, min_samples_leaf=1, min_samples_split=5, n_estimators=200; total time=   3.0s\n",
      "[CV] END max_depth=100, max_features=sqrt, min_samples_leaf=1, min_samples_split=5, n_estimators=200; total time=   3.1s\n",
      "[CV] END max_depth=100, max_features=sqrt, min_samples_leaf=1, min_samples_split=5, n_estimators=200; total time=   3.2s\n",
      "[CV] END max_depth=100, max_features=sqrt, min_samples_leaf=1, min_samples_split=5, n_estimators=200; total time=   3.3s\n",
      "[CV] END max_depth=90, max_features=sqrt, min_samples_leaf=4, min_samples_split=5, n_estimators=1600; total time=  22.0s\n",
      "[CV] END max_depth=90, max_features=sqrt, min_samples_leaf=4, min_samples_split=5, n_estimators=1600; total time=  21.7s\n",
      "[CV] END max_depth=20, max_features=sqrt, min_samples_leaf=2, min_samples_split=10, n_estimators=400; total time=   5.7s\n",
      "[CV] END max_depth=20, max_features=sqrt, min_samples_leaf=2, min_samples_split=10, n_estimators=400; total time=   5.6s\n",
      "[CV] END max_depth=20, max_features=sqrt, min_samples_leaf=2, min_samples_split=10, n_estimators=400; total time=   5.7s\n",
      "[CV] END max_depth=20, max_features=sqrt, min_samples_leaf=2, min_samples_split=10, n_estimators=400; total time=   5.7s\n",
      "[CV] END max_depth=20, max_features=sqrt, min_samples_leaf=2, min_samples_split=10, n_estimators=400; total time=   5.8s\n",
      "[CV] END max_depth=40, max_features=sqrt, min_samples_leaf=1, min_samples_split=2, n_estimators=1800; total time=  37.4s\n",
      "[CV] END max_depth=40, max_features=log2, min_samples_leaf=4, min_samples_split=2, n_estimators=800; total time=   9.5s\n",
      "[CV] END max_depth=40, max_features=sqrt, min_samples_leaf=1, min_samples_split=2, n_estimators=1800; total time=  37.3s\n",
      "[CV] END max_depth=40, max_features=sqrt, min_samples_leaf=1, min_samples_split=2, n_estimators=1800; total time=  37.5s\n",
      "[CV] END max_depth=40, max_features=sqrt, min_samples_leaf=1, min_samples_split=2, n_estimators=1800; total time=  38.0s\n",
      "[CV] END max_depth=40, max_features=sqrt, min_samples_leaf=1, min_samples_split=2, n_estimators=1800; total time=  37.4s\n",
      "[CV] END max_depth=40, max_features=log2, min_samples_leaf=4, min_samples_split=2, n_estimators=800; total time=   9.1s\n",
      "[CV] END max_depth=40, max_features=log2, min_samples_leaf=4, min_samples_split=2, n_estimators=800; total time=   9.5s\n",
      "[CV] END max_depth=40, max_features=log2, min_samples_leaf=4, min_samples_split=2, n_estimators=800; total time=   9.4s\n",
      "[CV] END max_depth=40, max_features=log2, min_samples_leaf=4, min_samples_split=2, n_estimators=800; total time=   9.0s\n",
      "[CV] END max_depth=80, max_features=log2, min_samples_leaf=4, min_samples_split=10, n_estimators=1200; total time=  13.4s\n",
      "[CV] END max_depth=80, max_features=log2, min_samples_leaf=4, min_samples_split=10, n_estimators=1200; total time=  13.0s\n",
      "[CV] END max_depth=80, max_features=log2, min_samples_leaf=4, min_samples_split=10, n_estimators=1200; total time=  13.0s\n",
      "[CV] END max_depth=80, max_features=log2, min_samples_leaf=4, min_samples_split=10, n_estimators=1200; total time=  13.0s\n",
      "[CV] END max_depth=80, max_features=log2, min_samples_leaf=4, min_samples_split=10, n_estimators=1200; total time=  13.6s\n",
      "[CV] END max_depth=50, max_features=sqrt, min_samples_leaf=4, min_samples_split=2, n_estimators=400; total time=   5.4s\n",
      "[CV] END max_depth=50, max_features=sqrt, min_samples_leaf=4, min_samples_split=2, n_estimators=400; total time=   5.3s\n",
      "[CV] END max_depth=50, max_features=sqrt, min_samples_leaf=4, min_samples_split=2, n_estimators=400; total time=   5.3s\n",
      "[CV] END max_depth=50, max_features=sqrt, min_samples_leaf=4, min_samples_split=2, n_estimators=400; total time=   5.3s\n",
      "[CV] END max_depth=50, max_features=sqrt, min_samples_leaf=4, min_samples_split=2, n_estimators=400; total time=   5.6s\n",
      "[CV] END max_depth=90, max_features=log2, min_samples_leaf=1, min_samples_split=2, n_estimators=1800; total time=  32.6s\n",
      "[CV] END max_depth=20, max_features=log2, min_samples_leaf=2, min_samples_split=2, n_estimators=1200; total time=  16.4s\n",
      "[CV] END max_depth=90, max_features=log2, min_samples_leaf=1, min_samples_split=2, n_estimators=1800; total time=  32.6s\n",
      "[CV] END max_depth=90, max_features=log2, min_samples_leaf=1, min_samples_split=2, n_estimators=1800; total time=  33.0s\n",
      "[CV] END max_depth=20, max_features=log2, min_samples_leaf=2, min_samples_split=2, n_estimators=1200; total time=  16.4s\n",
      "[CV] END max_depth=20, max_features=log2, min_samples_leaf=2, min_samples_split=2, n_estimators=1200; total time=  16.7s\n",
      "[CV] END max_depth=60, max_features=log2, min_samples_leaf=2, min_samples_split=10, n_estimators=200; total time=   2.3s\n",
      "[CV] END max_depth=60, max_features=log2, min_samples_leaf=2, min_samples_split=10, n_estimators=200; total time=   2.4s\n",
      "[CV] END max_depth=60, max_features=log2, min_samples_leaf=2, min_samples_split=10, n_estimators=200; total time=   2.3s\n",
      "[CV] END max_depth=60, max_features=log2, min_samples_leaf=2, min_samples_split=10, n_estimators=200; total time=   2.3s\n",
      "[CV] END max_depth=60, max_features=log2, min_samples_leaf=2, min_samples_split=10, n_estimators=200; total time=   2.3s\n",
      "[CV] END max_depth=90, max_features=log2, min_samples_leaf=1, min_samples_split=2, n_estimators=1800; total time=  33.0s\n",
      "[CV] END max_depth=90, max_features=log2, min_samples_leaf=1, min_samples_split=2, n_estimators=1800; total time=  32.6s\n",
      "[CV] END max_depth=20, max_features=log2, min_samples_leaf=2, min_samples_split=2, n_estimators=1200; total time=  16.6s\n",
      "[CV] END max_depth=20, max_features=log2, min_samples_leaf=2, min_samples_split=2, n_estimators=1200; total time=  16.2s\n",
      "[CV] END max_depth=60, max_features=sqrt, min_samples_leaf=1, min_samples_split=10, n_estimators=1400; total time=  19.4s\n",
      "[CV] END max_depth=60, max_features=sqrt, min_samples_leaf=1, min_samples_split=10, n_estimators=1400; total time=  19.3s\n",
      "[CV] END max_depth=60, max_features=sqrt, min_samples_leaf=1, min_samples_split=10, n_estimators=1400; total time=  19.4s\n",
      "[CV] END max_depth=10, max_features=sqrt, min_samples_leaf=4, min_samples_split=5, n_estimators=200; total time=   2.2s\n",
      "[CV] END max_depth=40, max_features=sqrt, min_samples_leaf=2, min_samples_split=2, n_estimators=2000; total time=  31.5s\n",
      "[CV] END max_depth=40, max_features=sqrt, min_samples_leaf=2, min_samples_split=2, n_estimators=2000; total time=  31.3s\n",
      "[CV] END max_depth=40, max_features=sqrt, min_samples_leaf=2, min_samples_split=2, n_estimators=2000; total time=  31.9s\n",
      "[CV] END max_depth=10, max_features=sqrt, min_samples_leaf=4, min_samples_split=5, n_estimators=200; total time=   2.2s\n",
      "[CV] END max_depth=40, max_features=sqrt, min_samples_leaf=2, min_samples_split=2, n_estimators=2000; total time=  31.7s\n",
      "[CV] END max_depth=40, max_features=sqrt, min_samples_leaf=2, min_samples_split=2, n_estimators=2000; total time=  31.6s\n",
      "[CV] END max_depth=10, max_features=sqrt, min_samples_leaf=4, min_samples_split=5, n_estimators=200; total time=   2.1s\n",
      "[CV] END max_depth=10, max_features=sqrt, min_samples_leaf=4, min_samples_split=5, n_estimators=200; total time=   2.1s\n",
      "[CV] END max_depth=10, max_features=sqrt, min_samples_leaf=4, min_samples_split=5, n_estimators=200; total time=   2.2s\n",
      "[CV] END max_depth=60, max_features=sqrt, min_samples_leaf=1, min_samples_split=10, n_estimators=1400; total time=  20.0s\n",
      "[CV] END max_depth=60, max_features=sqrt, min_samples_leaf=1, min_samples_split=10, n_estimators=1400; total time=  19.6s\n",
      "[CV] END max_depth=10, max_features=log2, min_samples_leaf=2, min_samples_split=2, n_estimators=1800; total time=  16.2s\n",
      "[CV] END max_depth=10, max_features=log2, min_samples_leaf=2, min_samples_split=2, n_estimators=1800; total time=  16.1s\n",
      "[CV] END max_depth=10, max_features=log2, min_samples_leaf=2, min_samples_split=2, n_estimators=1800; total time=  16.0s\n",
      "[CV] END max_depth=10, max_features=log2, min_samples_leaf=2, min_samples_split=2, n_estimators=1800; total time=  16.4s\n",
      "[CV] END max_depth=10, max_features=log2, min_samples_leaf=2, min_samples_split=2, n_estimators=1800; total time=  16.2s\n",
      "[CV] END max_depth=90, max_features=log2, min_samples_leaf=1, min_samples_split=5, n_estimators=1400; total time=  18.8s\n",
      "[CV] END max_depth=None, max_features=log2, min_samples_leaf=2, min_samples_split=10, n_estimators=600; total time=   6.9s\n",
      "[CV] END max_depth=None, max_features=log2, min_samples_leaf=2, min_samples_split=10, n_estimators=600; total time=   6.8s\n",
      "[CV] END max_depth=None, max_features=log2, min_samples_leaf=2, min_samples_split=10, n_estimators=600; total time=   6.8s\n",
      "[CV] END max_depth=None, max_features=log2, min_samples_leaf=2, min_samples_split=10, n_estimators=600; total time=   6.9s\n",
      "[CV] END max_depth=90, max_features=log2, min_samples_leaf=1, min_samples_split=5, n_estimators=1400; total time=  19.0s\n",
      "[CV] END max_depth=70, max_features=log2, min_samples_leaf=2, min_samples_split=5, n_estimators=400; total time=   5.0s\n",
      "[CV] END max_depth=70, max_features=log2, min_samples_leaf=2, min_samples_split=5, n_estimators=400; total time=   5.2s\n",
      "[CV] END max_depth=None, max_features=log2, min_samples_leaf=2, min_samples_split=10, n_estimators=600; total time=   6.8s\n",
      "[CV] END max_depth=90, max_features=log2, min_samples_leaf=1, min_samples_split=5, n_estimators=1400; total time=  19.1s\n",
      "[CV] END max_depth=80, max_features=log2, min_samples_leaf=2, min_samples_split=2, n_estimators=200; total time=   2.7s\n",
      "[CV] END max_depth=70, max_features=log2, min_samples_leaf=2, min_samples_split=5, n_estimators=400; total time=   5.1s\n",
      "[CV] END max_depth=80, max_features=log2, min_samples_leaf=2, min_samples_split=2, n_estimators=200; total time=   2.7s\n",
      "[CV] END max_depth=90, max_features=log2, min_samples_leaf=1, min_samples_split=5, n_estimators=1400; total time=  18.7s\n",
      "[CV] END max_depth=70, max_features=log2, min_samples_leaf=2, min_samples_split=5, n_estimators=400; total time=   5.1s\n",
      "[CV] END max_depth=80, max_features=log2, min_samples_leaf=2, min_samples_split=2, n_estimators=200; total time=   2.6s\n",
      "[CV] END max_depth=90, max_features=log2, min_samples_leaf=1, min_samples_split=5, n_estimators=1400; total time=  18.7s\n",
      "[CV] END max_depth=70, max_features=log2, min_samples_leaf=2, min_samples_split=5, n_estimators=400; total time=   5.4s\n",
      "[CV] END max_depth=80, max_features=log2, min_samples_leaf=2, min_samples_split=2, n_estimators=200; total time=   2.7s\n",
      "[CV] END max_depth=80, max_features=log2, min_samples_leaf=2, min_samples_split=2, n_estimators=200; total time=   2.8s\n",
      "[CV] END max_depth=None, max_features=log2, min_samples_leaf=4, min_samples_split=10, n_estimators=600; total time=   6.8s\n",
      "[CV] END max_depth=None, max_features=log2, min_samples_leaf=4, min_samples_split=10, n_estimators=600; total time=   6.7s\n",
      "[CV] END max_depth=None, max_features=log2, min_samples_leaf=4, min_samples_split=10, n_estimators=600; total time=   6.7s\n",
      "[CV] END max_depth=None, max_features=log2, min_samples_leaf=4, min_samples_split=10, n_estimators=600; total time=   6.6s\n",
      "[CV] END max_depth=None, max_features=log2, min_samples_leaf=4, min_samples_split=10, n_estimators=600; total time=   6.5s\n",
      "[CV] END max_depth=60, max_features=sqrt, min_samples_leaf=2, min_samples_split=2, n_estimators=1400; total time=  22.3s\n",
      "[CV] END max_depth=60, max_features=sqrt, min_samples_leaf=2, min_samples_split=2, n_estimators=1400; total time=  22.2s\n",
      "[CV] END max_depth=60, max_features=sqrt, min_samples_leaf=2, min_samples_split=2, n_estimators=1400; total time=  22.5s\n",
      "[CV] END max_depth=60, max_features=sqrt, min_samples_leaf=2, min_samples_split=2, n_estimators=1400; total time=  22.6s\n",
      "[CV] END max_depth=60, max_features=sqrt, min_samples_leaf=2, min_samples_split=2, n_estimators=1400; total time=  22.8s\n",
      "[CV] END max_depth=80, max_features=sqrt, min_samples_leaf=1, min_samples_split=5, n_estimators=1000; total time=  16.0s\n",
      "[CV] END max_depth=70, max_features=log2, min_samples_leaf=1, min_samples_split=2, n_estimators=200; total time=   3.8s\n",
      "[CV] END max_depth=70, max_features=log2, min_samples_leaf=1, min_samples_split=2, n_estimators=200; total time=   3.8s\n",
      "[CV] END max_depth=70, max_features=log2, min_samples_leaf=1, min_samples_split=2, n_estimators=200; total time=   3.7s\n",
      "[CV] END max_depth=70, max_features=log2, min_samples_leaf=1, min_samples_split=2, n_estimators=200; total time=   3.6s\n",
      "[CV] END max_depth=80, max_features=sqrt, min_samples_leaf=1, min_samples_split=5, n_estimators=1000; total time=  16.2s\n",
      "[CV] END max_depth=70, max_features=log2, min_samples_leaf=1, min_samples_split=2, n_estimators=200; total time=   3.5s\n",
      "[CV] END max_depth=80, max_features=sqrt, min_samples_leaf=1, min_samples_split=5, n_estimators=1000; total time=  16.3s\n",
      "[CV] END max_depth=80, max_features=sqrt, min_samples_leaf=1, min_samples_split=5, n_estimators=1000; total time=  15.7s\n",
      "[CV] END max_depth=80, max_features=sqrt, min_samples_leaf=1, min_samples_split=5, n_estimators=1000; total time=  15.5s\n",
      "[CV] END max_depth=20, max_features=log2, min_samples_leaf=2, min_samples_split=2, n_estimators=1600; total time=  19.0s\n",
      "[CV] END max_depth=20, max_features=log2, min_samples_leaf=2, min_samples_split=2, n_estimators=1600; total time=  18.7s\n",
      "[CV] END max_depth=20, max_features=log2, min_samples_leaf=2, min_samples_split=2, n_estimators=1600; total time=  18.4s\n",
      "[CV] END max_depth=20, max_features=log2, min_samples_leaf=2, min_samples_split=2, n_estimators=1600; total time=  18.1s\n",
      "[CV] END max_depth=20, max_features=log2, min_samples_leaf=2, min_samples_split=2, n_estimators=1600; total time=  17.6s\n"
     ]
    },
    {
     "data": {
      "text/html": [
       "<style>#sk-container-id-6 {color: black;}#sk-container-id-6 pre{padding: 0;}#sk-container-id-6 div.sk-toggleable {background-color: white;}#sk-container-id-6 label.sk-toggleable__label {cursor: pointer;display: block;width: 100%;margin-bottom: 0;padding: 0.3em;box-sizing: border-box;text-align: center;}#sk-container-id-6 label.sk-toggleable__label-arrow:before {content: \"▸\";float: left;margin-right: 0.25em;color: #696969;}#sk-container-id-6 label.sk-toggleable__label-arrow:hover:before {color: black;}#sk-container-id-6 div.sk-estimator:hover label.sk-toggleable__label-arrow:before {color: black;}#sk-container-id-6 div.sk-toggleable__content {max-height: 0;max-width: 0;overflow: hidden;text-align: left;background-color: #f0f8ff;}#sk-container-id-6 div.sk-toggleable__content pre {margin: 0.2em;color: black;border-radius: 0.25em;background-color: #f0f8ff;}#sk-container-id-6 input.sk-toggleable__control:checked~div.sk-toggleable__content {max-height: 200px;max-width: 100%;overflow: auto;}#sk-container-id-6 input.sk-toggleable__control:checked~label.sk-toggleable__label-arrow:before {content: \"▾\";}#sk-container-id-6 div.sk-estimator input.sk-toggleable__control:checked~label.sk-toggleable__label {background-color: #d4ebff;}#sk-container-id-6 div.sk-label input.sk-toggleable__control:checked~label.sk-toggleable__label {background-color: #d4ebff;}#sk-container-id-6 input.sk-hidden--visually {border: 0;clip: rect(1px 1px 1px 1px);clip: rect(1px, 1px, 1px, 1px);height: 1px;margin: -1px;overflow: hidden;padding: 0;position: absolute;width: 1px;}#sk-container-id-6 div.sk-estimator {font-family: monospace;background-color: #f0f8ff;border: 1px dotted black;border-radius: 0.25em;box-sizing: border-box;margin-bottom: 0.5em;}#sk-container-id-6 div.sk-estimator:hover {background-color: #d4ebff;}#sk-container-id-6 div.sk-parallel-item::after {content: \"\";width: 100%;border-bottom: 1px solid gray;flex-grow: 1;}#sk-container-id-6 div.sk-label:hover label.sk-toggleable__label {background-color: #d4ebff;}#sk-container-id-6 div.sk-serial::before {content: \"\";position: absolute;border-left: 1px solid gray;box-sizing: border-box;top: 0;bottom: 0;left: 50%;z-index: 0;}#sk-container-id-6 div.sk-serial {display: flex;flex-direction: column;align-items: center;background-color: white;padding-right: 0.2em;padding-left: 0.2em;position: relative;}#sk-container-id-6 div.sk-item {position: relative;z-index: 1;}#sk-container-id-6 div.sk-parallel {display: flex;align-items: stretch;justify-content: center;background-color: white;position: relative;}#sk-container-id-6 div.sk-item::before, #sk-container-id-6 div.sk-parallel-item::before {content: \"\";position: absolute;border-left: 1px solid gray;box-sizing: border-box;top: 0;bottom: 0;left: 50%;z-index: -1;}#sk-container-id-6 div.sk-parallel-item {display: flex;flex-direction: column;z-index: 1;position: relative;background-color: white;}#sk-container-id-6 div.sk-parallel-item:first-child::after {align-self: flex-end;width: 50%;}#sk-container-id-6 div.sk-parallel-item:last-child::after {align-self: flex-start;width: 50%;}#sk-container-id-6 div.sk-parallel-item:only-child::after {width: 0;}#sk-container-id-6 div.sk-dashed-wrapped {border: 1px dashed gray;margin: 0 0.4em 0.5em 0.4em;box-sizing: border-box;padding-bottom: 0.4em;background-color: white;}#sk-container-id-6 div.sk-label label {font-family: monospace;font-weight: bold;display: inline-block;line-height: 1.2em;}#sk-container-id-6 div.sk-label-container {text-align: center;}#sk-container-id-6 div.sk-container {/* jupyter's `normalize.less` sets `[hidden] { display: none; }` but bootstrap.min.css set `[hidden] { display: none !important; }` so we also need the `!important` here to be able to override the default hidden behavior on the sphinx rendered scikit-learn.org. See: https://github.com/scikit-learn/scikit-learn/issues/21755 */display: inline-block !important;position: relative;}#sk-container-id-6 div.sk-text-repr-fallback {display: none;}</style><div id=\"sk-container-id-6\" class=\"sk-top-container\"><div class=\"sk-text-repr-fallback\"><pre>RandomizedSearchCV(cv=5, estimator=RandomForestRegressor(), n_iter=50,\n",
       "                   n_jobs=-1,\n",
       "                   param_distributions={&#x27;max_depth&#x27;: [10, 20, 30, 40, 50, 60,\n",
       "                                                      70, 80, 90, 100, None],\n",
       "                                        &#x27;max_features&#x27;: [&#x27;sqrt&#x27;, &#x27;log2&#x27;],\n",
       "                                        &#x27;min_samples_leaf&#x27;: [1, 2, 4],\n",
       "                                        &#x27;min_samples_split&#x27;: [2, 5, 10],\n",
       "                                        &#x27;n_estimators&#x27;: [200, 400, 600, 800,\n",
       "                                                         1000, 1200, 1400, 1600,\n",
       "                                                         1800, 2000]},\n",
       "                   random_state=42, verbose=2)</pre><b>In a Jupyter environment, please rerun this cell to show the HTML representation or trust the notebook. <br />On GitHub, the HTML representation is unable to render, please try loading this page with nbviewer.org.</b></div><div class=\"sk-container\" hidden><div class=\"sk-item sk-dashed-wrapped\"><div class=\"sk-label-container\"><div class=\"sk-label sk-toggleable\"><input class=\"sk-toggleable__control sk-hidden--visually\" id=\"sk-estimator-id-12\" type=\"checkbox\" ><label for=\"sk-estimator-id-12\" class=\"sk-toggleable__label sk-toggleable__label-arrow\">RandomizedSearchCV</label><div class=\"sk-toggleable__content\"><pre>RandomizedSearchCV(cv=5, estimator=RandomForestRegressor(), n_iter=50,\n",
       "                   n_jobs=-1,\n",
       "                   param_distributions={&#x27;max_depth&#x27;: [10, 20, 30, 40, 50, 60,\n",
       "                                                      70, 80, 90, 100, None],\n",
       "                                        &#x27;max_features&#x27;: [&#x27;sqrt&#x27;, &#x27;log2&#x27;],\n",
       "                                        &#x27;min_samples_leaf&#x27;: [1, 2, 4],\n",
       "                                        &#x27;min_samples_split&#x27;: [2, 5, 10],\n",
       "                                        &#x27;n_estimators&#x27;: [200, 400, 600, 800,\n",
       "                                                         1000, 1200, 1400, 1600,\n",
       "                                                         1800, 2000]},\n",
       "                   random_state=42, verbose=2)</pre></div></div></div><div class=\"sk-parallel\"><div class=\"sk-parallel-item\"><div class=\"sk-item\"><div class=\"sk-label-container\"><div class=\"sk-label sk-toggleable\"><input class=\"sk-toggleable__control sk-hidden--visually\" id=\"sk-estimator-id-13\" type=\"checkbox\" ><label for=\"sk-estimator-id-13\" class=\"sk-toggleable__label sk-toggleable__label-arrow\">estimator: RandomForestRegressor</label><div class=\"sk-toggleable__content\"><pre>RandomForestRegressor()</pre></div></div></div><div class=\"sk-serial\"><div class=\"sk-item\"><div class=\"sk-estimator sk-toggleable\"><input class=\"sk-toggleable__control sk-hidden--visually\" id=\"sk-estimator-id-14\" type=\"checkbox\" ><label for=\"sk-estimator-id-14\" class=\"sk-toggleable__label sk-toggleable__label-arrow\">RandomForestRegressor</label><div class=\"sk-toggleable__content\"><pre>RandomForestRegressor()</pre></div></div></div></div></div></div></div></div></div></div>"
      ],
      "text/plain": [
       "RandomizedSearchCV(cv=5, estimator=RandomForestRegressor(), n_iter=50,\n",
       "                   n_jobs=-1,\n",
       "                   param_distributions={'max_depth': [10, 20, 30, 40, 50, 60,\n",
       "                                                      70, 80, 90, 100, None],\n",
       "                                        'max_features': ['sqrt', 'log2'],\n",
       "                                        'min_samples_leaf': [1, 2, 4],\n",
       "                                        'min_samples_split': [2, 5, 10],\n",
       "                                        'n_estimators': [200, 400, 600, 800,\n",
       "                                                         1000, 1200, 1400, 1600,\n",
       "                                                         1800, 2000]},\n",
       "                   random_state=42, verbose=2)"
      ]
     },
     "metadata": {},
     "output_type": "display_data"
    }
   ],
   "source": [
    "rf = RandomForestRegressor()\n",
    "rf_random = RandomizedSearchCV(estimator=rf, param_distributions=hyperparameter_grid, n_iter=50, cv=5, verbose=2, random_state=42, n_jobs = -1)\n",
    "rf_random.fit(X_train, Y_train)"
   ]
  },
  {
   "cell_type": "code",
   "execution_count": null,
   "metadata": {},
   "outputs": [
    {
     "data": {
      "text/plain": [
       "{'n_estimators': 1800,\n",
       " 'min_samples_split': 2,\n",
       " 'min_samples_leaf': 1,\n",
       " 'max_features': 'sqrt',\n",
       " 'max_depth': 40}"
      ]
     },
     "metadata": {},
     "output_type": "display_data"
    }
   ],
   "source": [
    "rf_random.best_params_"
   ]
  },
  {
   "cell_type": "code",
   "execution_count": null,
   "metadata": {},
   "outputs": [],
   "source": [
    "best_rf = RandomForestRegressor(**rf_random.best_params_)"
   ]
  },
  {
   "cell_type": "code",
   "execution_count": null,
   "metadata": {},
   "outputs": [],
   "source": [
    "cv = RepeatedKFold(n_splits=5, n_repeats=5)\n",
    "scores = cross_val_score(best_rf, X, Y, cv = cv, scoring='neg_mean_absolute_error')"
   ]
  },
  {
   "cell_type": "code",
   "execution_count": null,
   "metadata": {},
   "outputs": [
    {
     "data": {
      "text/plain": [
       "-3985.506493899842"
      ]
     },
     "metadata": {},
     "output_type": "display_data"
    }
   ],
   "source": [
    "scores.mean()"
   ]
  },
  {
   "cell_type": "code",
   "execution_count": null,
   "metadata": {},
   "outputs": [],
   "source": []
  },
  {
   "cell_type": "code",
   "execution_count": null,
   "metadata": {},
   "outputs": [],
   "source": []
  },
  {
   "cell_type": "code",
   "execution_count": null,
   "metadata": {},
   "outputs": [],
   "source": []
  },
  {
   "cell_type": "code",
   "execution_count": null,
   "metadata": {},
   "outputs": [],
   "source": []
  },
  {
   "cell_type": "markdown",
   "metadata": {},
   "source": [
    "## Gradient boosting model "
   ]
  },
  {
   "cell_type": "code",
   "execution_count": 120,
   "metadata": {},
   "outputs": [
    {
     "ename": "TypeError",
     "evalue": "GradientBoostingRegressor.__init__() got an unexpected keyword argument 'min_child_weight'",
     "output_type": "error",
     "traceback": [
      "\u001b[0;31m---------------------------------------------------------------------------\u001b[0m",
      "\u001b[0;31mTypeError\u001b[0m                                 Traceback (most recent call last)",
      "Cell \u001b[0;32mIn[120], line 2\u001b[0m\n\u001b[1;32m      1\u001b[0m \u001b[39m# Fitting a gradient boosting model \u001b[39;00m\n\u001b[0;32m----> 2\u001b[0m model \u001b[39m=\u001b[39m GradientBoostingRegressor(\u001b[39m*\u001b[39;49m\u001b[39m*\u001b[39;49mrs_model\u001b[39m.\u001b[39;49mbest_params_)\n",
      "\u001b[0;31mTypeError\u001b[0m: GradientBoostingRegressor.__init__() got an unexpected keyword argument 'min_child_weight'"
     ]
    }
   ],
   "source": [
    "# Fitting a gradient boosting model \n",
    "model = GradientBoostingRegressor(**rs_model.best_params_)"
   ]
  },
  {
   "cell_type": "code",
   "execution_count": 112,
   "metadata": {},
   "outputs": [
    {
     "name": "stdout",
     "output_type": "stream",
     "text": [
      "MAE: -2551.385 (69.356)\n"
     ]
    }
   ],
   "source": [
    "# K-fold cross validation \n",
    "cv = RepeatedKFold(n_splits=3, n_repeats=3)\n",
    "n_scores = cross_val_score(model, X, Y, scoring='neg_mean_absolute_error', cv=cv, n_jobs=-1)\n",
    "print('MAE: %.3f (%.3f)' % (mean(n_scores), std(n_scores)))"
   ]
  },
  {
   "cell_type": "code",
   "execution_count": 64,
   "metadata": {},
   "outputs": [],
   "source": [
    "n_estimators = [100, 500, 1000, 1500]\n",
    "max_depth = [3, 5, 10, 15]\n",
    "min_samples_leaf = [2, 4, 6, 10] \n",
    "min_samples_split = [2, 4, 6, 10]\n",
    "max_features = ['auto', 'sqrt']\n",
    "\n",
    "hyperparameter_grid = {\n",
    "    'n_estimators': n_estimators,\n",
    "    'max_depth': max_depth,\n",
    "    'min_samples_leaf': min_samples_leaf,\n",
    "    'min_samples_split': min_samples_split,\n",
    "    'max_features': max_features}"
   ]
  },
  {
   "cell_type": "code",
   "execution_count": 65,
   "metadata": {},
   "outputs": [],
   "source": [
    "random_cv = RandomizedSearchCV(estimator=model,\n",
    "                               param_distributions=hyperparameter_grid,\n",
    "                               cv=4, n_iter=10,\n",
    "                               scoring = 'neg_mean_absolute_error',n_jobs = -1,\n",
    "                               verbose = 2, \n",
    "                               random_state=42)"
   ]
  },
  {
   "cell_type": "code",
   "execution_count": 66,
   "metadata": {},
   "outputs": [
    {
     "name": "stdout",
     "output_type": "stream",
     "text": [
      "Fitting 4 folds for each of 10 candidates, totalling 40 fits\n",
      "[CV] END max_depth=10, max_features=auto, min_samples_leaf=10, min_samples_split=2, n_estimators=100; total time=   0.0s\n",
      "[CV] END max_depth=10, max_features=auto, min_samples_leaf=10, min_samples_split=2, n_estimators=100; total time=   0.0s\n",
      "[CV] END max_depth=10, max_features=auto, min_samples_leaf=10, min_samples_split=2, n_estimators=100; total time=   0.0s\n",
      "[CV] END max_depth=10, max_features=auto, min_samples_leaf=10, min_samples_split=2, n_estimators=100; total time=   0.0s\n",
      "[CV] END max_depth=15, max_features=auto, min_samples_leaf=10, min_samples_split=4, n_estimators=1500; total time=   0.0s\n",
      "[CV] END max_depth=15, max_features=auto, min_samples_leaf=10, min_samples_split=4, n_estimators=1500; total time=   0.0s\n",
      "[CV] END max_depth=15, max_features=auto, min_samples_leaf=10, min_samples_split=4, n_estimators=1500; total time=   0.0s\n",
      "[CV] END max_depth=15, max_features=auto, min_samples_leaf=10, min_samples_split=4, n_estimators=1500; total time=   0.0s\n",
      "[CV] END max_depth=5, max_features=auto, min_samples_leaf=4, min_samples_split=6, n_estimators=500; total time=   0.0s\n",
      "[CV] END max_depth=5, max_features=auto, min_samples_leaf=4, min_samples_split=6, n_estimators=500; total time=   0.0s\n",
      "[CV] END max_depth=5, max_features=auto, min_samples_leaf=4, min_samples_split=6, n_estimators=500; total time=   0.0s\n",
      "[CV] END max_depth=5, max_features=auto, min_samples_leaf=4, min_samples_split=6, n_estimators=500; total time=   0.0s\n",
      "[CV] END max_depth=5, max_features=auto, min_samples_leaf=2, min_samples_split=2, n_estimators=1500; total time=   0.0s\n",
      "[CV] END max_depth=5, max_features=auto, min_samples_leaf=2, min_samples_split=2, n_estimators=1500; total time=   0.0s\n",
      "[CV] END max_depth=5, max_features=auto, min_samples_leaf=2, min_samples_split=2, n_estimators=1500; total time=   0.0s\n",
      "[CV] END max_depth=5, max_features=auto, min_samples_leaf=2, min_samples_split=2, n_estimators=1500; total time=   0.0s\n",
      "[CV] END max_depth=5, max_features=sqrt, min_samples_leaf=2, min_samples_split=10, n_estimators=100; total time=   0.5s[CV] END max_depth=5, max_features=sqrt, min_samples_leaf=2, min_samples_split=10, n_estimators=100; total time=   0.4s\n",
      "\n",
      "[CV] END max_depth=5, max_features=sqrt, min_samples_leaf=2, min_samples_split=10, n_estimators=100; total time=   0.5s\n",
      "[CV] END max_depth=5, max_features=sqrt, min_samples_leaf=2, min_samples_split=10, n_estimators=100; total time=   0.5s\n",
      "[CV] END max_depth=15, max_features=sqrt, min_samples_leaf=10, min_samples_split=2, n_estimators=500; total time=   2.1s\n",
      "[CV] END max_depth=15, max_features=sqrt, min_samples_leaf=10, min_samples_split=2, n_estimators=500; total time=   2.1s\n",
      "[CV] END max_depth=15, max_features=sqrt, min_samples_leaf=10, min_samples_split=2, n_estimators=500; total time=   2.0s\n",
      "[CV] END max_depth=15, max_features=sqrt, min_samples_leaf=10, min_samples_split=2, n_estimators=500; total time=   2.0s\n",
      "[CV] END max_depth=15, max_features=sqrt, min_samples_leaf=10, min_samples_split=6, n_estimators=1000; total time=   4.0s\n",
      "[CV] END max_depth=15, max_features=sqrt, min_samples_leaf=10, min_samples_split=6, n_estimators=1000; total time=   4.1s\n",
      "[CV] END max_depth=15, max_features=sqrt, min_samples_leaf=6, min_samples_split=10, n_estimators=1500; total time=   5.9s\n",
      "[CV] END max_depth=15, max_features=sqrt, min_samples_leaf=6, min_samples_split=10, n_estimators=1500; total time=   5.9s\n",
      "[CV] END max_depth=15, max_features=sqrt, min_samples_leaf=6, min_samples_split=10, n_estimators=1500; total time=   6.1s\n",
      "[CV] END max_depth=15, max_features=sqrt, min_samples_leaf=6, min_samples_split=10, n_estimators=1500; total time=   6.1s\n",
      "[CV] END max_depth=10, max_features=sqrt, min_samples_leaf=2, min_samples_split=4, n_estimators=500; total time=   2.0s\n",
      "[CV] END max_depth=10, max_features=sqrt, min_samples_leaf=2, min_samples_split=4, n_estimators=500; total time=   2.1s\n",
      "[CV] END max_depth=10, max_features=sqrt, min_samples_leaf=2, min_samples_split=4, n_estimators=500; total time=   2.1s\n",
      "[CV] END max_depth=10, max_features=sqrt, min_samples_leaf=2, min_samples_split=4, n_estimators=500; total time=   2.5s\n",
      "[CV] END max_depth=15, max_features=sqrt, min_samples_leaf=10, min_samples_split=6, n_estimators=1000; total time=   4.0s\n",
      "[CV] END max_depth=15, max_features=sqrt, min_samples_leaf=10, min_samples_split=6, n_estimators=1000; total time=   4.1s\n",
      "[CV] END max_depth=5, max_features=sqrt, min_samples_leaf=10, min_samples_split=4, n_estimators=1500; total time=   4.9s\n",
      "[CV] END max_depth=5, max_features=sqrt, min_samples_leaf=10, min_samples_split=4, n_estimators=1500; total time=   5.2s\n",
      "[CV] END max_depth=5, max_features=sqrt, min_samples_leaf=10, min_samples_split=4, n_estimators=1500; total time=   5.2s\n",
      "[CV] END max_depth=5, max_features=sqrt, min_samples_leaf=10, min_samples_split=4, n_estimators=1500; total time=   5.2s\n"
     ]
    },
    {
     "name": "stderr",
     "output_type": "stream",
     "text": [
      "/Users/brianleung/miniconda3/lib/python3.11/site-packages/sklearn/model_selection/_validation.py:425: FitFailedWarning: \n",
      "16 fits failed out of a total of 40.\n",
      "The score on these train-test partitions for these parameters will be set to nan.\n",
      "If these failures are not expected, you can try to debug them by setting error_score='raise'.\n",
      "\n",
      "Below are more details about the failures:\n",
      "--------------------------------------------------------------------------------\n",
      "7 fits failed with the following error:\n",
      "Traceback (most recent call last):\n",
      "  File \"/Users/brianleung/miniconda3/lib/python3.11/site-packages/sklearn/model_selection/_validation.py\", line 732, in _fit_and_score\n",
      "    estimator.fit(X_train, y_train, **fit_params)\n",
      "  File \"/Users/brianleung/miniconda3/lib/python3.11/site-packages/sklearn/base.py\", line 1144, in wrapper\n",
      "    estimator._validate_params()\n",
      "  File \"/Users/brianleung/miniconda3/lib/python3.11/site-packages/sklearn/base.py\", line 637, in _validate_params\n",
      "    validate_parameter_constraints(\n",
      "  File \"/Users/brianleung/miniconda3/lib/python3.11/site-packages/sklearn/utils/_param_validation.py\", line 95, in validate_parameter_constraints\n",
      "    raise InvalidParameterError(\n",
      "sklearn.utils._param_validation.InvalidParameterError: The 'max_features' parameter of GradientBoostingRegressor must be an int in the range [1, inf), a float in the range (0.0, 1.0], a str among {'log2', 'sqrt'} or None. Got 'auto' instead.\n",
      "\n",
      "--------------------------------------------------------------------------------\n",
      "9 fits failed with the following error:\n",
      "Traceback (most recent call last):\n",
      "  File \"/Users/brianleung/miniconda3/lib/python3.11/site-packages/sklearn/model_selection/_validation.py\", line 732, in _fit_and_score\n",
      "    estimator.fit(X_train, y_train, **fit_params)\n",
      "  File \"/Users/brianleung/miniconda3/lib/python3.11/site-packages/sklearn/base.py\", line 1144, in wrapper\n",
      "    estimator._validate_params()\n",
      "  File \"/Users/brianleung/miniconda3/lib/python3.11/site-packages/sklearn/base.py\", line 637, in _validate_params\n",
      "    validate_parameter_constraints(\n",
      "  File \"/Users/brianleung/miniconda3/lib/python3.11/site-packages/sklearn/utils/_param_validation.py\", line 95, in validate_parameter_constraints\n",
      "    raise InvalidParameterError(\n",
      "sklearn.utils._param_validation.InvalidParameterError: The 'max_features' parameter of GradientBoostingRegressor must be an int in the range [1, inf), a float in the range (0.0, 1.0], a str among {'sqrt', 'log2'} or None. Got 'auto' instead.\n",
      "\n",
      "  warnings.warn(some_fits_failed_message, FitFailedWarning)\n",
      "/Users/brianleung/miniconda3/lib/python3.11/site-packages/sklearn/model_selection/_search.py:976: UserWarning: One or more of the test scores are non-finite: [            nan -11645.17106795             nan             nan\n",
      " -13534.66629305             nan -15569.470521   -12347.99566217\n",
      " -13630.58767635 -11506.8389836 ]\n",
      "  warnings.warn(\n"
     ]
    },
    {
     "data": {
      "text/html": [
       "<style>#sk-container-id-2 {color: black;}#sk-container-id-2 pre{padding: 0;}#sk-container-id-2 div.sk-toggleable {background-color: white;}#sk-container-id-2 label.sk-toggleable__label {cursor: pointer;display: block;width: 100%;margin-bottom: 0;padding: 0.3em;box-sizing: border-box;text-align: center;}#sk-container-id-2 label.sk-toggleable__label-arrow:before {content: \"▸\";float: left;margin-right: 0.25em;color: #696969;}#sk-container-id-2 label.sk-toggleable__label-arrow:hover:before {color: black;}#sk-container-id-2 div.sk-estimator:hover label.sk-toggleable__label-arrow:before {color: black;}#sk-container-id-2 div.sk-toggleable__content {max-height: 0;max-width: 0;overflow: hidden;text-align: left;background-color: #f0f8ff;}#sk-container-id-2 div.sk-toggleable__content pre {margin: 0.2em;color: black;border-radius: 0.25em;background-color: #f0f8ff;}#sk-container-id-2 input.sk-toggleable__control:checked~div.sk-toggleable__content {max-height: 200px;max-width: 100%;overflow: auto;}#sk-container-id-2 input.sk-toggleable__control:checked~label.sk-toggleable__label-arrow:before {content: \"▾\";}#sk-container-id-2 div.sk-estimator input.sk-toggleable__control:checked~label.sk-toggleable__label {background-color: #d4ebff;}#sk-container-id-2 div.sk-label input.sk-toggleable__control:checked~label.sk-toggleable__label {background-color: #d4ebff;}#sk-container-id-2 input.sk-hidden--visually {border: 0;clip: rect(1px 1px 1px 1px);clip: rect(1px, 1px, 1px, 1px);height: 1px;margin: -1px;overflow: hidden;padding: 0;position: absolute;width: 1px;}#sk-container-id-2 div.sk-estimator {font-family: monospace;background-color: #f0f8ff;border: 1px dotted black;border-radius: 0.25em;box-sizing: border-box;margin-bottom: 0.5em;}#sk-container-id-2 div.sk-estimator:hover {background-color: #d4ebff;}#sk-container-id-2 div.sk-parallel-item::after {content: \"\";width: 100%;border-bottom: 1px solid gray;flex-grow: 1;}#sk-container-id-2 div.sk-label:hover label.sk-toggleable__label {background-color: #d4ebff;}#sk-container-id-2 div.sk-serial::before {content: \"\";position: absolute;border-left: 1px solid gray;box-sizing: border-box;top: 0;bottom: 0;left: 50%;z-index: 0;}#sk-container-id-2 div.sk-serial {display: flex;flex-direction: column;align-items: center;background-color: white;padding-right: 0.2em;padding-left: 0.2em;position: relative;}#sk-container-id-2 div.sk-item {position: relative;z-index: 1;}#sk-container-id-2 div.sk-parallel {display: flex;align-items: stretch;justify-content: center;background-color: white;position: relative;}#sk-container-id-2 div.sk-item::before, #sk-container-id-2 div.sk-parallel-item::before {content: \"\";position: absolute;border-left: 1px solid gray;box-sizing: border-box;top: 0;bottom: 0;left: 50%;z-index: -1;}#sk-container-id-2 div.sk-parallel-item {display: flex;flex-direction: column;z-index: 1;position: relative;background-color: white;}#sk-container-id-2 div.sk-parallel-item:first-child::after {align-self: flex-end;width: 50%;}#sk-container-id-2 div.sk-parallel-item:last-child::after {align-self: flex-start;width: 50%;}#sk-container-id-2 div.sk-parallel-item:only-child::after {width: 0;}#sk-container-id-2 div.sk-dashed-wrapped {border: 1px dashed gray;margin: 0 0.4em 0.5em 0.4em;box-sizing: border-box;padding-bottom: 0.4em;background-color: white;}#sk-container-id-2 div.sk-label label {font-family: monospace;font-weight: bold;display: inline-block;line-height: 1.2em;}#sk-container-id-2 div.sk-label-container {text-align: center;}#sk-container-id-2 div.sk-container {/* jupyter's `normalize.less` sets `[hidden] { display: none; }` but bootstrap.min.css set `[hidden] { display: none !important; }` so we also need the `!important` here to be able to override the default hidden behavior on the sphinx rendered scikit-learn.org. See: https://github.com/scikit-learn/scikit-learn/issues/21755 */display: inline-block !important;position: relative;}#sk-container-id-2 div.sk-text-repr-fallback {display: none;}</style><div id=\"sk-container-id-2\" class=\"sk-top-container\"><div class=\"sk-text-repr-fallback\"><pre>RandomizedSearchCV(cv=4,\n",
       "                   estimator=GradientBoostingRegressor(max_depth=5,\n",
       "                                                       max_leaf_nodes=3,\n",
       "                                                       n_estimators=1000),\n",
       "                   n_jobs=-1,\n",
       "                   param_distributions={&#x27;max_depth&#x27;: [3, 5, 10, 15],\n",
       "                                        &#x27;max_features&#x27;: [&#x27;auto&#x27;, &#x27;sqrt&#x27;],\n",
       "                                        &#x27;min_samples_leaf&#x27;: [2, 4, 6, 10],\n",
       "                                        &#x27;min_samples_split&#x27;: [2, 4, 6, 10],\n",
       "                                        &#x27;n_estimators&#x27;: [100, 500, 1000, 1500]},\n",
       "                   random_state=42, scoring=&#x27;neg_mean_absolute_error&#x27;,\n",
       "                   verbose=2)</pre><b>In a Jupyter environment, please rerun this cell to show the HTML representation or trust the notebook. <br />On GitHub, the HTML representation is unable to render, please try loading this page with nbviewer.org.</b></div><div class=\"sk-container\" hidden><div class=\"sk-item sk-dashed-wrapped\"><div class=\"sk-label-container\"><div class=\"sk-label sk-toggleable\"><input class=\"sk-toggleable__control sk-hidden--visually\" id=\"sk-estimator-id-2\" type=\"checkbox\" ><label for=\"sk-estimator-id-2\" class=\"sk-toggleable__label sk-toggleable__label-arrow\">RandomizedSearchCV</label><div class=\"sk-toggleable__content\"><pre>RandomizedSearchCV(cv=4,\n",
       "                   estimator=GradientBoostingRegressor(max_depth=5,\n",
       "                                                       max_leaf_nodes=3,\n",
       "                                                       n_estimators=1000),\n",
       "                   n_jobs=-1,\n",
       "                   param_distributions={&#x27;max_depth&#x27;: [3, 5, 10, 15],\n",
       "                                        &#x27;max_features&#x27;: [&#x27;auto&#x27;, &#x27;sqrt&#x27;],\n",
       "                                        &#x27;min_samples_leaf&#x27;: [2, 4, 6, 10],\n",
       "                                        &#x27;min_samples_split&#x27;: [2, 4, 6, 10],\n",
       "                                        &#x27;n_estimators&#x27;: [100, 500, 1000, 1500]},\n",
       "                   random_state=42, scoring=&#x27;neg_mean_absolute_error&#x27;,\n",
       "                   verbose=2)</pre></div></div></div><div class=\"sk-parallel\"><div class=\"sk-parallel-item\"><div class=\"sk-item\"><div class=\"sk-label-container\"><div class=\"sk-label sk-toggleable\"><input class=\"sk-toggleable__control sk-hidden--visually\" id=\"sk-estimator-id-3\" type=\"checkbox\" ><label for=\"sk-estimator-id-3\" class=\"sk-toggleable__label sk-toggleable__label-arrow\">estimator: GradientBoostingRegressor</label><div class=\"sk-toggleable__content\"><pre>GradientBoostingRegressor(max_depth=5, max_leaf_nodes=3, n_estimators=1000)</pre></div></div></div><div class=\"sk-serial\"><div class=\"sk-item\"><div class=\"sk-estimator sk-toggleable\"><input class=\"sk-toggleable__control sk-hidden--visually\" id=\"sk-estimator-id-4\" type=\"checkbox\" ><label for=\"sk-estimator-id-4\" class=\"sk-toggleable__label sk-toggleable__label-arrow\">GradientBoostingRegressor</label><div class=\"sk-toggleable__content\"><pre>GradientBoostingRegressor(max_depth=5, max_leaf_nodes=3, n_estimators=1000)</pre></div></div></div></div></div></div></div></div></div></div>"
      ],
      "text/plain": [
       "RandomizedSearchCV(cv=4,\n",
       "                   estimator=GradientBoostingRegressor(max_depth=5,\n",
       "                                                       max_leaf_nodes=3,\n",
       "                                                       n_estimators=1000),\n",
       "                   n_jobs=-1,\n",
       "                   param_distributions={'max_depth': [3, 5, 10, 15],\n",
       "                                        'max_features': ['auto', 'sqrt'],\n",
       "                                        'min_samples_leaf': [2, 4, 6, 10],\n",
       "                                        'min_samples_split': [2, 4, 6, 10],\n",
       "                                        'n_estimators': [100, 500, 1000, 1500]},\n",
       "                   random_state=42, scoring='neg_mean_absolute_error',\n",
       "                   verbose=2)"
      ]
     },
     "execution_count": 66,
     "metadata": {},
     "output_type": "execute_result"
    }
   ],
   "source": [
    "random_cv.fit(X, Y)"
   ]
  },
  {
   "cell_type": "code",
   "execution_count": 68,
   "metadata": {},
   "outputs": [
    {
     "data": {
      "text/plain": [
       "{'n_estimators': 1500,\n",
       " 'min_samples_split': 4,\n",
       " 'min_samples_leaf': 10,\n",
       " 'max_features': 'sqrt',\n",
       " 'max_depth': 5}"
      ]
     },
     "execution_count": 68,
     "metadata": {},
     "output_type": "execute_result"
    }
   ],
   "source": [
    "random_cv.best_params_"
   ]
  },
  {
   "cell_type": "code",
   "execution_count": 71,
   "metadata": {},
   "outputs": [],
   "source": [
    "best_model = GradientBoostingRegressor(n_estimators= 1500,\n",
    "                                       min_samples_split= 4,\n",
    "                                       min_samples_leaf= 10,\n",
    "                                       max_features='sqrt',\n",
    "                                       max_depth=5)\n",
    "\n",
    "score=cross_val_score(best_model,X,Y,cv=3, scoring='neg_mean_absolute_error')"
   ]
  },
  {
   "cell_type": "code",
   "execution_count": 72,
   "metadata": {},
   "outputs": [
    {
     "data": {
      "text/plain": [
       "array([-8792.47329762, -8229.639407  , -9513.83353661])"
      ]
     },
     "execution_count": 72,
     "metadata": {},
     "output_type": "execute_result"
    }
   ],
   "source": [
    "score"
   ]
  },
  {
   "cell_type": "markdown",
   "metadata": {},
   "source": [
    "## Grid search for hyper-parameters"
   ]
  },
  {
   "cell_type": "code",
   "execution_count": 509,
   "metadata": {},
   "outputs": [
    {
     "name": "stderr",
     "output_type": "stream",
     "text": [
      "This version of python seems to be incorrectly compiled\n",
      "(internal generated filenames are not absolute).\n",
      "This may make the debugger miss breakpoints.\n",
      "Related bug: http://bugs.python.org/issue1666807\n",
      "This version of python seems to be incorrectly compiled\n",
      "(internal generated filenames are not absolute).\n",
      "This may make the debugger miss breakpoints.\n",
      "Related bug: http://bugs.python.org/issue1666807\n",
      "This version of python seems to be incorrectly compiled\n",
      "(internal generated filenames are not absolute).\n",
      "This may make the debugger miss breakpoints.\n",
      "Related bug: http://bugs.python.org/issue1666807\n",
      "This version of python seems to be incorrectly compiled\n",
      "(internal generated filenames are not absolute).\n",
      "This may make the debugger miss breakpoints.\n",
      "Related bug: http://bugs.python.org/issue1666807\n",
      "This version of python seems to be incorrectly compiled\n",
      "(internal generated filenames are not absolute).\n",
      "This may make the debugger miss breakpoints.\n",
      "Related bug: http://bugs.python.org/issue1666807\n",
      "This version of python seems to be incorrectly compiled\n",
      "(internal generated filenames are not absolute).\n",
      "This may make the debugger miss breakpoints.\n",
      "Related bug: http://bugs.python.org/issue1666807\n",
      "This version of python seems to be incorrectly compiled\n",
      "(internal generated filenames are not absolute).\n",
      "This may make the debugger miss breakpoints.\n",
      "Related bug: http://bugs.python.org/issue1666807\n",
      "This version of python seems to be incorrectly compiled\n",
      "(internal generated filenames are not absolute).\n",
      "This may make the debugger miss breakpoints.\n",
      "Related bug: http://bugs.python.org/issue1666807\n"
     ]
    }
   ],
   "source": [
    "from numpy import mean\n",
    "from numpy import std\n",
    "from sklearn.model_selection import RepeatedKFold\n",
    "from sklearn.model_selection import cross_val_score\n",
    "from sklearn.model_selection import RepeatedStratifiedKFold\n",
    "from sklearn.ensemble import GradientBoostingRegressor\n",
    "from sklearn.model_selection import GridSearchCV\n",
    "from matplotlib import pyplot\n",
    "\n",
    "model = GradientBoostingRegressor()\n",
    "# define the grid of values to search\n",
    "grid = dict()\n",
    "grid['n_estimators'] = [100, 250, 500, 1000]\n",
    "grid['learning_rate'] = [0.01, 0.1, 0.5, 1]\n",
    "grid['subsample'] = [0.5, 0.7, 1.0]\n",
    "grid['max_depth'] = [3, 7, 9]\n",
    "\n",
    "# define the evaluation procedure\n",
    "cv = RepeatedKFold(n_splits=5, n_repeats=10, random_state=1)\n",
    "# define the grid search procedure\n",
    "grid_search = GridSearchCV(estimator=model, param_grid=grid, n_jobs=-1, cv=cv, scoring='neg_mean_absolute_error')\n",
    "# execute the grid search\n",
    "grid_result = grid_search.fit(X, Y)\n",
    "# summarize the best score and configuration\n",
    "print(\"Best: %f using %s\" % (grid_result.best_score_, grid_result.best_params_))\n",
    "# summarize all scores that were evaluated\n",
    "means = grid_result.cv_results_['mean_test_score']\n",
    "stds = grid_result.cv_results_['std_test_score']\n",
    "params = grid_result.cv_results_['params']\n",
    "for mean, stdev, param in zip(means, stds, params):\n",
    "    print(\"%f (%f) with: %r\" % (mean, stdev, param))"
   ]
  },
  {
   "cell_type": "code",
   "execution_count": null,
   "metadata": {},
   "outputs": [],
   "source": []
  }
 ],
 "metadata": {
  "kernelspec": {
   "display_name": "base",
   "language": "python",
   "name": "python3"
  },
  "language_info": {
   "codemirror_mode": {
    "name": "ipython",
    "version": 3
   },
   "file_extension": ".py",
   "mimetype": "text/x-python",
   "name": "python",
   "nbconvert_exporter": "python",
   "pygments_lexer": "ipython3",
   "version": "3.11.4"
  },
  "orig_nbformat": 4
 },
 "nbformat": 4,
 "nbformat_minor": 2
}
