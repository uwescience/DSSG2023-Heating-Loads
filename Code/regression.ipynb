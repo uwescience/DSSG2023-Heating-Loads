{
 "cells": [
  {
   "cell_type": "code",
   "execution_count": 123,
   "metadata": {},
   "outputs": [],
   "source": [
    "import numpy as np\n",
    "from numpy import mean\n",
    "from numpy import std\n",
    "import pandas as pd\n",
    "from sklearn.metrics import mean_squared_error \n",
    "from sklearn.metrics import mean_absolute_error \n",
    "from sklearn.linear_model import LinearRegression\n",
    "from sklearn.linear_model import Lasso\n",
    "from sklearn.linear_model import RidgeCV\n",
    "from sklearn.ensemble import RandomForestRegressor\n",
    "from sklearn.ensemble import GradientBoostingRegressor\n",
    "from sklearn.model_selection import train_test_split\n",
    "from sklearn.model_selection import RepeatedKFold\n",
    "from sklearn.model_selection import cross_val_score\n",
    "from sklearn.model_selection import RandomizedSearchCV\n",
    "from sklearn.pipeline import make_pipeline\n",
    "from sklearn.preprocessing import StandardScaler\n",
    "import matplotlib.pyplot as plt\n",
    "import xgboost as xgb"
   ]
  },
  {
   "cell_type": "markdown",
   "metadata": {},
   "source": [
    "## Final pre-processing of data"
   ]
  },
  {
   "cell_type": "code",
   "execution_count": 124,
   "metadata": {},
   "outputs": [],
   "source": [
    "allScens = pd.read_csv('../Output/allScens_wRandomness.csv', usecols=lambda x: x not in ['Unnamed: 0'])"
   ]
  },
  {
   "cell_type": "code",
   "execution_count": 125,
   "metadata": {},
   "outputs": [
    {
     "data": {
      "text/html": [
       "<div>\n",
       "<style scoped>\n",
       "    .dataframe tbody tr th:only-of-type {\n",
       "        vertical-align: middle;\n",
       "    }\n",
       "\n",
       "    .dataframe tbody tr th {\n",
       "        vertical-align: top;\n",
       "    }\n",
       "\n",
       "    .dataframe thead th {\n",
       "        text-align: right;\n",
       "    }\n",
       "</style>\n",
       "<table border=\"1\" class=\"dataframe\">\n",
       "  <thead>\n",
       "    <tr style=\"text-align: right;\">\n",
       "      <th></th>\n",
       "      <th>City</th>\n",
       "      <th>Exist_Fuel_Type</th>\n",
       "      <th>Scenario</th>\n",
       "      <th>Census_Area</th>\n",
       "      <th>ANCSA_Region</th>\n",
       "      <th>Util_Name</th>\n",
       "      <th>PCE</th>\n",
       "      <th>Sq_Ft</th>\n",
       "      <th>Capital_Cost</th>\n",
       "      <th>Elec_Use_Jan</th>\n",
       "      <th>...</th>\n",
       "      <th>Avg_Temp_3</th>\n",
       "      <th>Avg_Temp_4</th>\n",
       "      <th>Avg_Temp_5</th>\n",
       "      <th>Avg_Temp_6</th>\n",
       "      <th>Avg_Temp_7</th>\n",
       "      <th>Avg_Temp_8</th>\n",
       "      <th>Avg_Temp_9</th>\n",
       "      <th>Avg_Temp_10</th>\n",
       "      <th>Avg_Temp_11</th>\n",
       "      <th>Avg_Temp_12</th>\n",
       "    </tr>\n",
       "  </thead>\n",
       "  <tbody>\n",
       "    <tr>\n",
       "      <th>0</th>\n",
       "      <td>Adak</td>\n",
       "      <td>1</td>\n",
       "      <td>Base</td>\n",
       "      <td>Aleutians West Census Area</td>\n",
       "      <td>Aleut</td>\n",
       "      <td>Adak -TDX Residential</td>\n",
       "      <td>0.7597</td>\n",
       "      <td>1289.367468</td>\n",
       "      <td>5596.353187</td>\n",
       "      <td>430.689472</td>\n",
       "      <td>...</td>\n",
       "      <td>29.256</td>\n",
       "      <td>29.997</td>\n",
       "      <td>31.818</td>\n",
       "      <td>35.787</td>\n",
       "      <td>39.544</td>\n",
       "      <td>40.967</td>\n",
       "      <td>40.145</td>\n",
       "      <td>35.104</td>\n",
       "      <td>30.510</td>\n",
       "      <td>27.509</td>\n",
       "    </tr>\n",
       "    <tr>\n",
       "      <th>1</th>\n",
       "      <td>Adak</td>\n",
       "      <td>1</td>\n",
       "      <td>Small Load</td>\n",
       "      <td>Aleutians West Census Area</td>\n",
       "      <td>Aleut</td>\n",
       "      <td>Adak -TDX Residential</td>\n",
       "      <td>0.7597</td>\n",
       "      <td>773.620481</td>\n",
       "      <td>5596.353187</td>\n",
       "      <td>344.551577</td>\n",
       "      <td>...</td>\n",
       "      <td>29.211</td>\n",
       "      <td>29.950</td>\n",
       "      <td>31.768</td>\n",
       "      <td>35.731</td>\n",
       "      <td>39.483</td>\n",
       "      <td>40.903</td>\n",
       "      <td>40.082</td>\n",
       "      <td>35.049</td>\n",
       "      <td>30.463</td>\n",
       "      <td>27.466</td>\n",
       "    </tr>\n",
       "    <tr>\n",
       "      <th>2</th>\n",
       "      <td>Adak</td>\n",
       "      <td>1</td>\n",
       "      <td>Large Load</td>\n",
       "      <td>Aleutians West Census Area</td>\n",
       "      <td>Aleut</td>\n",
       "      <td>Adak -TDX Residential</td>\n",
       "      <td>0.7597</td>\n",
       "      <td>1934.051202</td>\n",
       "      <td>5596.353187</td>\n",
       "      <td>430.689472</td>\n",
       "      <td>...</td>\n",
       "      <td>37.992</td>\n",
       "      <td>38.954</td>\n",
       "      <td>41.319</td>\n",
       "      <td>46.473</td>\n",
       "      <td>51.352</td>\n",
       "      <td>53.200</td>\n",
       "      <td>52.132</td>\n",
       "      <td>45.586</td>\n",
       "      <td>39.621</td>\n",
       "      <td>35.723</td>\n",
       "    </tr>\n",
       "    <tr>\n",
       "      <th>3</th>\n",
       "      <td>Adak</td>\n",
       "      <td>1</td>\n",
       "      <td>Low Elec</td>\n",
       "      <td>Aleutians West Census Area</td>\n",
       "      <td>Aleut</td>\n",
       "      <td>Adak -TDX Residential</td>\n",
       "      <td>0.7597</td>\n",
       "      <td>1289.367468</td>\n",
       "      <td>5596.353187</td>\n",
       "      <td>301.482630</td>\n",
       "      <td>...</td>\n",
       "      <td>43.818</td>\n",
       "      <td>44.927</td>\n",
       "      <td>47.655</td>\n",
       "      <td>53.599</td>\n",
       "      <td>59.227</td>\n",
       "      <td>61.358</td>\n",
       "      <td>60.127</td>\n",
       "      <td>52.577</td>\n",
       "      <td>45.696</td>\n",
       "      <td>41.201</td>\n",
       "    </tr>\n",
       "    <tr>\n",
       "      <th>4</th>\n",
       "      <td>Adak</td>\n",
       "      <td>1</td>\n",
       "      <td>No PCE</td>\n",
       "      <td>Aleutians West Census Area</td>\n",
       "      <td>Aleut</td>\n",
       "      <td>Adak -TDX Residential</td>\n",
       "      <td>0.7597</td>\n",
       "      <td>1289.367468</td>\n",
       "      <td>5596.353187</td>\n",
       "      <td>430.689472</td>\n",
       "      <td>...</td>\n",
       "      <td>35.293</td>\n",
       "      <td>36.186</td>\n",
       "      <td>38.383</td>\n",
       "      <td>43.171</td>\n",
       "      <td>47.703</td>\n",
       "      <td>49.420</td>\n",
       "      <td>48.428</td>\n",
       "      <td>42.347</td>\n",
       "      <td>36.805</td>\n",
       "      <td>33.185</td>\n",
       "    </tr>\n",
       "  </tbody>\n",
       "</table>\n",
       "<p>5 rows × 44 columns</p>\n",
       "</div>"
      ],
      "text/plain": [
       "   City  Exist_Fuel_Type    Scenario                 Census_Area ANCSA_Region  \\\n",
       "0  Adak                1        Base  Aleutians West Census Area        Aleut   \n",
       "1  Adak                1  Small Load  Aleutians West Census Area        Aleut   \n",
       "2  Adak                1  Large Load  Aleutians West Census Area        Aleut   \n",
       "3  Adak                1    Low Elec  Aleutians West Census Area        Aleut   \n",
       "4  Adak                1      No PCE  Aleutians West Census Area        Aleut   \n",
       "\n",
       "               Util_Name     PCE        Sq_Ft  Capital_Cost  Elec_Use_Jan  \\\n",
       "0  Adak -TDX Residential  0.7597  1289.367468   5596.353187    430.689472   \n",
       "1  Adak -TDX Residential  0.7597   773.620481   5596.353187    344.551577   \n",
       "2  Adak -TDX Residential  0.7597  1934.051202   5596.353187    430.689472   \n",
       "3  Adak -TDX Residential  0.7597  1289.367468   5596.353187    301.482630   \n",
       "4  Adak -TDX Residential  0.7597  1289.367468   5596.353187    430.689472   \n",
       "\n",
       "   ...  Avg_Temp_3  Avg_Temp_4  Avg_Temp_5  Avg_Temp_6  Avg_Temp_7  \\\n",
       "0  ...      29.256      29.997      31.818      35.787      39.544   \n",
       "1  ...      29.211      29.950      31.768      35.731      39.483   \n",
       "2  ...      37.992      38.954      41.319      46.473      51.352   \n",
       "3  ...      43.818      44.927      47.655      53.599      59.227   \n",
       "4  ...      35.293      36.186      38.383      43.171      47.703   \n",
       "\n",
       "   Avg_Temp_8  Avg_Temp_9  Avg_Temp_10  Avg_Temp_11 Avg_Temp_12  \n",
       "0      40.967      40.145       35.104       30.510      27.509  \n",
       "1      40.903      40.082       35.049       30.463      27.466  \n",
       "2      53.200      52.132       45.586       39.621      35.723  \n",
       "3      61.358      60.127       52.577       45.696      41.201  \n",
       "4      49.420      48.428       42.347       36.805      33.185  \n",
       "\n",
       "[5 rows x 44 columns]"
      ]
     },
     "execution_count": 125,
     "metadata": {},
     "output_type": "execute_result"
    }
   ],
   "source": [
    "allScens.head()"
   ]
  },
  {
   "cell_type": "code",
   "execution_count": 188,
   "metadata": {},
   "outputs": [
    {
     "ename": "KeyError",
     "evalue": "\"['Exist_Fuel', 'Census_Area', 'Scenario'] not in index\"",
     "output_type": "error",
     "traceback": [
      "\u001b[0;31m---------------------------------------------------------------------------\u001b[0m",
      "\u001b[0;31mKeyError\u001b[0m                                  Traceback (most recent call last)",
      "Cell \u001b[0;32mIn[188], line 1\u001b[0m\n\u001b[0;32m----> 1\u001b[0m allScens \u001b[39m=\u001b[39m pd\u001b[39m.\u001b[39;49mget_dummies(allScens, columns\u001b[39m=\u001b[39;49m[\u001b[39m'\u001b[39;49m\u001b[39mExist_Fuel\u001b[39;49m\u001b[39m'\u001b[39;49m, \u001b[39m'\u001b[39;49m\u001b[39mCensus_Area\u001b[39;49m\u001b[39m'\u001b[39;49m, \u001b[39m'\u001b[39;49m\u001b[39mScenario\u001b[39;49m\u001b[39m'\u001b[39;49m, \u001b[39m'\u001b[39;49m\u001b[39mCity\u001b[39;49m\u001b[39m'\u001b[39;49m])\n",
      "File \u001b[0;32m~/miniconda3/lib/python3.11/site-packages/pandas/core/reshape/encoding.py:146\u001b[0m, in \u001b[0;36mget_dummies\u001b[0;34m(data, prefix, prefix_sep, dummy_na, columns, sparse, drop_first, dtype)\u001b[0m\n\u001b[1;32m    144\u001b[0m     \u001b[39mraise\u001b[39;00m \u001b[39mTypeError\u001b[39;00m(\u001b[39m\"\u001b[39m\u001b[39mInput must be a list-like for parameter `columns`\u001b[39m\u001b[39m\"\u001b[39m)\n\u001b[1;32m    145\u001b[0m \u001b[39melse\u001b[39;00m:\n\u001b[0;32m--> 146\u001b[0m     data_to_encode \u001b[39m=\u001b[39m data[columns]\n\u001b[1;32m    148\u001b[0m \u001b[39m# validate prefixes and separator to avoid silently dropping cols\u001b[39;00m\n\u001b[1;32m    149\u001b[0m \u001b[39mdef\u001b[39;00m \u001b[39mcheck_len\u001b[39m(item, name):\n",
      "File \u001b[0;32m~/miniconda3/lib/python3.11/site-packages/pandas/core/frame.py:3813\u001b[0m, in \u001b[0;36mDataFrame.__getitem__\u001b[0;34m(self, key)\u001b[0m\n\u001b[1;32m   3811\u001b[0m     \u001b[39mif\u001b[39;00m is_iterator(key):\n\u001b[1;32m   3812\u001b[0m         key \u001b[39m=\u001b[39m \u001b[39mlist\u001b[39m(key)\n\u001b[0;32m-> 3813\u001b[0m     indexer \u001b[39m=\u001b[39m \u001b[39mself\u001b[39;49m\u001b[39m.\u001b[39;49mcolumns\u001b[39m.\u001b[39;49m_get_indexer_strict(key, \u001b[39m\"\u001b[39;49m\u001b[39mcolumns\u001b[39;49m\u001b[39m\"\u001b[39;49m)[\u001b[39m1\u001b[39m]\n\u001b[1;32m   3815\u001b[0m \u001b[39m# take() does not accept boolean indexers\u001b[39;00m\n\u001b[1;32m   3816\u001b[0m \u001b[39mif\u001b[39;00m \u001b[39mgetattr\u001b[39m(indexer, \u001b[39m\"\u001b[39m\u001b[39mdtype\u001b[39m\u001b[39m\"\u001b[39m, \u001b[39mNone\u001b[39;00m) \u001b[39m==\u001b[39m \u001b[39mbool\u001b[39m:\n",
      "File \u001b[0;32m~/miniconda3/lib/python3.11/site-packages/pandas/core/indexes/base.py:6070\u001b[0m, in \u001b[0;36mIndex._get_indexer_strict\u001b[0;34m(self, key, axis_name)\u001b[0m\n\u001b[1;32m   6067\u001b[0m \u001b[39melse\u001b[39;00m:\n\u001b[1;32m   6068\u001b[0m     keyarr, indexer, new_indexer \u001b[39m=\u001b[39m \u001b[39mself\u001b[39m\u001b[39m.\u001b[39m_reindex_non_unique(keyarr)\n\u001b[0;32m-> 6070\u001b[0m \u001b[39mself\u001b[39;49m\u001b[39m.\u001b[39;49m_raise_if_missing(keyarr, indexer, axis_name)\n\u001b[1;32m   6072\u001b[0m keyarr \u001b[39m=\u001b[39m \u001b[39mself\u001b[39m\u001b[39m.\u001b[39mtake(indexer)\n\u001b[1;32m   6073\u001b[0m \u001b[39mif\u001b[39;00m \u001b[39misinstance\u001b[39m(key, Index):\n\u001b[1;32m   6074\u001b[0m     \u001b[39m# GH 42790 - Preserve name from an Index\u001b[39;00m\n",
      "File \u001b[0;32m~/miniconda3/lib/python3.11/site-packages/pandas/core/indexes/base.py:6133\u001b[0m, in \u001b[0;36mIndex._raise_if_missing\u001b[0;34m(self, key, indexer, axis_name)\u001b[0m\n\u001b[1;32m   6130\u001b[0m     \u001b[39mraise\u001b[39;00m \u001b[39mKeyError\u001b[39;00m(\u001b[39mf\u001b[39m\u001b[39m\"\u001b[39m\u001b[39mNone of [\u001b[39m\u001b[39m{\u001b[39;00mkey\u001b[39m}\u001b[39;00m\u001b[39m] are in the [\u001b[39m\u001b[39m{\u001b[39;00maxis_name\u001b[39m}\u001b[39;00m\u001b[39m]\u001b[39m\u001b[39m\"\u001b[39m)\n\u001b[1;32m   6132\u001b[0m not_found \u001b[39m=\u001b[39m \u001b[39mlist\u001b[39m(ensure_index(key)[missing_mask\u001b[39m.\u001b[39mnonzero()[\u001b[39m0\u001b[39m]]\u001b[39m.\u001b[39munique())\n\u001b[0;32m-> 6133\u001b[0m \u001b[39mraise\u001b[39;00m \u001b[39mKeyError\u001b[39;00m(\u001b[39mf\u001b[39m\u001b[39m\"\u001b[39m\u001b[39m{\u001b[39;00mnot_found\u001b[39m}\u001b[39;00m\u001b[39m not in index\u001b[39m\u001b[39m\"\u001b[39m)\n",
      "\u001b[0;31mKeyError\u001b[0m: \"['Exist_Fuel', 'Census_Area', 'Scenario'] not in index\""
     ]
    }
   ],
   "source": [
    "allScens = pd.get_dummies(allScens, columns=['Exist_Fuel', 'Census_Area', 'Scenario'])"
   ]
  },
  {
   "cell_type": "code",
   "execution_count": 127,
   "metadata": {},
   "outputs": [
    {
     "data": {
      "text/plain": [
       "Index(['City', 'Exist_Fuel_Type', 'ANCSA_Region', 'Util_Name', 'PCE', 'Sq_Ft',\n",
       "       'Capital_Cost', 'Elec_Use_Jan', 'Elec_Use_May', 'Rebate_dol',\n",
       "       'Fuel_Esc_Rate', 'Exist_Unit_Fuel_Cost', 'Design_Heat_Load',\n",
       "       'Design_Heat_Temp', 'COP', 'Max_HP_Cap_Reached', 'HP_Load_Frac',\n",
       "       'Avg_Temp', 'Freezing_days', 'IRR', 'NPV', 'CO2_lbs_saved',\n",
       "       'CO2_driving_miles_saved', 'Fuel_Use_Chg', 'Fuel_Price_Incremental',\n",
       "       'Elec_Use_Chg', 'Elec_Rate_Incremental', 'Elec_Rate_Avg_Base', 'Econ',\n",
       "       'Avg_Temp_1', 'Avg_Temp_2', 'Avg_Temp_3', 'Avg_Temp_4', 'Avg_Temp_5',\n",
       "       'Avg_Temp_6', 'Avg_Temp_7', 'Avg_Temp_8', 'Avg_Temp_9', 'Avg_Temp_10',\n",
       "       'Avg_Temp_11', 'Avg_Temp_12', 'Exist_Fuel_#1 Oil',\n",
       "       'Exist_Fuel_Electricity', 'Exist_Fuel_Natural Gas',\n",
       "       'Exist_Fuel_Propane', 'Census_Area_Aleutians East Borough',\n",
       "       'Census_Area_Aleutians West Census Area',\n",
       "       'Census_Area_Anchorage municipality', 'Census_Area_Bethel Census Area',\n",
       "       'Census_Area_Bristol Bay Borough', 'Census_Area_Denali Borough',\n",
       "       'Census_Area_Dillingham Census Area',\n",
       "       'Census_Area_Fairbanks North Star Borough',\n",
       "       'Census_Area_Haines Borough', 'Census_Area_Hoonah-Angoon Census Area',\n",
       "       'Census_Area_Juneau City and Borough',\n",
       "       'Census_Area_Kenai Peninsula Borough',\n",
       "       'Census_Area_Ketchikan Gateway Borough',\n",
       "       'Census_Area_Kodiak Island Borough',\n",
       "       'Census_Area_Lake and Peninsula Borough',\n",
       "       'Census_Area_Matanuska-Susitna Borough', 'Census_Area_Nome Census Area',\n",
       "       'Census_Area_North Slope Borough',\n",
       "       'Census_Area_Northwest Arctic Borough',\n",
       "       'Census_Area_Petersburg Borough',\n",
       "       'Census_Area_Prince of Wales-Hyder Census Area',\n",
       "       'Census_Area_Sitka City and Borough',\n",
       "       'Census_Area_Skagway Municipality',\n",
       "       'Census_Area_Southeast Fairbanks Census Area',\n",
       "       'Census_Area_Valdez-Cordova Census Area',\n",
       "       'Census_Area_Wade Hampton Census Area',\n",
       "       'Census_Area_Wrangell City and Borough',\n",
       "       'Census_Area_Yakutat City and Borough',\n",
       "       'Census_Area_Yukon-Koyukuk Census Area', 'Scenario_Base',\n",
       "       'Scenario_Community Bldg', 'Scenario_Large Load', 'Scenario_Low Elec',\n",
       "       'Scenario_No PCE', 'Scenario_Small Load'],\n",
       "      dtype='object')"
      ]
     },
     "execution_count": 127,
     "metadata": {},
     "output_type": "execute_result"
    }
   ],
   "source": [
    "allScens.columns"
   ]
  },
  {
   "cell_type": "markdown",
   "metadata": {},
   "source": [
    "## Building regression models"
   ]
  },
  {
   "cell_type": "code",
   "execution_count": 181,
   "metadata": {},
   "outputs": [],
   "source": [
    "# Separating the df into input and output components\n",
    "allScens_numerics1 = allScens.filter(regex = 'Exist_Fuel_(?!Type)|Avg_Temp_[1,2,3,10,11,12]|Elec_Use_')\n",
    "allScens_numerics2 = allScens[['Freezing_days', 'Exist_Unit_Fuel_Cost', 'Elec_Rate_Avg_Base', 'PCE', 'Sq_Ft', 'Capital_Cost', 'Design_Heat_Load', 'Design_Heat_Temp', 'Rebate_dol', 'Fuel_Esc_Rate']]\n",
    "allScens_numerics3 = pd.concat([allScens['Fuel_Esc_Rate']**2, allScens['Freezing_days']**2, allScens['Rebate_dol']**2], axis=1)\n",
    "allScens_numerics3.rename(columns={'Fuel_Esc_Rate':'Fuel_Esc_Rate2', 'Freezing_days':'Freezing_days2', 'Rebate_dol':'Rebate_dol2'}, inplace=True)\n",
    "\n",
    "X = pd.concat([allScens_numerics1, allScens_numerics2, allScens_numerics3], axis=1)\n",
    "Y = allScens['NPV']\n",
    "cities = allScens['City']"
   ]
  },
  {
   "cell_type": "code",
   "execution_count": 182,
   "metadata": {},
   "outputs": [
    {
     "data": {
      "text/html": [
       "<div>\n",
       "<style scoped>\n",
       "    .dataframe tbody tr th:only-of-type {\n",
       "        vertical-align: middle;\n",
       "    }\n",
       "\n",
       "    .dataframe tbody tr th {\n",
       "        vertical-align: top;\n",
       "    }\n",
       "\n",
       "    .dataframe thead th {\n",
       "        text-align: right;\n",
       "    }\n",
       "</style>\n",
       "<table border=\"1\" class=\"dataframe\">\n",
       "  <thead>\n",
       "    <tr style=\"text-align: right;\">\n",
       "      <th></th>\n",
       "      <th>Elec_Use_Jan</th>\n",
       "      <th>Elec_Use_May</th>\n",
       "      <th>Elec_Use_Chg</th>\n",
       "      <th>Avg_Temp_1</th>\n",
       "      <th>Avg_Temp_2</th>\n",
       "      <th>Avg_Temp_3</th>\n",
       "      <th>Avg_Temp_10</th>\n",
       "      <th>Avg_Temp_11</th>\n",
       "      <th>Avg_Temp_12</th>\n",
       "      <th>Exist_Fuel_#1 Oil</th>\n",
       "      <th>...</th>\n",
       "      <th>PCE</th>\n",
       "      <th>Sq_Ft</th>\n",
       "      <th>Capital_Cost</th>\n",
       "      <th>Design_Heat_Load</th>\n",
       "      <th>Design_Heat_Temp</th>\n",
       "      <th>Rebate_dol</th>\n",
       "      <th>Fuel_Esc_Rate</th>\n",
       "      <th>Fuel_Esc_Rate2</th>\n",
       "      <th>Freezing_days2</th>\n",
       "      <th>Rebate_dol2</th>\n",
       "    </tr>\n",
       "  </thead>\n",
       "  <tbody>\n",
       "    <tr>\n",
       "      <th>0</th>\n",
       "      <td>430.689472</td>\n",
       "      <td>388.445152</td>\n",
       "      <td>-8906.176992</td>\n",
       "      <td>26.706</td>\n",
       "      <td>27.833</td>\n",
       "      <td>29.256</td>\n",
       "      <td>35.104</td>\n",
       "      <td>30.510</td>\n",
       "      <td>27.509</td>\n",
       "      <td>0</td>\n",
       "      <td>...</td>\n",
       "      <td>0.7597</td>\n",
       "      <td>1289.367468</td>\n",
       "      <td>5596.353187</td>\n",
       "      <td>13625.603079</td>\n",
       "      <td>22.6</td>\n",
       "      <td>5668.906232</td>\n",
       "      <td>0.064799</td>\n",
       "      <td>0.004199</td>\n",
       "      <td>0.209764</td>\n",
       "      <td>3.213650e+07</td>\n",
       "    </tr>\n",
       "    <tr>\n",
       "      <th>1</th>\n",
       "      <td>344.551577</td>\n",
       "      <td>310.756122</td>\n",
       "      <td>-1348.134275</td>\n",
       "      <td>26.664</td>\n",
       "      <td>27.790</td>\n",
       "      <td>29.211</td>\n",
       "      <td>35.049</td>\n",
       "      <td>30.463</td>\n",
       "      <td>27.466</td>\n",
       "      <td>0</td>\n",
       "      <td>...</td>\n",
       "      <td>0.7597</td>\n",
       "      <td>773.620481</td>\n",
       "      <td>5596.353187</td>\n",
       "      <td>9005.232119</td>\n",
       "      <td>22.6</td>\n",
       "      <td>642.754715</td>\n",
       "      <td>0.086262</td>\n",
       "      <td>0.007441</td>\n",
       "      <td>0.217156</td>\n",
       "      <td>4.131336e+05</td>\n",
       "    </tr>\n",
       "    <tr>\n",
       "      <th>2</th>\n",
       "      <td>430.689472</td>\n",
       "      <td>388.445152</td>\n",
       "      <td>-10452.336399</td>\n",
       "      <td>34.680</td>\n",
       "      <td>36.144</td>\n",
       "      <td>37.992</td>\n",
       "      <td>45.586</td>\n",
       "      <td>39.621</td>\n",
       "      <td>35.723</td>\n",
       "      <td>0</td>\n",
       "      <td>...</td>\n",
       "      <td>0.7597</td>\n",
       "      <td>1934.051202</td>\n",
       "      <td>5596.353187</td>\n",
       "      <td>19401.066778</td>\n",
       "      <td>22.6</td>\n",
       "      <td>4121.830264</td>\n",
       "      <td>0.071862</td>\n",
       "      <td>0.005164</td>\n",
       "      <td>0.008100</td>\n",
       "      <td>1.698948e+07</td>\n",
       "    </tr>\n",
       "    <tr>\n",
       "      <th>3</th>\n",
       "      <td>301.482630</td>\n",
       "      <td>271.911606</td>\n",
       "      <td>-14294.891308</td>\n",
       "      <td>39.999</td>\n",
       "      <td>41.687</td>\n",
       "      <td>43.818</td>\n",
       "      <td>52.577</td>\n",
       "      <td>45.696</td>\n",
       "      <td>41.201</td>\n",
       "      <td>0</td>\n",
       "      <td>...</td>\n",
       "      <td>0.7597</td>\n",
       "      <td>1289.367468</td>\n",
       "      <td>5596.353187</td>\n",
       "      <td>13625.603079</td>\n",
       "      <td>22.6</td>\n",
       "      <td>1272.883949</td>\n",
       "      <td>0.106926</td>\n",
       "      <td>0.011433</td>\n",
       "      <td>0.000484</td>\n",
       "      <td>1.620234e+06</td>\n",
       "    </tr>\n",
       "    <tr>\n",
       "      <th>4</th>\n",
       "      <td>430.689472</td>\n",
       "      <td>388.445152</td>\n",
       "      <td>-15339.844898</td>\n",
       "      <td>32.216</td>\n",
       "      <td>33.576</td>\n",
       "      <td>35.293</td>\n",
       "      <td>42.347</td>\n",
       "      <td>36.805</td>\n",
       "      <td>33.185</td>\n",
       "      <td>0</td>\n",
       "      <td>...</td>\n",
       "      <td>0.7597</td>\n",
       "      <td>1289.367468</td>\n",
       "      <td>5596.353187</td>\n",
       "      <td>13625.603079</td>\n",
       "      <td>22.6</td>\n",
       "      <td>2660.864153</td>\n",
       "      <td>0.115070</td>\n",
       "      <td>0.013241</td>\n",
       "      <td>0.017424</td>\n",
       "      <td>7.080198e+06</td>\n",
       "    </tr>\n",
       "  </tbody>\n",
       "</table>\n",
       "<p>5 rows × 26 columns</p>\n",
       "</div>"
      ],
      "text/plain": [
       "   Elec_Use_Jan  Elec_Use_May  Elec_Use_Chg  Avg_Temp_1  Avg_Temp_2  \\\n",
       "0    430.689472    388.445152  -8906.176992      26.706      27.833   \n",
       "1    344.551577    310.756122  -1348.134275      26.664      27.790   \n",
       "2    430.689472    388.445152 -10452.336399      34.680      36.144   \n",
       "3    301.482630    271.911606 -14294.891308      39.999      41.687   \n",
       "4    430.689472    388.445152 -15339.844898      32.216      33.576   \n",
       "\n",
       "   Avg_Temp_3  Avg_Temp_10  Avg_Temp_11  Avg_Temp_12  Exist_Fuel_#1 Oil  ...  \\\n",
       "0      29.256       35.104       30.510       27.509                  0  ...   \n",
       "1      29.211       35.049       30.463       27.466                  0  ...   \n",
       "2      37.992       45.586       39.621       35.723                  0  ...   \n",
       "3      43.818       52.577       45.696       41.201                  0  ...   \n",
       "4      35.293       42.347       36.805       33.185                  0  ...   \n",
       "\n",
       "      PCE        Sq_Ft  Capital_Cost  Design_Heat_Load  Design_Heat_Temp  \\\n",
       "0  0.7597  1289.367468   5596.353187      13625.603079              22.6   \n",
       "1  0.7597   773.620481   5596.353187       9005.232119              22.6   \n",
       "2  0.7597  1934.051202   5596.353187      19401.066778              22.6   \n",
       "3  0.7597  1289.367468   5596.353187      13625.603079              22.6   \n",
       "4  0.7597  1289.367468   5596.353187      13625.603079              22.6   \n",
       "\n",
       "    Rebate_dol  Fuel_Esc_Rate  Fuel_Esc_Rate2  Freezing_days2   Rebate_dol2  \n",
       "0  5668.906232       0.064799        0.004199        0.209764  3.213650e+07  \n",
       "1   642.754715       0.086262        0.007441        0.217156  4.131336e+05  \n",
       "2  4121.830264       0.071862        0.005164        0.008100  1.698948e+07  \n",
       "3  1272.883949       0.106926        0.011433        0.000484  1.620234e+06  \n",
       "4  2660.864153       0.115070        0.013241        0.017424  7.080198e+06  \n",
       "\n",
       "[5 rows x 26 columns]"
      ]
     },
     "execution_count": 182,
     "metadata": {},
     "output_type": "execute_result"
    }
   ],
   "source": [
    "X.head()"
   ]
  },
  {
   "cell_type": "code",
   "execution_count": 175,
   "metadata": {},
   "outputs": [
    {
     "data": {
      "text/plain": [
       "33683.30427644264"
      ]
     },
     "execution_count": 175,
     "metadata": {},
     "output_type": "execute_result"
    }
   ],
   "source": [
    "# Compare to the mean\n",
    "np.mean(allScens['NPV'])"
   ]
  },
  {
   "cell_type": "markdown",
   "metadata": {},
   "source": [
    "## Group-based split"
   ]
  },
  {
   "cell_type": "code",
   "execution_count": 183,
   "metadata": {},
   "outputs": [],
   "source": [
    "#from sklearn.model_selection import GroupShuffleSplit \n",
    "# splitter = GroupShuffleSplit(test_size=.33, n_splits=2, random_state = 7)\n",
    "# split = splitter.split(allScens, groups=allScens['City'])\n",
    "# train_inds, test_inds = next(split)\n",
    "\n",
    "from sklearn.model_selection import GroupKFold \n",
    "split = GroupKFold(n_splits=5).split(allScens, groups=allScens['City'])\n",
    "train_inds, test_inds = next(split)"
   ]
  },
  {
   "cell_type": "code",
   "execution_count": 184,
   "metadata": {},
   "outputs": [
    {
     "data": {
      "text/plain": [
       "15800"
      ]
     },
     "execution_count": 184,
     "metadata": {},
     "output_type": "execute_result"
    }
   ],
   "source": [
    "len(train_inds)"
   ]
  },
  {
   "cell_type": "code",
   "execution_count": 185,
   "metadata": {},
   "outputs": [
    {
     "data": {
      "text/plain": [
       "3945"
      ]
     },
     "execution_count": 185,
     "metadata": {},
     "output_type": "execute_result"
    }
   ],
   "source": [
    "len(test_inds)"
   ]
  },
  {
   "cell_type": "code",
   "execution_count": 186,
   "metadata": {},
   "outputs": [],
   "source": [
    "X_train = X.iloc[train_inds]\n",
    "Y_train = Y.iloc[train_inds]\n",
    "X_test = X.iloc[test_inds]\n",
    "Y_test = Y.iloc[test_inds]"
   ]
  },
  {
   "cell_type": "markdown",
   "metadata": {},
   "source": [
    "## Extreme Gradient boosting model (XGB)"
   ]
  },
  {
   "cell_type": "code",
   "execution_count": 187,
   "metadata": {},
   "outputs": [
    {
     "name": "stdout",
     "output_type": "stream",
     "text": [
      "The RMSE of the model is 17396.084852462114\n",
      "The MAE of the model is 10605.087074018535\n"
     ]
    }
   ],
   "source": [
    "X_train, X_test, Y_train, Y_test = train_test_split(X, Y, test_size=0.33)\n",
    "\n",
    "# Naive model\n",
    "xgb_reg = xgb.XGBRegressor()\n",
    "xgb_reg.fit(X_train, Y_train)\n",
    "\n",
    "# Making predictions\n",
    "Y_pred = xgb_reg.predict(X_test)\n",
    "\n",
    "# Assess performance\n",
    "rmse = mean_squared_error(Y_test, Y_pred, squared=False)\n",
    "mae = mean_absolute_error(Y_test, Y_pred)\n",
    "print(\"The RMSE of the model is\", rmse)\n",
    "print(\"The MAE of the model is\", mae)"
   ]
  },
  {
   "cell_type": "markdown",
   "metadata": {},
   "source": [
    "### Random Search CV"
   ]
  },
  {
   "cell_type": "code",
   "execution_count": 73,
   "metadata": {},
   "outputs": [],
   "source": [
    "params = {\n",
    " 'learning_rate' : [0.05,0.10,0.15,0.20,0.25,0.30],\n",
    " 'n_estimators': [50, 100, 200, 500],\n",
    " 'max_depth' : [ 3, 4, 5, 6, 8, 10, 12, 15],\n",
    " 'subsample' : [0.2, 0.4, 0.8, 1.0],\n",
    " 'min_child_weight' : [ 1, 3, 5, 7 ],\n",
    " 'gamma': [ 0.0, 0.1, 0.2 , 0.3, 0.4 ],\n",
    " 'colsample_bytree' : [ 0.3, 0.4, 0.5 , 0.7 ]\n",
    "}"
   ]
  },
  {
   "cell_type": "code",
   "execution_count": 74,
   "metadata": {},
   "outputs": [],
   "source": [
    "xgb_reg = xgb.XGBRegressor()"
   ]
  },
  {
   "cell_type": "code",
   "execution_count": 75,
   "metadata": {},
   "outputs": [],
   "source": [
    "cv = GroupKFold(n_splits=5)\n",
    "rs_model=RandomizedSearchCV(xgb_reg,\n",
    "                            param_distributions=params,\n",
    "                            n_iter=50,\n",
    "                            cv=cv,\n",
    "                            scoring='neg_mean_absolute_error',\n",
    "                            n_jobs=-1,\n",
    "                            verbose=2)"
   ]
  },
  {
   "cell_type": "code",
   "execution_count": 76,
   "metadata": {},
   "outputs": [
    {
     "name": "stdout",
     "output_type": "stream",
     "text": [
      "Fitting 5 folds for each of 50 candidates, totalling 250 fits\n"
     ]
    },
    {
     "name": "stdout",
     "output_type": "stream",
     "text": [
      "[CV] END colsample_bytree=0.3, gamma=0.2, learning_rate=0.3, max_depth=5, min_child_weight=7, n_estimators=500, subsample=0.2; total time=   7.0s\n",
      "[CV] END colsample_bytree=0.3, gamma=0.2, learning_rate=0.3, max_depth=5, min_child_weight=7, n_estimators=500, subsample=0.2; total time=   6.9s\n",
      "[CV] END colsample_bytree=0.3, gamma=0.2, learning_rate=0.3, max_depth=5, min_child_weight=7, n_estimators=500, subsample=0.2; total time=   7.0s\n",
      "[CV] END colsample_bytree=0.3, gamma=0.2, learning_rate=0.3, max_depth=5, min_child_weight=7, n_estimators=500, subsample=0.2; total time=   7.1s\n",
      "[CV] END colsample_bytree=0.3, gamma=0.2, learning_rate=0.3, max_depth=5, min_child_weight=7, n_estimators=500, subsample=0.2; total time=   7.0s\n",
      "[CV] END colsample_bytree=0.4, gamma=0.1, learning_rate=0.25, max_depth=15, min_child_weight=3, n_estimators=50, subsample=0.8; total time=   3.5s\n",
      "[CV] END colsample_bytree=0.4, gamma=0.1, learning_rate=0.25, max_depth=15, min_child_weight=3, n_estimators=50, subsample=0.8; total time=   3.5s\n",
      "[CV] END colsample_bytree=0.4, gamma=0.1, learning_rate=0.25, max_depth=15, min_child_weight=3, n_estimators=50, subsample=0.8; total time=   3.5s\n",
      "[CV] END colsample_bytree=0.4, gamma=0.1, learning_rate=0.25, max_depth=15, min_child_weight=3, n_estimators=50, subsample=0.8; total time=   3.6s\n",
      "[CV] END colsample_bytree=0.4, gamma=0.1, learning_rate=0.25, max_depth=15, min_child_weight=3, n_estimators=50, subsample=0.8; total time=   3.7s\n",
      "[CV] END colsample_bytree=0.7, gamma=0.3, learning_rate=0.2, max_depth=5, min_child_weight=7, n_estimators=500, subsample=0.8; total time=  13.0s\n",
      "[CV] END colsample_bytree=0.7, gamma=0.3, learning_rate=0.2, max_depth=5, min_child_weight=7, n_estimators=500, subsample=0.8; total time=  12.3s\n",
      "[CV] END colsample_bytree=0.7, gamma=0.3, learning_rate=0.2, max_depth=5, min_child_weight=7, n_estimators=500, subsample=0.8; total time=  12.5s\n",
      "[CV] END colsample_bytree=0.7, gamma=0.2, learning_rate=0.3, max_depth=10, min_child_weight=5, n_estimators=500, subsample=0.4; total time=  26.8s\n",
      "[CV] END colsample_bytree=0.7, gamma=0.2, learning_rate=0.3, max_depth=10, min_child_weight=5, n_estimators=500, subsample=0.4; total time=  26.4s\n",
      "[CV] END colsample_bytree=0.7, gamma=0.2, learning_rate=0.3, max_depth=10, min_child_weight=5, n_estimators=500, subsample=0.4; total time=  26.6s\n",
      "[CV] END colsample_bytree=0.7, gamma=0.2, learning_rate=0.3, max_depth=10, min_child_weight=5, n_estimators=500, subsample=0.4; total time=  23.4s\n",
      "[CV] END colsample_bytree=0.7, gamma=0.2, learning_rate=0.3, max_depth=10, min_child_weight=5, n_estimators=500, subsample=0.4; total time=  23.8s\n",
      "[CV] END colsample_bytree=0.7, gamma=0.1, learning_rate=0.3, max_depth=6, min_child_weight=5, n_estimators=50, subsample=0.2; total time=   0.8s\n",
      "[CV] END colsample_bytree=0.7, gamma=0.1, learning_rate=0.3, max_depth=6, min_child_weight=5, n_estimators=50, subsample=0.2; total time=   0.8s\n",
      "[CV] END colsample_bytree=0.7, gamma=0.1, learning_rate=0.3, max_depth=6, min_child_weight=5, n_estimators=50, subsample=0.2; total time=   0.9s\n",
      "[CV] END colsample_bytree=0.7, gamma=0.1, learning_rate=0.3, max_depth=6, min_child_weight=5, n_estimators=50, subsample=0.2; total time=   0.8s\n",
      "[CV] END colsample_bytree=0.7, gamma=0.1, learning_rate=0.3, max_depth=6, min_child_weight=5, n_estimators=50, subsample=0.2; total time=   0.8s\n",
      "[CV] END colsample_bytree=0.4, gamma=0.4, learning_rate=0.2, max_depth=6, min_child_weight=3, n_estimators=50, subsample=0.8; total time=   1.1s\n",
      "[CV] END colsample_bytree=0.7, gamma=0.3, learning_rate=0.2, max_depth=5, min_child_weight=7, n_estimators=500, subsample=0.8; total time=  12.4s\n",
      "[CV] END colsample_bytree=0.5, gamma=0.0, learning_rate=0.25, max_depth=12, min_child_weight=5, n_estimators=200, subsample=1.0; total time=  10.2s\n",
      "[CV] END colsample_bytree=0.4, gamma=0.4, learning_rate=0.2, max_depth=6, min_child_weight=3, n_estimators=50, subsample=0.8; total time=   1.0s\n",
      "[CV] END colsample_bytree=0.4, gamma=0.4, learning_rate=0.2, max_depth=6, min_child_weight=3, n_estimators=50, subsample=0.8; total time=   1.1s\n",
      "[CV] END colsample_bytree=0.5, gamma=0.0, learning_rate=0.25, max_depth=12, min_child_weight=5, n_estimators=200, subsample=1.0; total time=   9.7s\n",
      "[CV] END colsample_bytree=0.4, gamma=0.4, learning_rate=0.2, max_depth=6, min_child_weight=3, n_estimators=50, subsample=0.8; total time=   1.0s\n",
      "[CV] END colsample_bytree=0.4, gamma=0.4, learning_rate=0.2, max_depth=6, min_child_weight=3, n_estimators=50, subsample=0.8; total time=   1.0s\n",
      "[CV] END colsample_bytree=0.5, gamma=0.0, learning_rate=0.25, max_depth=12, min_child_weight=5, n_estimators=200, subsample=1.0; total time=  10.2s\n",
      "[CV] END colsample_bytree=0.5, gamma=0.0, learning_rate=0.25, max_depth=12, min_child_weight=5, n_estimators=200, subsample=1.0; total time=  10.1s\n",
      "[CV] END colsample_bytree=0.7, gamma=0.3, learning_rate=0.2, max_depth=5, min_child_weight=7, n_estimators=500, subsample=0.8; total time=  12.6s\n",
      "[CV] END colsample_bytree=0.7, gamma=0.1, learning_rate=0.2, max_depth=3, min_child_weight=1, n_estimators=200, subsample=0.4; total time=   2.3s\n",
      "[CV] END colsample_bytree=0.7, gamma=0.1, learning_rate=0.2, max_depth=3, min_child_weight=1, n_estimators=200, subsample=0.4; total time=   2.4s\n",
      "[CV] END colsample_bytree=0.7, gamma=0.1, learning_rate=0.2, max_depth=3, min_child_weight=1, n_estimators=200, subsample=0.4; total time=   2.3s\n",
      "[CV] END colsample_bytree=0.7, gamma=0.1, learning_rate=0.2, max_depth=3, min_child_weight=1, n_estimators=200, subsample=0.4; total time=   2.3s\n",
      "[CV] END colsample_bytree=0.7, gamma=0.1, learning_rate=0.2, max_depth=3, min_child_weight=1, n_estimators=200, subsample=0.4; total time=   2.5s\n",
      "[CV] END colsample_bytree=0.5, gamma=0.0, learning_rate=0.25, max_depth=12, min_child_weight=5, n_estimators=200, subsample=1.0; total time=  10.5s\n",
      "[CV] END colsample_bytree=0.7, gamma=0.1, learning_rate=0.1, max_depth=3, min_child_weight=7, n_estimators=100, subsample=0.2; total time=   0.7s\n",
      "[CV] END colsample_bytree=0.7, gamma=0.1, learning_rate=0.1, max_depth=3, min_child_weight=7, n_estimators=100, subsample=0.2; total time=   0.7s\n",
      "[CV] END colsample_bytree=0.7, gamma=0.1, learning_rate=0.1, max_depth=3, min_child_weight=7, n_estimators=100, subsample=0.2; total time=   0.8s\n",
      "[CV] END colsample_bytree=0.7, gamma=0.1, learning_rate=0.1, max_depth=3, min_child_weight=7, n_estimators=100, subsample=0.2; total time=   0.8s\n",
      "[CV] END colsample_bytree=0.7, gamma=0.1, learning_rate=0.1, max_depth=3, min_child_weight=7, n_estimators=100, subsample=0.2; total time=   0.8s\n",
      "[CV] END colsample_bytree=0.3, gamma=0.4, learning_rate=0.2, max_depth=8, min_child_weight=7, n_estimators=500, subsample=0.8; total time=   9.7s\n",
      "[CV] END colsample_bytree=0.3, gamma=0.4, learning_rate=0.2, max_depth=8, min_child_weight=7, n_estimators=500, subsample=0.8; total time=   9.9s\n",
      "[CV] END colsample_bytree=0.3, gamma=0.4, learning_rate=0.2, max_depth=8, min_child_weight=7, n_estimators=500, subsample=0.8; total time=   9.5s\n",
      "[CV] END colsample_bytree=0.4, gamma=0.3, learning_rate=0.1, max_depth=5, min_child_weight=7, n_estimators=50, subsample=0.2; total time=   0.5s\n",
      "[CV] END colsample_bytree=0.3, gamma=0.4, learning_rate=0.2, max_depth=8, min_child_weight=7, n_estimators=500, subsample=0.8; total time=   9.6s\n",
      "[CV] END colsample_bytree=0.4, gamma=0.3, learning_rate=0.1, max_depth=5, min_child_weight=7, n_estimators=50, subsample=0.2; total time=   0.5s\n",
      "[CV] END colsample_bytree=0.3, gamma=0.4, learning_rate=0.2, max_depth=8, min_child_weight=7, n_estimators=500, subsample=0.8; total time=   9.8s\n",
      "[CV] END colsample_bytree=0.4, gamma=0.3, learning_rate=0.1, max_depth=5, min_child_weight=7, n_estimators=50, subsample=0.2; total time=   0.5s\n",
      "[CV] END colsample_bytree=0.4, gamma=0.3, learning_rate=0.1, max_depth=5, min_child_weight=7, n_estimators=50, subsample=0.2; total time=   0.5s\n",
      "[CV] END colsample_bytree=0.4, gamma=0.3, learning_rate=0.1, max_depth=5, min_child_weight=7, n_estimators=50, subsample=0.2; total time=   0.5s\n",
      "[CV] END colsample_bytree=0.7, gamma=0.0, learning_rate=0.2, max_depth=10, min_child_weight=7, n_estimators=200, subsample=1.0; total time=  11.3s\n",
      "[CV] END colsample_bytree=0.7, gamma=0.0, learning_rate=0.2, max_depth=10, min_child_weight=7, n_estimators=200, subsample=1.0; total time=  11.5s\n",
      "[CV] END colsample_bytree=0.7, gamma=0.0, learning_rate=0.2, max_depth=10, min_child_weight=7, n_estimators=200, subsample=1.0; total time=  11.5s\n",
      "[CV] END colsample_bytree=0.7, gamma=0.0, learning_rate=0.2, max_depth=10, min_child_weight=7, n_estimators=200, subsample=1.0; total time=  11.6s\n",
      "[CV] END colsample_bytree=0.7, gamma=0.0, learning_rate=0.2, max_depth=10, min_child_weight=7, n_estimators=200, subsample=1.0; total time=  11.2s\n",
      "[CV] END colsample_bytree=0.3, gamma=0.3, learning_rate=0.2, max_depth=8, min_child_weight=1, n_estimators=500, subsample=1.0; total time=   9.8s\n",
      "[CV] END colsample_bytree=0.5, gamma=0.1, learning_rate=0.25, max_depth=15, min_child_weight=1, n_estimators=200, subsample=0.8; total time=  13.7s\n",
      "[CV] END colsample_bytree=0.5, gamma=0.1, learning_rate=0.25, max_depth=15, min_child_weight=1, n_estimators=200, subsample=0.8; total time=  14.1s\n",
      "[CV] END colsample_bytree=0.5, gamma=0.1, learning_rate=0.25, max_depth=15, min_child_weight=1, n_estimators=200, subsample=0.8; total time=  14.3s\n",
      "[CV] END colsample_bytree=0.3, gamma=0.1, learning_rate=0.15, max_depth=8, min_child_weight=3, n_estimators=50, subsample=0.8; total time=   1.1s\n",
      "[CV] END colsample_bytree=0.3, gamma=0.1, learning_rate=0.15, max_depth=8, min_child_weight=3, n_estimators=50, subsample=0.8; total time=   1.1s\n",
      "[CV] END colsample_bytree=0.3, gamma=0.1, learning_rate=0.15, max_depth=8, min_child_weight=3, n_estimators=50, subsample=0.8; total time=   1.1s\n",
      "[CV] END colsample_bytree=0.5, gamma=0.1, learning_rate=0.25, max_depth=15, min_child_weight=1, n_estimators=200, subsample=0.8; total time=  14.0s\n",
      "[CV] END colsample_bytree=0.3, gamma=0.1, learning_rate=0.15, max_depth=8, min_child_weight=3, n_estimators=50, subsample=0.8; total time=   1.0s\n",
      "[CV] END colsample_bytree=0.5, gamma=0.1, learning_rate=0.25, max_depth=15, min_child_weight=1, n_estimators=200, subsample=0.8; total time=  14.1s\n",
      "[CV] END colsample_bytree=0.3, gamma=0.1, learning_rate=0.15, max_depth=8, min_child_weight=3, n_estimators=50, subsample=0.8; total time=   1.1s\n",
      "[CV] END colsample_bytree=0.3, gamma=0.1, learning_rate=0.15, max_depth=5, min_child_weight=1, n_estimators=100, subsample=1.0; total time=   1.4s\n",
      "[CV] END colsample_bytree=0.3, gamma=0.1, learning_rate=0.15, max_depth=5, min_child_weight=1, n_estimators=100, subsample=1.0; total time=   1.3s\n",
      "[CV] END colsample_bytree=0.3, gamma=0.1, learning_rate=0.15, max_depth=5, min_child_weight=1, n_estimators=100, subsample=1.0; total time=   1.3s\n",
      "[CV] END colsample_bytree=0.3, gamma=0.1, learning_rate=0.15, max_depth=5, min_child_weight=1, n_estimators=100, subsample=1.0; total time=   1.3s\n",
      "[CV] END colsample_bytree=0.3, gamma=0.1, learning_rate=0.15, max_depth=5, min_child_weight=1, n_estimators=100, subsample=1.0; total time=   1.3s\n",
      "[CV] END colsample_bytree=0.3, gamma=0.3, learning_rate=0.2, max_depth=8, min_child_weight=1, n_estimators=500, subsample=1.0; total time=   9.9s\n",
      "[CV] END colsample_bytree=0.5, gamma=0.0, learning_rate=0.25, max_depth=6, min_child_weight=1, n_estimators=50, subsample=1.0; total time=   1.4s\n",
      "[CV] END colsample_bytree=0.5, gamma=0.0, learning_rate=0.25, max_depth=6, min_child_weight=1, n_estimators=50, subsample=1.0; total time=   1.3s\n",
      "[CV] END colsample_bytree=0.5, gamma=0.0, learning_rate=0.25, max_depth=6, min_child_weight=1, n_estimators=50, subsample=1.0; total time=   1.2s\n",
      "[CV] END colsample_bytree=0.3, gamma=0.3, learning_rate=0.2, max_depth=8, min_child_weight=1, n_estimators=500, subsample=1.0; total time=  10.5s\n",
      "[CV] END colsample_bytree=0.5, gamma=0.0, learning_rate=0.25, max_depth=6, min_child_weight=1, n_estimators=50, subsample=1.0; total time=   1.2s\n",
      "[CV] END colsample_bytree=0.5, gamma=0.0, learning_rate=0.25, max_depth=6, min_child_weight=1, n_estimators=50, subsample=1.0; total time=   1.2s\n",
      "[CV] END colsample_bytree=0.3, gamma=0.3, learning_rate=0.2, max_depth=8, min_child_weight=1, n_estimators=500, subsample=1.0; total time=  10.0s\n",
      "[CV] END colsample_bytree=0.3, gamma=0.3, learning_rate=0.2, max_depth=8, min_child_weight=1, n_estimators=500, subsample=1.0; total time=   9.9s\n",
      "[CV] END colsample_bytree=0.7, gamma=0.4, learning_rate=0.25, max_depth=4, min_child_weight=5, n_estimators=200, subsample=0.4; total time=   3.3s\n",
      "[CV] END colsample_bytree=0.7, gamma=0.4, learning_rate=0.2, max_depth=8, min_child_weight=3, n_estimators=100, subsample=0.8; total time=   4.5s\n",
      "[CV] END colsample_bytree=0.7, gamma=0.4, learning_rate=0.2, max_depth=8, min_child_weight=3, n_estimators=100, subsample=0.8; total time=   4.5s\n",
      "[CV] END colsample_bytree=0.7, gamma=0.4, learning_rate=0.2, max_depth=8, min_child_weight=3, n_estimators=100, subsample=0.8; total time=   4.5s\n",
      "[CV] END colsample_bytree=0.7, gamma=0.4, learning_rate=0.2, max_depth=8, min_child_weight=3, n_estimators=100, subsample=0.8; total time=   4.5s\n",
      "[CV] END colsample_bytree=0.7, gamma=0.4, learning_rate=0.2, max_depth=8, min_child_weight=3, n_estimators=100, subsample=0.8; total time=   4.4s\n",
      "[CV] END colsample_bytree=0.7, gamma=0.4, learning_rate=0.25, max_depth=4, min_child_weight=5, n_estimators=200, subsample=0.4; total time=   3.3s\n",
      "[CV] END colsample_bytree=0.7, gamma=0.4, learning_rate=0.25, max_depth=4, min_child_weight=5, n_estimators=200, subsample=0.4; total time=   3.3s\n",
      "[CV] END colsample_bytree=0.7, gamma=0.4, learning_rate=0.25, max_depth=4, min_child_weight=5, n_estimators=200, subsample=0.4; total time=   3.1s\n",
      "[CV] END colsample_bytree=0.7, gamma=0.4, learning_rate=0.25, max_depth=4, min_child_weight=5, n_estimators=200, subsample=0.4; total time=   3.4s\n",
      "[CV] END colsample_bytree=0.5, gamma=0.2, learning_rate=0.2, max_depth=3, min_child_weight=3, n_estimators=100, subsample=0.2; total time=   0.6s\n",
      "[CV] END colsample_bytree=0.5, gamma=0.2, learning_rate=0.2, max_depth=3, min_child_weight=3, n_estimators=100, subsample=0.2; total time=   0.7s\n",
      "[CV] END colsample_bytree=0.5, gamma=0.2, learning_rate=0.2, max_depth=3, min_child_weight=3, n_estimators=100, subsample=0.2; total time=   0.6s\n",
      "[CV] END colsample_bytree=0.5, gamma=0.2, learning_rate=0.2, max_depth=3, min_child_weight=3, n_estimators=100, subsample=0.2; total time=   0.6s\n",
      "[CV] END colsample_bytree=0.5, gamma=0.2, learning_rate=0.2, max_depth=3, min_child_weight=3, n_estimators=100, subsample=0.2; total time=   0.7s\n",
      "[CV] END colsample_bytree=0.4, gamma=0.4, learning_rate=0.1, max_depth=6, min_child_weight=1, n_estimators=50, subsample=0.8; total time=   1.0s\n",
      "[CV] END colsample_bytree=0.4, gamma=0.4, learning_rate=0.1, max_depth=6, min_child_weight=1, n_estimators=50, subsample=0.8; total time=   1.0s\n",
      "[CV] END colsample_bytree=0.4, gamma=0.4, learning_rate=0.1, max_depth=6, min_child_weight=1, n_estimators=50, subsample=0.8; total time=   1.0s\n",
      "[CV] END colsample_bytree=0.4, gamma=0.4, learning_rate=0.1, max_depth=6, min_child_weight=1, n_estimators=50, subsample=0.8; total time=   1.2s\n",
      "[CV] END colsample_bytree=0.5, gamma=0.2, learning_rate=0.3, max_depth=3, min_child_weight=5, n_estimators=50, subsample=0.8; total time=   0.6s\n",
      "[CV] END colsample_bytree=0.4, gamma=0.3, learning_rate=0.25, max_depth=15, min_child_weight=7, n_estimators=200, subsample=0.2; total time=   5.9s\n",
      "[CV] END colsample_bytree=0.4, gamma=0.3, learning_rate=0.25, max_depth=15, min_child_weight=7, n_estimators=200, subsample=0.2; total time=   6.1s\n",
      "[CV] END colsample_bytree=0.4, gamma=0.4, learning_rate=0.1, max_depth=6, min_child_weight=1, n_estimators=50, subsample=0.8; total time=   1.1s\n",
      "[CV] END colsample_bytree=0.5, gamma=0.2, learning_rate=0.3, max_depth=3, min_child_weight=5, n_estimators=50, subsample=0.8; total time=   0.6s\n",
      "[CV] END colsample_bytree=0.5, gamma=0.2, learning_rate=0.3, max_depth=3, min_child_weight=5, n_estimators=50, subsample=0.8; total time=   0.5s\n",
      "[CV] END colsample_bytree=0.4, gamma=0.3, learning_rate=0.25, max_depth=15, min_child_weight=7, n_estimators=200, subsample=0.2; total time=   6.0s\n",
      "[CV] END colsample_bytree=0.4, gamma=0.3, learning_rate=0.25, max_depth=15, min_child_weight=7, n_estimators=200, subsample=0.2; total time=   6.0s\n",
      "[CV] END colsample_bytree=0.5, gamma=0.2, learning_rate=0.3, max_depth=3, min_child_weight=5, n_estimators=50, subsample=0.8; total time=   0.6s\n",
      "[CV] END colsample_bytree=0.5, gamma=0.2, learning_rate=0.3, max_depth=3, min_child_weight=5, n_estimators=50, subsample=0.8; total time=   0.6s\n",
      "[CV] END colsample_bytree=0.5, gamma=0.0, learning_rate=0.1, max_depth=3, min_child_weight=7, n_estimators=100, subsample=0.4; total time=   0.9s\n",
      "[CV] END colsample_bytree=0.4, gamma=0.2, learning_rate=0.15, max_depth=4, min_child_weight=5, n_estimators=200, subsample=0.2; total time=   1.5s\n",
      "[CV] END colsample_bytree=0.5, gamma=0.0, learning_rate=0.1, max_depth=3, min_child_weight=7, n_estimators=100, subsample=0.4; total time=   0.9s\n",
      "[CV] END colsample_bytree=0.4, gamma=0.2, learning_rate=0.15, max_depth=4, min_child_weight=5, n_estimators=200, subsample=0.2; total time=   1.5s\n",
      "[CV] END colsample_bytree=0.4, gamma=0.3, learning_rate=0.25, max_depth=15, min_child_weight=7, n_estimators=200, subsample=0.2; total time=   5.9s\n",
      "[CV] END colsample_bytree=0.4, gamma=0.2, learning_rate=0.15, max_depth=4, min_child_weight=5, n_estimators=200, subsample=0.2; total time=   1.5s\n",
      "[CV] END colsample_bytree=0.4, gamma=0.2, learning_rate=0.15, max_depth=4, min_child_weight=5, n_estimators=200, subsample=0.2; total time=   1.4s\n",
      "[CV] END colsample_bytree=0.4, gamma=0.2, learning_rate=0.15, max_depth=4, min_child_weight=5, n_estimators=200, subsample=0.2; total time=   1.6s\n",
      "[CV] END colsample_bytree=0.5, gamma=0.0, learning_rate=0.1, max_depth=3, min_child_weight=7, n_estimators=100, subsample=0.4; total time=   1.0s\n",
      "[CV] END colsample_bytree=0.5, gamma=0.0, learning_rate=0.1, max_depth=3, min_child_weight=7, n_estimators=100, subsample=0.4; total time=   0.9s\n",
      "[CV] END colsample_bytree=0.5, gamma=0.0, learning_rate=0.1, max_depth=3, min_child_weight=7, n_estimators=100, subsample=0.4; total time=   1.0s\n",
      "[CV] END colsample_bytree=0.4, gamma=0.4, learning_rate=0.1, max_depth=6, min_child_weight=7, n_estimators=200, subsample=1.0; total time=   4.2s\n",
      "[CV] END colsample_bytree=0.4, gamma=0.4, learning_rate=0.1, max_depth=6, min_child_weight=7, n_estimators=200, subsample=1.0; total time=   4.2s\n",
      "[CV] END colsample_bytree=0.4, gamma=0.4, learning_rate=0.1, max_depth=6, min_child_weight=7, n_estimators=200, subsample=1.0; total time=   4.2s\n",
      "[CV] END colsample_bytree=0.3, gamma=0.1, learning_rate=0.3, max_depth=8, min_child_weight=1, n_estimators=200, subsample=0.4; total time=   3.5s\n",
      "[CV] END colsample_bytree=0.3, gamma=0.1, learning_rate=0.3, max_depth=8, min_child_weight=1, n_estimators=200, subsample=0.4; total time=   3.5s\n",
      "[CV] END colsample_bytree=0.3, gamma=0.1, learning_rate=0.3, max_depth=8, min_child_weight=1, n_estimators=200, subsample=0.4; total time=   3.4s\n",
      "[CV] END colsample_bytree=0.4, gamma=0.4, learning_rate=0.1, max_depth=6, min_child_weight=7, n_estimators=200, subsample=1.0; total time=   4.3s\n",
      "[CV] END colsample_bytree=0.4, gamma=0.4, learning_rate=0.1, max_depth=6, min_child_weight=7, n_estimators=200, subsample=1.0; total time=   4.1s\n",
      "[CV] END colsample_bytree=0.5, gamma=0.2, learning_rate=0.25, max_depth=6, min_child_weight=7, n_estimators=50, subsample=0.8; total time=   1.2s\n",
      "[CV] END colsample_bytree=0.5, gamma=0.2, learning_rate=0.25, max_depth=6, min_child_weight=7, n_estimators=50, subsample=0.8; total time=   1.1s\n",
      "[CV] END colsample_bytree=0.3, gamma=0.1, learning_rate=0.3, max_depth=8, min_child_weight=1, n_estimators=200, subsample=0.4; total time=   3.5s\n",
      "[CV] END colsample_bytree=0.3, gamma=0.1, learning_rate=0.3, max_depth=8, min_child_weight=1, n_estimators=200, subsample=0.4; total time=   3.6s\n",
      "[CV] END colsample_bytree=0.5, gamma=0.2, learning_rate=0.25, max_depth=6, min_child_weight=7, n_estimators=50, subsample=0.8; total time=   1.2s\n",
      "[CV] END colsample_bytree=0.5, gamma=0.2, learning_rate=0.25, max_depth=6, min_child_weight=7, n_estimators=50, subsample=0.8; total time=   1.2s\n",
      "[CV] END colsample_bytree=0.5, gamma=0.2, learning_rate=0.25, max_depth=6, min_child_weight=7, n_estimators=50, subsample=0.8; total time=   1.2s\n",
      "[CV] END colsample_bytree=0.7, gamma=0.0, learning_rate=0.25, max_depth=15, min_child_weight=7, n_estimators=200, subsample=0.2; total time=   8.6s\n",
      "[CV] END colsample_bytree=0.7, gamma=0.0, learning_rate=0.25, max_depth=15, min_child_weight=7, n_estimators=200, subsample=0.2; total time=   8.7s\n",
      "[CV] END colsample_bytree=0.7, gamma=0.0, learning_rate=0.25, max_depth=15, min_child_weight=7, n_estimators=200, subsample=0.2; total time=   8.8s\n",
      "[CV] END colsample_bytree=0.7, gamma=0.0, learning_rate=0.25, max_depth=15, min_child_weight=7, n_estimators=200, subsample=0.2; total time=   8.9s\n",
      "[CV] END colsample_bytree=0.7, gamma=0.0, learning_rate=0.25, max_depth=15, min_child_weight=7, n_estimators=200, subsample=0.2; total time=   9.2s\n",
      "[CV] END colsample_bytree=0.4, gamma=0.0, learning_rate=0.1, max_depth=12, min_child_weight=1, n_estimators=200, subsample=1.0; total time=   9.7s\n",
      "[CV] END colsample_bytree=0.4, gamma=0.0, learning_rate=0.1, max_depth=12, min_child_weight=1, n_estimators=200, subsample=1.0; total time=  10.0s\n",
      "[CV] END colsample_bytree=0.4, gamma=0.0, learning_rate=0.1, max_depth=12, min_child_weight=1, n_estimators=200, subsample=1.0; total time=  10.1s\n",
      "[CV] END colsample_bytree=0.3, gamma=0.2, learning_rate=0.25, max_depth=6, min_child_weight=5, n_estimators=500, subsample=0.8; total time=   7.6s\n",
      "[CV] END colsample_bytree=0.3, gamma=0.2, learning_rate=0.25, max_depth=6, min_child_weight=5, n_estimators=500, subsample=0.8; total time=   7.4s\n",
      "[CV] END colsample_bytree=0.3, gamma=0.2, learning_rate=0.15, max_depth=12, min_child_weight=1, n_estimators=50, subsample=0.4; total time=   1.5s\n",
      "[CV] END colsample_bytree=0.3, gamma=0.2, learning_rate=0.25, max_depth=6, min_child_weight=5, n_estimators=500, subsample=0.8; total time=   7.4s\n",
      "[CV] END colsample_bytree=0.3, gamma=0.2, learning_rate=0.15, max_depth=12, min_child_weight=1, n_estimators=50, subsample=0.4; total time=   1.3s\n",
      "[CV] END colsample_bytree=0.3, gamma=0.2, learning_rate=0.15, max_depth=12, min_child_weight=1, n_estimators=50, subsample=0.4; total time=   1.5s\n",
      "[CV] END colsample_bytree=0.3, gamma=0.2, learning_rate=0.15, max_depth=12, min_child_weight=1, n_estimators=50, subsample=0.4; total time=   1.5s\n",
      "[CV] END colsample_bytree=0.3, gamma=0.2, learning_rate=0.15, max_depth=12, min_child_weight=1, n_estimators=50, subsample=0.4; total time=   1.6s\n",
      "[CV] END colsample_bytree=0.4, gamma=0.0, learning_rate=0.1, max_depth=12, min_child_weight=1, n_estimators=200, subsample=1.0; total time=   9.7s\n",
      "[CV] END colsample_bytree=0.4, gamma=0.0, learning_rate=0.1, max_depth=12, min_child_weight=1, n_estimators=200, subsample=1.0; total time=   9.9s\n",
      "[CV] END colsample_bytree=0.4, gamma=0.1, learning_rate=0.25, max_depth=3, min_child_weight=5, n_estimators=200, subsample=0.8; total time=   2.2s\n",
      "[CV] END colsample_bytree=0.3, gamma=0.2, learning_rate=0.25, max_depth=6, min_child_weight=5, n_estimators=500, subsample=0.8; total time=   7.3s\n",
      "[CV] END colsample_bytree=0.3, gamma=0.2, learning_rate=0.25, max_depth=6, min_child_weight=5, n_estimators=500, subsample=0.8; total time=   7.4s\n",
      "[CV] END colsample_bytree=0.4, gamma=0.1, learning_rate=0.25, max_depth=3, min_child_weight=5, n_estimators=200, subsample=0.8; total time=   2.1s\n",
      "[CV] END colsample_bytree=0.4, gamma=0.1, learning_rate=0.25, max_depth=3, min_child_weight=5, n_estimators=200, subsample=0.8; total time=   2.2s\n",
      "[CV] END colsample_bytree=0.4, gamma=0.1, learning_rate=0.25, max_depth=3, min_child_weight=5, n_estimators=200, subsample=0.8; total time=   2.0s\n",
      "[CV] END colsample_bytree=0.3, gamma=0.0, learning_rate=0.3, max_depth=12, min_child_weight=3, n_estimators=200, subsample=1.0; total time=   6.4s\n",
      "[CV] END colsample_bytree=0.3, gamma=0.0, learning_rate=0.3, max_depth=12, min_child_weight=3, n_estimators=200, subsample=1.0; total time=   6.4s\n",
      "[CV] END colsample_bytree=0.3, gamma=0.0, learning_rate=0.3, max_depth=12, min_child_weight=3, n_estimators=200, subsample=1.0; total time=   6.7s\n",
      "[CV] END colsample_bytree=0.3, gamma=0.0, learning_rate=0.3, max_depth=12, min_child_weight=3, n_estimators=200, subsample=1.0; total time=   6.4s\n",
      "[CV] END colsample_bytree=0.3, gamma=0.0, learning_rate=0.3, max_depth=12, min_child_weight=3, n_estimators=200, subsample=1.0; total time=   6.5s\n",
      "[CV] END colsample_bytree=0.4, gamma=0.1, learning_rate=0.25, max_depth=3, min_child_weight=5, n_estimators=200, subsample=0.8; total time=   2.1s\n",
      "[CV] END colsample_bytree=0.3, gamma=0.3, learning_rate=0.25, max_depth=10, min_child_weight=3, n_estimators=100, subsample=0.8; total time=   2.8s\n",
      "[CV] END colsample_bytree=0.3, gamma=0.3, learning_rate=0.25, max_depth=10, min_child_weight=3, n_estimators=100, subsample=0.8; total time=   2.7s\n",
      "[CV] END colsample_bytree=0.3, gamma=0.3, learning_rate=0.25, max_depth=10, min_child_weight=3, n_estimators=100, subsample=0.8; total time=   2.8s\n",
      "[CV] END colsample_bytree=0.3, gamma=0.3, learning_rate=0.25, max_depth=10, min_child_weight=3, n_estimators=100, subsample=0.8; total time=   3.0s\n",
      "[CV] END colsample_bytree=0.5, gamma=0.2, learning_rate=0.3, max_depth=6, min_child_weight=3, n_estimators=100, subsample=0.8; total time=   2.4s\n",
      "[CV] END colsample_bytree=0.5, gamma=0.2, learning_rate=0.3, max_depth=6, min_child_weight=3, n_estimators=100, subsample=0.8; total time=   2.5s\n",
      "[CV] END colsample_bytree=0.3, gamma=0.3, learning_rate=0.25, max_depth=10, min_child_weight=3, n_estimators=100, subsample=0.8; total time=   2.7s\n",
      "[CV] END colsample_bytree=0.5, gamma=0.2, learning_rate=0.3, max_depth=6, min_child_weight=3, n_estimators=100, subsample=0.8; total time=   2.4s\n",
      "[CV] END colsample_bytree=0.5, gamma=0.2, learning_rate=0.3, max_depth=6, min_child_weight=3, n_estimators=100, subsample=0.8; total time=   2.4s\n",
      "[CV] END colsample_bytree=0.5, gamma=0.2, learning_rate=0.3, max_depth=6, min_child_weight=3, n_estimators=100, subsample=0.8; total time=   2.5s\n",
      "[CV] END colsample_bytree=0.7, gamma=0.4, learning_rate=0.1, max_depth=15, min_child_weight=1, n_estimators=50, subsample=0.4; total time=   3.8s\n",
      "[CV] END colsample_bytree=0.7, gamma=0.4, learning_rate=0.1, max_depth=15, min_child_weight=1, n_estimators=50, subsample=0.4; total time=   3.7s\n",
      "[CV] END colsample_bytree=0.7, gamma=0.4, learning_rate=0.1, max_depth=15, min_child_weight=1, n_estimators=50, subsample=0.4; total time=   3.8s\n",
      "[CV] END colsample_bytree=0.7, gamma=0.4, learning_rate=0.1, max_depth=15, min_child_weight=1, n_estimators=50, subsample=0.4; total time=   3.7s\n",
      "[CV] END colsample_bytree=0.7, gamma=0.4, learning_rate=0.1, max_depth=15, min_child_weight=1, n_estimators=50, subsample=0.4; total time=   3.7s\n",
      "[CV] END colsample_bytree=0.7, gamma=0.1, learning_rate=0.1, max_depth=8, min_child_weight=3, n_estimators=500, subsample=0.2; total time=  11.8s\n",
      "[CV] END colsample_bytree=0.7, gamma=0.1, learning_rate=0.1, max_depth=8, min_child_weight=3, n_estimators=500, subsample=0.2; total time=  11.5s\n",
      "[CV] END colsample_bytree=0.7, gamma=0.1, learning_rate=0.1, max_depth=8, min_child_weight=3, n_estimators=500, subsample=0.2; total time=  11.8s\n",
      "[CV] END colsample_bytree=0.7, gamma=0.1, learning_rate=0.1, max_depth=8, min_child_weight=3, n_estimators=500, subsample=0.2; total time=  11.8s\n",
      "[CV] END colsample_bytree=0.7, gamma=0.1, learning_rate=0.1, max_depth=8, min_child_weight=3, n_estimators=500, subsample=0.2; total time=  12.0s\n",
      "[CV] END colsample_bytree=0.7, gamma=0.1, learning_rate=0.2, max_depth=10, min_child_weight=1, n_estimators=200, subsample=0.8; total time=  12.1s\n",
      "[CV] END colsample_bytree=0.7, gamma=0.1, learning_rate=0.2, max_depth=10, min_child_weight=1, n_estimators=200, subsample=0.8; total time=  12.1s\n",
      "[CV] END colsample_bytree=0.7, gamma=0.1, learning_rate=0.2, max_depth=10, min_child_weight=1, n_estimators=200, subsample=0.8; total time=  12.5s\n",
      "[CV] END colsample_bytree=0.4, gamma=0.1, learning_rate=0.1, max_depth=10, min_child_weight=3, n_estimators=50, subsample=1.0; total time=   2.1s\n",
      "[CV] END colsample_bytree=0.4, gamma=0.1, learning_rate=0.1, max_depth=10, min_child_weight=3, n_estimators=50, subsample=1.0; total time=   2.1s\n",
      "[CV] END colsample_bytree=0.4, gamma=0.1, learning_rate=0.1, max_depth=10, min_child_weight=3, n_estimators=50, subsample=1.0; total time=   2.1s\n",
      "[CV] END colsample_bytree=0.4, gamma=0.1, learning_rate=0.1, max_depth=10, min_child_weight=3, n_estimators=50, subsample=1.0; total time=   2.2s\n",
      "[CV] END colsample_bytree=0.4, gamma=0.1, learning_rate=0.1, max_depth=10, min_child_weight=3, n_estimators=50, subsample=1.0; total time=   2.0s\n",
      "[CV] END colsample_bytree=0.4, gamma=0.2, learning_rate=0.05, max_depth=15, min_child_weight=5, n_estimators=500, subsample=1.0; total time=  29.8s\n",
      "[CV] END colsample_bytree=0.7, gamma=0.1, learning_rate=0.2, max_depth=10, min_child_weight=1, n_estimators=200, subsample=0.8; total time=  12.2s\n",
      "[CV] END colsample_bytree=0.7, gamma=0.1, learning_rate=0.2, max_depth=10, min_child_weight=1, n_estimators=200, subsample=0.8; total time=  12.4s\n",
      "[CV] END colsample_bytree=0.7, gamma=0.4, learning_rate=0.15, max_depth=6, min_child_weight=3, n_estimators=50, subsample=1.0; total time=   1.8s\n",
      "[CV] END colsample_bytree=0.4, gamma=0.2, learning_rate=0.05, max_depth=15, min_child_weight=5, n_estimators=500, subsample=1.0; total time=  28.6s\n"
     ]
    },
    {
     "name": "stderr",
     "output_type": "stream",
     "text": [
      "/Users/brianleung/miniconda3/lib/python3.11/site-packages/joblib/externals/loky/process_executor.py:752: UserWarning: A worker stopped while some jobs were given to the executor. This can be caused by a too short worker timeout or by a memory leak.\n",
      "  warnings.warn(\n"
     ]
    },
    {
     "name": "stdout",
     "output_type": "stream",
     "text": [
      "[CV] END colsample_bytree=0.7, gamma=0.4, learning_rate=0.15, max_depth=6, min_child_weight=3, n_estimators=50, subsample=1.0; total time=   1.8s\n",
      "[CV] END colsample_bytree=0.4, gamma=0.2, learning_rate=0.05, max_depth=15, min_child_weight=5, n_estimators=500, subsample=1.0; total time=  29.9s\n",
      "[CV] END colsample_bytree=0.7, gamma=0.4, learning_rate=0.15, max_depth=6, min_child_weight=3, n_estimators=50, subsample=1.0; total time=   1.9s\n",
      "[CV] END colsample_bytree=0.7, gamma=0.4, learning_rate=0.15, max_depth=6, min_child_weight=3, n_estimators=50, subsample=1.0; total time=   1.8s\n",
      "[CV] END colsample_bytree=0.7, gamma=0.4, learning_rate=0.15, max_depth=6, min_child_weight=3, n_estimators=50, subsample=1.0; total time=   1.9s\n",
      "[CV] END colsample_bytree=0.3, gamma=0.2, learning_rate=0.15, max_depth=5, min_child_weight=7, n_estimators=100, subsample=1.0; total time=   1.3s\n",
      "[CV] END colsample_bytree=0.3, gamma=0.2, learning_rate=0.15, max_depth=5, min_child_weight=7, n_estimators=100, subsample=1.0; total time=   1.3s\n",
      "[CV] END colsample_bytree=0.4, gamma=0.2, learning_rate=0.05, max_depth=15, min_child_weight=5, n_estimators=500, subsample=1.0; total time=  29.8s\n",
      "[CV] END colsample_bytree=0.4, gamma=0.2, learning_rate=0.05, max_depth=15, min_child_weight=5, n_estimators=500, subsample=1.0; total time=  30.2s\n",
      "[CV] END colsample_bytree=0.3, gamma=0.2, learning_rate=0.15, max_depth=5, min_child_weight=7, n_estimators=100, subsample=1.0; total time=   1.3s\n",
      "[CV] END colsample_bytree=0.3, gamma=0.2, learning_rate=0.15, max_depth=5, min_child_weight=7, n_estimators=100, subsample=1.0; total time=   1.3s\n",
      "[CV] END colsample_bytree=0.4, gamma=0.3, learning_rate=0.3, max_depth=10, min_child_weight=7, n_estimators=50, subsample=0.2; total time=   1.1s\n",
      "[CV] END colsample_bytree=0.4, gamma=0.3, learning_rate=0.3, max_depth=10, min_child_weight=7, n_estimators=50, subsample=0.2; total time=   1.1s\n",
      "[CV] END colsample_bytree=0.3, gamma=0.2, learning_rate=0.15, max_depth=5, min_child_weight=7, n_estimators=100, subsample=1.0; total time=   1.3s\n",
      "[CV] END colsample_bytree=0.4, gamma=0.3, learning_rate=0.3, max_depth=10, min_child_weight=7, n_estimators=50, subsample=0.2; total time=   1.1s\n",
      "[CV] END colsample_bytree=0.4, gamma=0.3, learning_rate=0.3, max_depth=10, min_child_weight=7, n_estimators=50, subsample=0.2; total time=   1.2s\n",
      "[CV] END colsample_bytree=0.4, gamma=0.3, learning_rate=0.3, max_depth=10, min_child_weight=7, n_estimators=50, subsample=0.2; total time=   1.1s\n",
      "[CV] END colsample_bytree=0.7, gamma=0.1, learning_rate=0.05, max_depth=8, min_child_weight=1, n_estimators=200, subsample=0.4; total time=   7.3s\n",
      "[CV] END colsample_bytree=0.7, gamma=0.1, learning_rate=0.05, max_depth=8, min_child_weight=1, n_estimators=200, subsample=0.4; total time=   7.5s\n",
      "[CV] END colsample_bytree=0.7, gamma=0.1, learning_rate=0.05, max_depth=8, min_child_weight=1, n_estimators=200, subsample=0.4; total time=   7.8s\n",
      "[CV] END colsample_bytree=0.7, gamma=0.1, learning_rate=0.05, max_depth=8, min_child_weight=1, n_estimators=200, subsample=0.4; total time=   7.5s\n",
      "[CV] END colsample_bytree=0.7, gamma=0.1, learning_rate=0.05, max_depth=8, min_child_weight=1, n_estimators=200, subsample=0.4; total time=   7.5s\n",
      "[CV] END colsample_bytree=0.7, gamma=0.0, learning_rate=0.15, max_depth=8, min_child_weight=7, n_estimators=500, subsample=1.0; total time=  22.7s\n",
      "[CV] END colsample_bytree=0.7, gamma=0.0, learning_rate=0.15, max_depth=8, min_child_weight=7, n_estimators=500, subsample=1.0; total time=  22.5s\n",
      "[CV] END colsample_bytree=0.7, gamma=0.0, learning_rate=0.15, max_depth=8, min_child_weight=7, n_estimators=500, subsample=1.0; total time=  23.1s\n",
      "[CV] END colsample_bytree=0.7, gamma=0.0, learning_rate=0.15, max_depth=8, min_child_weight=7, n_estimators=500, subsample=1.0; total time=  22.7s\n",
      "[CV] END colsample_bytree=0.7, gamma=0.0, learning_rate=0.15, max_depth=8, min_child_weight=7, n_estimators=500, subsample=1.0; total time=  23.2s\n",
      "[CV] END colsample_bytree=0.4, gamma=0.1, learning_rate=0.25, max_depth=8, min_child_weight=1, n_estimators=500, subsample=1.0; total time=  14.4s\n",
      "[CV] END colsample_bytree=0.4, gamma=0.1, learning_rate=0.25, max_depth=8, min_child_weight=1, n_estimators=500, subsample=1.0; total time=  14.3s\n",
      "[CV] END colsample_bytree=0.4, gamma=0.1, learning_rate=0.25, max_depth=8, min_child_weight=1, n_estimators=500, subsample=1.0; total time=  14.4s\n",
      "[CV] END colsample_bytree=0.4, gamma=0.1, learning_rate=0.25, max_depth=8, min_child_weight=1, n_estimators=500, subsample=1.0; total time=  14.3s\n",
      "[CV] END colsample_bytree=0.4, gamma=0.1, learning_rate=0.25, max_depth=8, min_child_weight=1, n_estimators=500, subsample=1.0; total time=  14.5s\n",
      "[CV] END colsample_bytree=0.5, gamma=0.2, learning_rate=0.15, max_depth=10, min_child_weight=1, n_estimators=500, subsample=1.0; total time=  21.4s\n",
      "[CV] END colsample_bytree=0.5, gamma=0.2, learning_rate=0.15, max_depth=10, min_child_weight=1, n_estimators=500, subsample=1.0; total time=  22.3s\n",
      "[CV] END colsample_bytree=0.5, gamma=0.2, learning_rate=0.15, max_depth=10, min_child_weight=1, n_estimators=500, subsample=1.0; total time=  21.9s\n",
      "[CV] END colsample_bytree=0.3, gamma=0.2, learning_rate=0.05, max_depth=15, min_child_weight=5, n_estimators=200, subsample=0.8; total time=   9.0s\n",
      "[CV] END colsample_bytree=0.3, gamma=0.2, learning_rate=0.05, max_depth=15, min_child_weight=5, n_estimators=200, subsample=0.8; total time=   9.1s\n",
      "[CV] END colsample_bytree=0.3, gamma=0.2, learning_rate=0.05, max_depth=15, min_child_weight=5, n_estimators=200, subsample=0.8; total time=   8.9s\n",
      "[CV] END colsample_bytree=0.5, gamma=0.2, learning_rate=0.15, max_depth=10, min_child_weight=1, n_estimators=500, subsample=1.0; total time=  21.4s\n",
      "[CV] END colsample_bytree=0.4, gamma=0.3, learning_rate=0.1, max_depth=8, min_child_weight=5, n_estimators=200, subsample=0.8; total time=   5.9s\n",
      "[CV] END colsample_bytree=0.4, gamma=0.3, learning_rate=0.1, max_depth=8, min_child_weight=5, n_estimators=200, subsample=0.8; total time=   6.0s\n",
      "[CV] END colsample_bytree=0.4, gamma=0.3, learning_rate=0.1, max_depth=8, min_child_weight=5, n_estimators=200, subsample=0.8; total time=   5.8s\n",
      "[CV] END colsample_bytree=0.4, gamma=0.3, learning_rate=0.1, max_depth=8, min_child_weight=5, n_estimators=200, subsample=0.8; total time=   5.7s\n",
      "[CV] END colsample_bytree=0.3, gamma=0.2, learning_rate=0.05, max_depth=15, min_child_weight=5, n_estimators=200, subsample=0.8; total time=   8.6s\n",
      "[CV] END colsample_bytree=0.3, gamma=0.2, learning_rate=0.05, max_depth=15, min_child_weight=5, n_estimators=200, subsample=0.8; total time=   8.2s\n",
      "[CV] END colsample_bytree=0.4, gamma=0.3, learning_rate=0.1, max_depth=8, min_child_weight=5, n_estimators=200, subsample=0.8; total time=   4.2s\n",
      "[CV] END colsample_bytree=0.5, gamma=0.2, learning_rate=0.15, max_depth=10, min_child_weight=1, n_estimators=500, subsample=1.0; total time=  19.5s\n"
     ]
    },
    {
     "data": {
      "text/html": [
       "<style>#sk-container-id-2 {color: black;}#sk-container-id-2 pre{padding: 0;}#sk-container-id-2 div.sk-toggleable {background-color: white;}#sk-container-id-2 label.sk-toggleable__label {cursor: pointer;display: block;width: 100%;margin-bottom: 0;padding: 0.3em;box-sizing: border-box;text-align: center;}#sk-container-id-2 label.sk-toggleable__label-arrow:before {content: \"▸\";float: left;margin-right: 0.25em;color: #696969;}#sk-container-id-2 label.sk-toggleable__label-arrow:hover:before {color: black;}#sk-container-id-2 div.sk-estimator:hover label.sk-toggleable__label-arrow:before {color: black;}#sk-container-id-2 div.sk-toggleable__content {max-height: 0;max-width: 0;overflow: hidden;text-align: left;background-color: #f0f8ff;}#sk-container-id-2 div.sk-toggleable__content pre {margin: 0.2em;color: black;border-radius: 0.25em;background-color: #f0f8ff;}#sk-container-id-2 input.sk-toggleable__control:checked~div.sk-toggleable__content {max-height: 200px;max-width: 100%;overflow: auto;}#sk-container-id-2 input.sk-toggleable__control:checked~label.sk-toggleable__label-arrow:before {content: \"▾\";}#sk-container-id-2 div.sk-estimator input.sk-toggleable__control:checked~label.sk-toggleable__label {background-color: #d4ebff;}#sk-container-id-2 div.sk-label input.sk-toggleable__control:checked~label.sk-toggleable__label {background-color: #d4ebff;}#sk-container-id-2 input.sk-hidden--visually {border: 0;clip: rect(1px 1px 1px 1px);clip: rect(1px, 1px, 1px, 1px);height: 1px;margin: -1px;overflow: hidden;padding: 0;position: absolute;width: 1px;}#sk-container-id-2 div.sk-estimator {font-family: monospace;background-color: #f0f8ff;border: 1px dotted black;border-radius: 0.25em;box-sizing: border-box;margin-bottom: 0.5em;}#sk-container-id-2 div.sk-estimator:hover {background-color: #d4ebff;}#sk-container-id-2 div.sk-parallel-item::after {content: \"\";width: 100%;border-bottom: 1px solid gray;flex-grow: 1;}#sk-container-id-2 div.sk-label:hover label.sk-toggleable__label {background-color: #d4ebff;}#sk-container-id-2 div.sk-serial::before {content: \"\";position: absolute;border-left: 1px solid gray;box-sizing: border-box;top: 0;bottom: 0;left: 50%;z-index: 0;}#sk-container-id-2 div.sk-serial {display: flex;flex-direction: column;align-items: center;background-color: white;padding-right: 0.2em;padding-left: 0.2em;position: relative;}#sk-container-id-2 div.sk-item {position: relative;z-index: 1;}#sk-container-id-2 div.sk-parallel {display: flex;align-items: stretch;justify-content: center;background-color: white;position: relative;}#sk-container-id-2 div.sk-item::before, #sk-container-id-2 div.sk-parallel-item::before {content: \"\";position: absolute;border-left: 1px solid gray;box-sizing: border-box;top: 0;bottom: 0;left: 50%;z-index: -1;}#sk-container-id-2 div.sk-parallel-item {display: flex;flex-direction: column;z-index: 1;position: relative;background-color: white;}#sk-container-id-2 div.sk-parallel-item:first-child::after {align-self: flex-end;width: 50%;}#sk-container-id-2 div.sk-parallel-item:last-child::after {align-self: flex-start;width: 50%;}#sk-container-id-2 div.sk-parallel-item:only-child::after {width: 0;}#sk-container-id-2 div.sk-dashed-wrapped {border: 1px dashed gray;margin: 0 0.4em 0.5em 0.4em;box-sizing: border-box;padding-bottom: 0.4em;background-color: white;}#sk-container-id-2 div.sk-label label {font-family: monospace;font-weight: bold;display: inline-block;line-height: 1.2em;}#sk-container-id-2 div.sk-label-container {text-align: center;}#sk-container-id-2 div.sk-container {/* jupyter's `normalize.less` sets `[hidden] { display: none; }` but bootstrap.min.css set `[hidden] { display: none !important; }` so we also need the `!important` here to be able to override the default hidden behavior on the sphinx rendered scikit-learn.org. See: https://github.com/scikit-learn/scikit-learn/issues/21755 */display: inline-block !important;position: relative;}#sk-container-id-2 div.sk-text-repr-fallback {display: none;}</style><div id=\"sk-container-id-2\" class=\"sk-top-container\"><div class=\"sk-text-repr-fallback\"><pre>RandomizedSearchCV(cv=GroupKFold(n_splits=5),\n",
       "                   estimator=XGBRegressor(base_score=None, booster=None,\n",
       "                                          callbacks=None,\n",
       "                                          colsample_bylevel=None,\n",
       "                                          colsample_bynode=None,\n",
       "                                          colsample_bytree=None,\n",
       "                                          early_stopping_rounds=None,\n",
       "                                          enable_categorical=False,\n",
       "                                          eval_metric=None, feature_types=None,\n",
       "                                          gamma=None, gpu_id=None,\n",
       "                                          grow_policy=None,\n",
       "                                          importance_type=None,\n",
       "                                          interaction_constraint...\n",
       "                                          predictor=None, random_state=None, ...),\n",
       "                   n_iter=50, n_jobs=-1,\n",
       "                   param_distributions={&#x27;colsample_bytree&#x27;: [0.3, 0.4, 0.5,\n",
       "                                                             0.7],\n",
       "                                        &#x27;gamma&#x27;: [0.0, 0.1, 0.2, 0.3, 0.4],\n",
       "                                        &#x27;learning_rate&#x27;: [0.05, 0.1, 0.15, 0.2,\n",
       "                                                          0.25, 0.3],\n",
       "                                        &#x27;max_depth&#x27;: [3, 4, 5, 6, 8, 10, 12,\n",
       "                                                      15],\n",
       "                                        &#x27;min_child_weight&#x27;: [1, 3, 5, 7],\n",
       "                                        &#x27;n_estimators&#x27;: [50, 100, 200, 500],\n",
       "                                        &#x27;subsample&#x27;: [0.2, 0.4, 0.8, 1.0]},\n",
       "                   scoring=&#x27;neg_mean_absolute_error&#x27;, verbose=2)</pre><b>In a Jupyter environment, please rerun this cell to show the HTML representation or trust the notebook. <br />On GitHub, the HTML representation is unable to render, please try loading this page with nbviewer.org.</b></div><div class=\"sk-container\" hidden><div class=\"sk-item sk-dashed-wrapped\"><div class=\"sk-label-container\"><div class=\"sk-label sk-toggleable\"><input class=\"sk-toggleable__control sk-hidden--visually\" id=\"sk-estimator-id-4\" type=\"checkbox\" ><label for=\"sk-estimator-id-4\" class=\"sk-toggleable__label sk-toggleable__label-arrow\">RandomizedSearchCV</label><div class=\"sk-toggleable__content\"><pre>RandomizedSearchCV(cv=GroupKFold(n_splits=5),\n",
       "                   estimator=XGBRegressor(base_score=None, booster=None,\n",
       "                                          callbacks=None,\n",
       "                                          colsample_bylevel=None,\n",
       "                                          colsample_bynode=None,\n",
       "                                          colsample_bytree=None,\n",
       "                                          early_stopping_rounds=None,\n",
       "                                          enable_categorical=False,\n",
       "                                          eval_metric=None, feature_types=None,\n",
       "                                          gamma=None, gpu_id=None,\n",
       "                                          grow_policy=None,\n",
       "                                          importance_type=None,\n",
       "                                          interaction_constraint...\n",
       "                                          predictor=None, random_state=None, ...),\n",
       "                   n_iter=50, n_jobs=-1,\n",
       "                   param_distributions={&#x27;colsample_bytree&#x27;: [0.3, 0.4, 0.5,\n",
       "                                                             0.7],\n",
       "                                        &#x27;gamma&#x27;: [0.0, 0.1, 0.2, 0.3, 0.4],\n",
       "                                        &#x27;learning_rate&#x27;: [0.05, 0.1, 0.15, 0.2,\n",
       "                                                          0.25, 0.3],\n",
       "                                        &#x27;max_depth&#x27;: [3, 4, 5, 6, 8, 10, 12,\n",
       "                                                      15],\n",
       "                                        &#x27;min_child_weight&#x27;: [1, 3, 5, 7],\n",
       "                                        &#x27;n_estimators&#x27;: [50, 100, 200, 500],\n",
       "                                        &#x27;subsample&#x27;: [0.2, 0.4, 0.8, 1.0]},\n",
       "                   scoring=&#x27;neg_mean_absolute_error&#x27;, verbose=2)</pre></div></div></div><div class=\"sk-parallel\"><div class=\"sk-parallel-item\"><div class=\"sk-item\"><div class=\"sk-label-container\"><div class=\"sk-label sk-toggleable\"><input class=\"sk-toggleable__control sk-hidden--visually\" id=\"sk-estimator-id-5\" type=\"checkbox\" ><label for=\"sk-estimator-id-5\" class=\"sk-toggleable__label sk-toggleable__label-arrow\">estimator: XGBRegressor</label><div class=\"sk-toggleable__content\"><pre>XGBRegressor(base_score=None, booster=None, callbacks=None,\n",
       "             colsample_bylevel=None, colsample_bynode=None,\n",
       "             colsample_bytree=None, early_stopping_rounds=None,\n",
       "             enable_categorical=False, eval_metric=None, feature_types=None,\n",
       "             gamma=None, gpu_id=None, grow_policy=None, importance_type=None,\n",
       "             interaction_constraints=None, learning_rate=None, max_bin=None,\n",
       "             max_cat_threshold=None, max_cat_to_onehot=None,\n",
       "             max_delta_step=None, max_depth=None, max_leaves=None,\n",
       "             min_child_weight=None, missing=nan, monotone_constraints=None,\n",
       "             n_estimators=100, n_jobs=None, num_parallel_tree=None,\n",
       "             predictor=None, random_state=None, ...)</pre></div></div></div><div class=\"sk-serial\"><div class=\"sk-item\"><div class=\"sk-estimator sk-toggleable\"><input class=\"sk-toggleable__control sk-hidden--visually\" id=\"sk-estimator-id-6\" type=\"checkbox\" ><label for=\"sk-estimator-id-6\" class=\"sk-toggleable__label sk-toggleable__label-arrow\">XGBRegressor</label><div class=\"sk-toggleable__content\"><pre>XGBRegressor(base_score=None, booster=None, callbacks=None,\n",
       "             colsample_bylevel=None, colsample_bynode=None,\n",
       "             colsample_bytree=None, early_stopping_rounds=None,\n",
       "             enable_categorical=False, eval_metric=None, feature_types=None,\n",
       "             gamma=None, gpu_id=None, grow_policy=None, importance_type=None,\n",
       "             interaction_constraints=None, learning_rate=None, max_bin=None,\n",
       "             max_cat_threshold=None, max_cat_to_onehot=None,\n",
       "             max_delta_step=None, max_depth=None, max_leaves=None,\n",
       "             min_child_weight=None, missing=nan, monotone_constraints=None,\n",
       "             n_estimators=100, n_jobs=None, num_parallel_tree=None,\n",
       "             predictor=None, random_state=None, ...)</pre></div></div></div></div></div></div></div></div></div></div>"
      ],
      "text/plain": [
       "RandomizedSearchCV(cv=GroupKFold(n_splits=5),\n",
       "                   estimator=XGBRegressor(base_score=None, booster=None,\n",
       "                                          callbacks=None,\n",
       "                                          colsample_bylevel=None,\n",
       "                                          colsample_bynode=None,\n",
       "                                          colsample_bytree=None,\n",
       "                                          early_stopping_rounds=None,\n",
       "                                          enable_categorical=False,\n",
       "                                          eval_metric=None, feature_types=None,\n",
       "                                          gamma=None, gpu_id=None,\n",
       "                                          grow_policy=None,\n",
       "                                          importance_type=None,\n",
       "                                          interaction_constraint...\n",
       "                                          predictor=None, random_state=None, ...),\n",
       "                   n_iter=50, n_jobs=-1,\n",
       "                   param_distributions={'colsample_bytree': [0.3, 0.4, 0.5,\n",
       "                                                             0.7],\n",
       "                                        'gamma': [0.0, 0.1, 0.2, 0.3, 0.4],\n",
       "                                        'learning_rate': [0.05, 0.1, 0.15, 0.2,\n",
       "                                                          0.25, 0.3],\n",
       "                                        'max_depth': [3, 4, 5, 6, 8, 10, 12,\n",
       "                                                      15],\n",
       "                                        'min_child_weight': [1, 3, 5, 7],\n",
       "                                        'n_estimators': [50, 100, 200, 500],\n",
       "                                        'subsample': [0.2, 0.4, 0.8, 1.0]},\n",
       "                   scoring='neg_mean_absolute_error', verbose=2)"
      ]
     },
     "execution_count": 76,
     "metadata": {},
     "output_type": "execute_result"
    }
   ],
   "source": [
    "rs_model.fit(X_train, Y_train, groups = cities.iloc[train_inds])"
   ]
  },
  {
   "cell_type": "code",
   "execution_count": 77,
   "metadata": {},
   "outputs": [
    {
     "data": {
      "text/plain": [
       "{'subsample': 1.0,\n",
       " 'n_estimators': 500,\n",
       " 'min_child_weight': 7,\n",
       " 'max_depth': 8,\n",
       " 'learning_rate': 0.15,\n",
       " 'gamma': 0.0,\n",
       " 'colsample_bytree': 0.7}"
      ]
     },
     "execution_count": 77,
     "metadata": {},
     "output_type": "execute_result"
    }
   ],
   "source": [
    "rs_model.best_params_"
   ]
  },
  {
   "cell_type": "code",
   "execution_count": 78,
   "metadata": {},
   "outputs": [],
   "source": [
    "best_model = rs_model.best_estimator_"
   ]
  },
  {
   "cell_type": "code",
   "execution_count": 79,
   "metadata": {},
   "outputs": [
    {
     "data": {
      "text/plain": [
       "9540.84480758613"
      ]
     },
     "execution_count": 79,
     "metadata": {},
     "output_type": "execute_result"
    }
   ],
   "source": [
    "Y_pred = best_model.predict(X_test)\n",
    "mean_absolute_error(Y_test, Y_pred)"
   ]
  },
  {
   "cell_type": "code",
   "execution_count": 80,
   "metadata": {},
   "outputs": [],
   "source": [
    "cv = GroupKFold(n_splits=5)\n",
    "score=cross_val_score(best_model,X,Y,cv=cv,groups=cities,scoring='neg_mean_absolute_error')"
   ]
  },
  {
   "cell_type": "code",
   "execution_count": 81,
   "metadata": {},
   "outputs": [
    {
     "data": {
      "text/plain": [
       "-10477.075601656821"
      ]
     },
     "execution_count": 81,
     "metadata": {},
     "output_type": "execute_result"
    }
   ],
   "source": [
    "score.mean()"
   ]
  },
  {
   "cell_type": "code",
   "execution_count": null,
   "metadata": {},
   "outputs": [],
   "source": []
  },
  {
   "cell_type": "code",
   "execution_count": null,
   "metadata": {},
   "outputs": [],
   "source": []
  },
  {
   "cell_type": "markdown",
   "metadata": {},
   "source": [
    "## Random Forest"
   ]
  },
  {
   "cell_type": "code",
   "execution_count": 118,
   "metadata": {},
   "outputs": [
    {
     "name": "stdout",
     "output_type": "stream",
     "text": [
      "The RMSE of the model is 16983.690714548284\n",
      "The MAE of the model is 10116.871163068477\n"
     ]
    }
   ],
   "source": [
    "# Fitting a random forest \n",
    "model = RandomForestRegressor()\n",
    "model.fit(X_train, Y_train)\n",
    "\n",
    "# Making predictions\n",
    "Y_pred = model.predict(X_test)\n",
    "\n",
    "# Assess performance\n",
    "rmse = mean_squared_error(Y_test, Y_pred, squared=False)\n",
    "mae = mean_absolute_error(Y_test, Y_pred)\n",
    "print(\"The RMSE of the model is\", rmse)\n",
    "print(\"The MAE of the model is\", mae)"
   ]
  },
  {
   "cell_type": "markdown",
   "metadata": {},
   "source": [
    "### Random Forest -- Random Search CV"
   ]
  },
  {
   "cell_type": "code",
   "execution_count": null,
   "metadata": {},
   "outputs": [],
   "source": [
    "n_estimators = [200, 400, 600, 800, 1000, 1200, 1400, 1600, 1800, 2000]\n",
    "max_depth = [10, 20, 30, 40, 50, 60, 70, 80, 90, 100, None]\n",
    "min_samples_leaf =  [1, 2, 4]\n",
    "min_samples_split = [2, 5, 10]\n",
    "max_features = ['sqrt', 'log2', None]\n",
    "\n",
    "hyperparameter_grid = {\n",
    "    'n_estimators': n_estimators,\n",
    "    'max_depth': max_depth,\n",
    "    'min_samples_leaf': min_samples_leaf,\n",
    "    'min_samples_split': min_samples_split,\n",
    "    'max_features': max_features}\n"
   ]
  },
  {
   "cell_type": "code",
   "execution_count": null,
   "metadata": {},
   "outputs": [
    {
     "data": {
      "text/plain": [
       "{'n_estimators': [200, 400, 600, 800, 1000, 1200, 1400, 1600, 1800, 2000],\n",
       " 'max_depth': [10, 20, 30, 40, 50, 60, 70, 80, 90, 100, None],\n",
       " 'min_samples_leaf': [1, 2, 4],\n",
       " 'min_samples_split': [2, 5, 10],\n",
       " 'max_features': ['sqrt', 'log2']}"
      ]
     },
     "metadata": {},
     "output_type": "display_data"
    }
   ],
   "source": [
    "hyperparameter_grid"
   ]
  },
  {
   "cell_type": "code",
   "execution_count": null,
   "metadata": {},
   "outputs": [],
   "source": [
    "X_train, X_test, Y_train, Y_test = train_test_split(X, Y, test_size=0.33)"
   ]
  },
  {
   "cell_type": "code",
   "execution_count": null,
   "metadata": {},
   "outputs": [
    {
     "name": "stdout",
     "output_type": "stream",
     "text": [
      "Fitting 5 folds for each of 50 candidates, totalling 250 fits\n",
      "[CV] END max_depth=10, max_features=sqrt, min_samples_leaf=2, min_samples_split=10, n_estimators=1400; total time=  11.9s\n",
      "[CV] END max_depth=10, max_features=sqrt, min_samples_leaf=2, min_samples_split=10, n_estimators=1400; total time=  12.3s\n",
      "[CV] END max_depth=10, max_features=sqrt, min_samples_leaf=2, min_samples_split=10, n_estimators=1400; total time=  12.6s\n",
      "[CV] END max_depth=20, max_features=log2, min_samples_leaf=4, min_samples_split=10, n_estimators=400; total time=   4.0s\n",
      "[CV] END max_depth=80, max_features=log2, min_samples_leaf=4, min_samples_split=5, n_estimators=1800; total time=  16.6s\n",
      "[CV] END max_depth=80, max_features=log2, min_samples_leaf=4, min_samples_split=5, n_estimators=1800; total time=  16.8s\n",
      "[CV] END max_depth=80, max_features=log2, min_samples_leaf=4, min_samples_split=5, n_estimators=1800; total time=  17.1s\n",
      "[CV] END max_depth=80, max_features=log2, min_samples_leaf=4, min_samples_split=5, n_estimators=1800; total time=  17.2s\n",
      "[CV] END max_depth=80, max_features=log2, min_samples_leaf=4, min_samples_split=5, n_estimators=1800; total time=  17.1s\n",
      "[CV] END max_depth=20, max_features=log2, min_samples_leaf=4, min_samples_split=10, n_estimators=400; total time=   3.7s\n",
      "[CV] END max_depth=20, max_features=log2, min_samples_leaf=4, min_samples_split=10, n_estimators=400; total time=   4.0s\n",
      "[CV] END max_depth=20, max_features=log2, min_samples_leaf=4, min_samples_split=10, n_estimators=400; total time=   4.0s\n",
      "[CV] END max_depth=20, max_features=log2, min_samples_leaf=4, min_samples_split=10, n_estimators=400; total time=   3.9s\n",
      "[CV] END max_depth=100, max_features=sqrt, min_samples_leaf=4, min_samples_split=2, n_estimators=400; total time=   4.6s\n",
      "[CV] END max_depth=100, max_features=sqrt, min_samples_leaf=4, min_samples_split=2, n_estimators=400; total time=   5.0s\n",
      "[CV] END max_depth=100, max_features=log2, min_samples_leaf=1, min_samples_split=10, n_estimators=200; total time=   2.1s\n",
      "[CV] END max_depth=100, max_features=log2, min_samples_leaf=1, min_samples_split=10, n_estimators=200; total time=   2.2s\n",
      "[CV] END max_depth=100, max_features=log2, min_samples_leaf=1, min_samples_split=10, n_estimators=200; total time=   2.2s\n",
      "[CV] END max_depth=10, max_features=sqrt, min_samples_leaf=2, min_samples_split=10, n_estimators=1400; total time=  12.8s\n",
      "[CV] END max_depth=100, max_features=log2, min_samples_leaf=1, min_samples_split=10, n_estimators=200; total time=   2.1s\n",
      "[CV] END max_depth=100, max_features=sqrt, min_samples_leaf=4, min_samples_split=2, n_estimators=400; total time=   4.8s\n",
      "[CV] END max_depth=100, max_features=sqrt, min_samples_leaf=4, min_samples_split=2, n_estimators=400; total time=   5.1s\n",
      "[CV] END max_depth=100, max_features=sqrt, min_samples_leaf=4, min_samples_split=2, n_estimators=400; total time=   5.0s\n",
      "[CV] END max_depth=10, max_features=sqrt, min_samples_leaf=2, min_samples_split=10, n_estimators=1400; total time=  13.5s\n",
      "[CV] END max_depth=100, max_features=log2, min_samples_leaf=1, min_samples_split=10, n_estimators=200; total time=   2.1s\n",
      "[CV] END max_depth=100, max_features=log2, min_samples_leaf=4, min_samples_split=10, n_estimators=800; total time=   8.1s\n",
      "[CV] END max_depth=100, max_features=log2, min_samples_leaf=4, min_samples_split=10, n_estimators=800; total time=   8.0s\n",
      "[CV] END max_depth=100, max_features=log2, min_samples_leaf=4, min_samples_split=10, n_estimators=800; total time=   8.1s\n",
      "[CV] END max_depth=100, max_features=log2, min_samples_leaf=4, min_samples_split=10, n_estimators=800; total time=   8.1s\n",
      "[CV] END max_depth=100, max_features=log2, min_samples_leaf=4, min_samples_split=10, n_estimators=800; total time=   8.1s\n",
      "[CV] END max_depth=30, max_features=log2, min_samples_leaf=1, min_samples_split=5, n_estimators=1000; total time=  11.7s\n",
      "[CV] END max_depth=30, max_features=log2, min_samples_leaf=1, min_samples_split=5, n_estimators=1000; total time=  12.0s\n",
      "[CV] END max_depth=30, max_features=log2, min_samples_leaf=1, min_samples_split=5, n_estimators=1000; total time=  12.4s\n",
      "[CV] END max_depth=30, max_features=log2, min_samples_leaf=1, min_samples_split=5, n_estimators=1000; total time=  12.1s\n",
      "[CV] END max_depth=30, max_features=log2, min_samples_leaf=1, min_samples_split=5, n_estimators=1000; total time=  12.5s\n",
      "[CV] END max_depth=30, max_features=sqrt, min_samples_leaf=2, min_samples_split=10, n_estimators=1000; total time=  12.4s\n",
      "[CV] END max_depth=30, max_features=sqrt, min_samples_leaf=2, min_samples_split=10, n_estimators=1000; total time=  13.0s\n",
      "[CV] END max_depth=30, max_features=sqrt, min_samples_leaf=2, min_samples_split=10, n_estimators=1000; total time=  12.6s\n",
      "[CV] END max_depth=100, max_features=sqrt, min_samples_leaf=2, min_samples_split=2, n_estimators=800; total time=  11.9s\n",
      "[CV] END max_depth=30, max_features=sqrt, min_samples_leaf=2, min_samples_split=10, n_estimators=1000; total time=  12.9s\n",
      "[CV] END max_depth=30, max_features=sqrt, min_samples_leaf=2, min_samples_split=10, n_estimators=1000; total time=  13.0s\n",
      "[CV] END max_depth=100, max_features=sqrt, min_samples_leaf=2, min_samples_split=2, n_estimators=800; total time=  11.9s\n",
      "[CV] END max_depth=100, max_features=sqrt, min_samples_leaf=2, min_samples_split=2, n_estimators=800; total time=  12.7s\n",
      "[CV] END max_depth=100, max_features=sqrt, min_samples_leaf=2, min_samples_split=2, n_estimators=800; total time=  12.6s\n",
      "[CV] END max_depth=100, max_features=sqrt, min_samples_leaf=2, min_samples_split=2, n_estimators=800; total time=  12.3s\n",
      "[CV] END max_depth=10, max_features=sqrt, min_samples_leaf=4, min_samples_split=2, n_estimators=2000; total time=  20.7s\n",
      "[CV] END max_depth=10, max_features=sqrt, min_samples_leaf=4, min_samples_split=2, n_estimators=2000; total time=  20.1s\n",
      "[CV] END max_depth=10, max_features=sqrt, min_samples_leaf=4, min_samples_split=2, n_estimators=2000; total time=  20.2s\n",
      "[CV] END max_depth=10, max_features=sqrt, min_samples_leaf=4, min_samples_split=2, n_estimators=2000; total time=  20.3s\n",
      "[CV] END max_depth=10, max_features=sqrt, min_samples_leaf=4, min_samples_split=2, n_estimators=2000; total time=  20.4s\n",
      "[CV] END max_depth=70, max_features=sqrt, min_samples_leaf=2, min_samples_split=2, n_estimators=1400; total time=  21.0s\n",
      "[CV] END max_depth=70, max_features=sqrt, min_samples_leaf=2, min_samples_split=2, n_estimators=1400; total time=  20.5s\n",
      "[CV] END max_depth=70, max_features=sqrt, min_samples_leaf=2, min_samples_split=2, n_estimators=1400; total time=  20.8s\n",
      "[CV] END max_depth=60, max_features=log2, min_samples_leaf=4, min_samples_split=10, n_estimators=800; total time=   8.5s\n",
      "[CV] END max_depth=60, max_features=log2, min_samples_leaf=4, min_samples_split=10, n_estimators=800; total time=   8.3s\n",
      "[CV] END max_depth=60, max_features=log2, min_samples_leaf=4, min_samples_split=10, n_estimators=800; total time=   8.5s\n",
      "[CV] END max_depth=60, max_features=log2, min_samples_leaf=4, min_samples_split=10, n_estimators=800; total time=   8.5s\n",
      "[CV] END max_depth=60, max_features=log2, min_samples_leaf=4, min_samples_split=10, n_estimators=800; total time=   8.6s\n",
      "[CV] END max_depth=70, max_features=sqrt, min_samples_leaf=2, min_samples_split=2, n_estimators=1400; total time=  21.8s\n"
     ]
    },
    {
     "name": "stderr",
     "output_type": "stream",
     "text": [
      "/Users/brianleung/miniconda3/lib/python3.11/site-packages/joblib/externals/loky/process_executor.py:752: UserWarning: A worker stopped while some jobs were given to the executor. This can be caused by a too short worker timeout or by a memory leak.\n",
      "  warnings.warn(\n"
     ]
    },
    {
     "name": "stdout",
     "output_type": "stream",
     "text": [
      "[CV] END max_depth=70, max_features=sqrt, min_samples_leaf=2, min_samples_split=2, n_estimators=1400; total time=  22.0s\n",
      "[CV] END max_depth=80, max_features=log2, min_samples_leaf=1, min_samples_split=10, n_estimators=2000; total time=  22.9s\n",
      "[CV] END max_depth=80, max_features=log2, min_samples_leaf=1, min_samples_split=10, n_estimators=2000; total time=  23.1s\n",
      "[CV] END max_depth=80, max_features=log2, min_samples_leaf=1, min_samples_split=10, n_estimators=2000; total time=  23.0s\n",
      "[CV] END max_depth=20, max_features=sqrt, min_samples_leaf=4, min_samples_split=2, n_estimators=1600; total time=  22.2s\n",
      "[CV] END max_depth=80, max_features=log2, min_samples_leaf=1, min_samples_split=10, n_estimators=2000; total time=  24.5s\n",
      "[CV] END max_depth=80, max_features=log2, min_samples_leaf=1, min_samples_split=10, n_estimators=2000; total time=  24.1s\n",
      "[CV] END max_depth=20, max_features=sqrt, min_samples_leaf=4, min_samples_split=2, n_estimators=1600; total time=  22.1s\n",
      "[CV] END max_depth=20, max_features=sqrt, min_samples_leaf=4, min_samples_split=2, n_estimators=1600; total time=  22.5s\n",
      "[CV] END max_depth=100, max_features=sqrt, min_samples_leaf=4, min_samples_split=5, n_estimators=1000; total time=  14.4s\n",
      "[CV] END max_depth=100, max_features=sqrt, min_samples_leaf=4, min_samples_split=5, n_estimators=1000; total time=  14.4s\n",
      "[CV] END max_depth=100, max_features=sqrt, min_samples_leaf=4, min_samples_split=5, n_estimators=1000; total time=  14.4s\n",
      "[CV] END max_depth=20, max_features=sqrt, min_samples_leaf=4, min_samples_split=2, n_estimators=1600; total time=  22.6s\n",
      "[CV] END max_depth=20, max_features=sqrt, min_samples_leaf=4, min_samples_split=2, n_estimators=1600; total time=  22.6s\n",
      "[CV] END max_depth=100, max_features=sqrt, min_samples_leaf=4, min_samples_split=5, n_estimators=1000; total time=  14.3s\n",
      "[CV] END max_depth=100, max_features=sqrt, min_samples_leaf=4, min_samples_split=5, n_estimators=1000; total time=  14.1s\n",
      "[CV] END max_depth=90, max_features=sqrt, min_samples_leaf=1, min_samples_split=5, n_estimators=1400; total time=  22.5s\n",
      "[CV] END max_depth=90, max_features=sqrt, min_samples_leaf=1, min_samples_split=5, n_estimators=1400; total time=  21.9s\n",
      "[CV] END max_depth=90, max_features=sqrt, min_samples_leaf=1, min_samples_split=5, n_estimators=1400; total time=  21.8s\n",
      "[CV] END max_depth=90, max_features=sqrt, min_samples_leaf=1, min_samples_split=5, n_estimators=1400; total time=  22.4s\n",
      "[CV] END max_depth=90, max_features=sqrt, min_samples_leaf=1, min_samples_split=5, n_estimators=1400; total time=  23.0s\n",
      "[CV] END max_depth=80, max_features=sqrt, min_samples_leaf=2, min_samples_split=10, n_estimators=1800; total time=  24.1s\n",
      "[CV] END max_depth=80, max_features=sqrt, min_samples_leaf=2, min_samples_split=10, n_estimators=1800; total time=  23.9s\n",
      "[CV] END max_depth=80, max_features=sqrt, min_samples_leaf=2, min_samples_split=10, n_estimators=1800; total time=  24.2s\n",
      "[CV] END max_depth=80, max_features=sqrt, min_samples_leaf=2, min_samples_split=10, n_estimators=1800; total time=  24.4s\n",
      "[CV] END max_depth=60, max_features=sqrt, min_samples_leaf=4, min_samples_split=10, n_estimators=1000; total time=  12.9s\n",
      "[CV] END max_depth=80, max_features=sqrt, min_samples_leaf=2, min_samples_split=10, n_estimators=1800; total time=  24.0s\n",
      "[CV] END max_depth=70, max_features=sqrt, min_samples_leaf=1, min_samples_split=10, n_estimators=1600; total time=  22.1s\n",
      "[CV] END max_depth=70, max_features=sqrt, min_samples_leaf=1, min_samples_split=10, n_estimators=1600; total time=  21.9s\n",
      "[CV] END max_depth=70, max_features=sqrt, min_samples_leaf=1, min_samples_split=10, n_estimators=1600; total time=  21.3s\n",
      "[CV] END max_depth=70, max_features=sqrt, min_samples_leaf=1, min_samples_split=10, n_estimators=1600; total time=  22.2s\n",
      "[CV] END max_depth=70, max_features=sqrt, min_samples_leaf=1, min_samples_split=10, n_estimators=1600; total time=  21.8s\n",
      "[CV] END max_depth=60, max_features=sqrt, min_samples_leaf=4, min_samples_split=10, n_estimators=1000; total time=  13.0s\n",
      "[CV] END max_depth=60, max_features=sqrt, min_samples_leaf=4, min_samples_split=10, n_estimators=1000; total time=  12.8s\n",
      "[CV] END max_depth=60, max_features=sqrt, min_samples_leaf=4, min_samples_split=10, n_estimators=1000; total time=  13.4s\n",
      "[CV] END max_depth=40, max_features=sqrt, min_samples_leaf=2, min_samples_split=5, n_estimators=600; total time=   9.0s\n",
      "[CV] END max_depth=40, max_features=sqrt, min_samples_leaf=2, min_samples_split=5, n_estimators=600; total time=   9.1s\n",
      "[CV] END max_depth=40, max_features=sqrt, min_samples_leaf=2, min_samples_split=5, n_estimators=600; total time=   9.1s\n",
      "[CV] END max_depth=40, max_features=sqrt, min_samples_leaf=2, min_samples_split=5, n_estimators=600; total time=   9.2s\n",
      "[CV] END max_depth=60, max_features=sqrt, min_samples_leaf=4, min_samples_split=10, n_estimators=1000; total time=  13.0s\n",
      "[CV] END max_depth=40, max_features=sqrt, min_samples_leaf=2, min_samples_split=5, n_estimators=600; total time=   8.7s\n",
      "[CV] END max_depth=30, max_features=sqrt, min_samples_leaf=4, min_samples_split=5, n_estimators=600; total time=   8.0s\n",
      "[CV] END max_depth=30, max_features=sqrt, min_samples_leaf=4, min_samples_split=5, n_estimators=600; total time=   7.9s\n",
      "[CV] END max_depth=30, max_features=sqrt, min_samples_leaf=4, min_samples_split=5, n_estimators=600; total time=   8.0s\n",
      "[CV] END max_depth=30, max_features=sqrt, min_samples_leaf=4, min_samples_split=5, n_estimators=600; total time=   8.2s\n",
      "[CV] END max_depth=30, max_features=sqrt, min_samples_leaf=4, min_samples_split=5, n_estimators=600; total time=   7.9s\n",
      "[CV] END max_depth=30, max_features=log2, min_samples_leaf=1, min_samples_split=5, n_estimators=600; total time=   7.9s\n",
      "[CV] END max_depth=30, max_features=log2, min_samples_leaf=1, min_samples_split=5, n_estimators=600; total time=   7.8s\n",
      "[CV] END max_depth=30, max_features=log2, min_samples_leaf=1, min_samples_split=5, n_estimators=600; total time=   8.0s\n",
      "[CV] END max_depth=30, max_features=log2, min_samples_leaf=1, min_samples_split=5, n_estimators=600; total time=   8.0s\n",
      "[CV] END max_depth=30, max_features=log2, min_samples_leaf=1, min_samples_split=5, n_estimators=600; total time=   7.8s\n",
      "[CV] END max_depth=70, max_features=sqrt, min_samples_leaf=4, min_samples_split=10, n_estimators=400; total time=   5.4s\n",
      "[CV] END max_depth=70, max_features=sqrt, min_samples_leaf=4, min_samples_split=10, n_estimators=400; total time=   5.3s\n",
      "[CV] END max_depth=70, max_features=sqrt, min_samples_leaf=4, min_samples_split=10, n_estimators=400; total time=   5.1s\n",
      "[CV] END max_depth=70, max_features=log2, min_samples_leaf=2, min_samples_split=2, n_estimators=200; total time=   2.8s\n",
      "[CV] END max_depth=70, max_features=sqrt, min_samples_leaf=4, min_samples_split=10, n_estimators=400; total time=   5.3s\n",
      "[CV] END max_depth=70, max_features=sqrt, min_samples_leaf=4, min_samples_split=10, n_estimators=400; total time=   5.5s\n",
      "[CV] END max_depth=70, max_features=log2, min_samples_leaf=2, min_samples_split=2, n_estimators=200; total time=   2.6s\n",
      "[CV] END max_depth=70, max_features=log2, min_samples_leaf=2, min_samples_split=2, n_estimators=200; total time=   2.5s\n",
      "[CV] END max_depth=70, max_features=log2, min_samples_leaf=2, min_samples_split=2, n_estimators=200; total time=   2.7s\n",
      "[CV] END max_depth=70, max_features=log2, min_samples_leaf=2, min_samples_split=2, n_estimators=200; total time=   2.5s\n",
      "[CV] END max_depth=80, max_features=sqrt, min_samples_leaf=2, min_samples_split=5, n_estimators=1600; total time=  24.1s\n",
      "[CV] END max_depth=80, max_features=sqrt, min_samples_leaf=2, min_samples_split=5, n_estimators=1600; total time=  24.2s\n",
      "[CV] END max_depth=80, max_features=sqrt, min_samples_leaf=2, min_samples_split=5, n_estimators=1600; total time=  24.1s\n",
      "[CV] END max_depth=80, max_features=sqrt, min_samples_leaf=2, min_samples_split=5, n_estimators=1600; total time=  24.6s\n",
      "[CV] END max_depth=80, max_features=sqrt, min_samples_leaf=2, min_samples_split=5, n_estimators=1600; total time=  24.5s\n",
      "[CV] END max_depth=90, max_features=sqrt, min_samples_leaf=4, min_samples_split=10, n_estimators=800; total time=  10.5s\n",
      "[CV] END max_depth=90, max_features=sqrt, min_samples_leaf=4, min_samples_split=10, n_estimators=800; total time=  10.9s\n",
      "[CV] END max_depth=90, max_features=sqrt, min_samples_leaf=4, min_samples_split=10, n_estimators=800; total time=  10.7s\n",
      "[CV] END max_depth=90, max_features=sqrt, min_samples_leaf=4, min_samples_split=10, n_estimators=800; total time=  10.5s\n",
      "[CV] END max_depth=90, max_features=sqrt, min_samples_leaf=4, min_samples_split=10, n_estimators=800; total time=  10.6s\n",
      "[CV] END max_depth=90, max_features=sqrt, min_samples_leaf=4, min_samples_split=5, n_estimators=1600; total time=  21.2s\n",
      "[CV] END max_depth=50, max_features=sqrt, min_samples_leaf=4, min_samples_split=10, n_estimators=2000; total time=  26.1s\n",
      "[CV] END max_depth=50, max_features=sqrt, min_samples_leaf=4, min_samples_split=10, n_estimators=2000; total time=  25.8s\n",
      "[CV] END max_depth=50, max_features=sqrt, min_samples_leaf=4, min_samples_split=10, n_estimators=2000; total time=  26.0s\n",
      "[CV] END max_depth=50, max_features=sqrt, min_samples_leaf=4, min_samples_split=10, n_estimators=2000; total time=  25.8s\n",
      "[CV] END max_depth=50, max_features=sqrt, min_samples_leaf=4, min_samples_split=10, n_estimators=2000; total time=  26.0s\n",
      "[CV] END max_depth=90, max_features=sqrt, min_samples_leaf=4, min_samples_split=5, n_estimators=1600; total time=  21.2s\n",
      "[CV] END max_depth=90, max_features=sqrt, min_samples_leaf=4, min_samples_split=5, n_estimators=1600; total time=  21.0s\n",
      "[CV] END max_depth=100, max_features=sqrt, min_samples_leaf=1, min_samples_split=5, n_estimators=200; total time=   3.2s\n",
      "[CV] END max_depth=100, max_features=sqrt, min_samples_leaf=1, min_samples_split=5, n_estimators=200; total time=   3.0s\n",
      "[CV] END max_depth=100, max_features=sqrt, min_samples_leaf=1, min_samples_split=5, n_estimators=200; total time=   3.1s\n",
      "[CV] END max_depth=100, max_features=sqrt, min_samples_leaf=1, min_samples_split=5, n_estimators=200; total time=   3.2s\n",
      "[CV] END max_depth=100, max_features=sqrt, min_samples_leaf=1, min_samples_split=5, n_estimators=200; total time=   3.3s\n",
      "[CV] END max_depth=90, max_features=sqrt, min_samples_leaf=4, min_samples_split=5, n_estimators=1600; total time=  22.0s\n",
      "[CV] END max_depth=90, max_features=sqrt, min_samples_leaf=4, min_samples_split=5, n_estimators=1600; total time=  21.7s\n",
      "[CV] END max_depth=20, max_features=sqrt, min_samples_leaf=2, min_samples_split=10, n_estimators=400; total time=   5.7s\n",
      "[CV] END max_depth=20, max_features=sqrt, min_samples_leaf=2, min_samples_split=10, n_estimators=400; total time=   5.6s\n",
      "[CV] END max_depth=20, max_features=sqrt, min_samples_leaf=2, min_samples_split=10, n_estimators=400; total time=   5.7s\n",
      "[CV] END max_depth=20, max_features=sqrt, min_samples_leaf=2, min_samples_split=10, n_estimators=400; total time=   5.7s\n",
      "[CV] END max_depth=20, max_features=sqrt, min_samples_leaf=2, min_samples_split=10, n_estimators=400; total time=   5.8s\n",
      "[CV] END max_depth=40, max_features=sqrt, min_samples_leaf=1, min_samples_split=2, n_estimators=1800; total time=  37.4s\n",
      "[CV] END max_depth=40, max_features=log2, min_samples_leaf=4, min_samples_split=2, n_estimators=800; total time=   9.5s\n",
      "[CV] END max_depth=40, max_features=sqrt, min_samples_leaf=1, min_samples_split=2, n_estimators=1800; total time=  37.3s\n",
      "[CV] END max_depth=40, max_features=sqrt, min_samples_leaf=1, min_samples_split=2, n_estimators=1800; total time=  37.5s\n",
      "[CV] END max_depth=40, max_features=sqrt, min_samples_leaf=1, min_samples_split=2, n_estimators=1800; total time=  38.0s\n",
      "[CV] END max_depth=40, max_features=sqrt, min_samples_leaf=1, min_samples_split=2, n_estimators=1800; total time=  37.4s\n",
      "[CV] END max_depth=40, max_features=log2, min_samples_leaf=4, min_samples_split=2, n_estimators=800; total time=   9.1s\n",
      "[CV] END max_depth=40, max_features=log2, min_samples_leaf=4, min_samples_split=2, n_estimators=800; total time=   9.5s\n",
      "[CV] END max_depth=40, max_features=log2, min_samples_leaf=4, min_samples_split=2, n_estimators=800; total time=   9.4s\n",
      "[CV] END max_depth=40, max_features=log2, min_samples_leaf=4, min_samples_split=2, n_estimators=800; total time=   9.0s\n",
      "[CV] END max_depth=80, max_features=log2, min_samples_leaf=4, min_samples_split=10, n_estimators=1200; total time=  13.4s\n",
      "[CV] END max_depth=80, max_features=log2, min_samples_leaf=4, min_samples_split=10, n_estimators=1200; total time=  13.0s\n",
      "[CV] END max_depth=80, max_features=log2, min_samples_leaf=4, min_samples_split=10, n_estimators=1200; total time=  13.0s\n",
      "[CV] END max_depth=80, max_features=log2, min_samples_leaf=4, min_samples_split=10, n_estimators=1200; total time=  13.0s\n",
      "[CV] END max_depth=80, max_features=log2, min_samples_leaf=4, min_samples_split=10, n_estimators=1200; total time=  13.6s\n",
      "[CV] END max_depth=50, max_features=sqrt, min_samples_leaf=4, min_samples_split=2, n_estimators=400; total time=   5.4s\n",
      "[CV] END max_depth=50, max_features=sqrt, min_samples_leaf=4, min_samples_split=2, n_estimators=400; total time=   5.3s\n",
      "[CV] END max_depth=50, max_features=sqrt, min_samples_leaf=4, min_samples_split=2, n_estimators=400; total time=   5.3s\n",
      "[CV] END max_depth=50, max_features=sqrt, min_samples_leaf=4, min_samples_split=2, n_estimators=400; total time=   5.3s\n",
      "[CV] END max_depth=50, max_features=sqrt, min_samples_leaf=4, min_samples_split=2, n_estimators=400; total time=   5.6s\n",
      "[CV] END max_depth=90, max_features=log2, min_samples_leaf=1, min_samples_split=2, n_estimators=1800; total time=  32.6s\n",
      "[CV] END max_depth=20, max_features=log2, min_samples_leaf=2, min_samples_split=2, n_estimators=1200; total time=  16.4s\n",
      "[CV] END max_depth=90, max_features=log2, min_samples_leaf=1, min_samples_split=2, n_estimators=1800; total time=  32.6s\n",
      "[CV] END max_depth=90, max_features=log2, min_samples_leaf=1, min_samples_split=2, n_estimators=1800; total time=  33.0s\n",
      "[CV] END max_depth=20, max_features=log2, min_samples_leaf=2, min_samples_split=2, n_estimators=1200; total time=  16.4s\n",
      "[CV] END max_depth=20, max_features=log2, min_samples_leaf=2, min_samples_split=2, n_estimators=1200; total time=  16.7s\n",
      "[CV] END max_depth=60, max_features=log2, min_samples_leaf=2, min_samples_split=10, n_estimators=200; total time=   2.3s\n",
      "[CV] END max_depth=60, max_features=log2, min_samples_leaf=2, min_samples_split=10, n_estimators=200; total time=   2.4s\n",
      "[CV] END max_depth=60, max_features=log2, min_samples_leaf=2, min_samples_split=10, n_estimators=200; total time=   2.3s\n",
      "[CV] END max_depth=60, max_features=log2, min_samples_leaf=2, min_samples_split=10, n_estimators=200; total time=   2.3s\n",
      "[CV] END max_depth=60, max_features=log2, min_samples_leaf=2, min_samples_split=10, n_estimators=200; total time=   2.3s\n",
      "[CV] END max_depth=90, max_features=log2, min_samples_leaf=1, min_samples_split=2, n_estimators=1800; total time=  33.0s\n",
      "[CV] END max_depth=90, max_features=log2, min_samples_leaf=1, min_samples_split=2, n_estimators=1800; total time=  32.6s\n",
      "[CV] END max_depth=20, max_features=log2, min_samples_leaf=2, min_samples_split=2, n_estimators=1200; total time=  16.6s\n",
      "[CV] END max_depth=20, max_features=log2, min_samples_leaf=2, min_samples_split=2, n_estimators=1200; total time=  16.2s\n",
      "[CV] END max_depth=60, max_features=sqrt, min_samples_leaf=1, min_samples_split=10, n_estimators=1400; total time=  19.4s\n",
      "[CV] END max_depth=60, max_features=sqrt, min_samples_leaf=1, min_samples_split=10, n_estimators=1400; total time=  19.3s\n",
      "[CV] END max_depth=60, max_features=sqrt, min_samples_leaf=1, min_samples_split=10, n_estimators=1400; total time=  19.4s\n",
      "[CV] END max_depth=10, max_features=sqrt, min_samples_leaf=4, min_samples_split=5, n_estimators=200; total time=   2.2s\n",
      "[CV] END max_depth=40, max_features=sqrt, min_samples_leaf=2, min_samples_split=2, n_estimators=2000; total time=  31.5s\n",
      "[CV] END max_depth=40, max_features=sqrt, min_samples_leaf=2, min_samples_split=2, n_estimators=2000; total time=  31.3s\n",
      "[CV] END max_depth=40, max_features=sqrt, min_samples_leaf=2, min_samples_split=2, n_estimators=2000; total time=  31.9s\n",
      "[CV] END max_depth=10, max_features=sqrt, min_samples_leaf=4, min_samples_split=5, n_estimators=200; total time=   2.2s\n",
      "[CV] END max_depth=40, max_features=sqrt, min_samples_leaf=2, min_samples_split=2, n_estimators=2000; total time=  31.7s\n",
      "[CV] END max_depth=40, max_features=sqrt, min_samples_leaf=2, min_samples_split=2, n_estimators=2000; total time=  31.6s\n",
      "[CV] END max_depth=10, max_features=sqrt, min_samples_leaf=4, min_samples_split=5, n_estimators=200; total time=   2.1s\n",
      "[CV] END max_depth=10, max_features=sqrt, min_samples_leaf=4, min_samples_split=5, n_estimators=200; total time=   2.1s\n",
      "[CV] END max_depth=10, max_features=sqrt, min_samples_leaf=4, min_samples_split=5, n_estimators=200; total time=   2.2s\n",
      "[CV] END max_depth=60, max_features=sqrt, min_samples_leaf=1, min_samples_split=10, n_estimators=1400; total time=  20.0s\n",
      "[CV] END max_depth=60, max_features=sqrt, min_samples_leaf=1, min_samples_split=10, n_estimators=1400; total time=  19.6s\n",
      "[CV] END max_depth=10, max_features=log2, min_samples_leaf=2, min_samples_split=2, n_estimators=1800; total time=  16.2s\n",
      "[CV] END max_depth=10, max_features=log2, min_samples_leaf=2, min_samples_split=2, n_estimators=1800; total time=  16.1s\n",
      "[CV] END max_depth=10, max_features=log2, min_samples_leaf=2, min_samples_split=2, n_estimators=1800; total time=  16.0s\n",
      "[CV] END max_depth=10, max_features=log2, min_samples_leaf=2, min_samples_split=2, n_estimators=1800; total time=  16.4s\n",
      "[CV] END max_depth=10, max_features=log2, min_samples_leaf=2, min_samples_split=2, n_estimators=1800; total time=  16.2s\n",
      "[CV] END max_depth=90, max_features=log2, min_samples_leaf=1, min_samples_split=5, n_estimators=1400; total time=  18.8s\n",
      "[CV] END max_depth=None, max_features=log2, min_samples_leaf=2, min_samples_split=10, n_estimators=600; total time=   6.9s\n",
      "[CV] END max_depth=None, max_features=log2, min_samples_leaf=2, min_samples_split=10, n_estimators=600; total time=   6.8s\n",
      "[CV] END max_depth=None, max_features=log2, min_samples_leaf=2, min_samples_split=10, n_estimators=600; total time=   6.8s\n",
      "[CV] END max_depth=None, max_features=log2, min_samples_leaf=2, min_samples_split=10, n_estimators=600; total time=   6.9s\n",
      "[CV] END max_depth=90, max_features=log2, min_samples_leaf=1, min_samples_split=5, n_estimators=1400; total time=  19.0s\n",
      "[CV] END max_depth=70, max_features=log2, min_samples_leaf=2, min_samples_split=5, n_estimators=400; total time=   5.0s\n",
      "[CV] END max_depth=70, max_features=log2, min_samples_leaf=2, min_samples_split=5, n_estimators=400; total time=   5.2s\n",
      "[CV] END max_depth=None, max_features=log2, min_samples_leaf=2, min_samples_split=10, n_estimators=600; total time=   6.8s\n",
      "[CV] END max_depth=90, max_features=log2, min_samples_leaf=1, min_samples_split=5, n_estimators=1400; total time=  19.1s\n",
      "[CV] END max_depth=80, max_features=log2, min_samples_leaf=2, min_samples_split=2, n_estimators=200; total time=   2.7s\n",
      "[CV] END max_depth=70, max_features=log2, min_samples_leaf=2, min_samples_split=5, n_estimators=400; total time=   5.1s\n",
      "[CV] END max_depth=80, max_features=log2, min_samples_leaf=2, min_samples_split=2, n_estimators=200; total time=   2.7s\n",
      "[CV] END max_depth=90, max_features=log2, min_samples_leaf=1, min_samples_split=5, n_estimators=1400; total time=  18.7s\n",
      "[CV] END max_depth=70, max_features=log2, min_samples_leaf=2, min_samples_split=5, n_estimators=400; total time=   5.1s\n",
      "[CV] END max_depth=80, max_features=log2, min_samples_leaf=2, min_samples_split=2, n_estimators=200; total time=   2.6s\n",
      "[CV] END max_depth=90, max_features=log2, min_samples_leaf=1, min_samples_split=5, n_estimators=1400; total time=  18.7s\n",
      "[CV] END max_depth=70, max_features=log2, min_samples_leaf=2, min_samples_split=5, n_estimators=400; total time=   5.4s\n",
      "[CV] END max_depth=80, max_features=log2, min_samples_leaf=2, min_samples_split=2, n_estimators=200; total time=   2.7s\n",
      "[CV] END max_depth=80, max_features=log2, min_samples_leaf=2, min_samples_split=2, n_estimators=200; total time=   2.8s\n",
      "[CV] END max_depth=None, max_features=log2, min_samples_leaf=4, min_samples_split=10, n_estimators=600; total time=   6.8s\n",
      "[CV] END max_depth=None, max_features=log2, min_samples_leaf=4, min_samples_split=10, n_estimators=600; total time=   6.7s\n",
      "[CV] END max_depth=None, max_features=log2, min_samples_leaf=4, min_samples_split=10, n_estimators=600; total time=   6.7s\n",
      "[CV] END max_depth=None, max_features=log2, min_samples_leaf=4, min_samples_split=10, n_estimators=600; total time=   6.6s\n",
      "[CV] END max_depth=None, max_features=log2, min_samples_leaf=4, min_samples_split=10, n_estimators=600; total time=   6.5s\n",
      "[CV] END max_depth=60, max_features=sqrt, min_samples_leaf=2, min_samples_split=2, n_estimators=1400; total time=  22.3s\n",
      "[CV] END max_depth=60, max_features=sqrt, min_samples_leaf=2, min_samples_split=2, n_estimators=1400; total time=  22.2s\n",
      "[CV] END max_depth=60, max_features=sqrt, min_samples_leaf=2, min_samples_split=2, n_estimators=1400; total time=  22.5s\n",
      "[CV] END max_depth=60, max_features=sqrt, min_samples_leaf=2, min_samples_split=2, n_estimators=1400; total time=  22.6s\n",
      "[CV] END max_depth=60, max_features=sqrt, min_samples_leaf=2, min_samples_split=2, n_estimators=1400; total time=  22.8s\n",
      "[CV] END max_depth=80, max_features=sqrt, min_samples_leaf=1, min_samples_split=5, n_estimators=1000; total time=  16.0s\n",
      "[CV] END max_depth=70, max_features=log2, min_samples_leaf=1, min_samples_split=2, n_estimators=200; total time=   3.8s\n",
      "[CV] END max_depth=70, max_features=log2, min_samples_leaf=1, min_samples_split=2, n_estimators=200; total time=   3.8s\n",
      "[CV] END max_depth=70, max_features=log2, min_samples_leaf=1, min_samples_split=2, n_estimators=200; total time=   3.7s\n",
      "[CV] END max_depth=70, max_features=log2, min_samples_leaf=1, min_samples_split=2, n_estimators=200; total time=   3.6s\n",
      "[CV] END max_depth=80, max_features=sqrt, min_samples_leaf=1, min_samples_split=5, n_estimators=1000; total time=  16.2s\n",
      "[CV] END max_depth=70, max_features=log2, min_samples_leaf=1, min_samples_split=2, n_estimators=200; total time=   3.5s\n",
      "[CV] END max_depth=80, max_features=sqrt, min_samples_leaf=1, min_samples_split=5, n_estimators=1000; total time=  16.3s\n",
      "[CV] END max_depth=80, max_features=sqrt, min_samples_leaf=1, min_samples_split=5, n_estimators=1000; total time=  15.7s\n",
      "[CV] END max_depth=80, max_features=sqrt, min_samples_leaf=1, min_samples_split=5, n_estimators=1000; total time=  15.5s\n",
      "[CV] END max_depth=20, max_features=log2, min_samples_leaf=2, min_samples_split=2, n_estimators=1600; total time=  19.0s\n",
      "[CV] END max_depth=20, max_features=log2, min_samples_leaf=2, min_samples_split=2, n_estimators=1600; total time=  18.7s\n",
      "[CV] END max_depth=20, max_features=log2, min_samples_leaf=2, min_samples_split=2, n_estimators=1600; total time=  18.4s\n",
      "[CV] END max_depth=20, max_features=log2, min_samples_leaf=2, min_samples_split=2, n_estimators=1600; total time=  18.1s\n",
      "[CV] END max_depth=20, max_features=log2, min_samples_leaf=2, min_samples_split=2, n_estimators=1600; total time=  17.6s\n"
     ]
    },
    {
     "data": {
      "text/html": [
       "<style>#sk-container-id-6 {color: black;}#sk-container-id-6 pre{padding: 0;}#sk-container-id-6 div.sk-toggleable {background-color: white;}#sk-container-id-6 label.sk-toggleable__label {cursor: pointer;display: block;width: 100%;margin-bottom: 0;padding: 0.3em;box-sizing: border-box;text-align: center;}#sk-container-id-6 label.sk-toggleable__label-arrow:before {content: \"▸\";float: left;margin-right: 0.25em;color: #696969;}#sk-container-id-6 label.sk-toggleable__label-arrow:hover:before {color: black;}#sk-container-id-6 div.sk-estimator:hover label.sk-toggleable__label-arrow:before {color: black;}#sk-container-id-6 div.sk-toggleable__content {max-height: 0;max-width: 0;overflow: hidden;text-align: left;background-color: #f0f8ff;}#sk-container-id-6 div.sk-toggleable__content pre {margin: 0.2em;color: black;border-radius: 0.25em;background-color: #f0f8ff;}#sk-container-id-6 input.sk-toggleable__control:checked~div.sk-toggleable__content {max-height: 200px;max-width: 100%;overflow: auto;}#sk-container-id-6 input.sk-toggleable__control:checked~label.sk-toggleable__label-arrow:before {content: \"▾\";}#sk-container-id-6 div.sk-estimator input.sk-toggleable__control:checked~label.sk-toggleable__label {background-color: #d4ebff;}#sk-container-id-6 div.sk-label input.sk-toggleable__control:checked~label.sk-toggleable__label {background-color: #d4ebff;}#sk-container-id-6 input.sk-hidden--visually {border: 0;clip: rect(1px 1px 1px 1px);clip: rect(1px, 1px, 1px, 1px);height: 1px;margin: -1px;overflow: hidden;padding: 0;position: absolute;width: 1px;}#sk-container-id-6 div.sk-estimator {font-family: monospace;background-color: #f0f8ff;border: 1px dotted black;border-radius: 0.25em;box-sizing: border-box;margin-bottom: 0.5em;}#sk-container-id-6 div.sk-estimator:hover {background-color: #d4ebff;}#sk-container-id-6 div.sk-parallel-item::after {content: \"\";width: 100%;border-bottom: 1px solid gray;flex-grow: 1;}#sk-container-id-6 div.sk-label:hover label.sk-toggleable__label {background-color: #d4ebff;}#sk-container-id-6 div.sk-serial::before {content: \"\";position: absolute;border-left: 1px solid gray;box-sizing: border-box;top: 0;bottom: 0;left: 50%;z-index: 0;}#sk-container-id-6 div.sk-serial {display: flex;flex-direction: column;align-items: center;background-color: white;padding-right: 0.2em;padding-left: 0.2em;position: relative;}#sk-container-id-6 div.sk-item {position: relative;z-index: 1;}#sk-container-id-6 div.sk-parallel {display: flex;align-items: stretch;justify-content: center;background-color: white;position: relative;}#sk-container-id-6 div.sk-item::before, #sk-container-id-6 div.sk-parallel-item::before {content: \"\";position: absolute;border-left: 1px solid gray;box-sizing: border-box;top: 0;bottom: 0;left: 50%;z-index: -1;}#sk-container-id-6 div.sk-parallel-item {display: flex;flex-direction: column;z-index: 1;position: relative;background-color: white;}#sk-container-id-6 div.sk-parallel-item:first-child::after {align-self: flex-end;width: 50%;}#sk-container-id-6 div.sk-parallel-item:last-child::after {align-self: flex-start;width: 50%;}#sk-container-id-6 div.sk-parallel-item:only-child::after {width: 0;}#sk-container-id-6 div.sk-dashed-wrapped {border: 1px dashed gray;margin: 0 0.4em 0.5em 0.4em;box-sizing: border-box;padding-bottom: 0.4em;background-color: white;}#sk-container-id-6 div.sk-label label {font-family: monospace;font-weight: bold;display: inline-block;line-height: 1.2em;}#sk-container-id-6 div.sk-label-container {text-align: center;}#sk-container-id-6 div.sk-container {/* jupyter's `normalize.less` sets `[hidden] { display: none; }` but bootstrap.min.css set `[hidden] { display: none !important; }` so we also need the `!important` here to be able to override the default hidden behavior on the sphinx rendered scikit-learn.org. See: https://github.com/scikit-learn/scikit-learn/issues/21755 */display: inline-block !important;position: relative;}#sk-container-id-6 div.sk-text-repr-fallback {display: none;}</style><div id=\"sk-container-id-6\" class=\"sk-top-container\"><div class=\"sk-text-repr-fallback\"><pre>RandomizedSearchCV(cv=5, estimator=RandomForestRegressor(), n_iter=50,\n",
       "                   n_jobs=-1,\n",
       "                   param_distributions={&#x27;max_depth&#x27;: [10, 20, 30, 40, 50, 60,\n",
       "                                                      70, 80, 90, 100, None],\n",
       "                                        &#x27;max_features&#x27;: [&#x27;sqrt&#x27;, &#x27;log2&#x27;],\n",
       "                                        &#x27;min_samples_leaf&#x27;: [1, 2, 4],\n",
       "                                        &#x27;min_samples_split&#x27;: [2, 5, 10],\n",
       "                                        &#x27;n_estimators&#x27;: [200, 400, 600, 800,\n",
       "                                                         1000, 1200, 1400, 1600,\n",
       "                                                         1800, 2000]},\n",
       "                   random_state=42, verbose=2)</pre><b>In a Jupyter environment, please rerun this cell to show the HTML representation or trust the notebook. <br />On GitHub, the HTML representation is unable to render, please try loading this page with nbviewer.org.</b></div><div class=\"sk-container\" hidden><div class=\"sk-item sk-dashed-wrapped\"><div class=\"sk-label-container\"><div class=\"sk-label sk-toggleable\"><input class=\"sk-toggleable__control sk-hidden--visually\" id=\"sk-estimator-id-12\" type=\"checkbox\" ><label for=\"sk-estimator-id-12\" class=\"sk-toggleable__label sk-toggleable__label-arrow\">RandomizedSearchCV</label><div class=\"sk-toggleable__content\"><pre>RandomizedSearchCV(cv=5, estimator=RandomForestRegressor(), n_iter=50,\n",
       "                   n_jobs=-1,\n",
       "                   param_distributions={&#x27;max_depth&#x27;: [10, 20, 30, 40, 50, 60,\n",
       "                                                      70, 80, 90, 100, None],\n",
       "                                        &#x27;max_features&#x27;: [&#x27;sqrt&#x27;, &#x27;log2&#x27;],\n",
       "                                        &#x27;min_samples_leaf&#x27;: [1, 2, 4],\n",
       "                                        &#x27;min_samples_split&#x27;: [2, 5, 10],\n",
       "                                        &#x27;n_estimators&#x27;: [200, 400, 600, 800,\n",
       "                                                         1000, 1200, 1400, 1600,\n",
       "                                                         1800, 2000]},\n",
       "                   random_state=42, verbose=2)</pre></div></div></div><div class=\"sk-parallel\"><div class=\"sk-parallel-item\"><div class=\"sk-item\"><div class=\"sk-label-container\"><div class=\"sk-label sk-toggleable\"><input class=\"sk-toggleable__control sk-hidden--visually\" id=\"sk-estimator-id-13\" type=\"checkbox\" ><label for=\"sk-estimator-id-13\" class=\"sk-toggleable__label sk-toggleable__label-arrow\">estimator: RandomForestRegressor</label><div class=\"sk-toggleable__content\"><pre>RandomForestRegressor()</pre></div></div></div><div class=\"sk-serial\"><div class=\"sk-item\"><div class=\"sk-estimator sk-toggleable\"><input class=\"sk-toggleable__control sk-hidden--visually\" id=\"sk-estimator-id-14\" type=\"checkbox\" ><label for=\"sk-estimator-id-14\" class=\"sk-toggleable__label sk-toggleable__label-arrow\">RandomForestRegressor</label><div class=\"sk-toggleable__content\"><pre>RandomForestRegressor()</pre></div></div></div></div></div></div></div></div></div></div>"
      ],
      "text/plain": [
       "RandomizedSearchCV(cv=5, estimator=RandomForestRegressor(), n_iter=50,\n",
       "                   n_jobs=-1,\n",
       "                   param_distributions={'max_depth': [10, 20, 30, 40, 50, 60,\n",
       "                                                      70, 80, 90, 100, None],\n",
       "                                        'max_features': ['sqrt', 'log2'],\n",
       "                                        'min_samples_leaf': [1, 2, 4],\n",
       "                                        'min_samples_split': [2, 5, 10],\n",
       "                                        'n_estimators': [200, 400, 600, 800,\n",
       "                                                         1000, 1200, 1400, 1600,\n",
       "                                                         1800, 2000]},\n",
       "                   random_state=42, verbose=2)"
      ]
     },
     "metadata": {},
     "output_type": "display_data"
    }
   ],
   "source": [
    "rf = RandomForestRegressor()\n",
    "rf_random = RandomizedSearchCV(estimator=rf, param_distributions=hyperparameter_grid, n_iter=50, cv=5, verbose=2, random_state=42, n_jobs = -1)\n",
    "rf_random.fit(X_train, Y_train)"
   ]
  },
  {
   "cell_type": "code",
   "execution_count": null,
   "metadata": {},
   "outputs": [
    {
     "data": {
      "text/plain": [
       "{'n_estimators': 1800,\n",
       " 'min_samples_split': 2,\n",
       " 'min_samples_leaf': 1,\n",
       " 'max_features': 'sqrt',\n",
       " 'max_depth': 40}"
      ]
     },
     "metadata": {},
     "output_type": "display_data"
    }
   ],
   "source": [
    "rf_random.best_params_"
   ]
  },
  {
   "cell_type": "code",
   "execution_count": null,
   "metadata": {},
   "outputs": [],
   "source": [
    "best_rf = RandomForestRegressor(**rf_random.best_params_)"
   ]
  },
  {
   "cell_type": "code",
   "execution_count": null,
   "metadata": {},
   "outputs": [],
   "source": [
    "cv = RepeatedKFold(n_splits=5, n_repeats=5)\n",
    "scores = cross_val_score(best_rf, X, Y, cv = cv, scoring='neg_mean_absolute_error')"
   ]
  },
  {
   "cell_type": "code",
   "execution_count": null,
   "metadata": {},
   "outputs": [
    {
     "data": {
      "text/plain": [
       "-3985.506493899842"
      ]
     },
     "metadata": {},
     "output_type": "display_data"
    }
   ],
   "source": [
    "scores.mean()"
   ]
  },
  {
   "cell_type": "code",
   "execution_count": null,
   "metadata": {},
   "outputs": [],
   "source": []
  },
  {
   "cell_type": "code",
   "execution_count": null,
   "metadata": {},
   "outputs": [],
   "source": []
  },
  {
   "cell_type": "code",
   "execution_count": null,
   "metadata": {},
   "outputs": [],
   "source": []
  },
  {
   "cell_type": "code",
   "execution_count": null,
   "metadata": {},
   "outputs": [],
   "source": []
  },
  {
   "cell_type": "markdown",
   "metadata": {},
   "source": [
    "## Gradient boosting model "
   ]
  },
  {
   "cell_type": "code",
   "execution_count": 120,
   "metadata": {},
   "outputs": [
    {
     "ename": "TypeError",
     "evalue": "GradientBoostingRegressor.__init__() got an unexpected keyword argument 'min_child_weight'",
     "output_type": "error",
     "traceback": [
      "\u001b[0;31m---------------------------------------------------------------------------\u001b[0m",
      "\u001b[0;31mTypeError\u001b[0m                                 Traceback (most recent call last)",
      "Cell \u001b[0;32mIn[120], line 2\u001b[0m\n\u001b[1;32m      1\u001b[0m \u001b[39m# Fitting a gradient boosting model \u001b[39;00m\n\u001b[0;32m----> 2\u001b[0m model \u001b[39m=\u001b[39m GradientBoostingRegressor(\u001b[39m*\u001b[39;49m\u001b[39m*\u001b[39;49mrs_model\u001b[39m.\u001b[39;49mbest_params_)\n",
      "\u001b[0;31mTypeError\u001b[0m: GradientBoostingRegressor.__init__() got an unexpected keyword argument 'min_child_weight'"
     ]
    }
   ],
   "source": [
    "# Fitting a gradient boosting model \n",
    "model = GradientBoostingRegressor(**rs_model.best_params_)"
   ]
  },
  {
   "cell_type": "code",
   "execution_count": 112,
   "metadata": {},
   "outputs": [
    {
     "name": "stdout",
     "output_type": "stream",
     "text": [
      "MAE: -2551.385 (69.356)\n"
     ]
    }
   ],
   "source": [
    "# K-fold cross validation \n",
    "cv = RepeatedKFold(n_splits=3, n_repeats=3)\n",
    "n_scores = cross_val_score(model, X, Y, scoring='neg_mean_absolute_error', cv=cv, n_jobs=-1)\n",
    "print('MAE: %.3f (%.3f)' % (mean(n_scores), std(n_scores)))"
   ]
  },
  {
   "cell_type": "code",
   "execution_count": 64,
   "metadata": {},
   "outputs": [],
   "source": [
    "n_estimators = [100, 500, 1000, 1500]\n",
    "max_depth = [3, 5, 10, 15]\n",
    "min_samples_leaf = [2, 4, 6, 10] \n",
    "min_samples_split = [2, 4, 6, 10]\n",
    "max_features = ['auto', 'sqrt']\n",
    "\n",
    "hyperparameter_grid = {\n",
    "    'n_estimators': n_estimators,\n",
    "    'max_depth': max_depth,\n",
    "    'min_samples_leaf': min_samples_leaf,\n",
    "    'min_samples_split': min_samples_split,\n",
    "    'max_features': max_features}"
   ]
  },
  {
   "cell_type": "code",
   "execution_count": 65,
   "metadata": {},
   "outputs": [],
   "source": [
    "random_cv = RandomizedSearchCV(estimator=model,\n",
    "                               param_distributions=hyperparameter_grid,\n",
    "                               cv=4, n_iter=10,\n",
    "                               scoring = 'neg_mean_absolute_error',n_jobs = -1,\n",
    "                               verbose = 2, \n",
    "                               random_state=42)"
   ]
  },
  {
   "cell_type": "code",
   "execution_count": 66,
   "metadata": {},
   "outputs": [
    {
     "name": "stdout",
     "output_type": "stream",
     "text": [
      "Fitting 4 folds for each of 10 candidates, totalling 40 fits\n",
      "[CV] END max_depth=10, max_features=auto, min_samples_leaf=10, min_samples_split=2, n_estimators=100; total time=   0.0s\n",
      "[CV] END max_depth=10, max_features=auto, min_samples_leaf=10, min_samples_split=2, n_estimators=100; total time=   0.0s\n",
      "[CV] END max_depth=10, max_features=auto, min_samples_leaf=10, min_samples_split=2, n_estimators=100; total time=   0.0s\n",
      "[CV] END max_depth=10, max_features=auto, min_samples_leaf=10, min_samples_split=2, n_estimators=100; total time=   0.0s\n",
      "[CV] END max_depth=15, max_features=auto, min_samples_leaf=10, min_samples_split=4, n_estimators=1500; total time=   0.0s\n",
      "[CV] END max_depth=15, max_features=auto, min_samples_leaf=10, min_samples_split=4, n_estimators=1500; total time=   0.0s\n",
      "[CV] END max_depth=15, max_features=auto, min_samples_leaf=10, min_samples_split=4, n_estimators=1500; total time=   0.0s\n",
      "[CV] END max_depth=15, max_features=auto, min_samples_leaf=10, min_samples_split=4, n_estimators=1500; total time=   0.0s\n",
      "[CV] END max_depth=5, max_features=auto, min_samples_leaf=4, min_samples_split=6, n_estimators=500; total time=   0.0s\n",
      "[CV] END max_depth=5, max_features=auto, min_samples_leaf=4, min_samples_split=6, n_estimators=500; total time=   0.0s\n",
      "[CV] END max_depth=5, max_features=auto, min_samples_leaf=4, min_samples_split=6, n_estimators=500; total time=   0.0s\n",
      "[CV] END max_depth=5, max_features=auto, min_samples_leaf=4, min_samples_split=6, n_estimators=500; total time=   0.0s\n",
      "[CV] END max_depth=5, max_features=auto, min_samples_leaf=2, min_samples_split=2, n_estimators=1500; total time=   0.0s\n",
      "[CV] END max_depth=5, max_features=auto, min_samples_leaf=2, min_samples_split=2, n_estimators=1500; total time=   0.0s\n",
      "[CV] END max_depth=5, max_features=auto, min_samples_leaf=2, min_samples_split=2, n_estimators=1500; total time=   0.0s\n",
      "[CV] END max_depth=5, max_features=auto, min_samples_leaf=2, min_samples_split=2, n_estimators=1500; total time=   0.0s\n",
      "[CV] END max_depth=5, max_features=sqrt, min_samples_leaf=2, min_samples_split=10, n_estimators=100; total time=   0.5s[CV] END max_depth=5, max_features=sqrt, min_samples_leaf=2, min_samples_split=10, n_estimators=100; total time=   0.4s\n",
      "\n",
      "[CV] END max_depth=5, max_features=sqrt, min_samples_leaf=2, min_samples_split=10, n_estimators=100; total time=   0.5s\n",
      "[CV] END max_depth=5, max_features=sqrt, min_samples_leaf=2, min_samples_split=10, n_estimators=100; total time=   0.5s\n",
      "[CV] END max_depth=15, max_features=sqrt, min_samples_leaf=10, min_samples_split=2, n_estimators=500; total time=   2.1s\n",
      "[CV] END max_depth=15, max_features=sqrt, min_samples_leaf=10, min_samples_split=2, n_estimators=500; total time=   2.1s\n",
      "[CV] END max_depth=15, max_features=sqrt, min_samples_leaf=10, min_samples_split=2, n_estimators=500; total time=   2.0s\n",
      "[CV] END max_depth=15, max_features=sqrt, min_samples_leaf=10, min_samples_split=2, n_estimators=500; total time=   2.0s\n",
      "[CV] END max_depth=15, max_features=sqrt, min_samples_leaf=10, min_samples_split=6, n_estimators=1000; total time=   4.0s\n",
      "[CV] END max_depth=15, max_features=sqrt, min_samples_leaf=10, min_samples_split=6, n_estimators=1000; total time=   4.1s\n",
      "[CV] END max_depth=15, max_features=sqrt, min_samples_leaf=6, min_samples_split=10, n_estimators=1500; total time=   5.9s\n",
      "[CV] END max_depth=15, max_features=sqrt, min_samples_leaf=6, min_samples_split=10, n_estimators=1500; total time=   5.9s\n",
      "[CV] END max_depth=15, max_features=sqrt, min_samples_leaf=6, min_samples_split=10, n_estimators=1500; total time=   6.1s\n",
      "[CV] END max_depth=15, max_features=sqrt, min_samples_leaf=6, min_samples_split=10, n_estimators=1500; total time=   6.1s\n",
      "[CV] END max_depth=10, max_features=sqrt, min_samples_leaf=2, min_samples_split=4, n_estimators=500; total time=   2.0s\n",
      "[CV] END max_depth=10, max_features=sqrt, min_samples_leaf=2, min_samples_split=4, n_estimators=500; total time=   2.1s\n",
      "[CV] END max_depth=10, max_features=sqrt, min_samples_leaf=2, min_samples_split=4, n_estimators=500; total time=   2.1s\n",
      "[CV] END max_depth=10, max_features=sqrt, min_samples_leaf=2, min_samples_split=4, n_estimators=500; total time=   2.5s\n",
      "[CV] END max_depth=15, max_features=sqrt, min_samples_leaf=10, min_samples_split=6, n_estimators=1000; total time=   4.0s\n",
      "[CV] END max_depth=15, max_features=sqrt, min_samples_leaf=10, min_samples_split=6, n_estimators=1000; total time=   4.1s\n",
      "[CV] END max_depth=5, max_features=sqrt, min_samples_leaf=10, min_samples_split=4, n_estimators=1500; total time=   4.9s\n",
      "[CV] END max_depth=5, max_features=sqrt, min_samples_leaf=10, min_samples_split=4, n_estimators=1500; total time=   5.2s\n",
      "[CV] END max_depth=5, max_features=sqrt, min_samples_leaf=10, min_samples_split=4, n_estimators=1500; total time=   5.2s\n",
      "[CV] END max_depth=5, max_features=sqrt, min_samples_leaf=10, min_samples_split=4, n_estimators=1500; total time=   5.2s\n"
     ]
    },
    {
     "name": "stderr",
     "output_type": "stream",
     "text": [
      "/Users/brianleung/miniconda3/lib/python3.11/site-packages/sklearn/model_selection/_validation.py:425: FitFailedWarning: \n",
      "16 fits failed out of a total of 40.\n",
      "The score on these train-test partitions for these parameters will be set to nan.\n",
      "If these failures are not expected, you can try to debug them by setting error_score='raise'.\n",
      "\n",
      "Below are more details about the failures:\n",
      "--------------------------------------------------------------------------------\n",
      "7 fits failed with the following error:\n",
      "Traceback (most recent call last):\n",
      "  File \"/Users/brianleung/miniconda3/lib/python3.11/site-packages/sklearn/model_selection/_validation.py\", line 732, in _fit_and_score\n",
      "    estimator.fit(X_train, y_train, **fit_params)\n",
      "  File \"/Users/brianleung/miniconda3/lib/python3.11/site-packages/sklearn/base.py\", line 1144, in wrapper\n",
      "    estimator._validate_params()\n",
      "  File \"/Users/brianleung/miniconda3/lib/python3.11/site-packages/sklearn/base.py\", line 637, in _validate_params\n",
      "    validate_parameter_constraints(\n",
      "  File \"/Users/brianleung/miniconda3/lib/python3.11/site-packages/sklearn/utils/_param_validation.py\", line 95, in validate_parameter_constraints\n",
      "    raise InvalidParameterError(\n",
      "sklearn.utils._param_validation.InvalidParameterError: The 'max_features' parameter of GradientBoostingRegressor must be an int in the range [1, inf), a float in the range (0.0, 1.0], a str among {'log2', 'sqrt'} or None. Got 'auto' instead.\n",
      "\n",
      "--------------------------------------------------------------------------------\n",
      "9 fits failed with the following error:\n",
      "Traceback (most recent call last):\n",
      "  File \"/Users/brianleung/miniconda3/lib/python3.11/site-packages/sklearn/model_selection/_validation.py\", line 732, in _fit_and_score\n",
      "    estimator.fit(X_train, y_train, **fit_params)\n",
      "  File \"/Users/brianleung/miniconda3/lib/python3.11/site-packages/sklearn/base.py\", line 1144, in wrapper\n",
      "    estimator._validate_params()\n",
      "  File \"/Users/brianleung/miniconda3/lib/python3.11/site-packages/sklearn/base.py\", line 637, in _validate_params\n",
      "    validate_parameter_constraints(\n",
      "  File \"/Users/brianleung/miniconda3/lib/python3.11/site-packages/sklearn/utils/_param_validation.py\", line 95, in validate_parameter_constraints\n",
      "    raise InvalidParameterError(\n",
      "sklearn.utils._param_validation.InvalidParameterError: The 'max_features' parameter of GradientBoostingRegressor must be an int in the range [1, inf), a float in the range (0.0, 1.0], a str among {'sqrt', 'log2'} or None. Got 'auto' instead.\n",
      "\n",
      "  warnings.warn(some_fits_failed_message, FitFailedWarning)\n",
      "/Users/brianleung/miniconda3/lib/python3.11/site-packages/sklearn/model_selection/_search.py:976: UserWarning: One or more of the test scores are non-finite: [            nan -11645.17106795             nan             nan\n",
      " -13534.66629305             nan -15569.470521   -12347.99566217\n",
      " -13630.58767635 -11506.8389836 ]\n",
      "  warnings.warn(\n"
     ]
    },
    {
     "data": {
      "text/html": [
       "<style>#sk-container-id-2 {color: black;}#sk-container-id-2 pre{padding: 0;}#sk-container-id-2 div.sk-toggleable {background-color: white;}#sk-container-id-2 label.sk-toggleable__label {cursor: pointer;display: block;width: 100%;margin-bottom: 0;padding: 0.3em;box-sizing: border-box;text-align: center;}#sk-container-id-2 label.sk-toggleable__label-arrow:before {content: \"▸\";float: left;margin-right: 0.25em;color: #696969;}#sk-container-id-2 label.sk-toggleable__label-arrow:hover:before {color: black;}#sk-container-id-2 div.sk-estimator:hover label.sk-toggleable__label-arrow:before {color: black;}#sk-container-id-2 div.sk-toggleable__content {max-height: 0;max-width: 0;overflow: hidden;text-align: left;background-color: #f0f8ff;}#sk-container-id-2 div.sk-toggleable__content pre {margin: 0.2em;color: black;border-radius: 0.25em;background-color: #f0f8ff;}#sk-container-id-2 input.sk-toggleable__control:checked~div.sk-toggleable__content {max-height: 200px;max-width: 100%;overflow: auto;}#sk-container-id-2 input.sk-toggleable__control:checked~label.sk-toggleable__label-arrow:before {content: \"▾\";}#sk-container-id-2 div.sk-estimator input.sk-toggleable__control:checked~label.sk-toggleable__label {background-color: #d4ebff;}#sk-container-id-2 div.sk-label input.sk-toggleable__control:checked~label.sk-toggleable__label {background-color: #d4ebff;}#sk-container-id-2 input.sk-hidden--visually {border: 0;clip: rect(1px 1px 1px 1px);clip: rect(1px, 1px, 1px, 1px);height: 1px;margin: -1px;overflow: hidden;padding: 0;position: absolute;width: 1px;}#sk-container-id-2 div.sk-estimator {font-family: monospace;background-color: #f0f8ff;border: 1px dotted black;border-radius: 0.25em;box-sizing: border-box;margin-bottom: 0.5em;}#sk-container-id-2 div.sk-estimator:hover {background-color: #d4ebff;}#sk-container-id-2 div.sk-parallel-item::after {content: \"\";width: 100%;border-bottom: 1px solid gray;flex-grow: 1;}#sk-container-id-2 div.sk-label:hover label.sk-toggleable__label {background-color: #d4ebff;}#sk-container-id-2 div.sk-serial::before {content: \"\";position: absolute;border-left: 1px solid gray;box-sizing: border-box;top: 0;bottom: 0;left: 50%;z-index: 0;}#sk-container-id-2 div.sk-serial {display: flex;flex-direction: column;align-items: center;background-color: white;padding-right: 0.2em;padding-left: 0.2em;position: relative;}#sk-container-id-2 div.sk-item {position: relative;z-index: 1;}#sk-container-id-2 div.sk-parallel {display: flex;align-items: stretch;justify-content: center;background-color: white;position: relative;}#sk-container-id-2 div.sk-item::before, #sk-container-id-2 div.sk-parallel-item::before {content: \"\";position: absolute;border-left: 1px solid gray;box-sizing: border-box;top: 0;bottom: 0;left: 50%;z-index: -1;}#sk-container-id-2 div.sk-parallel-item {display: flex;flex-direction: column;z-index: 1;position: relative;background-color: white;}#sk-container-id-2 div.sk-parallel-item:first-child::after {align-self: flex-end;width: 50%;}#sk-container-id-2 div.sk-parallel-item:last-child::after {align-self: flex-start;width: 50%;}#sk-container-id-2 div.sk-parallel-item:only-child::after {width: 0;}#sk-container-id-2 div.sk-dashed-wrapped {border: 1px dashed gray;margin: 0 0.4em 0.5em 0.4em;box-sizing: border-box;padding-bottom: 0.4em;background-color: white;}#sk-container-id-2 div.sk-label label {font-family: monospace;font-weight: bold;display: inline-block;line-height: 1.2em;}#sk-container-id-2 div.sk-label-container {text-align: center;}#sk-container-id-2 div.sk-container {/* jupyter's `normalize.less` sets `[hidden] { display: none; }` but bootstrap.min.css set `[hidden] { display: none !important; }` so we also need the `!important` here to be able to override the default hidden behavior on the sphinx rendered scikit-learn.org. See: https://github.com/scikit-learn/scikit-learn/issues/21755 */display: inline-block !important;position: relative;}#sk-container-id-2 div.sk-text-repr-fallback {display: none;}</style><div id=\"sk-container-id-2\" class=\"sk-top-container\"><div class=\"sk-text-repr-fallback\"><pre>RandomizedSearchCV(cv=4,\n",
       "                   estimator=GradientBoostingRegressor(max_depth=5,\n",
       "                                                       max_leaf_nodes=3,\n",
       "                                                       n_estimators=1000),\n",
       "                   n_jobs=-1,\n",
       "                   param_distributions={&#x27;max_depth&#x27;: [3, 5, 10, 15],\n",
       "                                        &#x27;max_features&#x27;: [&#x27;auto&#x27;, &#x27;sqrt&#x27;],\n",
       "                                        &#x27;min_samples_leaf&#x27;: [2, 4, 6, 10],\n",
       "                                        &#x27;min_samples_split&#x27;: [2, 4, 6, 10],\n",
       "                                        &#x27;n_estimators&#x27;: [100, 500, 1000, 1500]},\n",
       "                   random_state=42, scoring=&#x27;neg_mean_absolute_error&#x27;,\n",
       "                   verbose=2)</pre><b>In a Jupyter environment, please rerun this cell to show the HTML representation or trust the notebook. <br />On GitHub, the HTML representation is unable to render, please try loading this page with nbviewer.org.</b></div><div class=\"sk-container\" hidden><div class=\"sk-item sk-dashed-wrapped\"><div class=\"sk-label-container\"><div class=\"sk-label sk-toggleable\"><input class=\"sk-toggleable__control sk-hidden--visually\" id=\"sk-estimator-id-2\" type=\"checkbox\" ><label for=\"sk-estimator-id-2\" class=\"sk-toggleable__label sk-toggleable__label-arrow\">RandomizedSearchCV</label><div class=\"sk-toggleable__content\"><pre>RandomizedSearchCV(cv=4,\n",
       "                   estimator=GradientBoostingRegressor(max_depth=5,\n",
       "                                                       max_leaf_nodes=3,\n",
       "                                                       n_estimators=1000),\n",
       "                   n_jobs=-1,\n",
       "                   param_distributions={&#x27;max_depth&#x27;: [3, 5, 10, 15],\n",
       "                                        &#x27;max_features&#x27;: [&#x27;auto&#x27;, &#x27;sqrt&#x27;],\n",
       "                                        &#x27;min_samples_leaf&#x27;: [2, 4, 6, 10],\n",
       "                                        &#x27;min_samples_split&#x27;: [2, 4, 6, 10],\n",
       "                                        &#x27;n_estimators&#x27;: [100, 500, 1000, 1500]},\n",
       "                   random_state=42, scoring=&#x27;neg_mean_absolute_error&#x27;,\n",
       "                   verbose=2)</pre></div></div></div><div class=\"sk-parallel\"><div class=\"sk-parallel-item\"><div class=\"sk-item\"><div class=\"sk-label-container\"><div class=\"sk-label sk-toggleable\"><input class=\"sk-toggleable__control sk-hidden--visually\" id=\"sk-estimator-id-3\" type=\"checkbox\" ><label for=\"sk-estimator-id-3\" class=\"sk-toggleable__label sk-toggleable__label-arrow\">estimator: GradientBoostingRegressor</label><div class=\"sk-toggleable__content\"><pre>GradientBoostingRegressor(max_depth=5, max_leaf_nodes=3, n_estimators=1000)</pre></div></div></div><div class=\"sk-serial\"><div class=\"sk-item\"><div class=\"sk-estimator sk-toggleable\"><input class=\"sk-toggleable__control sk-hidden--visually\" id=\"sk-estimator-id-4\" type=\"checkbox\" ><label for=\"sk-estimator-id-4\" class=\"sk-toggleable__label sk-toggleable__label-arrow\">GradientBoostingRegressor</label><div class=\"sk-toggleable__content\"><pre>GradientBoostingRegressor(max_depth=5, max_leaf_nodes=3, n_estimators=1000)</pre></div></div></div></div></div></div></div></div></div></div>"
      ],
      "text/plain": [
       "RandomizedSearchCV(cv=4,\n",
       "                   estimator=GradientBoostingRegressor(max_depth=5,\n",
       "                                                       max_leaf_nodes=3,\n",
       "                                                       n_estimators=1000),\n",
       "                   n_jobs=-1,\n",
       "                   param_distributions={'max_depth': [3, 5, 10, 15],\n",
       "                                        'max_features': ['auto', 'sqrt'],\n",
       "                                        'min_samples_leaf': [2, 4, 6, 10],\n",
       "                                        'min_samples_split': [2, 4, 6, 10],\n",
       "                                        'n_estimators': [100, 500, 1000, 1500]},\n",
       "                   random_state=42, scoring='neg_mean_absolute_error',\n",
       "                   verbose=2)"
      ]
     },
     "execution_count": 66,
     "metadata": {},
     "output_type": "execute_result"
    }
   ],
   "source": [
    "random_cv.fit(X, Y)"
   ]
  },
  {
   "cell_type": "code",
   "execution_count": 68,
   "metadata": {},
   "outputs": [
    {
     "data": {
      "text/plain": [
       "{'n_estimators': 1500,\n",
       " 'min_samples_split': 4,\n",
       " 'min_samples_leaf': 10,\n",
       " 'max_features': 'sqrt',\n",
       " 'max_depth': 5}"
      ]
     },
     "execution_count": 68,
     "metadata": {},
     "output_type": "execute_result"
    }
   ],
   "source": [
    "random_cv.best_params_"
   ]
  },
  {
   "cell_type": "code",
   "execution_count": 71,
   "metadata": {},
   "outputs": [],
   "source": [
    "best_model = GradientBoostingRegressor(n_estimators= 1500,\n",
    "                                       min_samples_split= 4,\n",
    "                                       min_samples_leaf= 10,\n",
    "                                       max_features='sqrt',\n",
    "                                       max_depth=5)\n",
    "\n",
    "score=cross_val_score(best_model,X,Y,cv=3, scoring='neg_mean_absolute_error')"
   ]
  },
  {
   "cell_type": "code",
   "execution_count": 72,
   "metadata": {},
   "outputs": [
    {
     "data": {
      "text/plain": [
       "array([-8792.47329762, -8229.639407  , -9513.83353661])"
      ]
     },
     "execution_count": 72,
     "metadata": {},
     "output_type": "execute_result"
    }
   ],
   "source": [
    "score"
   ]
  },
  {
   "cell_type": "markdown",
   "metadata": {},
   "source": [
    "## Grid search for hyper-parameters"
   ]
  },
  {
   "cell_type": "code",
   "execution_count": 509,
   "metadata": {},
   "outputs": [
    {
     "name": "stderr",
     "output_type": "stream",
     "text": [
      "This version of python seems to be incorrectly compiled\n",
      "(internal generated filenames are not absolute).\n",
      "This may make the debugger miss breakpoints.\n",
      "Related bug: http://bugs.python.org/issue1666807\n",
      "This version of python seems to be incorrectly compiled\n",
      "(internal generated filenames are not absolute).\n",
      "This may make the debugger miss breakpoints.\n",
      "Related bug: http://bugs.python.org/issue1666807\n",
      "This version of python seems to be incorrectly compiled\n",
      "(internal generated filenames are not absolute).\n",
      "This may make the debugger miss breakpoints.\n",
      "Related bug: http://bugs.python.org/issue1666807\n",
      "This version of python seems to be incorrectly compiled\n",
      "(internal generated filenames are not absolute).\n",
      "This may make the debugger miss breakpoints.\n",
      "Related bug: http://bugs.python.org/issue1666807\n",
      "This version of python seems to be incorrectly compiled\n",
      "(internal generated filenames are not absolute).\n",
      "This may make the debugger miss breakpoints.\n",
      "Related bug: http://bugs.python.org/issue1666807\n",
      "This version of python seems to be incorrectly compiled\n",
      "(internal generated filenames are not absolute).\n",
      "This may make the debugger miss breakpoints.\n",
      "Related bug: http://bugs.python.org/issue1666807\n",
      "This version of python seems to be incorrectly compiled\n",
      "(internal generated filenames are not absolute).\n",
      "This may make the debugger miss breakpoints.\n",
      "Related bug: http://bugs.python.org/issue1666807\n",
      "This version of python seems to be incorrectly compiled\n",
      "(internal generated filenames are not absolute).\n",
      "This may make the debugger miss breakpoints.\n",
      "Related bug: http://bugs.python.org/issue1666807\n"
     ]
    }
   ],
   "source": [
    "from numpy import mean\n",
    "from numpy import std\n",
    "from sklearn.model_selection import RepeatedKFold\n",
    "from sklearn.model_selection import cross_val_score\n",
    "from sklearn.model_selection import RepeatedStratifiedKFold\n",
    "from sklearn.ensemble import GradientBoostingRegressor\n",
    "from sklearn.model_selection import GridSearchCV\n",
    "from matplotlib import pyplot\n",
    "\n",
    "model = GradientBoostingRegressor()\n",
    "# define the grid of values to search\n",
    "grid = dict()\n",
    "grid['n_estimators'] = [100, 250, 500, 1000]\n",
    "grid['learning_rate'] = [0.01, 0.1, 0.5, 1]\n",
    "grid['subsample'] = [0.5, 0.7, 1.0]\n",
    "grid['max_depth'] = [3, 7, 9]\n",
    "\n",
    "# define the evaluation procedure\n",
    "cv = RepeatedKFold(n_splits=5, n_repeats=10, random_state=1)\n",
    "# define the grid search procedure\n",
    "grid_search = GridSearchCV(estimator=model, param_grid=grid, n_jobs=-1, cv=cv, scoring='neg_mean_absolute_error')\n",
    "# execute the grid search\n",
    "grid_result = grid_search.fit(X, Y)\n",
    "# summarize the best score and configuration\n",
    "print(\"Best: %f using %s\" % (grid_result.best_score_, grid_result.best_params_))\n",
    "# summarize all scores that were evaluated\n",
    "means = grid_result.cv_results_['mean_test_score']\n",
    "stds = grid_result.cv_results_['std_test_score']\n",
    "params = grid_result.cv_results_['params']\n",
    "for mean, stdev, param in zip(means, stds, params):\n",
    "    print(\"%f (%f) with: %r\" % (mean, stdev, param))"
   ]
  },
  {
   "cell_type": "code",
   "execution_count": null,
   "metadata": {},
   "outputs": [],
   "source": []
  }
 ],
 "metadata": {
  "kernelspec": {
   "display_name": "base",
   "language": "python",
   "name": "python3"
  },
  "language_info": {
   "codemirror_mode": {
    "name": "ipython",
    "version": 3
   },
   "file_extension": ".py",
   "mimetype": "text/x-python",
   "name": "python",
   "nbconvert_exporter": "python",
   "pygments_lexer": "ipython3",
   "version": "3.11.4"
  },
  "orig_nbformat": 4
 },
 "nbformat": 4,
 "nbformat_minor": 2
}
