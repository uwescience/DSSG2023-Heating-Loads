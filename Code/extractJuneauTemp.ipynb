{
 "cells": [
  {
   "cell_type": "code",
   "execution_count": 1,
   "id": "908d1442",
   "metadata": {},
   "outputs": [],
   "source": [
    "import numpy as np\n",
    "import re\n",
    "import pandas as pd\n",
    "import geopandas as gpd\n",
    "import gdown\n",
    "import ee\n",
    "import google\n",
    "import os\n",
    "import geemap\n",
    "\n",
    "from tobler.util import h3fy\n",
    "from ee_jupyter.ipyleaflet import Map"
   ]
  },
  {
   "cell_type": "code",
   "execution_count": 2,
   "id": "65677962",
   "metadata": {},
   "outputs": [],
   "source": [
    "import warnings\n",
    "warnings.filterwarnings('ignore')"
   ]
  },
  {
   "cell_type": "code",
   "execution_count": 3,
   "id": "c2ed10f0",
   "metadata": {},
   "outputs": [
    {
     "data": {
      "text/html": [
       "<p>To authorize access needed by Earth Engine, open the following\n",
       "        URL in a web browser and follow the instructions:</p>\n",
       "        <p><a href=https://code.earthengine.google.com/client-auth?scopes=https%3A//www.googleapis.com/auth/earthengine%20https%3A//www.googleapis.com/auth/devstorage.full_control&request_id=k5ByMdxfekF1PyftWjTax7wQbFZ9YfvFrfOsSLWnCXY&tc=8JfosSZZ_X9DgezJhUbWdE4XvKXtzGrL5f4AX7Srxj4&cc=RGM6HL-IrdyJcnLc9N71aSAWTwm7t7XimB8l1yBgI3Y>https://code.earthengine.google.com/client-auth?scopes=https%3A//www.googleapis.com/auth/earthengine%20https%3A//www.googleapis.com/auth/devstorage.full_control&request_id=k5ByMdxfekF1PyftWjTax7wQbFZ9YfvFrfOsSLWnCXY&tc=8JfosSZZ_X9DgezJhUbWdE4XvKXtzGrL5f4AX7Srxj4&cc=RGM6HL-IrdyJcnLc9N71aSAWTwm7t7XimB8l1yBgI3Y</a></p>\n",
       "        <p>The authorization workflow will generate a code, which you should paste in the box below.</p>\n",
       "        "
      ],
      "text/plain": [
       "<IPython.core.display.HTML object>"
      ]
     },
     "metadata": {},
     "output_type": "display_data"
    },
    {
     "name": "stdout",
     "output_type": "stream",
     "text": [
      "Enter verification code: 4/1Adeu5BX3Wosqc0q9MpigKESYiyn53Y8qVpSLbl-JQj7SgHfQiJpjr3Ho81U\n",
      "\n",
      "Successfully saved authorization token.\n"
     ]
    }
   ],
   "source": [
    "ee.Authenticate()\n",
    "ee.Initialize()"
   ]
  },
  {
   "cell_type": "code",
   "execution_count": null,
   "id": "6d4d3989",
   "metadata": {},
   "outputs": [],
   "source": [
    "CGAZ_ADM1 = ee.FeatureCollection('projects/earthengine-legacy/assets/projects/sat-io/open-datasets/geoboundaries/CGAZ_ADM1')\n",
    "\n",
    "# Filter Comprehensive Global Administrative Zones ADM1 for AK\n",
    "ak = CGAZ_ADM1.filter(ee.Filter.eq('shapeISO', 'US-AK'))\n",
    "# Convert the feature collection to a geometry.\n",
    "akGeometry = ak.geometry()\n",
    "# Get the bounding box of the geometry.\n",
    "akBounds = akGeometry.bounds()\n",
    "\n",
    "# same process for Juneau\n",
    "juneau = ee.FeatureCollection(\"TIGER/2018/Counties\").filter(ee.Filter.eq('COUNTYFP', '110')).filter(ee.Filter.eq('STATEFP', '02'))\n",
    "juneauGeometry = juneau.geometry()\n",
    "juneauBounds = juneauGeometry.bounds()"
   ]
  },
  {
   "cell_type": "code",
   "execution_count": 216,
   "id": "d7467cdc",
   "metadata": {},
   "outputs": [],
   "source": [
    "temp = ee.ImageCollection(\"ECMWF/ERA5_LAND/HOURLY\").filterDate('2010-01-01', '2019-12-31').select('temperature_2m').map(lambda image: image.clip(juneauGeometry))"
   ]
  },
  {
   "cell_type": "code",
   "execution_count": 80,
   "id": "bc846fb1",
   "metadata": {},
   "outputs": [
    {
     "data": {
      "text/plain": [
       "{'type': 'Image',\n",
       " 'bands': [{'id': 'temperature_2m',\n",
       "   'data_type': {'type': 'PixelType', 'precision': 'double'},\n",
       "   'dimensions': [3601, 1801],\n",
       "   'crs': 'EPSG:4326',\n",
       "   'crs_transform': [0.1, 0, -180.05, 0, -0.1, 90.05]}],\n",
       " 'version': 1680765300915096,\n",
       " 'id': 'ECMWF/ERA5_LAND/HOURLY/20100101T00',\n",
       " 'properties': {'system:time_start': 1262304000000,\n",
       "  'hour': 0,\n",
       "  'system:footprint': {'type': 'LinearRing',\n",
       "   'coordinates': [[-180, -90],\n",
       "    [180, -90],\n",
       "    [180, 90],\n",
       "    [-180, 90],\n",
       "    [-180, -90]]},\n",
       "  'system:time_end': 1262307600000,\n",
       "  'system:asset_size': 395595778,\n",
       "  'system:index': '20100101T00'}}"
      ]
     },
     "execution_count": 80,
     "metadata": {},
     "output_type": "execute_result"
    }
   ],
   "source": [
    "temp.first().getInfo()"
   ]
  },
  {
   "cell_type": "code",
   "execution_count": 228,
   "id": "57378068",
   "metadata": {},
   "outputs": [
    {
     "name": "stdout",
     "output_type": "stream",
     "text": [
      "<class 'ee.imagecollection.ImageCollection'>\n"
     ]
    },
    {
     "data": {
      "text/plain": [
       "ee.image.Image"
      ]
     },
     "execution_count": 228,
     "metadata": {},
     "output_type": "execute_result"
    }
   ],
   "source": [
    "def temporalReduction(temp):\n",
    "    # create a list for every day-hour combo\n",
    "    dates = []\n",
    "    for d in range(0, 365):\n",
    "        for h in range(0, 24):\n",
    "            dates.append((d, h))\n",
    "    \n",
    "    # empty list to store the 10 year average images\n",
    "    collection = []\n",
    "    # calculate averages for every day-hour combo\n",
    "    for day, hour in dates:\n",
    "        average = temp.filter(ee.Filter.dayOfYear(day, day)).filter(ee.Filter.eq('hour', hour)).mean()\n",
    "        collection.append(average)\n",
    "        \n",
    "    return ee.ImageCollection(collection)\n",
    "\n",
    "temp_10year_average = temporalReduction(temp)\n",
    "type(temp_10year_average), type(temp_10year_average.first())"
   ]
  },
  {
   "cell_type": "code",
   "execution_count": 218,
   "id": "cea49bb9",
   "metadata": {},
   "outputs": [],
   "source": [
    "# one_hour = temp.filter(ee.Filter.dayOfYear(2, 2)).filter(ee.Filter.eq('hour', 2)).mean()"
   ]
  },
  {
   "cell_type": "code",
   "execution_count": 229,
   "id": "aed6be76",
   "metadata": {},
   "outputs": [],
   "source": [
    "# map1 = Map(center=[134.4201, 58.3005], zoom=10)\n",
    "\n",
    "# map1.addLayer(one_hour, {}) #, {'min': 230, 'max': 250, 'palette': ['grey', 'blue']})\n",
    "\n",
    "# map1"
   ]
  },
  {
   "cell_type": "code",
   "execution_count": 139,
   "id": "d8eefd5e",
   "metadata": {},
   "outputs": [],
   "source": [
    "buildings = ee.FeatureCollection('projects/sat-io/open-datasets/ORNL/USA-STRUCTURES/USA_ST_AK')\n",
    "\n",
    "image = ee.Image(temp_10year_average.first())\n",
    "\n",
    "buildingsRaster = ee.Image().byte().paint(featureCollection = buildings, color = 1)\n",
    "# Get information about the ERA5-Land projection.\n",
    "imageProjection = image.projection()\n",
    "\n",
    "# Force the next reprojection to aggregate instead of resampling.\n",
    "# The reduce resolution returns the fraction of the ERA-5 Land pixel\n",
    "# that's covered by 30 meter forest pixels.  Convert to area\n",
    "# after the reduceResolution() call.\n",
    "# Request the data at the scale and projection of the ERA-5 Land image.\n",
    "\n",
    "buildingsRaster = buildingsRaster.setDefaultProjection('EPSG:4326')\n",
    "\n",
    "imageBuildings = buildingsRaster.gt(0).reduceResolution(reducer = ee.Reducer.mean(),maxPixels = 1024) \\\n",
    "    .multiply(ee.Image.pixelArea()).reproject(crs = imageProjection)\n",
    "\n",
    "# Import ERA-5 Land, any date will do\n",
    "dataset = ee.ImageCollection('ECMWF/ERA5_LAND/HOURLY').filter(ee.Filter.date('2020-07-01', '2020-07-02'));\n",
    "\n",
    "# Get single image composite over AK, have to reproject because\n",
    "# mosiacs do not have default projection\n",
    "image = dataset.max().clip(juneauGeometry).select('temperature_2m').reproject('EPSG:4326', None, 11132)\n",
    "\n",
    "# Rasterize buildings\n",
    "buildingsRaster = ee.Image().byte().paint(featureCollection = buildings, color = 1)\n",
    "\n",
    "# Get coverage of buildings per ERA-5 Pixel\n",
    "\n",
    "#  Force the next reprojection to aggregate instead of resampling.\n",
    "#  The reduce resolution returns the fraction of the ERA-5 Land pixel\n",
    "#  that's covered by 100 meter building pixels.  Convert to area\n",
    "#  after the reduceResolution() call.\n",
    "#  Request the data at the scale and projection of the ERA-5 Land image.\n",
    "imageBuildings = buildingsRaster.unmask(0).setDefaultProjection('EPSG:4326', None, 100).reduceResolution(\n",
    "      reducer = ee.Reducer.mean(), maxPixels = 12393).multiply(ee.Image.pixelArea()).reproject('EPSG:4326', None, 11132)\n"
   ]
  },
  {
   "cell_type": "code",
   "execution_count": 140,
   "id": "4b600d86",
   "metadata": {},
   "outputs": [
    {
     "data": {
      "text/plain": [
       "ee.image.Image"
      ]
     },
     "execution_count": 140,
     "metadata": {},
     "output_type": "execute_result"
    }
   ],
   "source": [
    "type(imageBuildings)"
   ]
  },
  {
   "cell_type": "code",
   "execution_count": 141,
   "id": "97a463f6",
   "metadata": {},
   "outputs": [],
   "source": [
    "centroids = imageBuildings.gt(0).sample(\n",
    "  region = akGeometry,\n",
    "  geometries =  True);"
   ]
  },
  {
   "cell_type": "markdown",
   "id": "58e14031",
   "metadata": {},
   "source": [
    "Notes from convo with Erin:\n",
    "\n",
    "join centroids (small blocks) or imageBuildings mask (larger blocks)\n",
    "\n",
    "updateMask() function mapped on 10year average, then unmask 0, then spatially reduce"
   ]
  },
  {
   "cell_type": "code",
   "execution_count": 232,
   "id": "ed386702",
   "metadata": {},
   "outputs": [],
   "source": [
    "def maskTemp(image):\n",
    "    return image.updateMask(imageBuildings).unmask(0)\n",
    "\n",
    "temp_10year_average_masked = temp_10year_average.map(maskTemp)"
   ]
  },
  {
   "cell_type": "code",
   "execution_count": 237,
   "id": "d5d4ff94",
   "metadata": {},
   "outputs": [
    {
     "data": {
      "text/plain": [
       "(ee.imagecollection.ImageCollection, ee.image.Image)"
      ]
     },
     "execution_count": 237,
     "metadata": {},
     "output_type": "execute_result"
    }
   ],
   "source": [
    "type(temp_10year_average_masked), type(temp_10year_average_masked.first())"
   ]
  },
  {
   "cell_type": "code",
   "execution_count": 235,
   "id": "7c777d0e",
   "metadata": {},
   "outputs": [],
   "source": [
    "# the below will get memory errors which seems wrong...\n",
    "\n",
    "# map1 = Map(center=[134.4201, 58.3005], zoom=4)\n",
    "\n",
    "# map1.addLayer(temp_10year_average_masked.first(), {}) \n",
    "\n",
    "# map1"
   ]
  },
  {
   "cell_type": "code",
   "execution_count": 149,
   "id": "d9c255c0",
   "metadata": {},
   "outputs": [],
   "source": [
    "blocks = gpd.read_file('../DSSG2023-Heating-Loads-Data/shapefiles/Blocks2020/Blocks2020.shp')\n",
    "blocks = blocks[['NAME', 'STATE', 'BOROUGH', 'TRACT', 'BLOCK', 'FIPS', 'TOTALPOP', 'HOUSEUNITS', 'geometry']]\n",
    "juneauBlocks = blocks[(blocks['BOROUGH'] == '110') & (blocks['TOTALPOP'] > 0)]\n",
    "juneauBlocksFC = geemap.geopandas_to_ee(juneauBlocks)"
   ]
  },
  {
   "cell_type": "code",
   "execution_count": 150,
   "id": "11d92bd4",
   "metadata": {},
   "outputs": [
    {
     "data": {
      "text/plain": [
       "380"
      ]
     },
     "execution_count": 150,
     "metadata": {},
     "output_type": "execute_result"
    }
   ],
   "source": [
    "juneauBlocksFC.size().getInfo()"
   ]
  },
  {
   "cell_type": "code",
   "execution_count": 151,
   "id": "7b68e399",
   "metadata": {},
   "outputs": [
    {
     "data": {
      "text/plain": [
       "(1055.8870653038284, 27503.41284678245, 2220401169.367476)"
      ]
     },
     "execution_count": 151,
     "metadata": {},
     "output_type": "execute_result"
    }
   ],
   "source": [
    "areas = juneauBlocks['geometry'].area\n",
    "areas.min(), areas.median(), areas.max()"
   ]
  },
  {
   "cell_type": "code",
   "execution_count": 238,
   "id": "a4521e6e",
   "metadata": {},
   "outputs": [],
   "source": [
    "# spatial reduction according to juneauBlocksFC\n",
    "\n",
    "def reduce_to_region(image):\n",
    "    reduced_image = image.reduceRegions(collection=juneauBlocksFC, reducer=ee.Reducer.mean(), scale=1000)\n",
    "    #reduced_image = reduced_image.set('date', image.get('julian_date'))\n",
    "    return reduced_image\n",
    "\n",
    "export = temp_10year_average_masked.map(reduce_to_region)"
   ]
  },
  {
   "cell_type": "code",
   "execution_count": 239,
   "id": "7d436cd8",
   "metadata": {},
   "outputs": [
    {
     "data": {
      "text/plain": [
       "(ee.imagecollection.ImageCollection, ee.image.Image)"
      ]
     },
     "execution_count": 239,
     "metadata": {},
     "output_type": "execute_result"
    }
   ],
   "source": [
    "type(export), type(export.first())"
   ]
  },
  {
   "cell_type": "code",
   "execution_count": 240,
   "id": "78a3b9d8",
   "metadata": {},
   "outputs": [],
   "source": [
    "export1 = export.first()"
   ]
  },
  {
   "cell_type": "code",
   "execution_count": 242,
   "id": "cb385dfb",
   "metadata": {},
   "outputs": [],
   "source": [
    "task = ee.batch.Export.table.toDrive(**{\n",
    "  'collection': export1,\n",
    "  'description': 'juneau block export for one block',\n",
    "  'folder': 'EarthEngine',\n",
    "  #'selectors': ['BLOCK','FIPS', 'date', 'mean', 'temperature_2m'], \n",
    "  'fileFormat': 'CSV'\n",
    "})\n",
    "task.start()"
   ]
  },
  {
   "cell_type": "code",
   "execution_count": 245,
   "id": "4fb43f24",
   "metadata": {},
   "outputs": [],
   "source": [
    "task = ee.batch.Export.table.toDrive(**{\n",
    "  'collection': export,\n",
    "  'description': 'juneau block export try 1',\n",
    "  'folder': 'EarthEngine',\n",
    "  #'selectors': ['BLOCK','FIPS', 'date', 'mean', 'temperature_2m'], \n",
    "  'fileFormat': 'CSV'\n",
    "})\n",
    "task.start()"
   ]
  },
  {
   "cell_type": "code",
   "execution_count": null,
   "id": "9ca4aab0",
   "metadata": {},
   "outputs": [],
   "source": []
  },
  {
   "cell_type": "code",
   "execution_count": null,
   "id": "f23b3e27",
   "metadata": {},
   "outputs": [],
   "source": []
  }
 ],
 "metadata": {
  "kernelspec": {
   "display_name": "Python 3 (ipykernel)",
   "language": "python",
   "name": "python3"
  },
  "language_info": {
   "codemirror_mode": {
    "name": "ipython",
    "version": 3
   },
   "file_extension": ".py",
   "mimetype": "text/x-python",
   "name": "python",
   "nbconvert_exporter": "python",
   "pygments_lexer": "ipython3",
   "version": "3.10.8"
  }
 },
 "nbformat": 4,
 "nbformat_minor": 5
}
