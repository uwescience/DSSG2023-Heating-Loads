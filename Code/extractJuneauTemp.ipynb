{
 "cells": [
  {
   "cell_type": "code",
   "execution_count": 1,
   "id": "b036b740",
   "metadata": {},
   "outputs": [],
   "source": [
    "import numpy as np\n",
    "import pandas as pd\n",
    "import geopandas as gpd\n",
    "import gdown\n",
    "import ee\n",
    "import google\n",
    "import os\n",
    "import geemap\n",
    "\n",
    "from tobler.util import h3fy\n",
    "from ee_jupyter.ipyleaflet import Map"
   ]
  },
  {
   "cell_type": "code",
   "execution_count": 2,
   "id": "7439c471",
   "metadata": {},
   "outputs": [],
   "source": [
    "import warnings\n",
    "warnings.filterwarnings('ignore')"
   ]
  },
  {
   "cell_type": "code",
   "execution_count": 3,
   "id": "5933f151",
   "metadata": {},
   "outputs": [
    {
     "data": {
      "text/html": [
       "<p>To authorize access needed by Earth Engine, open the following\n",
       "        URL in a web browser and follow the instructions:</p>\n",
       "        <p><a href=https://code.earthengine.google.com/client-auth?scopes=https%3A//www.googleapis.com/auth/earthengine%20https%3A//www.googleapis.com/auth/devstorage.full_control&request_id=eouXUtPDO0oFQgjwsXlFgIGf09ttFJX9gYHrMDeDba0&tc=vE7omqSQ6_4ja4TbjecEhR_kvrSZW5bz2hPI4r4Nljg&cc=_jK9IDt3ISJnD-odn_Wvn2v2ehlbNqDOVUj_M2X9myA>https://code.earthengine.google.com/client-auth?scopes=https%3A//www.googleapis.com/auth/earthengine%20https%3A//www.googleapis.com/auth/devstorage.full_control&request_id=eouXUtPDO0oFQgjwsXlFgIGf09ttFJX9gYHrMDeDba0&tc=vE7omqSQ6_4ja4TbjecEhR_kvrSZW5bz2hPI4r4Nljg&cc=_jK9IDt3ISJnD-odn_Wvn2v2ehlbNqDOVUj_M2X9myA</a></p>\n",
       "        <p>The authorization workflow will generate a code, which you should paste in the box below.</p>\n",
       "        "
      ],
      "text/plain": [
       "<IPython.core.display.HTML object>"
      ]
     },
     "metadata": {},
     "output_type": "display_data"
    },
    {
     "name": "stdout",
     "output_type": "stream",
     "text": [
      "Enter verification code: 4/1Adeu5BXT4R5NZOOb6lEQPRdFqffFZ0sg3dZ6vtUp3rSbhLO6rZQBJX5Ms3w\n",
      "\n",
      "Successfully saved authorization token.\n"
     ]
    }
   ],
   "source": [
    "ee.Authenticate()\n",
    "ee.Initialize()"
   ]
  },
  {
   "cell_type": "markdown",
   "id": "5b5587b1",
   "metadata": {},
   "source": [
    "Code from Erin Aug 14:"
   ]
  },
  {
   "cell_type": "code",
   "execution_count": 7,
   "id": "06c07934",
   "metadata": {},
   "outputs": [
    {
     "data": {
      "text/plain": [
       "(8760, [0, 1])"
      ]
     },
     "execution_count": 7,
     "metadata": {},
     "output_type": "execute_result"
    }
   ],
   "source": [
    "list1 = ee.List.sequence(0, 364, 1);\n",
    "list2 = ee.List.sequence(0,23,1);\n",
    "\n",
    "def outer(e1, acc):\n",
    "    pairs = list2.map(lambda e2: [e1, e2])\n",
    "    return ee.List(acc).cat(pairs)\n",
    "\n",
    "combinations = ee.List(\n",
    "  list1.iterate(outer, ee.List([])))\n",
    "combinations.size().getInfo(), combinations.get(1).getInfo()"
   ]
  },
  {
   "cell_type": "code",
   "execution_count": 9,
   "id": "24342e88",
   "metadata": {},
   "outputs": [],
   "source": [
    "# // Define a function to apply on each combination\n",
    "def getMeanHourlyPerDay(pair):\n",
    "#     // Cast pairList to an Earth Engine List\n",
    "    pairList = ee.List(pair);\n",
    "#     // Extract e1 and e2\n",
    "    day = pairList.get(0); \n",
    "    hour = pairList.get(1); \n",
    "    \n",
    "#     // Your desired operation using e1 and e2\n",
    "#     // Here's a simple example that just multiplies e1 and e2\n",
    "    return tempClip.filter(ee.Filter.dayOfYear(day, day)).filter(ee.Filter.eq('hour', hour)).mean();"
   ]
  },
  {
   "cell_type": "code",
   "execution_count": 10,
   "id": "978644e7",
   "metadata": {},
   "outputs": [],
   "source": [
    "# EXTRACT Juneau and temperature\n",
    "juneau = ee.FeatureCollection(\"TIGER/2018/Counties\").filter(ee.Filter.eq('COUNTYFP', '110')).filter(ee.Filter.eq('STATEFP', '02'))\n",
    "juneauGeometry = juneau.geometry()\n",
    "juneauBounds = juneauGeometry.bounds()\n",
    "\n",
    "temp = ee.ImageCollection(\"ECMWF/ERA5_LAND/HOURLY\").filterDate('2010-01-01', '2019-12-31').select('temperature_2m')\n",
    "\n",
    "tempClip = temp.map(lambda image: image.clip(juneauBounds))\n",
    "\n",
    "# // Map your function over the combinations\n",
    "results = combinations.map(getMeanHourlyPerDay);\n",
    "\n",
    "resultsCollection = ee.ImageCollection.fromImages(results)\n",
    "# print(resultsCollection);"
   ]
  },
  {
   "cell_type": "code",
   "execution_count": 11,
   "id": "0ac4e1b0",
   "metadata": {},
   "outputs": [],
   "source": [
    "task = ee.batch.Export.table.toDrive(**{\n",
    "  'collection': resultsCollection,\n",
    "  'description': 'juneau temp 10 year averages not blocks from erin',\n",
    "  'folder': 'EarthEngine',\n",
    "  #'selectors': ['BLOCK','FIPS', 'date', 'mean', 'temperature_2m'], \n",
    "  'fileFormat': 'CSV'\n",
    "})\n",
    "task.start()"
   ]
  },
  {
   "cell_type": "code",
   "execution_count": 20,
   "id": "6e83aa08",
   "metadata": {},
   "outputs": [
    {
     "data": {
      "text/plain": [
       "True"
      ]
     },
     "execution_count": 20,
     "metadata": {},
     "output_type": "execute_result"
    }
   ],
   "source": [
    "os.path.exists('../DSSG2023-Heating-Loads-Data/shapefiles/Blocks2020/Blocks2020.shp')"
   ]
  },
  {
   "cell_type": "code",
   "execution_count": 21,
   "id": "df3be5de",
   "metadata": {},
   "outputs": [],
   "source": [
    "blocks = gpd.read_file('../DSSG2023-Heating-Loads-Data/shapefiles/Blocks2020/Blocks2020.shp')\n",
    "blocks = blocks[['NAME', 'STATE', 'BOROUGH', 'TRACT', 'BLOCK', 'FIPS', 'TOTALPOP', 'HOUSEUNITS', 'geometry']]\n",
    "juneauBlocks = blocks[(blocks['BOROUGH'] == '110') & (blocks['TOTALPOP'] > 0)]\n",
    "juneauBlocksFC = geemap.geopandas_to_ee(juneauBlocks)"
   ]
  },
  {
   "cell_type": "code",
   "execution_count": 22,
   "id": "2669901b",
   "metadata": {},
   "outputs": [],
   "source": [
    "def reduce_to_region(image):\n",
    "    reduced_image = image.reduceRegions(collection=juneauBlocksFC, reducer=ee.Reducer.mean(), scale=1000, crs = 'EPSG:4326')\n",
    "    #reduced_image = reduced_image.set('date', image.get('julian_date'))\n",
    "    return reduced_image\n",
    "\n",
    "export = resultsCollection.map(reduce_to_region)"
   ]
  },
  {
   "cell_type": "code",
   "execution_count": 23,
   "id": "c2691e51",
   "metadata": {},
   "outputs": [],
   "source": [
    "task = ee.batch.Export.table.toDrive(**{\n",
    "  'collection': export,\n",
    "  'description': 'juneau temp 10 year averages with blocks from erin',\n",
    "  'folder': 'EarthEngine',\n",
    "  #'selectors': ['BLOCK','FIPS', 'date', 'mean', 'temperature_2m'], \n",
    "  'fileFormat': 'CSV'\n",
    "})\n",
    "task.start()"
   ]
  },
  {
   "cell_type": "markdown",
   "id": "69a69d0c",
   "metadata": {},
   "source": [
    "Code from Aug 11:"
   ]
  },
  {
   "cell_type": "code",
   "execution_count": 249,
   "id": "a96884cb",
   "metadata": {},
   "outputs": [],
   "source": [
    "CGAZ_ADM1 = ee.FeatureCollection('projects/earthengine-legacy/assets/projects/sat-io/open-datasets/geoboundaries/CGAZ_ADM1')\n",
    "\n",
    "# Filter Comprehensive Global Administrative Zones ADM1 for AK\n",
    "ak = CGAZ_ADM1.filter(ee.Filter.eq('shapeISO', 'US-AK'))\n",
    "# Convert the feature collection to a geometry.\n",
    "akGeometry = ak.geometry()\n",
    "# Get the bounding box of the geometry.\n",
    "akBounds = akGeometry.bounds()\n",
    "\n",
    "# same process for Juneau\n",
    "juneau = ee.FeatureCollection(\"TIGER/2018/Counties\").filter(ee.Filter.eq('COUNTYFP', '110')).filter(ee.Filter.eq('STATEFP', '02'))\n",
    "juneauGeometry = juneau.geometry()\n",
    "juneauBounds = juneauGeometry.bounds()"
   ]
  },
  {
   "cell_type": "code",
   "execution_count": 250,
   "id": "7a4baa82",
   "metadata": {},
   "outputs": [],
   "source": [
    "temp = ee.ImageCollection(\"ECMWF/ERA5_LAND/HOURLY\").filterDate('2010-01-01', '2019-12-31').select('temperature_2m').map(lambda image: image.clip(juneauGeometry))"
   ]
  },
  {
   "cell_type": "code",
   "execution_count": 394,
   "id": "31ff8999",
   "metadata": {},
   "outputs": [
    {
     "data": {
      "text/plain": [
       "(ee.imagecollection.ImageCollection, ee.image.Image)"
      ]
     },
     "execution_count": 394,
     "metadata": {},
     "output_type": "execute_result"
    }
   ],
   "source": [
    "def temporalReduction(temp):\n",
    "    # create a list for every day-hour combo\n",
    "    dates = []\n",
    "    for d in range(2, 3):\n",
    "        for h in range(0, 24):\n",
    "            dates.append((d, h))\n",
    "    \n",
    "    # empty list to store the 10 year average images\n",
    "    collection = []\n",
    "    # calculate averages for every day-hour combo\n",
    "    for day, hour in dates:\n",
    "        average = temp.filter(ee.Filter.dayOfYear(day, day)).filter(ee.Filter.eq('hour', hour)).mean()\n",
    "        collection.append(average)\n",
    "        \n",
    "    return ee.ImageCollection(collection)\n",
    "\n",
    "temp_10year_average = temporalReduction(temp)\n",
    "\n",
    "temp_10year_average = temp_10year_average.filter(ee.Filter.eq('temperature_2m', []))\n",
    "\n",
    "type(temp_10year_average), type(temp_10year_average.first())"
   ]
  },
  {
   "cell_type": "code",
   "execution_count": 395,
   "id": "ad539040",
   "metadata": {},
   "outputs": [],
   "source": [
    "task = ee.batch.Export.table.toDrive(**{\n",
    "  'collection': temp_10year_average,\n",
    "  'description': 'juneau temp 10 year averages filtered by area 4',\n",
    "  'folder': 'EarthEngine',\n",
    "  #'selectors': ['BLOCK','FIPS', 'date', 'mean', 'temperature_2m'], \n",
    "  'fileFormat': 'CSV'\n",
    "})\n",
    "task.start()"
   ]
  },
  {
   "cell_type": "code",
   "execution_count": 325,
   "id": "2eec0e68",
   "metadata": {},
   "outputs": [],
   "source": [
    "one_hour = temp.filter(ee.Filter.dayOfYear(2, 2)).filter(ee.Filter.eq('hour', 2)).mean()"
   ]
  },
  {
   "cell_type": "code",
   "execution_count": 382,
   "id": "592d095d",
   "metadata": {},
   "outputs": [
    {
     "data": {
      "text/plain": [
       "ee.image.Image"
      ]
     },
     "execution_count": 382,
     "metadata": {},
     "output_type": "execute_result"
    }
   ],
   "source": [
    "type(one_hour)"
   ]
  },
  {
   "cell_type": "code",
   "execution_count": 376,
   "id": "4fa52e12",
   "metadata": {},
   "outputs": [
    {
     "data": {
      "application/vnd.jupyter.widget-view+json": {
       "model_id": "7e5ae2355e534d86b5eac0f8cce3b647",
       "version_major": 2,
       "version_minor": 0
      },
      "text/plain": [
       "Map(center=[58.3005, -134.4201], controls=(ZoomControl(options=['position', 'zoom_in_text', 'zoom_in_title', '…"
      ]
     },
     "execution_count": 376,
     "metadata": {},
     "output_type": "execute_result"
    }
   ],
   "source": [
    "map1 = Map(center=[58.3005, -134.4201], zoom=10)\n",
    "\n",
    "map1.addLayer(one_hour, {'min': 0, 'max': 272})\n",
    "\n",
    "map1"
   ]
  },
  {
   "cell_type": "code",
   "execution_count": 1,
   "id": "e3079454",
   "metadata": {},
   "outputs": [
    {
     "ename": "NameError",
     "evalue": "name 'ee' is not defined",
     "output_type": "error",
     "traceback": [
      "\u001b[0;31m---------------------------------------------------------------------------\u001b[0m",
      "\u001b[0;31mNameError\u001b[0m                                 Traceback (most recent call last)",
      "Cell \u001b[0;32mIn[1], line 1\u001b[0m\n\u001b[0;32m----> 1\u001b[0m buildings \u001b[38;5;241m=\u001b[39m \u001b[43mee\u001b[49m\u001b[38;5;241m.\u001b[39mFeatureCollection(\u001b[38;5;124m'\u001b[39m\u001b[38;5;124mprojects/sat-io/open-datasets/ORNL/USA-STRUCTURES/USA_ST_AK\u001b[39m\u001b[38;5;124m'\u001b[39m)\n\u001b[1;32m      3\u001b[0m buildingsRaster \u001b[38;5;241m=\u001b[39m ee\u001b[38;5;241m.\u001b[39mImage()\u001b[38;5;241m.\u001b[39mbyte()\u001b[38;5;241m.\u001b[39mpaint(featureCollection \u001b[38;5;241m=\u001b[39m buildings, color \u001b[38;5;241m=\u001b[39m \u001b[38;5;241m1\u001b[39m)\n\u001b[1;32m      5\u001b[0m \u001b[38;5;66;03m# Get coverage of buildings per ERA-5 Pixel\u001b[39;00m\n",
      "\u001b[0;31mNameError\u001b[0m: name 'ee' is not defined"
     ]
    }
   ],
   "source": [
    "buildings = ee.FeatureCollection('projects/sat-io/open-datasets/ORNL/USA-STRUCTURES/USA_ST_AK')\n",
    "\n",
    "buildingsRaster = ee.Image().byte().paint(featureCollection = buildings, color = 1)\n",
    "\n",
    "# Get coverage of buildings per ERA-5 Pixel\n",
    "imageBuildings = buildingsRaster.unmask(0).setDefaultProjection('EPSG:4326', None, 100).reproject('EPSG:4326', None, 100).reduceResolution(\n",
    "      reducer = ee.Reducer.mean(), maxPixels = 12393).multiply(ee.Image.pixelArea()).reproject('EPSG:4326', None, 11132)\n"
   ]
  },
  {
   "cell_type": "code",
   "execution_count": 280,
   "id": "0e1a2b7e",
   "metadata": {},
   "outputs": [
    {
     "data": {
      "text/plain": [
       "ee.image.Image"
      ]
     },
     "execution_count": 280,
     "metadata": {},
     "output_type": "execute_result"
    }
   ],
   "source": [
    "type(imageBuildings)"
   ]
  },
  {
   "cell_type": "code",
   "execution_count": 257,
   "id": "c318feac",
   "metadata": {},
   "outputs": [],
   "source": [
    "centroids = imageBuildings.gt(0).sample(\n",
    "  region = akGeometry,\n",
    "  geometries =  True);"
   ]
  },
  {
   "cell_type": "markdown",
   "id": "6666df4e",
   "metadata": {},
   "source": [
    "Notes from convo with Erin:\n",
    "\n",
    "join centroids (small blocks) or imageBuildings mask (larger blocks)\n",
    "\n",
    "updateMask() function mapped on 10year average, then unmask 0, then spatially reduce"
   ]
  },
  {
   "cell_type": "code",
   "execution_count": 327,
   "id": "d0b8dafb",
   "metadata": {},
   "outputs": [],
   "source": [
    "def maskTemp(image):\n",
    "    return image.updateMask(imageBuildings.reproject('EPSG:4326', None, 11132)).unmask(0)\n",
    "\n",
    "temp_10year_average_masked = temp_10year_average.map(maskTemp)"
   ]
  },
  {
   "cell_type": "code",
   "execution_count": 328,
   "id": "2d3fb211",
   "metadata": {},
   "outputs": [
    {
     "data": {
      "text/plain": [
       "(ee.imagecollection.ImageCollection, ee.image.Image)"
      ]
     },
     "execution_count": 328,
     "metadata": {},
     "output_type": "execute_result"
    }
   ],
   "source": [
    "type(temp_10year_average_masked), type(temp_10year_average_masked.first())"
   ]
  },
  {
   "cell_type": "code",
   "execution_count": 341,
   "id": "1cd38800",
   "metadata": {},
   "outputs": [],
   "source": [
    "task = ee.batch.Export.table.toDrive(**{\n",
    "  'collection': temp_10year_average_masked,\n",
    "  'description': 'juneau temp 10 year averages masked',\n",
    "  'folder': 'EarthEngine',\n",
    "  #'selectors': ['BLOCK','FIPS', 'date', 'mean', 'temperature_2m'], \n",
    "  'fileFormat': 'CSV'\n",
    "})\n",
    "task.start()"
   ]
  },
  {
   "cell_type": "code",
   "execution_count": 263,
   "id": "4c502fa4",
   "metadata": {},
   "outputs": [],
   "source": [
    "blocks = gpd.read_file('../DSSG2023-Heating-Loads-Data/shapefiles/Blocks2020/Blocks2020.shp')\n",
    "blocks = blocks[['NAME', 'STATE', 'BOROUGH', 'TRACT', 'BLOCK', 'FIPS', 'TOTALPOP', 'HOUSEUNITS', 'geometry']]\n",
    "juneauBlocks = blocks[(blocks['BOROUGH'] == '110') & (blocks['TOTALPOP'] > 0)]\n",
    "juneauBlocksFC = geemap.geopandas_to_ee(juneauBlocks)"
   ]
  },
  {
   "cell_type": "code",
   "execution_count": 264,
   "id": "b3d59f65",
   "metadata": {},
   "outputs": [
    {
     "data": {
      "text/plain": [
       "380"
      ]
     },
     "execution_count": 264,
     "metadata": {},
     "output_type": "execute_result"
    }
   ],
   "source": [
    "juneauBlocksFC.size().getInfo()"
   ]
  },
  {
   "cell_type": "code",
   "execution_count": 265,
   "id": "1fe3d700",
   "metadata": {},
   "outputs": [
    {
     "data": {
      "text/plain": [
       "(1055.8870653038284, 27503.41284678245, 2220401169.367476)"
      ]
     },
     "execution_count": 265,
     "metadata": {},
     "output_type": "execute_result"
    }
   ],
   "source": [
    "areas = juneauBlocks['geometry'].area\n",
    "areas.min(), areas.median(), areas.max()"
   ]
  },
  {
   "cell_type": "code",
   "execution_count": 370,
   "id": "96c7a026",
   "metadata": {},
   "outputs": [],
   "source": [
    "# spatial reduction according to juneauBlocksFC\n",
    "\n",
    "def reduce_to_region(image):\n",
    "    reduced_image = image.reduceRegions(collection=juneauBlocksFC, reducer=ee.Reducer.mean(), scale=1000, crs = 'EPSG:4326')\n",
    "    #reduced_image = reduced_image.set('date', image.get('julian_date'))\n",
    "    return reduced_image\n",
    "\n",
    "export = temp_10year_average.map(reduce_to_region)"
   ]
  },
  {
   "cell_type": "code",
   "execution_count": 365,
   "id": "b8179c2c",
   "metadata": {},
   "outputs": [
    {
     "data": {
      "text/plain": [
       "ee.imagecollection.ImageCollection"
      ]
     },
     "execution_count": 365,
     "metadata": {},
     "output_type": "execute_result"
    }
   ],
   "source": [
    "type(temp_10year_average)"
   ]
  },
  {
   "cell_type": "code",
   "execution_count": 383,
   "id": "5c4928ed",
   "metadata": {},
   "outputs": [],
   "source": [
    "export_one_hour = one_hour.reduceRegions(collection=juneauBlocksFC, reducer=ee.Reducer.mean(), scale=1000, crs = 'EPSG:4326')"
   ]
  },
  {
   "cell_type": "code",
   "execution_count": 350,
   "id": "9ae56efe",
   "metadata": {},
   "outputs": [
    {
     "data": {
      "text/plain": [
       "(ee.imagecollection.ImageCollection, ee.image.Image)"
      ]
     },
     "execution_count": 350,
     "metadata": {},
     "output_type": "execute_result"
    }
   ],
   "source": [
    "type(export), type(export.first())"
   ]
  },
  {
   "cell_type": "code",
   "execution_count": 371,
   "id": "543c3ce5",
   "metadata": {},
   "outputs": [],
   "source": [
    "export1 = export.first()"
   ]
  },
  {
   "cell_type": "code",
   "execution_count": 372,
   "id": "ec1d3e12",
   "metadata": {},
   "outputs": [],
   "source": [
    "task = ee.batch.Export.table.toDrive(**{\n",
    "  'collection': export1,\n",
    "  'description': 'juneau block export for first block no mask',\n",
    "  'folder': 'EarthEngine',\n",
    "  #'selectors': ['BLOCK','FIPS', 'date', 'mean', 'temperature_2m'], \n",
    "  'fileFormat': 'CSV'\n",
    "})\n",
    "task.start()"
   ]
  },
  {
   "cell_type": "code",
   "execution_count": 373,
   "id": "ad8dbade",
   "metadata": {},
   "outputs": [],
   "source": [
    "task = ee.batch.Export.table.toDrive(**{\n",
    "  'collection': export,\n",
    "  'description': 'juneau block export try 1 no mask',\n",
    "  'folder': 'EarthEngine',\n",
    "  #'selectors': ['BLOCK','FIPS', 'date', 'mean', 'temperature_2m'], \n",
    "  'fileFormat': 'CSV'\n",
    "})\n",
    "task.start()"
   ]
  }
 ],
 "metadata": {
  "kernelspec": {
   "display_name": "Python 3 (ipykernel)",
   "language": "python",
   "name": "python3"
  },
  "language_info": {
   "codemirror_mode": {
    "name": "ipython",
    "version": 3
   },
   "file_extension": ".py",
   "mimetype": "text/x-python",
   "name": "python",
   "nbconvert_exporter": "python",
   "pygments_lexer": "ipython3",
   "version": "3.10.8"
  }
 },
 "nbformat": 4,
 "nbformat_minor": 5
}
