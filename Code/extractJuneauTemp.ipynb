{
 "cells": [
  {
   "cell_type": "code",
   "execution_count": 1,
   "id": "d7af1556",
   "metadata": {},
   "outputs": [],
   "source": [
    "import numpy as np\n",
    "import re\n",
    "import pandas as pd\n",
    "import geopandas as gpd\n",
    "import gdown\n",
    "import ee\n",
    "import google\n",
    "import os\n",
    "import geemap\n",
    "\n",
    "from tobler.util import h3fy\n",
    "from ee_jupyter.ipyleaflet import Map"
   ]
  },
  {
   "cell_type": "code",
   "execution_count": 2,
   "id": "533c38bb",
   "metadata": {},
   "outputs": [],
   "source": [
    "import warnings\n",
    "warnings.filterwarnings('ignore')"
   ]
  },
  {
   "cell_type": "code",
   "execution_count": 3,
   "id": "1beab13e",
   "metadata": {},
   "outputs": [
    {
     "data": {
      "text/html": [
       "<p>To authorize access needed by Earth Engine, open the following\n",
       "        URL in a web browser and follow the instructions:</p>\n",
       "        <p><a href=https://code.earthengine.google.com/client-auth?scopes=https%3A//www.googleapis.com/auth/earthengine%20https%3A//www.googleapis.com/auth/devstorage.full_control&request_id=k5ByMdxfekF1PyftWjTax7wQbFZ9YfvFrfOsSLWnCXY&tc=8JfosSZZ_X9DgezJhUbWdE4XvKXtzGrL5f4AX7Srxj4&cc=RGM6HL-IrdyJcnLc9N71aSAWTwm7t7XimB8l1yBgI3Y>https://code.earthengine.google.com/client-auth?scopes=https%3A//www.googleapis.com/auth/earthengine%20https%3A//www.googleapis.com/auth/devstorage.full_control&request_id=k5ByMdxfekF1PyftWjTax7wQbFZ9YfvFrfOsSLWnCXY&tc=8JfosSZZ_X9DgezJhUbWdE4XvKXtzGrL5f4AX7Srxj4&cc=RGM6HL-IrdyJcnLc9N71aSAWTwm7t7XimB8l1yBgI3Y</a></p>\n",
       "        <p>The authorization workflow will generate a code, which you should paste in the box below.</p>\n",
       "        "
      ],
      "text/plain": [
       "<IPython.core.display.HTML object>"
      ]
     },
     "metadata": {},
     "output_type": "display_data"
    },
    {
     "name": "stdout",
     "output_type": "stream",
     "text": [
      "Enter verification code: 4/1Adeu5BX3Wosqc0q9MpigKESYiyn53Y8qVpSLbl-JQj7SgHfQiJpjr3Ho81U\n",
      "\n",
      "Successfully saved authorization token.\n"
     ]
    }
   ],
   "source": [
    "ee.Authenticate()\n",
    "ee.Initialize()"
   ]
  },
  {
   "cell_type": "code",
   "execution_count": 79,
   "id": "c186629f",
   "metadata": {},
   "outputs": [],
   "source": [
    "temp = ee.ImageCollection(\"ECMWF/ERA5_LAND/HOURLY\").filterDate('2010-01-01', '2019-12-31').select('temperature_2m').filter(ee.Filter.bounds(juneau.geometry()))\n"
   ]
  },
  {
   "cell_type": "code",
   "execution_count": 80,
   "id": "d3bfc3c3",
   "metadata": {},
   "outputs": [
    {
     "data": {
      "text/plain": [
       "{'type': 'Image',\n",
       " 'bands': [{'id': 'temperature_2m',\n",
       "   'data_type': {'type': 'PixelType', 'precision': 'double'},\n",
       "   'dimensions': [3601, 1801],\n",
       "   'crs': 'EPSG:4326',\n",
       "   'crs_transform': [0.1, 0, -180.05, 0, -0.1, 90.05]}],\n",
       " 'version': 1680765300915096,\n",
       " 'id': 'ECMWF/ERA5_LAND/HOURLY/20100101T00',\n",
       " 'properties': {'system:time_start': 1262304000000,\n",
       "  'hour': 0,\n",
       "  'system:footprint': {'type': 'LinearRing',\n",
       "   'coordinates': [[-180, -90],\n",
       "    [180, -90],\n",
       "    [180, 90],\n",
       "    [-180, 90],\n",
       "    [-180, -90]]},\n",
       "  'system:time_end': 1262307600000,\n",
       "  'system:asset_size': 395595778,\n",
       "  'system:index': '20100101T00'}}"
      ]
     },
     "execution_count": 80,
     "metadata": {},
     "output_type": "execute_result"
    }
   ],
   "source": [
    "temp.first().getInfo()"
   ]
  },
  {
   "cell_type": "code",
   "execution_count": 152,
   "id": "ce0c23cb",
   "metadata": {},
   "outputs": [],
   "source": [
    "julianDayList = ee.List.sequence(1, 365)\n",
    "\n",
    "def temporalReduction(day):\n",
    "    day_temp = temp.filter(ee.Filter.dayOfYear(day, day))\n",
    "    \n",
    "    collection = []\n",
    "    \n",
    "    for i in range(24):\n",
    "        hour = day_temp.filter(ee.Filter.eq('hour', i))\n",
    "        average = hour.mean()\n",
    "        collection.append(average)\n",
    "        \n",
    "    return ee.ImageCollection(collection)\n",
    "\n",
    "temp_10year_average = ee.ImageCollection(julianDayList.map(temporalReduction)).flatten()"
   ]
  },
  {
   "cell_type": "code",
   "execution_count": 127,
   "id": "abc610c8",
   "metadata": {},
   "outputs": [],
   "source": [
    "# julianDayList = ee.List.sequence(1, 1)\n",
    "\n",
    "# def temporalReduction(day):\n",
    "#     day_temp = temp.filter(ee.Filter.dayOfYear(day, day))\n",
    "    \n",
    "#     collection = []\n",
    "    \n",
    "#     for i in range(24):\n",
    "#         hour = day_temp.filter(ee.Filter.eq('hour', i))\n",
    "#         average = hour.mean()\n",
    "#         collection.append(average)\n",
    "        \n",
    "#     return ee.ImageCollection(collection)\n",
    "\n",
    "# temp_10year_average = ee.ImageCollection(julianDayList.map(temporalReduction)).flatten()"
   ]
  },
  {
   "cell_type": "code",
   "execution_count": 128,
   "id": "ac18f352",
   "metadata": {},
   "outputs": [],
   "source": [
    "from ee_jupyter.ipyleaflet import Map"
   ]
  },
  {
   "cell_type": "code",
   "execution_count": 129,
   "id": "bff30e2f",
   "metadata": {},
   "outputs": [
    {
     "data": {
      "text/plain": [
       "{'type': 'Projection', 'crs': 'EPSG:4326', 'transform': [1, 0, 0, 0, 1, 0]}"
      ]
     },
     "execution_count": 129,
     "metadata": {},
     "output_type": "execute_result"
    }
   ],
   "source": [
    "buildingsRaster.gt(0).projection().getInfo()"
   ]
  },
  {
   "cell_type": "code",
   "execution_count": 139,
   "id": "9a58fdb6",
   "metadata": {},
   "outputs": [],
   "source": [
    "#map1 = Map(center=[64.835365, -147.776749], zoom=10)\n",
    "\n",
    "buildings = ee.FeatureCollection('projects/sat-io/open-datasets/ORNL/USA-STRUCTURES/USA_ST_AK')\n",
    "\n",
    "image = ee.Image(temp_10year_average.first())\n",
    "\n",
    "buildingsRaster = ee.Image().byte().paint(featureCollection = buildings, color = 1)\n",
    "# // Get information about the ERA5-Land projection.\n",
    "imageProjection = image.projection()\n",
    "\n",
    "#     // Force the next reprojection to aggregate instead of resampling.\n",
    "#     // The reduce resolution returns the fraction of the ERA-5 Land pixel\n",
    "#     // that's covered by 30 meter forest pixels.  Convert to area\n",
    "#     // after the reduceResolution() call.\n",
    "#     // Request the data at the scale and projection of the ERA-5 Land image.\n",
    "\n",
    "buildingsRaster = buildingsRaster.setDefaultProjection('EPSG:4326')\n",
    "\n",
    "imageBuildings = buildingsRaster.gt(0).reduceResolution(reducer = ee.Reducer.mean(),maxPixels = 1024) \\\n",
    "    .multiply(ee.Image.pixelArea()).reproject(crs = imageProjection)\n",
    "\n",
    "#map1.addLayer(imageBuildings)\n",
    "\n",
    "CGAZ_ADM1 = ee.FeatureCollection('projects/earthengine-legacy/assets/projects/sat-io/open-datasets/geoboundaries/CGAZ_ADM1')\n",
    "\n",
    "# // Filter Comprehensive Global Administrative Zones ADM1 for AK\n",
    "# // https://gee-community-catalog.org/projects/geoboundary/\n",
    "ak = CGAZ_ADM1.filter(ee.Filter.eq('shapeISO', 'US-AK'))\n",
    "juneau = ee.FeatureCollection(\"TIGER/2018/Counties\").filter(ee.Filter.eq('COUNTYFP', '110')).filter(ee.Filter.eq('STATEFP', '02'))\n",
    "\n",
    "# // Convert the feature collection to a geometry.\n",
    "akGeometry = ak.geometry()\n",
    "juneauGeometry = juneau.geometry()\n",
    "\n",
    "# // Get the bounding box of the geometry.\n",
    "akBounds = akGeometry.bounds()\n",
    "juneauBounds = juneauGeometry.bounds()\n",
    "\n",
    "# // Import ERA-5 Land\n",
    "dataset = ee.ImageCollection('ECMWF/ERA5_LAND/HOURLY').filter(ee.Filter.date('2020-07-01', '2020-07-02'));\n",
    "\n",
    "# // Get single image composite over AK, have to reproject because\n",
    "# // mosiacs do not have default projection\n",
    "image = dataset.max().clip(juneauGeometry).select('temperature_2m').reproject('EPSG:4326', None, 11132)\n",
    "\n",
    "#print(imageProjection)\n",
    "\n",
    "# // Import buildings\n",
    "buildings = ee.FeatureCollection('projects/sat-io/open-datasets/ORNL/USA-STRUCTURES/USA_ST_AK')\n",
    "\n",
    "# // Rasterize buildings\n",
    "buildingsRaster = ee.Image().byte().paint(featureCollection = buildings, color = 1)\n",
    "\n",
    "# // Get coverage of buildings per ERA-5 Pixel\n",
    "#     // Force the next reprojection to aggregate instead of resampling.\n",
    "#     // The reduce resolution returns the fraction of the ERA-5 Land pixel\n",
    "#     // that's covered by 100 meter building pixels.  Convert to area\n",
    "#     // after the reduceResolution() call.\n",
    "#     // Request the data at the scale and projection of the ERA-5 Land image.\n",
    "\n",
    "# imageBuildings = buildingsRaster.setDefaultProjection('EPSG:4326', None, 100).reduceResolution(\n",
    "#       reducer = ee.Reducer.mean(), maxPixels = 12393).multiply(ee.Image.pixelArea()).reproject('EPSG:4326', None, 11132);\n",
    "\n",
    "\n",
    "#     // Force the next reprojection to aggregate instead of resampling.\n",
    "#     // The reduce resolution returns the fraction of the ERA-5 Land pixel\n",
    "#     // that's covered by 100 meter building pixels.  Convert to area\n",
    "#     // after the reduceResolution() call.\n",
    "#    // // Request the data at the scale and projection of the ERA-5 Land image.\n",
    "imageBuildings = buildingsRaster.unmask(0).setDefaultProjection('EPSG:4326', None, 100).reduceResolution(\n",
    "      reducer = ee.Reducer.mean(),\n",
    "      maxPixels = 12393).multiply(ee.Image.pixelArea()).reproject('EPSG:4326', None, 11132)\n",
    "\n",
    "\n",
    "# // Export output\n",
    "# Export.image.toAsset({\n",
    "#   image: imageBuildings,\n",
    "#   description: 'ERA-5LandBuildings',\n",
    "#   assetId: 'ERA-5_LandBuildings',\n",
    "#   scale: 11132,\n",
    "#   region: akBounds,\n",
    "#   maxPixels: 1e13\n",
    "# });"
   ]
  },
  {
   "cell_type": "code",
   "execution_count": 140,
   "id": "00204893",
   "metadata": {},
   "outputs": [
    {
     "data": {
      "text/plain": [
       "ee.image.Image"
      ]
     },
     "execution_count": 140,
     "metadata": {},
     "output_type": "execute_result"
    }
   ],
   "source": [
    "type(imageBuildings)"
   ]
  },
  {
   "cell_type": "code",
   "execution_count": 141,
   "id": "f33d86e0",
   "metadata": {},
   "outputs": [],
   "source": [
    "centroids = imageBuildings.gt(0).sample(\n",
    "  region = akGeometry,\n",
    "  geometries =  True);"
   ]
  },
  {
   "cell_type": "code",
   "execution_count": null,
   "id": "36c31ff1",
   "metadata": {},
   "outputs": [],
   "source": [
    "# join centroids or imageBuildings mask\n",
    "# small vs.          big\n",
    "# update the above for juneau instead of alaska"
   ]
  },
  {
   "cell_type": "code",
   "execution_count": null,
   "id": "5db01128",
   "metadata": {},
   "outputs": [],
   "source": [
    "# updateMask() function mapped on 10year average \n",
    "# unmask 0\n",
    "# reduce\n"
   ]
  },
  {
   "cell_type": "code",
   "execution_count": 149,
   "id": "4b4385c3",
   "metadata": {},
   "outputs": [],
   "source": [
    "blocks = gpd.read_file('../DSSG2023-Heating-Loads-Data/shapefiles/Blocks2020/Blocks2020.shp')\n",
    "blocks = blocks[['NAME', 'STATE', 'BOROUGH', 'TRACT', 'BLOCK', 'FIPS', 'TOTALPOP', 'HOUSEUNITS', 'geometry']]\n",
    "juneauBlocks = blocks[(blocks['BOROUGH'] == '110') & (blocks['TOTALPOP'] > 0)]\n",
    "juneauBlocksFC = geemap.geopandas_to_ee(juneauBlocks)"
   ]
  },
  {
   "cell_type": "code",
   "execution_count": 150,
   "id": "d711a576",
   "metadata": {},
   "outputs": [
    {
     "data": {
      "text/plain": [
       "380"
      ]
     },
     "execution_count": 150,
     "metadata": {},
     "output_type": "execute_result"
    }
   ],
   "source": [
    "juneauBlocksFC.size().getInfo()"
   ]
  },
  {
   "cell_type": "code",
   "execution_count": 151,
   "id": "4b746da8",
   "metadata": {},
   "outputs": [
    {
     "data": {
      "text/plain": [
       "(1055.8870653038284, 27503.41284678245, 2220401169.367476)"
      ]
     },
     "execution_count": 151,
     "metadata": {},
     "output_type": "execute_result"
    }
   ],
   "source": [
    "areas = juneauBlocks['geometry'].area\n",
    "areas.min(), areas.median(), areas.max()"
   ]
  },
  {
   "cell_type": "code",
   "execution_count": 154,
   "id": "9ab33ee7",
   "metadata": {},
   "outputs": [],
   "source": [
    "def maskTemp(image):\n",
    "    image = ee.Image(image)\n",
    "    return image.updateMask(imageBuildings).unmask(0)\n",
    "\n",
    "maskedTemp = temp_10year_average.map(maskTemp)"
   ]
  },
  {
   "cell_type": "code",
   "execution_count": 156,
   "id": "61ee5077",
   "metadata": {},
   "outputs": [
    {
     "data": {
      "text/plain": [
       "ee.featurecollection.FeatureCollection"
      ]
     },
     "execution_count": 156,
     "metadata": {},
     "output_type": "execute_result"
    }
   ],
   "source": [
    "type(maskedTemp)"
   ]
  },
  {
   "cell_type": "code",
   "execution_count": 159,
   "id": "01f83c70",
   "metadata": {},
   "outputs": [],
   "source": [
    "# spatial reduction according to juneauBlocksFC\n",
    "\n",
    "def reduce_to_region(image):\n",
    "    image = ee.Image(image)\n",
    "    reduced_image = image.reduceRegions(collection=juneauBlocksFC, reducer=ee.Reducer.mean(), scale=1000)\n",
    "    #reduced_image = reduced_image.set('date', image.get('julian_date'))\n",
    "    return reduced_image\n",
    "\n",
    "export = maskedTemp.map(reduce_to_region)"
   ]
  },
  {
   "cell_type": "code",
   "execution_count": 162,
   "id": "d90a92a7",
   "metadata": {},
   "outputs": [],
   "source": [
    "export1 = export.first()"
   ]
  },
  {
   "cell_type": "code",
   "execution_count": 166,
   "id": "0124ebd8",
   "metadata": {},
   "outputs": [],
   "source": [
    "task = ee.batch.Export.table.toDrive(**{\n",
    "  'collection': export2,\n",
    "  'description': 'juneau export with lots of flattening',\n",
    "  'folder': 'EarthEngine',\n",
    "  'selectors': ['BLOCK','FIPS', 'date', 'mean', 'temperature_2m'], \n",
    "  'fileFormat': 'CSV'\n",
    "})\n",
    "task.start()"
   ]
  },
  {
   "cell_type": "code",
   "execution_count": 165,
   "id": "b0d37b8b",
   "metadata": {},
   "outputs": [],
   "source": [
    "export2 = maskedTemp.map(reduce_to_region).flatten().flatten().flatten()"
   ]
  },
  {
   "cell_type": "code",
   "execution_count": null,
   "id": "ffb791ba",
   "metadata": {},
   "outputs": [],
   "source": []
  },
  {
   "cell_type": "code",
   "execution_count": null,
   "id": "bc376331",
   "metadata": {},
   "outputs": [],
   "source": []
  },
  {
   "cell_type": "code",
   "execution_count": null,
   "id": "7c089d33",
   "metadata": {},
   "outputs": [],
   "source": [
    "var buildingsRaster = ee.Image().byte().paint({\n",
    "    featureCollection: buildings,\n",
    "    color: 1\n",
    "});\n",
    "// Get information about the ERA5-Land projection.\n",
    "var imageProjection = image.projection();\n",
    "var imageBuildings = buildingsRaster.gt(0)\n",
    "    // Force the next reprojection to aggregate instead of resampling.\n",
    "    .reduceResolution({\n",
    "      reducer: ee.Reducer.mean(),\n",
    "      maxPixels: 1024\n",
    "    })\n",
    "    // The reduce resolution returns the fraction of the ERA-5 Land pixel\n",
    "    // that's covered by 30 meter forest pixels.  Convert to area\n",
    "    // after the reduceResolution() call.\n",
    "    .multiply(ee.Image.pixelArea())\n",
    "    // Request the data at the scale and projection of the ERA-5 Land image.\n",
    "    .reproject({\n",
    "      crs: imageProjection\n",
    "    });\n",
    "Map.addLayer(imageBuildings)"
   ]
  },
  {
   "cell_type": "markdown",
   "id": "4973b0fb",
   "metadata": {},
   "source": [
    "Vectorize a ERA-5 image\n",
    "\n",
    "Select first building per ERA-5 feature of feature collection (join-first)\n",
    "\n",
    "Save this as a feature-collection to make it go faster\n",
    "\n",
    "Calculate climate data at building\n",
    "\n",
    "Get mean at block level per day – this is optional, I’d almost export it and aggregate after in python\\\n",
    "\n",
    "Export the feature collection\n",
    "\n",
    "Can subset per borough, will run quickly\n"
   ]
  },
  {
   "cell_type": "code",
   "execution_count": 8,
   "id": "a924aee2",
   "metadata": {},
   "outputs": [
    {
     "data": {
      "text/plain": [
       "1"
      ]
     },
     "execution_count": 8,
     "metadata": {},
     "output_type": "execute_result"
    }
   ],
   "source": [
    "ak = ee.FeatureCollection(\"TIGER/2016/States\").filter(ee.Filter.eq('GEOID', '02'))\n",
    "ak.size().getInfo()"
   ]
  },
  {
   "cell_type": "code",
   "execution_count": 44,
   "id": "6aeeeea6",
   "metadata": {},
   "outputs": [
    {
     "data": {
      "text/plain": [
       "1"
      ]
     },
     "execution_count": 44,
     "metadata": {},
     "output_type": "execute_result"
    }
   ],
   "source": [
    "juneau = ee.FeatureCollection(\"TIGER/2018/Counties\").filter(ee.Filter.eq('COUNTYFP', '110')).filter(ee.Filter.eq('STATEFP', '02'))\n",
    "juneau.size().getInfo()"
   ]
  },
  {
   "cell_type": "code",
   "execution_count": 9,
   "id": "07a276fc",
   "metadata": {},
   "outputs": [],
   "source": [
    "def clipToAK(image):\n",
    "    return image.select('temperature_2m').clipToCollection(ak)\n",
    "\n",
    "ak_temp = temp.map(clipToAK)"
   ]
  },
  {
   "cell_type": "code",
   "execution_count": 45,
   "id": "d86558e7",
   "metadata": {},
   "outputs": [],
   "source": [
    "def clipToJ(image):\n",
    "    return image.select('temperature_2m').clipToCollection(juneau)\n",
    "\n",
    "juneau_temp = temp.map(clipToJ)"
   ]
  },
  {
   "cell_type": "code",
   "execution_count": 16,
   "id": "375ac9fe",
   "metadata": {},
   "outputs": [
    {
     "data": {
      "text/plain": [
       "ee.imagecollection.ImageCollection"
      ]
     },
     "execution_count": 16,
     "metadata": {},
     "output_type": "execute_result"
    }
   ],
   "source": [
    "type(ak_temp)"
   ]
  },
  {
   "cell_type": "code",
   "execution_count": 24,
   "id": "4124d85b",
   "metadata": {},
   "outputs": [],
   "source": [
    "primary = ak_temp\n",
    "secondary = ak_buildings = ee.FeatureCollection('projects/sat-io/open-datasets/ORNL/USA-STRUCTURES/USA_ST_AK')\n",
    "\n",
    "joinFilter = ee.Filter.intersects(leftField = '.geo', rightField = '.geo', maxError = 1000)\n",
    "\n",
    "joined = ee.Join.inner().apply(primary, secondary, joinFilter)"
   ]
  },
  {
   "cell_type": "code",
   "execution_count": 25,
   "id": "10e4c766",
   "metadata": {},
   "outputs": [
    {
     "data": {
      "text/plain": [
       "{'type': 'Feature',\n",
       " 'geometry': None,\n",
       " 'id': '20100101T00_0000000000000001e4f1',\n",
       " 'properties': {'primary': {'type': 'Image',\n",
       "   'bands': [{'id': 'temperature_2m',\n",
       "     'data_type': {'type': 'PixelType', 'precision': 'double'},\n",
       "     'dimensions': [3601, 1801],\n",
       "     'crs': 'EPSG:4326',\n",
       "     'crs_transform': [0.1, 0, -180.05, 0, -0.1, 90.05]}],\n",
       "   'version': 1680765300915096,\n",
       "   'id': 'ECMWF/ERA5_LAND/HOURLY/20100101T00',\n",
       "   'properties': {'system:time_start': 1262304000000,\n",
       "    'hour': 0,\n",
       "    'system:time_end': 1262307600000,\n",
       "    'system:asset_size': 395595778,\n",
       "    'system:index': '20100101T00'}},\n",
       "  'secondary': {'type': 'Feature',\n",
       "   'geometry': {'type': 'Polygon',\n",
       "    'coordinates': [[[-149.72244675693338, 61.18462236002106],\n",
       "      [-149.7223888271917, 61.18461162293288],\n",
       "      [-149.72221500453884, 61.184577236342214],\n",
       "      [-149.72217032396347, 61.18462876384541],\n",
       "      [-149.7221524514845, 61.18465459499242],\n",
       "      [-149.72238435560448, 61.184699756113424],\n",
       "      [-149.72244675693338, 61.18462236002106]]]},\n",
       "   'id': '0000000000000001e4f1',\n",
       "   'properties': {'BUILD_ID': 9041311,\n",
       "    'CENSUSCODE': '02020001732',\n",
       "    'FIPS': '02020',\n",
       "    'HEIGHT': 5,\n",
       "    'H_ADJ_ELEV': 0,\n",
       "    'IMAGE_DATE': 1220079600000,\n",
       "    'IMAGE_NAME': 'Li127-Anchorage',\n",
       "    'LATITUDE': 61.184638704,\n",
       "    'LONGITUDE': -149.722299407,\n",
       "    'L_ADJ_ELEV': 0,\n",
       "    'OCC_CLS': '',\n",
       "    'OUTBLDG': '',\n",
       "    'PRIM_OCC': '',\n",
       "    'PROD_DATE': 1220079600000,\n",
       "    'PROP_ADDR': '',\n",
       "    'PROP_CITY': '',\n",
       "    'PROP_ST': 'Alaska',\n",
       "    'PROP_ZIP': '',\n",
       "    'REMARKS': '',\n",
       "    'SEC_OCC': '',\n",
       "    'SOURCE': 'NGA',\n",
       "    'SQFEET': 1333.56,\n",
       "    'SQMETERS': 123.892,\n",
       "    'STATE_FIPS': '02',\n",
       "    'Shape__Are': 531.40625,\n",
       "    'Shape__Len': 93.952655852,\n",
       "    'USNG': '06V UN 53647 86400',\n",
       "    'UUID': '{abc8b6b6-43a1-4d88-b1da-9d6b9c07f627}',\n",
       "    'VAL_METHOD': 'Unverified'}}}}"
      ]
     },
     "execution_count": 25,
     "metadata": {},
     "output_type": "execute_result"
    }
   ],
   "source": [
    "joined.first().getInfo()"
   ]
  },
  {
   "cell_type": "code",
   "execution_count": 29,
   "id": "aa80a81e",
   "metadata": {},
   "outputs": [],
   "source": [
    "filtered_join = joined.distinct('primary')"
   ]
  },
  {
   "cell_type": "code",
   "execution_count": 32,
   "id": "ec2b2352",
   "metadata": {},
   "outputs": [
    {
     "data": {
      "text/plain": [
       "ee.featurecollection.FeatureCollection"
      ]
     },
     "execution_count": 32,
     "metadata": {},
     "output_type": "execute_result"
    }
   ],
   "source": [
    "type(filtered_join)"
   ]
  },
  {
   "cell_type": "code",
   "execution_count": 46,
   "id": "0ac02c7d",
   "metadata": {},
   "outputs": [],
   "source": [
    "joinFilter = ee.Filter.intersects(leftField = '.geo', rightField = '.geo', maxError = 1000)\n",
    "\n",
    "joinedJ = ee.Join.inner().apply(juneau_temp, ak_buildings, joinFilter)"
   ]
  },
  {
   "cell_type": "code",
   "execution_count": 40,
   "id": "c0f1293f",
   "metadata": {},
   "outputs": [
    {
     "data": {
      "text/plain": [
       "{'type': 'Feature',\n",
       " 'geometry': None,\n",
       " 'id': '20100101T00_0000000000000001e4f1',\n",
       " 'properties': {'primary': {'type': 'Image',\n",
       "   'bands': [{'id': 'temperature_2m',\n",
       "     'data_type': {'type': 'PixelType', 'precision': 'double'},\n",
       "     'dimensions': [3601, 1801],\n",
       "     'crs': 'EPSG:4326',\n",
       "     'crs_transform': [0.1, 0, -180.05, 0, -0.1, 90.05]}],\n",
       "   'version': 1680765300915096,\n",
       "   'id': 'ECMWF/ERA5_LAND/HOURLY/20100101T00',\n",
       "   'properties': {'system:time_start': 1262304000000,\n",
       "    'hour': 0,\n",
       "    'system:time_end': 1262307600000,\n",
       "    'system:asset_size': 395595778,\n",
       "    'system:index': '20100101T00'}},\n",
       "  'secondary': {'type': 'Feature',\n",
       "   'geometry': {'type': 'Polygon',\n",
       "    'coordinates': [[[-149.72244675693338, 61.18462236002106],\n",
       "      [-149.7223888271917, 61.18461162293288],\n",
       "      [-149.72221500453884, 61.184577236342214],\n",
       "      [-149.72217032396347, 61.18462876384541],\n",
       "      [-149.7221524514845, 61.18465459499242],\n",
       "      [-149.72238435560448, 61.184699756113424],\n",
       "      [-149.72244675693338, 61.18462236002106]]]},\n",
       "   'id': '0000000000000001e4f1',\n",
       "   'properties': {'BUILD_ID': 9041311,\n",
       "    'CENSUSCODE': '02020001732',\n",
       "    'FIPS': '02020',\n",
       "    'HEIGHT': 5,\n",
       "    'H_ADJ_ELEV': 0,\n",
       "    'IMAGE_DATE': 1220079600000,\n",
       "    'IMAGE_NAME': 'Li127-Anchorage',\n",
       "    'LATITUDE': 61.184638704,\n",
       "    'LONGITUDE': -149.722299407,\n",
       "    'L_ADJ_ELEV': 0,\n",
       "    'OCC_CLS': '',\n",
       "    'OUTBLDG': '',\n",
       "    'PRIM_OCC': '',\n",
       "    'PROD_DATE': 1220079600000,\n",
       "    'PROP_ADDR': '',\n",
       "    'PROP_CITY': '',\n",
       "    'PROP_ST': 'Alaska',\n",
       "    'PROP_ZIP': '',\n",
       "    'REMARKS': '',\n",
       "    'SEC_OCC': '',\n",
       "    'SOURCE': 'NGA',\n",
       "    'SQFEET': 1333.56,\n",
       "    'SQMETERS': 123.892,\n",
       "    'STATE_FIPS': '02',\n",
       "    'Shape__Are': 531.40625,\n",
       "    'Shape__Len': 93.952655852,\n",
       "    'USNG': '06V UN 53647 86400',\n",
       "    'UUID': '{abc8b6b6-43a1-4d88-b1da-9d6b9c07f627}',\n",
       "    'VAL_METHOD': 'Unverified'}}}}"
      ]
     },
     "execution_count": 40,
     "metadata": {},
     "output_type": "execute_result"
    }
   ],
   "source": [
    "joinedJ.first().getInfo()"
   ]
  },
  {
   "cell_type": "code",
   "execution_count": 47,
   "id": "dddc9f15",
   "metadata": {},
   "outputs": [],
   "source": [
    "joinedJ_distinct = joinedJ.distinct('primary')"
   ]
  },
  {
   "cell_type": "code",
   "execution_count": 48,
   "id": "c036fccd",
   "metadata": {},
   "outputs": [
    {
     "ename": "EEException",
     "evalue": "An internal error has occurred (request: 2f2ec4ee-166a-4a7c-bc18-dc3c86bb10b1)",
     "output_type": "error",
     "traceback": [
      "\u001b[0;31m---------------------------------------------------------------------------\u001b[0m",
      "\u001b[0;31mHttpError\u001b[0m                                 Traceback (most recent call last)",
      "File \u001b[0;32m~/miniconda3/lib/python3.10/site-packages/ee/data.py:345\u001b[0m, in \u001b[0;36m_execute_cloud_call\u001b[0;34m(call, num_retries)\u001b[0m\n\u001b[1;32m    344\u001b[0m \u001b[38;5;28;01mtry\u001b[39;00m:\n\u001b[0;32m--> 345\u001b[0m   \u001b[38;5;28;01mreturn\u001b[39;00m \u001b[43mcall\u001b[49m\u001b[38;5;241;43m.\u001b[39;49m\u001b[43mexecute\u001b[49m\u001b[43m(\u001b[49m\u001b[43mnum_retries\u001b[49m\u001b[38;5;241;43m=\u001b[39;49m\u001b[43mnum_retries\u001b[49m\u001b[43m)\u001b[49m\n\u001b[1;32m    346\u001b[0m \u001b[38;5;28;01mexcept\u001b[39;00m googleapiclient\u001b[38;5;241m.\u001b[39merrors\u001b[38;5;241m.\u001b[39mHttpError \u001b[38;5;28;01mas\u001b[39;00m e:\n",
      "File \u001b[0;32m~/miniconda3/lib/python3.10/site-packages/googleapiclient/_helpers.py:130\u001b[0m, in \u001b[0;36mpositional.<locals>.positional_decorator.<locals>.positional_wrapper\u001b[0;34m(*args, **kwargs)\u001b[0m\n\u001b[1;32m    129\u001b[0m         logger\u001b[38;5;241m.\u001b[39mwarning(message)\n\u001b[0;32m--> 130\u001b[0m \u001b[38;5;28;01mreturn\u001b[39;00m \u001b[43mwrapped\u001b[49m\u001b[43m(\u001b[49m\u001b[38;5;241;43m*\u001b[39;49m\u001b[43margs\u001b[49m\u001b[43m,\u001b[49m\u001b[43m \u001b[49m\u001b[38;5;241;43m*\u001b[39;49m\u001b[38;5;241;43m*\u001b[39;49m\u001b[43mkwargs\u001b[49m\u001b[43m)\u001b[49m\n",
      "File \u001b[0;32m~/miniconda3/lib/python3.10/site-packages/googleapiclient/http.py:938\u001b[0m, in \u001b[0;36mHttpRequest.execute\u001b[0;34m(self, http, num_retries)\u001b[0m\n\u001b[1;32m    937\u001b[0m \u001b[38;5;28;01mif\u001b[39;00m resp\u001b[38;5;241m.\u001b[39mstatus \u001b[38;5;241m>\u001b[39m\u001b[38;5;241m=\u001b[39m \u001b[38;5;241m300\u001b[39m:\n\u001b[0;32m--> 938\u001b[0m     \u001b[38;5;28;01mraise\u001b[39;00m HttpError(resp, content, uri\u001b[38;5;241m=\u001b[39m\u001b[38;5;28mself\u001b[39m\u001b[38;5;241m.\u001b[39muri)\n\u001b[1;32m    939\u001b[0m \u001b[38;5;28;01mreturn\u001b[39;00m \u001b[38;5;28mself\u001b[39m\u001b[38;5;241m.\u001b[39mpostproc(resp, content)\n",
      "\u001b[0;31mHttpError\u001b[0m: <HttpError 500 when requesting https://earthengine.googleapis.com/v1alpha/projects/earthengine-legacy/value:compute?prettyPrint=false&alt=json returned \"An internal error has occurred (request: 2f2ec4ee-166a-4a7c-bc18-dc3c86bb10b1)\". Details: \"An internal error has occurred (request: 2f2ec4ee-166a-4a7c-bc18-dc3c86bb10b1)\">",
      "\nDuring handling of the above exception, another exception occurred:\n",
      "\u001b[0;31mEEException\u001b[0m                               Traceback (most recent call last)",
      "Cell \u001b[0;32mIn[48], line 1\u001b[0m\n\u001b[0;32m----> 1\u001b[0m \u001b[43mjoinedJ_distinct\u001b[49m\u001b[38;5;241;43m.\u001b[39;49m\u001b[43msize\u001b[49m\u001b[43m(\u001b[49m\u001b[43m)\u001b[49m\u001b[38;5;241;43m.\u001b[39;49m\u001b[43mgetInfo\u001b[49m\u001b[43m(\u001b[49m\u001b[43m)\u001b[49m\n",
      "File \u001b[0;32m~/miniconda3/lib/python3.10/site-packages/ee/computedobject.py:96\u001b[0m, in \u001b[0;36mComputedObject.getInfo\u001b[0;34m(self)\u001b[0m\n\u001b[1;32m     90\u001b[0m \u001b[38;5;28;01mdef\u001b[39;00m \u001b[38;5;21mgetInfo\u001b[39m(\u001b[38;5;28mself\u001b[39m):\n\u001b[1;32m     91\u001b[0m \u001b[38;5;250m  \u001b[39m\u001b[38;5;124;03m\"\"\"Fetch and return information about this object.\u001b[39;00m\n\u001b[1;32m     92\u001b[0m \n\u001b[1;32m     93\u001b[0m \u001b[38;5;124;03m  Returns:\u001b[39;00m\n\u001b[1;32m     94\u001b[0m \u001b[38;5;124;03m    The object can evaluate to anything.\u001b[39;00m\n\u001b[1;32m     95\u001b[0m \u001b[38;5;124;03m  \"\"\"\u001b[39;00m\n\u001b[0;32m---> 96\u001b[0m   \u001b[38;5;28;01mreturn\u001b[39;00m \u001b[43mdata\u001b[49m\u001b[38;5;241;43m.\u001b[39;49m\u001b[43mcomputeValue\u001b[49m\u001b[43m(\u001b[49m\u001b[38;5;28;43mself\u001b[39;49m\u001b[43m)\u001b[49m\n",
      "File \u001b[0;32m~/miniconda3/lib/python3.10/site-packages/ee/data.py:954\u001b[0m, in \u001b[0;36mcomputeValue\u001b[0;34m(obj)\u001b[0m\n\u001b[1;32m    951\u001b[0m body \u001b[38;5;241m=\u001b[39m {\u001b[38;5;124m'\u001b[39m\u001b[38;5;124mexpression\u001b[39m\u001b[38;5;124m'\u001b[39m: serializer\u001b[38;5;241m.\u001b[39mencode(obj, for_cloud_api\u001b[38;5;241m=\u001b[39m\u001b[38;5;28;01mTrue\u001b[39;00m)}\n\u001b[1;32m    952\u001b[0m _maybe_populate_workload_tag(body)\n\u001b[0;32m--> 954\u001b[0m \u001b[38;5;28;01mreturn\u001b[39;00m \u001b[43m_execute_cloud_call\u001b[49m\u001b[43m(\u001b[49m\n\u001b[1;32m    955\u001b[0m \u001b[43m    \u001b[49m\u001b[43m_get_cloud_projects\u001b[49m\u001b[43m(\u001b[49m\u001b[43m)\u001b[49m\n\u001b[1;32m    956\u001b[0m \u001b[43m    \u001b[49m\u001b[38;5;241;43m.\u001b[39;49m\u001b[43mvalue\u001b[49m\u001b[43m(\u001b[49m\u001b[43m)\u001b[49m\n\u001b[1;32m    957\u001b[0m \u001b[43m    \u001b[49m\u001b[38;5;241;43m.\u001b[39;49m\u001b[43mcompute\u001b[49m\u001b[43m(\u001b[49m\u001b[43mbody\u001b[49m\u001b[38;5;241;43m=\u001b[39;49m\u001b[43mbody\u001b[49m\u001b[43m,\u001b[49m\u001b[43m \u001b[49m\u001b[43mproject\u001b[49m\u001b[38;5;241;43m=\u001b[39;49m\u001b[43m_get_projects_path\u001b[49m\u001b[43m(\u001b[49m\u001b[43m)\u001b[49m\u001b[43m,\u001b[49m\u001b[43m \u001b[49m\u001b[43mprettyPrint\u001b[49m\u001b[38;5;241;43m=\u001b[39;49m\u001b[38;5;28;43;01mFalse\u001b[39;49;00m\u001b[43m)\u001b[49m\n\u001b[1;32m    958\u001b[0m \u001b[43m\u001b[49m\u001b[43m)\u001b[49m[\u001b[38;5;124m'\u001b[39m\u001b[38;5;124mresult\u001b[39m\u001b[38;5;124m'\u001b[39m]\n",
      "File \u001b[0;32m~/miniconda3/lib/python3.10/site-packages/ee/data.py:347\u001b[0m, in \u001b[0;36m_execute_cloud_call\u001b[0;34m(call, num_retries)\u001b[0m\n\u001b[1;32m    345\u001b[0m   \u001b[38;5;28;01mreturn\u001b[39;00m call\u001b[38;5;241m.\u001b[39mexecute(num_retries\u001b[38;5;241m=\u001b[39mnum_retries)\n\u001b[1;32m    346\u001b[0m \u001b[38;5;28;01mexcept\u001b[39;00m googleapiclient\u001b[38;5;241m.\u001b[39merrors\u001b[38;5;241m.\u001b[39mHttpError \u001b[38;5;28;01mas\u001b[39;00m e:\n\u001b[0;32m--> 347\u001b[0m   \u001b[38;5;28;01mraise\u001b[39;00m _translate_cloud_exception(e)\n",
      "\u001b[0;31mEEException\u001b[0m: An internal error has occurred (request: 2f2ec4ee-166a-4a7c-bc18-dc3c86bb10b1)"
     ]
    }
   ],
   "source": [
    "joinedJ_distinct.size().getInfo()"
   ]
  },
  {
   "cell_type": "code",
   "execution_count": null,
   "id": "f43e63ff",
   "metadata": {},
   "outputs": [],
   "source": []
  }
 ],
 "metadata": {
  "kernelspec": {
   "display_name": "Python 3 (ipykernel)",
   "language": "python",
   "name": "python3"
  },
  "language_info": {
   "codemirror_mode": {
    "name": "ipython",
    "version": 3
   },
   "file_extension": ".py",
   "mimetype": "text/x-python",
   "name": "python",
   "nbconvert_exporter": "python",
   "pygments_lexer": "ipython3",
   "version": "3.10.8"
  }
 },
 "nbformat": 4,
 "nbformat_minor": 5
}
