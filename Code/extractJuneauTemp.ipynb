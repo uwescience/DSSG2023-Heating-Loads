{
 "cells": [
  {
   "cell_type": "code",
   "execution_count": null,
   "id": "b036b740",
   "metadata": {},
   "outputs": [],
   "source": [
    "import ee\n",
    "import google\n",
    "import os\n",
    "import geemap"
   ]
  },
  {
   "cell_type": "code",
   "execution_count": null,
   "id": "7439c471",
   "metadata": {},
   "outputs": [],
   "source": [
    "import warnings\n",
    "warnings.filterwarnings('ignore')"
   ]
  },
  {
   "cell_type": "code",
   "execution_count": null,
   "id": "5933f151",
   "metadata": {},
   "outputs": [],
   "source": [
    "ee.Authenticate()\n",
    "ee.Initialize()"
   ]
  },
  {
   "cell_type": "markdown",
   "id": "5b5587b1",
   "metadata": {},
   "source": [
    "Code from Erin Aug 14:"
   ]
  },
  {
   "cell_type": "code",
   "execution_count": null,
   "id": "06c07934",
   "metadata": {},
   "outputs": [],
   "source": [
    "list1 = ee.List.sequence(0, 364, 1);\n",
    "list2 = ee.List.sequence(0,23,1);\n",
    "\n",
    "def outer(e1, acc):\n",
    "    pairs = list2.map(lambda e2: [e1, e2])\n",
    "    return ee.List(acc).cat(pairs)\n",
    "\n",
    "combinations = ee.List(\n",
    "  list1.iterate(outer, ee.List([])))\n",
    "combinations.size().getInfo(), combinations.get(1).getInfo()"
   ]
  },
  {
   "cell_type": "code",
   "execution_count": null,
   "id": "24342e88",
   "metadata": {},
   "outputs": [],
   "source": [
    "# // Define a function to apply on each combination\n",
    "def getMeanHourlyPerDay(pair):\n",
    "#     // Cast pairList to an Earth Engine List\n",
    "    pairList = ee.List(pair);\n",
    "#     // Extract e1 and e2\n",
    "    day = pairList.get(0); \n",
    "    hour = pairList.get(1); \n",
    "    \n",
    "#     // Your desired operation using e1 and e2\n",
    "#     // Here's a simple example that just multiplies e1 and e2\n",
    "    return tempClip.filter(ee.Filter.dayOfYear(day, day)).filter(ee.Filter.eq('hour', hour)).mean();"
   ]
  },
  {
   "cell_type": "code",
   "execution_count": null,
   "id": "978644e7",
   "metadata": {},
   "outputs": [],
   "source": [
    "# EXTRACT Juneau and temperature\n",
    "juneau = ee.FeatureCollection(\"TIGER/2018/Counties\").filter(ee.Filter.eq('COUNTYFP', '110')).filter(ee.Filter.eq('STATEFP', '02'))\n",
    "juneauGeometry = juneau.geometry()\n",
    "juneauBounds = juneauGeometry.bounds()\n",
    "\n",
    "temp = ee.ImageCollection(\"ECMWF/ERA5_LAND/HOURLY\").filterDate('2010-01-01', '2019-12-31').select('temperature_2m')\n",
    "\n",
    "tempClip = temp.map(lambda image: image.clip(juneauBounds))\n",
    "\n",
    "# // Map your function over the combinations\n",
    "results = combinations.map(getMeanHourlyPerDay);\n",
    "\n",
    "resultsCollection = ee.ImageCollection.fromImages(results)\n",
    "# print(resultsCollection);"
   ]
  },
  {
   "cell_type": "code",
   "execution_count": null,
   "id": "0ac4e1b0",
   "metadata": {},
   "outputs": [],
   "source": [
    "task = ee.batch.Export.table.toDrive(**{\n",
    "  'collection': resultsCollection,\n",
    "  'description': 'juneau temp 10 year averages not blocks from erin',\n",
    "  'folder': 'EarthEngine',\n",
    "  #'selectors': ['BLOCK','FIPS', 'date', 'mean', 'temperature_2m'], \n",
    "  'fileFormat': 'CSV'\n",
    "})\n",
    "task.start()"
   ]
  },
  {
   "cell_type": "code",
   "execution_count": null,
   "id": "6e83aa08",
   "metadata": {},
   "outputs": [],
   "source": [
    "os.path.exists('../DSSG2023-Heating-Loads-Data/shapefiles/Blocks2020/Blocks2020.shp')"
   ]
  },
  {
   "cell_type": "code",
   "execution_count": null,
   "id": "df3be5de",
   "metadata": {},
   "outputs": [],
   "source": [
    "blocks = gpd.read_file('../DSSG2023-Heating-Loads-Data/shapefiles/Blocks2020/Blocks2020.shp')\n",
    "blocks = blocks[['NAME', 'STATE', 'BOROUGH', 'TRACT', 'BLOCK', 'FIPS', 'TOTALPOP', 'HOUSEUNITS', 'geometry']]\n",
    "juneauBlocks = blocks[(blocks['BOROUGH'] == '110') & (blocks['TOTALPOP'] > 0)]\n",
    "juneauBlocksFC = geemap.geopandas_to_ee(juneauBlocks)"
   ]
  },
  {
   "cell_type": "code",
   "execution_count": null,
   "id": "2669901b",
   "metadata": {},
   "outputs": [],
   "source": [
    "def reduce_to_region(image):\n",
    "    reduced_image = image.reduceRegions(collection=juneauBlocksFC, reducer=ee.Reducer.mean(), scale=1000, crs = 'EPSG:4326')\n",
    "    #reduced_image = reduced_image.set('date', image.get('julian_date'))\n",
    "    return reduced_image\n",
    "\n",
    "export = resultsCollection.map(reduce_to_region)"
   ]
  },
  {
   "cell_type": "code",
   "execution_count": null,
   "id": "c2691e51",
   "metadata": {},
   "outputs": [],
   "source": [
    "task = ee.batch.Export.table.toDrive(**{\n",
    "  'collection': export,\n",
    "  'description': 'juneau temp 10 year averages with blocks from erin',\n",
    "  'folder': 'EarthEngine',\n",
    "  #'selectors': ['BLOCK','FIPS', 'date', 'mean', 'temperature_2m'], \n",
    "  'fileFormat': 'CSV'\n",
    "})\n",
    "task.start()"
   ]
  },
  {
   "cell_type": "markdown",
   "id": "69a69d0c",
   "metadata": {},
   "source": [
    "Code from Aug 11:"
   ]
  },
  {
   "cell_type": "code",
   "execution_count": null,
   "id": "a96884cb",
   "metadata": {},
   "outputs": [],
   "source": [
    "CGAZ_ADM1 = ee.FeatureCollection('projects/earthengine-legacy/assets/projects/sat-io/open-datasets/geoboundaries/CGAZ_ADM1')\n",
    "\n",
    "# Filter Comprehensive Global Administrative Zones ADM1 for AK\n",
    "ak = CGAZ_ADM1.filter(ee.Filter.eq('shapeISO', 'US-AK'))\n",
    "# Convert the feature collection to a geometry.\n",
    "akGeometry = ak.geometry()\n",
    "# Get the bounding box of the geometry.\n",
    "akBounds = akGeometry.bounds()\n",
    "\n",
    "# same process for Juneau\n",
    "juneau = ee.FeatureCollection(\"TIGER/2018/Counties\").filter(ee.Filter.eq('COUNTYFP', '110')).filter(ee.Filter.eq('STATEFP', '02'))\n",
    "juneauGeometry = juneau.geometry()\n",
    "juneauBounds = juneauGeometry.bounds()"
   ]
  },
  {
   "cell_type": "code",
   "execution_count": null,
   "id": "7a4baa82",
   "metadata": {},
   "outputs": [],
   "source": [
    "temp = ee.ImageCollection(\"ECMWF/ERA5_LAND/HOURLY\").filterDate('2010-01-01', '2019-12-31').select('temperature_2m').map(lambda image: image.clip(juneauGeometry))"
   ]
  },
  {
   "cell_type": "code",
   "execution_count": null,
   "id": "31ff8999",
   "metadata": {},
   "outputs": [],
   "source": [
    "def temporalReduction(temp):\n",
    "    # create a list for every day-hour combo\n",
    "    dates = []\n",
    "    for d in range(2, 3):\n",
    "        for h in range(0, 24):\n",
    "            dates.append((d, h))\n",
    "    \n",
    "    # empty list to store the 10 year average images\n",
    "    collection = []\n",
    "    # calculate averages for every day-hour combo\n",
    "    for day, hour in dates:\n",
    "        average = temp.filter(ee.Filter.dayOfYear(day, day)).filter(ee.Filter.eq('hour', hour)).mean()\n",
    "        collection.append(average)\n",
    "        \n",
    "    return ee.ImageCollection(collection)\n",
    "\n",
    "temp_10year_average = temporalReduction(temp)\n",
    "\n",
    "temp_10year_average = temp_10year_average.filter(ee.Filter.eq('temperature_2m', []))\n",
    "\n",
    "type(temp_10year_average), type(temp_10year_average.first())"
   ]
  },
  {
   "cell_type": "code",
   "execution_count": null,
   "id": "ad539040",
   "metadata": {},
   "outputs": [],
   "source": [
    "task = ee.batch.Export.table.toDrive(**{\n",
    "  'collection': temp_10year_average,\n",
    "  'description': 'juneau temp 10 year averages filtered by area 4',\n",
    "  'folder': 'EarthEngine',\n",
    "  #'selectors': ['BLOCK','FIPS', 'date', 'mean', 'temperature_2m'], \n",
    "  'fileFormat': 'CSV'\n",
    "})\n",
    "task.start()"
   ]
  },
  {
   "cell_type": "code",
   "execution_count": null,
   "id": "2eec0e68",
   "metadata": {},
   "outputs": [],
   "source": [
    "one_hour = temp.filter(ee.Filter.dayOfYear(2, 2)).filter(ee.Filter.eq('hour', 2)).mean()"
   ]
  },
  {
   "cell_type": "code",
   "execution_count": null,
   "id": "592d095d",
   "metadata": {},
   "outputs": [],
   "source": [
    "type(one_hour)"
   ]
  },
  {
   "cell_type": "code",
   "execution_count": null,
   "id": "4fa52e12",
   "metadata": {},
   "outputs": [],
   "source": [
    "map1 = Map(center=[58.3005, -134.4201], zoom=10)\n",
    "\n",
    "map1.addLayer(one_hour, {'min': 0, 'max': 272})\n",
    "\n",
    "map1"
   ]
  },
  {
   "cell_type": "code",
   "execution_count": null,
   "id": "e3079454",
   "metadata": {},
   "outputs": [],
   "source": [
    "buildings = ee.FeatureCollection('projects/sat-io/open-datasets/ORNL/USA-STRUCTURES/USA_ST_AK')\n",
    "\n",
    "buildingsRaster = ee.Image().byte().paint(featureCollection = buildings, color = 1)\n",
    "\n",
    "# Get coverage of buildings per ERA-5 Pixel\n",
    "imageBuildings = buildingsRaster.unmask(0).setDefaultProjection('EPSG:4326', None, 100).reproject('EPSG:4326', None, 100).reduceResolution(\n",
    "      reducer = ee.Reducer.mean(), maxPixels = 12393).multiply(ee.Image.pixelArea()).reproject('EPSG:4326', None, 11132)\n"
   ]
  },
  {
   "cell_type": "code",
   "execution_count": null,
   "id": "0e1a2b7e",
   "metadata": {},
   "outputs": [],
   "source": [
    "type(imageBuildings)"
   ]
  },
  {
   "cell_type": "code",
   "execution_count": null,
   "id": "c318feac",
   "metadata": {},
   "outputs": [],
   "source": [
    "centroids = imageBuildings.gt(0).sample(\n",
    "  region = akGeometry,\n",
    "  geometries =  True);"
   ]
  },
  {
   "cell_type": "code",
   "execution_count": null,
   "id": "d0b8dafb",
   "metadata": {},
   "outputs": [],
   "source": [
    "def maskTemp(image):\n",
    "    return image.updateMask(imageBuildings.reproject('EPSG:4326', None, 11132)).unmask(0)\n",
    "\n",
    "temp_10year_average_masked = temp_10year_average.map(maskTemp)"
   ]
  },
  {
   "cell_type": "code",
   "execution_count": null,
   "id": "2d3fb211",
   "metadata": {},
   "outputs": [],
   "source": [
    "type(temp_10year_average_masked), type(temp_10year_average_masked.first())"
   ]
  },
  {
   "cell_type": "code",
   "execution_count": null,
   "id": "1cd38800",
   "metadata": {},
   "outputs": [],
   "source": [
    "task = ee.batch.Export.table.toDrive(**{\n",
    "  'collection': temp_10year_average_masked,\n",
    "  'description': 'juneau temp 10 year averages masked',\n",
    "  'folder': 'EarthEngine',\n",
    "  #'selectors': ['BLOCK','FIPS', 'date', 'mean', 'temperature_2m'], \n",
    "  'fileFormat': 'CSV'\n",
    "})\n",
    "task.start()"
   ]
  },
  {
   "cell_type": "code",
   "execution_count": null,
   "id": "4c502fa4",
   "metadata": {},
   "outputs": [],
   "source": [
    "blocks = gpd.read_file('../DSSG2023-Heating-Loads-Data/shapefiles/Blocks2020/Blocks2020.shp')\n",
    "blocks = blocks[['NAME', 'STATE', 'BOROUGH', 'TRACT', 'BLOCK', 'FIPS', 'TOTALPOP', 'HOUSEUNITS', 'geometry']]\n",
    "juneauBlocks = blocks[(blocks['BOROUGH'] == '110') & (blocks['TOTALPOP'] > 0)]\n",
    "juneauBlocksFC = geemap.geopandas_to_ee(juneauBlocks)"
   ]
  },
  {
   "cell_type": "code",
   "execution_count": null,
   "id": "b3d59f65",
   "metadata": {},
   "outputs": [],
   "source": [
    "juneauBlocksFC.size().getInfo()"
   ]
  },
  {
   "cell_type": "code",
   "execution_count": null,
   "id": "1fe3d700",
   "metadata": {},
   "outputs": [],
   "source": [
    "areas = juneauBlocks['geometry'].area\n",
    "areas.min(), areas.median(), areas.max()"
   ]
  },
  {
   "cell_type": "code",
   "execution_count": null,
   "id": "96c7a026",
   "metadata": {},
   "outputs": [],
   "source": [
    "# spatial reduction according to juneauBlocksFC\n",
    "\n",
    "def reduce_to_region(image):\n",
    "    reduced_image = image.reduceRegions(collection=juneauBlocksFC, reducer=ee.Reducer.mean(), scale=1000, crs = 'EPSG:4326')\n",
    "    #reduced_image = reduced_image.set('date', image.get('julian_date'))\n",
    "    return reduced_image\n",
    "\n",
    "export = temp_10year_average.map(reduce_to_region)"
   ]
  },
  {
   "cell_type": "code",
   "execution_count": null,
   "id": "b8179c2c",
   "metadata": {},
   "outputs": [],
   "source": [
    "type(temp_10year_average)"
   ]
  },
  {
   "cell_type": "code",
   "execution_count": null,
   "id": "5c4928ed",
   "metadata": {},
   "outputs": [],
   "source": [
    "export_one_hour = one_hour.reduceRegions(collection=juneauBlocksFC, reducer=ee.Reducer.mean(), scale=1000, crs = 'EPSG:4326')"
   ]
  },
  {
   "cell_type": "code",
   "execution_count": null,
   "id": "9ae56efe",
   "metadata": {},
   "outputs": [],
   "source": [
    "type(export), type(export.first())"
   ]
  },
  {
   "cell_type": "code",
   "execution_count": null,
   "id": "543c3ce5",
   "metadata": {},
   "outputs": [],
   "source": [
    "export1 = export.first()"
   ]
  },
  {
   "cell_type": "code",
   "execution_count": null,
   "id": "ec1d3e12",
   "metadata": {},
   "outputs": [],
   "source": [
    "task = ee.batch.Export.table.toDrive(**{\n",
    "  'collection': export1,\n",
    "  'description': 'juneau block export for first block no mask',\n",
    "  'folder': 'EarthEngine',\n",
    "  #'selectors': ['BLOCK','FIPS', 'date', 'mean', 'temperature_2m'], \n",
    "  'fileFormat': 'CSV'\n",
    "})\n",
    "task.start()"
   ]
  },
  {
   "cell_type": "code",
   "execution_count": null,
   "id": "ad8dbade",
   "metadata": {},
   "outputs": [],
   "source": [
    "task = ee.batch.Export.table.toDrive(**{\n",
    "  'collection': export,\n",
    "  'description': 'juneau block export try 1 no mask',\n",
    "  'folder': 'EarthEngine',\n",
    "  #'selectors': ['BLOCK','FIPS', 'date', 'mean', 'temperature_2m'], \n",
    "  'fileFormat': 'CSV'\n",
    "})\n",
    "task.start()"
   ]
  }
 ],
 "metadata": {
  "kernelspec": {
   "display_name": "Python 3 (ipykernel)",
   "language": "python",
   "name": "python3"
  },
  "language_info": {
   "codemirror_mode": {
    "name": "ipython",
    "version": 3
   },
   "file_extension": ".py",
   "mimetype": "text/x-python",
   "name": "python",
   "nbconvert_exporter": "python",
   "pygments_lexer": "ipython3",
   "version": "3.10.8"
  }
 },
 "nbformat": 4,
 "nbformat_minor": 5
}
