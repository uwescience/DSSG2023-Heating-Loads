{
 "cells": [
  {
   "cell_type": "markdown",
   "id": "8c86f2dd",
   "metadata": {},
   "source": [
    "### ERA5 Data Extraction for Heat Pump Calculator Simulation"
   ]
  },
  {
   "cell_type": "code",
   "execution_count": 20,
   "id": "fc6d6d36",
   "metadata": {},
   "outputs": [
    {
     "name": "stdout",
     "output_type": "stream",
     "text": [
      "Collecting gdown\n",
      "  Downloading gdown-4.7.1-py3-none-any.whl (15 kB)\n",
      "Requirement already satisfied: requests[socks] in /Users/brianleung/anaconda3/lib/python3.10/site-packages (from gdown) (2.21.0)\n",
      "Requirement already satisfied: beautifulsoup4 in /Users/brianleung/anaconda3/lib/python3.10/site-packages (from gdown) (4.11.1)\n",
      "Requirement already satisfied: filelock in /Users/brianleung/anaconda3/lib/python3.10/site-packages (from gdown) (3.9.0)\n",
      "Requirement already satisfied: six in /Users/brianleung/anaconda3/lib/python3.10/site-packages (from gdown) (1.12.0)\n",
      "Requirement already satisfied: tqdm in /Users/brianleung/anaconda3/lib/python3.10/site-packages (from gdown) (4.64.1)\n",
      "Requirement already satisfied: soupsieve>1.2 in /Users/brianleung/anaconda3/lib/python3.10/site-packages (from beautifulsoup4->gdown) (2.3.2.post1)\n",
      "Requirement already satisfied: certifi>=2017.4.17 in /Users/brianleung/anaconda3/lib/python3.10/site-packages (from requests[socks]->gdown) (2023.5.7)\n",
      "Requirement already satisfied: urllib3<1.25,>=1.21.1 in /Users/brianleung/anaconda3/lib/python3.10/site-packages (from requests[socks]->gdown) (1.24.3)\n",
      "Requirement already satisfied: chardet<3.1.0,>=3.0.2 in /Users/brianleung/anaconda3/lib/python3.10/site-packages (from requests[socks]->gdown) (3.0.4)\n",
      "Requirement already satisfied: idna<2.9,>=2.5 in /Users/brianleung/anaconda3/lib/python3.10/site-packages (from requests[socks]->gdown) (2.8)\n",
      "Requirement already satisfied: PySocks!=1.5.7,>=1.5.6 in /Users/brianleung/anaconda3/lib/python3.10/site-packages (from requests[socks]->gdown) (1.7.1)\n",
      "Installing collected packages: gdown\n",
      "Successfully installed gdown-4.7.1\n",
      "Note: you may need to restart the kernel to use updated packages.\n"
     ]
    }
   ],
   "source": [
    "#%pip install gdown"
   ]
  },
  {
   "cell_type": "code",
   "execution_count": 21,
   "id": "f135ac85",
   "metadata": {},
   "outputs": [],
   "source": [
    "import numpy as np\n",
    "import re\n",
    "import pandas as pd\n",
    "import geopandas as gpd\n",
    "import gdown"
   ]
  },
  {
   "cell_type": "code",
   "execution_count": 4,
   "id": "a7323c31",
   "metadata": {},
   "outputs": [
    {
     "name": "stdout",
     "output_type": "stream",
     "text": [
      "Authenticating using Notebook auth...\n",
      "✓ Previously created authentication credentials were found.\n",
      "✓ Successfully initialized!\n"
     ]
    }
   ],
   "source": [
    "COLAB_AUTH_FLOW_CLOUD_PROJECT_FOR_API_CALLS = None\n",
    "\n",
    "import ee\n",
    "import google\n",
    "import os\n",
    "\n",
    "if COLAB_AUTH_FLOW_CLOUD_PROJECT_FOR_API_CALLS is None:\n",
    "  print(\"Authenticating using Notebook auth...\")\n",
    "  if os.path.exists(ee.oauth.get_credentials_path()) is False:\n",
    "    ee.Authenticate()\n",
    "  else:\n",
    "    print('\\N{check mark} '\n",
    "          'Previously created authentication credentials were found.')\n",
    "  ee.Initialize()\n",
    "else:\n",
    "  print('Authenticating using Colab auth...')\n",
    "  # Authenticate to populate Application Default Credentials in the Colab VM.\n",
    "  google.colab.auth.authenticate_user()\n",
    "  # Create credentials needed for accessing Earth Engine.\n",
    "  credentials, auth_project_id = google.auth.default()\n",
    "  # Initialize Earth Engine.\n",
    "  ee.Initialize(credentials, project=COLAB_AUTH_FLOW_CLOUD_PROJECT_FOR_API_CALLS)\n",
    "print('\\N{check mark} Successfully initialized!')"
   ]
  },
  {
   "cell_type": "markdown",
   "id": "0b55a534",
   "metadata": {},
   "source": [
    "### Get ERA5 hourly data by Census places"
   ]
  },
  {
   "cell_type": "code",
   "execution_count": 16,
   "id": "d74fa3e5",
   "metadata": {},
   "outputs": [],
   "source": [
    "era5 = ee.ImageCollection(\"ECMWF/ERA5_LAND/HOURLY\")\n",
    "hourly2022 = era5.filterDate('2022-01-01', '2022-01-02').select('temperature_2m')"
   ]
  },
  {
   "cell_type": "code",
   "execution_count": 17,
   "id": "8dc9db51",
   "metadata": {},
   "outputs": [],
   "source": [
    "# AK Census places as feature collection\n",
    "ak_places = ee.FeatureCollection('projects/geospatial-data-kpleung/assets/akplaces_2010')"
   ]
  },
  {
   "cell_type": "code",
   "execution_count": 18,
   "id": "f3ecff95",
   "metadata": {},
   "outputs": [],
   "source": [
    "# reducer \n",
    "def reduceByPlaces(image):\n",
    "  return image.reduceRegions(collection = ak_places,\n",
    "                             reducer = ee.Reducer.mean().setOutputs(['avg_air_temp']))\n",
    "\n",
    "placesHourly2022 = hourly2022.map(reduceByPlaces).flatten()"
   ]
  },
  {
   "cell_type": "code",
   "execution_count": 19,
   "id": "91ccd87b",
   "metadata": {},
   "outputs": [],
   "source": [
    "# expected runtime: 45m\n",
    "task = ee.batch.Export.table.toDrive(**{\n",
    "  'collection': placesHourly2022,\n",
    "  'description': 'Places Average Temp by Hourly 2022',\n",
    "  'folder': 'EarthEngine',\n",
    "  'selectors': ['system:index','NAME', 'FIPS', 'avg_air_temp'], \n",
    "  'fileFormat': 'CSV'\n",
    "})\n",
    "task.start()"
   ]
  },
  {
   "cell_type": "code",
   "execution_count": 23,
   "id": "5102d5e0",
   "metadata": {},
   "outputs": [
    {
     "name": "stderr",
     "output_type": "stream",
     "text": [
      "Downloading...\n",
      "From (uriginal): https://drive.google.com/uc?id=1T1vRS8OU1S89sfaoDCynN9BxAKRlGRPO\n",
      "From (redirected): https://drive.google.com/uc?id=1T1vRS8OU1S89sfaoDCynN9BxAKRlGRPO&confirm=t&uuid=4e35ce7f-a566-433f-acbe-e9abbb0e6d96\n",
      "To: /Users/brianleung/Documents/Python-Projects/DSSG2023-Heating-Loads/Data/Places Average Temp by Hourly 2022.csv\n",
      "100%|██████████| 226M/226M [00:09<00:00, 24.8MB/s] \n"
     ]
    },
    {
     "data": {
      "text/plain": [
       "'../Data/Places Average Temp by Hourly 2022.csv'"
      ]
     },
     "execution_count": 23,
     "metadata": {},
     "output_type": "execute_result"
    }
   ],
   "source": [
    "# download the result from Google drive (later change to Github submodule)\n",
    "url = \"https://drive.google.com/file/d/1T1vRS8OU1S89sfaoDCynN9BxAKRlGRPO/view?usp=drive_link\"\n",
    "output_path = \"../Data/\"\n",
    "gdown.download(url, output_path, quiet=False,fuzzy=True)"
   ]
  },
  {
   "cell_type": "code",
   "execution_count": 24,
   "id": "1ee39bdb",
   "metadata": {},
   "outputs": [
    {
     "data": {
      "text/html": [
       "<div>\n",
       "<style scoped>\n",
       "    .dataframe tbody tr th:only-of-type {\n",
       "        vertical-align: middle;\n",
       "    }\n",
       "\n",
       "    .dataframe tbody tr th {\n",
       "        vertical-align: top;\n",
       "    }\n",
       "\n",
       "    .dataframe thead th {\n",
       "        text-align: right;\n",
       "    }\n",
       "</style>\n",
       "<table border=\"1\" class=\"dataframe\">\n",
       "  <thead>\n",
       "    <tr style=\"text-align: right;\">\n",
       "      <th></th>\n",
       "      <th>system:index</th>\n",
       "      <th>NAME</th>\n",
       "      <th>FIPS</th>\n",
       "      <th>avg_air_temp</th>\n",
       "    </tr>\n",
       "  </thead>\n",
       "  <tbody>\n",
       "    <tr>\n",
       "      <th>0</th>\n",
       "      <td>20220101T00_000000000000000000e7</td>\n",
       "      <td>Chisana CDP</td>\n",
       "      <td>213890</td>\n",
       "      <td>256.219526</td>\n",
       "    </tr>\n",
       "    <tr>\n",
       "      <th>1</th>\n",
       "      <td>20220101T00_00000000000000000124</td>\n",
       "      <td>Flat CDP</td>\n",
       "      <td>225880</td>\n",
       "      <td>248.954065</td>\n",
       "    </tr>\n",
       "    <tr>\n",
       "      <th>2</th>\n",
       "      <td>20220101T00_00000000000000000162</td>\n",
       "      <td>Mertarvik CDP</td>\n",
       "      <td>248590</td>\n",
       "      <td>255.769480</td>\n",
       "    </tr>\n",
       "    <tr>\n",
       "      <th>3</th>\n",
       "      <td>20220101T00_000000000000000000b6</td>\n",
       "      <td>Ivanof Bay CDP</td>\n",
       "      <td>235890</td>\n",
       "      <td>274.298566</td>\n",
       "    </tr>\n",
       "    <tr>\n",
       "      <th>4</th>\n",
       "      <td>20220101T00_000000000000000000b0</td>\n",
       "      <td>Pope-Vannoy Landing CDP</td>\n",
       "      <td>262125</td>\n",
       "      <td>271.321084</td>\n",
       "    </tr>\n",
       "  </tbody>\n",
       "</table>\n",
       "</div>"
      ],
      "text/plain": [
       "                       system:index                     NAME    FIPS  \\\n",
       "0  20220101T00_000000000000000000e7              Chisana CDP  213890   \n",
       "1  20220101T00_00000000000000000124                 Flat CDP  225880   \n",
       "2  20220101T00_00000000000000000162            Mertarvik CDP  248590   \n",
       "3  20220101T00_000000000000000000b6           Ivanof Bay CDP  235890   \n",
       "4  20220101T00_000000000000000000b0  Pope-Vannoy Landing CDP  262125   \n",
       "\n",
       "   avg_air_temp  \n",
       "0    256.219526  \n",
       "1    248.954065  \n",
       "2    255.769480  \n",
       "3    274.298566  \n",
       "4    271.321084  "
      ]
     },
     "execution_count": 24,
     "metadata": {},
     "output_type": "execute_result"
    }
   ],
   "source": [
    "# replicating above with the full hourly data\n",
    "temp_data = pd.read_csv(\"../Data/Places Average Temp by Hourly 2022.csv\")\n",
    "temp_data.head()"
   ]
  },
  {
   "cell_type": "code",
   "execution_count": 26,
   "id": "724bf002",
   "metadata": {},
   "outputs": [
    {
     "data": {
      "text/html": [
       "<div>\n",
       "<style scoped>\n",
       "    .dataframe tbody tr th:only-of-type {\n",
       "        vertical-align: middle;\n",
       "    }\n",
       "\n",
       "    .dataframe tbody tr th {\n",
       "        vertical-align: top;\n",
       "    }\n",
       "\n",
       "    .dataframe thead th {\n",
       "        text-align: right;\n",
       "    }\n",
       "</style>\n",
       "<table border=\"1\" class=\"dataframe\">\n",
       "  <thead>\n",
       "    <tr style=\"text-align: right;\">\n",
       "      <th></th>\n",
       "      <th>FIPS</th>\n",
       "      <th>NAME</th>\n",
       "      <th>timestamp</th>\n",
       "      <th>db_temp</th>\n",
       "      <th>Month</th>\n",
       "    </tr>\n",
       "  </thead>\n",
       "  <tbody>\n",
       "    <tr>\n",
       "      <th>3101270</th>\n",
       "      <td>217410</td>\n",
       "      <td>Cordova city</td>\n",
       "      <td>2022-12-30 23:00:00</td>\n",
       "      <td>34.112994</td>\n",
       "      <td>12</td>\n",
       "    </tr>\n",
       "    <tr>\n",
       "      <th>3101271</th>\n",
       "      <td>270540</td>\n",
       "      <td>Sitka city and borough</td>\n",
       "      <td>2022-12-30 23:00:00</td>\n",
       "      <td>35.988650</td>\n",
       "      <td>12</td>\n",
       "    </tr>\n",
       "    <tr>\n",
       "      <th>3101272</th>\n",
       "      <td>224230</td>\n",
       "      <td>Fairbanks city</td>\n",
       "      <td>2022-12-30 23:00:00</td>\n",
       "      <td>-2.567381</td>\n",
       "      <td>12</td>\n",
       "    </tr>\n",
       "    <tr>\n",
       "      <th>3101273</th>\n",
       "      <td>242832</td>\n",
       "      <td>Lakes CDP</td>\n",
       "      <td>2022-12-30 23:00:00</td>\n",
       "      <td>27.502363</td>\n",
       "      <td>12</td>\n",
       "    </tr>\n",
       "    <tr>\n",
       "      <th>3101274</th>\n",
       "      <td>260310</td>\n",
       "      <td>Petersburg city</td>\n",
       "      <td>2022-12-30 23:00:00</td>\n",
       "      <td>33.778169</td>\n",
       "      <td>12</td>\n",
       "    </tr>\n",
       "    <tr>\n",
       "      <th>3101275</th>\n",
       "      <td>201090</td>\n",
       "      <td>Akutan city</td>\n",
       "      <td>2022-12-30 23:00:00</td>\n",
       "      <td>36.943349</td>\n",
       "      <td>12</td>\n",
       "    </tr>\n",
       "    <tr>\n",
       "      <th>3101276</th>\n",
       "      <td>283080</td>\n",
       "      <td>Wasilla city</td>\n",
       "      <td>2022-12-30 23:00:00</td>\n",
       "      <td>27.773250</td>\n",
       "      <td>12</td>\n",
       "    </tr>\n",
       "    <tr>\n",
       "      <th>3101277</th>\n",
       "      <td>240645</td>\n",
       "      <td>Knik-Fairview CDP</td>\n",
       "      <td>2022-12-30 23:00:00</td>\n",
       "      <td>28.403257</td>\n",
       "      <td>12</td>\n",
       "    </tr>\n",
       "    <tr>\n",
       "      <th>3101278</th>\n",
       "      <td>240950</td>\n",
       "      <td>Kodiak city</td>\n",
       "      <td>2022-12-30 23:00:00</td>\n",
       "      <td>NaN</td>\n",
       "      <td>12</td>\n",
       "    </tr>\n",
       "    <tr>\n",
       "      <th>3101279</th>\n",
       "      <td>236400</td>\n",
       "      <td>Juneau city and borough</td>\n",
       "      <td>2022-12-30 23:00:00</td>\n",
       "      <td>24.122793</td>\n",
       "      <td>12</td>\n",
       "    </tr>\n",
       "  </tbody>\n",
       "</table>\n",
       "</div>"
      ],
      "text/plain": [
       "           FIPS                     NAME           timestamp    db_temp Month\n",
       "3101270  217410             Cordova city 2022-12-30 23:00:00  34.112994    12\n",
       "3101271  270540   Sitka city and borough 2022-12-30 23:00:00  35.988650    12\n",
       "3101272  224230           Fairbanks city 2022-12-30 23:00:00  -2.567381    12\n",
       "3101273  242832                Lakes CDP 2022-12-30 23:00:00  27.502363    12\n",
       "3101274  260310          Petersburg city 2022-12-30 23:00:00  33.778169    12\n",
       "3101275  201090              Akutan city 2022-12-30 23:00:00  36.943349    12\n",
       "3101276  283080             Wasilla city 2022-12-30 23:00:00  27.773250    12\n",
       "3101277  240645        Knik-Fairview CDP 2022-12-30 23:00:00  28.403257    12\n",
       "3101278  240950              Kodiak city 2022-12-30 23:00:00        NaN    12\n",
       "3101279  236400  Juneau city and borough 2022-12-30 23:00:00  24.122793    12"
      ]
     },
     "execution_count": 26,
     "metadata": {},
     "output_type": "execute_result"
    }
   ],
   "source": [
    "temp_data['Month'] = temp_data['system:index'].str[4:6]\n",
    "temp_data['db_temp'] = (1.8 * (temp_data['avg_air_temp']-273)) + 32\n",
    "temp_data['timestamp'] = temp_data['system:index'].str[:11].str.replace(\"T\",\"\")\n",
    "temp_data['timestamp'] = pd.to_datetime(temp_data['timestamp'], format ='%Y%m%d%H')\n",
    "data = temp_data[['FIPS','NAME','timestamp', 'db_temp', 'Month']]\n",
    "data.tail(10)"
   ]
  },
  {
   "cell_type": "code",
   "execution_count": 27,
   "id": "fcabed94",
   "metadata": {},
   "outputs": [],
   "source": [
    "df = data\n",
    "df_dict = {str(g): d for g, d in df.groupby('FIPS')}"
   ]
  },
  {
   "cell_type": "code",
   "execution_count": 28,
   "id": "c24dd5c6",
   "metadata": {},
   "outputs": [],
   "source": [
    "for i in df_dict:\n",
    "    df_dict[i].to_csv ('../Data/ERA5/'+ i + '.csv', index = None, header=True) "
   ]
  },
  {
   "cell_type": "code",
   "execution_count": 29,
   "id": "9c9e01ca",
   "metadata": {},
   "outputs": [],
   "source": [
    "for i in df_dict:\n",
    "    df_dict[i].to_pickle ('../Data/ERA5/'+ i + '.pkl') "
   ]
  }
 ],
 "metadata": {
  "kernelspec": {
   "display_name": "Python 3",
   "language": "python",
   "name": "python3"
  },
  "language_info": {
   "codemirror_mode": {
    "name": "ipython",
    "version": 3
   },
   "file_extension": ".py",
   "mimetype": "text/x-python",
   "name": "python",
   "nbconvert_exporter": "python",
   "pygments_lexer": "ipython3",
   "version": "3.10.9"
  }
 },
 "nbformat": 4,
 "nbformat_minor": 5
}
