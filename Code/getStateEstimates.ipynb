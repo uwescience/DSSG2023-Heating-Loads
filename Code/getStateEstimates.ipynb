{
 "cells": [
  {
   "cell_type": "code",
   "execution_count": 3,
   "metadata": {},
   "outputs": [],
   "source": [
    "import pandas as pd\n",
    "import geopandas as gpd"
   ]
  },
  {
   "cell_type": "code",
   "execution_count": 82,
   "metadata": {},
   "outputs": [],
   "source": [
    "## read adoption rate data\n",
    "adopt_rates = pd.read_csv('../DSSG2023-Heating-Loads-Data/state-borough-aggregates/adoption_scenarios_5_and_15.csv', usecols=lambda x: x not in ['Unnamed: 0'])"
   ]
  },
  {
   "cell_type": "code",
   "execution_count": 83,
   "metadata": {},
   "outputs": [],
   "source": [
    "adopt_rates.rename(columns={'NAME':'census_area'}, inplace=True)"
   ]
  },
  {
   "cell_type": "code",
   "execution_count": 84,
   "metadata": {},
   "outputs": [
    {
     "data": {
      "text/html": [
       "<div>\n",
       "<style scoped>\n",
       "    .dataframe tbody tr th:only-of-type {\n",
       "        vertical-align: middle;\n",
       "    }\n",
       "\n",
       "    .dataframe tbody tr th {\n",
       "        vertical-align: top;\n",
       "    }\n",
       "\n",
       "    .dataframe thead th {\n",
       "        text-align: right;\n",
       "    }\n",
       "</style>\n",
       "<table border=\"1\" class=\"dataframe\">\n",
       "  <thead>\n",
       "    <tr style=\"text-align: right;\">\n",
       "      <th></th>\n",
       "      <th>census_area</th>\n",
       "      <th>hp_current</th>\n",
       "      <th>hp_current_prop_b</th>\n",
       "      <th>hp_5p</th>\n",
       "      <th>hp_5p_prop_b</th>\n",
       "      <th>hp_15p</th>\n",
       "      <th>hp_15p_prop_b</th>\n",
       "    </tr>\n",
       "  </thead>\n",
       "  <tbody>\n",
       "    <tr>\n",
       "      <th>0</th>\n",
       "      <td>Aleutians East Borough</td>\n",
       "      <td>0</td>\n",
       "      <td>0.000000</td>\n",
       "      <td>27</td>\n",
       "      <td>0.039764</td>\n",
       "      <td>339.5</td>\n",
       "      <td>0.500000</td>\n",
       "    </tr>\n",
       "    <tr>\n",
       "      <th>1</th>\n",
       "      <td>Aleutians West Census Area</td>\n",
       "      <td>0</td>\n",
       "      <td>0.000000</td>\n",
       "      <td>96</td>\n",
       "      <td>0.072126</td>\n",
       "      <td>665.5</td>\n",
       "      <td>0.500000</td>\n",
       "    </tr>\n",
       "    <tr>\n",
       "      <th>2</th>\n",
       "      <td>Anchorage Municipality</td>\n",
       "      <td>134</td>\n",
       "      <td>0.001129</td>\n",
       "      <td>217</td>\n",
       "      <td>0.001829</td>\n",
       "      <td>4195.0</td>\n",
       "      <td>0.035359</td>\n",
       "    </tr>\n",
       "    <tr>\n",
       "      <th>3</th>\n",
       "      <td>Bethel Census Area</td>\n",
       "      <td>0</td>\n",
       "      <td>0.000000</td>\n",
       "      <td>25</td>\n",
       "      <td>0.004178</td>\n",
       "      <td>1247.0</td>\n",
       "      <td>0.208389</td>\n",
       "    </tr>\n",
       "    <tr>\n",
       "      <th>4</th>\n",
       "      <td>Bristol Bay Borough</td>\n",
       "      <td>0</td>\n",
       "      <td>0.000000</td>\n",
       "      <td>13</td>\n",
       "      <td>0.015169</td>\n",
       "      <td>428.5</td>\n",
       "      <td>0.500000</td>\n",
       "    </tr>\n",
       "  </tbody>\n",
       "</table>\n",
       "</div>"
      ],
      "text/plain": [
       "                  census_area  hp_current  hp_current_prop_b  hp_5p  \\\n",
       "0      Aleutians East Borough           0           0.000000     27   \n",
       "1  Aleutians West Census Area           0           0.000000     96   \n",
       "2      Anchorage Municipality         134           0.001129    217   \n",
       "3          Bethel Census Area           0           0.000000     25   \n",
       "4         Bristol Bay Borough           0           0.000000     13   \n",
       "\n",
       "   hp_5p_prop_b  hp_15p  hp_15p_prop_b  \n",
       "0      0.039764   339.5       0.500000  \n",
       "1      0.072126   665.5       0.500000  \n",
       "2      0.001829  4195.0       0.035359  \n",
       "3      0.004178  1247.0       0.208389  \n",
       "4      0.015169   428.5       0.500000  "
      ]
     },
     "execution_count": 84,
     "metadata": {},
     "output_type": "execute_result"
    }
   ],
   "source": [
    "adopt_rates.head()"
   ]
  },
  {
   "cell_type": "code",
   "execution_count": 85,
   "metadata": {},
   "outputs": [],
   "source": [
    "## read borough estimates\n",
    "borough_estimates_weightedByHuFuel = pd.read_csv('../Output/borough_estimates_weightedByHuFuel.csv', usecols=lambda x: x not in ['Unnamed: 0'])"
   ]
  },
  {
   "cell_type": "code",
   "execution_count": 86,
   "metadata": {},
   "outputs": [],
   "source": [
    "## correct name inconsistency\n",
    "borough_estimates_weightedByHuFuel.replace('Anchorage municipality', 'Anchorage Municipality', inplace=True)\n",
    "borough_estimates_weightedByHuFuel.replace('Wade Hampton Census Area', 'Kusilvak Census Area', inplace=True)"
   ]
  },
  {
   "cell_type": "code",
   "execution_count": 87,
   "metadata": {},
   "outputs": [],
   "source": [
    "## get the only base scenarios \n",
    "borough_estimates_baseScen = borough_estimates_weightedByHuFuel.loc[(borough_estimates_weightedByHuFuel['Rebate_dol'] == 0) & (borough_estimates_weightedByHuFuel['Fuel_Esc_Rate'] == 0.03) & (borough_estimates_weightedByHuFuel['Temp_Projection'] == 0)]"
   ]
  },
  {
   "cell_type": "code",
   "execution_count": 88,
   "metadata": {},
   "outputs": [
    {
     "data": {
      "text/html": [
       "<div>\n",
       "<style scoped>\n",
       "    .dataframe tbody tr th:only-of-type {\n",
       "        vertical-align: middle;\n",
       "    }\n",
       "\n",
       "    .dataframe tbody tr th {\n",
       "        vertical-align: top;\n",
       "    }\n",
       "\n",
       "    .dataframe thead th {\n",
       "        text-align: right;\n",
       "    }\n",
       "</style>\n",
       "<table border=\"1\" class=\"dataframe\">\n",
       "  <thead>\n",
       "    <tr style=\"text-align: right;\">\n",
       "      <th></th>\n",
       "      <th>census_area</th>\n",
       "      <th>Rebate_dol</th>\n",
       "      <th>Fuel_Esc_Rate</th>\n",
       "      <th>Temp_Projection</th>\n",
       "      <th>NPV_weighted2</th>\n",
       "      <th>CO2_lbs_saved_weighted2</th>\n",
       "      <th>CO2_driving_miles_saved_weighted2</th>\n",
       "      <th>Heating_Days_Above5_weighted2</th>\n",
       "      <th>Heating_Days_Below5_weighted2</th>\n",
       "      <th>Heating_Days_Covered</th>\n",
       "    </tr>\n",
       "  </thead>\n",
       "  <tbody>\n",
       "    <tr>\n",
       "      <th>0</th>\n",
       "      <td>Aleutians East Borough</td>\n",
       "      <td>0</td>\n",
       "      <td>0.03</td>\n",
       "      <td>0.0</td>\n",
       "      <td>292.098980</td>\n",
       "      <td>2202.777896</td>\n",
       "      <td>2469.844670</td>\n",
       "      <td>363.461122</td>\n",
       "      <td>0.000000</td>\n",
       "      <td>1.000000</td>\n",
       "    </tr>\n",
       "    <tr>\n",
       "      <th>27</th>\n",
       "      <td>Aleutians West Census Area</td>\n",
       "      <td>0</td>\n",
       "      <td>0.03</td>\n",
       "      <td>0.0</td>\n",
       "      <td>-7626.587914</td>\n",
       "      <td>2273.699688</td>\n",
       "      <td>2549.365084</td>\n",
       "      <td>355.512971</td>\n",
       "      <td>0.000000</td>\n",
       "      <td>1.000000</td>\n",
       "    </tr>\n",
       "    <tr>\n",
       "      <th>54</th>\n",
       "      <td>Anchorage Municipality</td>\n",
       "      <td>0</td>\n",
       "      <td>0.03</td>\n",
       "      <td>0.0</td>\n",
       "      <td>-5089.637038</td>\n",
       "      <td>1765.274706</td>\n",
       "      <td>1979.298199</td>\n",
       "      <td>354.500000</td>\n",
       "      <td>9.833333</td>\n",
       "      <td>0.973010</td>\n",
       "    </tr>\n",
       "    <tr>\n",
       "      <th>81</th>\n",
       "      <td>Bethel Census Area</td>\n",
       "      <td>0</td>\n",
       "      <td>0.03</td>\n",
       "      <td>0.0</td>\n",
       "      <td>-2297.664847</td>\n",
       "      <td>1085.389886</td>\n",
       "      <td>1216.983532</td>\n",
       "      <td>327.521745</td>\n",
       "      <td>34.923018</td>\n",
       "      <td>0.903646</td>\n",
       "    </tr>\n",
       "    <tr>\n",
       "      <th>108</th>\n",
       "      <td>Bristol Bay Borough</td>\n",
       "      <td>0</td>\n",
       "      <td>0.03</td>\n",
       "      <td>0.0</td>\n",
       "      <td>-9005.019276</td>\n",
       "      <td>1381.682427</td>\n",
       "      <td>1549.198848</td>\n",
       "      <td>288.469648</td>\n",
       "      <td>19.400006</td>\n",
       "      <td>0.936986</td>\n",
       "    </tr>\n",
       "  </tbody>\n",
       "</table>\n",
       "</div>"
      ],
      "text/plain": [
       "                    census_area  Rebate_dol  Fuel_Esc_Rate  Temp_Projection  \\\n",
       "0        Aleutians East Borough           0           0.03              0.0   \n",
       "27   Aleutians West Census Area           0           0.03              0.0   \n",
       "54       Anchorage Municipality           0           0.03              0.0   \n",
       "81           Bethel Census Area           0           0.03              0.0   \n",
       "108         Bristol Bay Borough           0           0.03              0.0   \n",
       "\n",
       "     NPV_weighted2  CO2_lbs_saved_weighted2  \\\n",
       "0       292.098980              2202.777896   \n",
       "27    -7626.587914              2273.699688   \n",
       "54    -5089.637038              1765.274706   \n",
       "81    -2297.664847              1085.389886   \n",
       "108   -9005.019276              1381.682427   \n",
       "\n",
       "     CO2_driving_miles_saved_weighted2  Heating_Days_Above5_weighted2  \\\n",
       "0                          2469.844670                     363.461122   \n",
       "27                         2549.365084                     355.512971   \n",
       "54                         1979.298199                     354.500000   \n",
       "81                         1216.983532                     327.521745   \n",
       "108                        1549.198848                     288.469648   \n",
       "\n",
       "     Heating_Days_Below5_weighted2  Heating_Days_Covered  \n",
       "0                         0.000000              1.000000  \n",
       "27                        0.000000              1.000000  \n",
       "54                        9.833333              0.973010  \n",
       "81                       34.923018              0.903646  \n",
       "108                      19.400006              0.936986  "
      ]
     },
     "execution_count": 88,
     "metadata": {},
     "output_type": "execute_result"
    }
   ],
   "source": [
    "borough_estimates_baseScen.head()"
   ]
  },
  {
   "cell_type": "code",
   "execution_count": 89,
   "metadata": {},
   "outputs": [
    {
     "data": {
      "text/plain": [
       "[1.0, 1.0]"
      ]
     },
     "execution_count": 89,
     "metadata": {},
     "output_type": "execute_result"
    }
   ],
   "source": [
    "## check if the boroughs match perfectly\n",
    "[borough_estimates_baseScen['census_area'].isin(adopt_rates['census_area']).mean(), adopt_rates['census_area'].isin(borough_estimates_baseScen['census_area']).mean()]"
   ]
  },
  {
   "cell_type": "code",
   "execution_count": 90,
   "metadata": {},
   "outputs": [],
   "source": [
    "## Merge adoption projects to borough estimates\n",
    "borough_estimates_wAdoptRate = borough_estimates_baseScen.merge(adopt_rates, on='census_area')"
   ]
  },
  {
   "cell_type": "code",
   "execution_count": 91,
   "metadata": {},
   "outputs": [
    {
     "data": {
      "text/html": [
       "<div>\n",
       "<style scoped>\n",
       "    .dataframe tbody tr th:only-of-type {\n",
       "        vertical-align: middle;\n",
       "    }\n",
       "\n",
       "    .dataframe tbody tr th {\n",
       "        vertical-align: top;\n",
       "    }\n",
       "\n",
       "    .dataframe thead th {\n",
       "        text-align: right;\n",
       "    }\n",
       "</style>\n",
       "<table border=\"1\" class=\"dataframe\">\n",
       "  <thead>\n",
       "    <tr style=\"text-align: right;\">\n",
       "      <th></th>\n",
       "      <th>census_area</th>\n",
       "      <th>Rebate_dol</th>\n",
       "      <th>Fuel_Esc_Rate</th>\n",
       "      <th>Temp_Projection</th>\n",
       "      <th>NPV_weighted2</th>\n",
       "      <th>CO2_lbs_saved_weighted2</th>\n",
       "      <th>CO2_driving_miles_saved_weighted2</th>\n",
       "      <th>Heating_Days_Above5_weighted2</th>\n",
       "      <th>Heating_Days_Below5_weighted2</th>\n",
       "      <th>Heating_Days_Covered</th>\n",
       "      <th>hp_current</th>\n",
       "      <th>hp_current_prop_b</th>\n",
       "      <th>hp_5p</th>\n",
       "      <th>hp_5p_prop_b</th>\n",
       "      <th>hp_15p</th>\n",
       "      <th>hp_15p_prop_b</th>\n",
       "    </tr>\n",
       "  </thead>\n",
       "  <tbody>\n",
       "    <tr>\n",
       "      <th>0</th>\n",
       "      <td>Aleutians East Borough</td>\n",
       "      <td>0</td>\n",
       "      <td>0.03</td>\n",
       "      <td>0.0</td>\n",
       "      <td>292.098980</td>\n",
       "      <td>2202.777896</td>\n",
       "      <td>2469.844670</td>\n",
       "      <td>363.461122</td>\n",
       "      <td>0.000000</td>\n",
       "      <td>1.000000</td>\n",
       "      <td>0</td>\n",
       "      <td>0.000000</td>\n",
       "      <td>27</td>\n",
       "      <td>0.039764</td>\n",
       "      <td>339.5</td>\n",
       "      <td>0.500000</td>\n",
       "    </tr>\n",
       "    <tr>\n",
       "      <th>1</th>\n",
       "      <td>Aleutians West Census Area</td>\n",
       "      <td>0</td>\n",
       "      <td>0.03</td>\n",
       "      <td>0.0</td>\n",
       "      <td>-7626.587914</td>\n",
       "      <td>2273.699688</td>\n",
       "      <td>2549.365084</td>\n",
       "      <td>355.512971</td>\n",
       "      <td>0.000000</td>\n",
       "      <td>1.000000</td>\n",
       "      <td>0</td>\n",
       "      <td>0.000000</td>\n",
       "      <td>96</td>\n",
       "      <td>0.072126</td>\n",
       "      <td>665.5</td>\n",
       "      <td>0.500000</td>\n",
       "    </tr>\n",
       "    <tr>\n",
       "      <th>2</th>\n",
       "      <td>Anchorage Municipality</td>\n",
       "      <td>0</td>\n",
       "      <td>0.03</td>\n",
       "      <td>0.0</td>\n",
       "      <td>-5089.637038</td>\n",
       "      <td>1765.274706</td>\n",
       "      <td>1979.298199</td>\n",
       "      <td>354.500000</td>\n",
       "      <td>9.833333</td>\n",
       "      <td>0.973010</td>\n",
       "      <td>134</td>\n",
       "      <td>0.001129</td>\n",
       "      <td>217</td>\n",
       "      <td>0.001829</td>\n",
       "      <td>4195.0</td>\n",
       "      <td>0.035359</td>\n",
       "    </tr>\n",
       "    <tr>\n",
       "      <th>3</th>\n",
       "      <td>Bethel Census Area</td>\n",
       "      <td>0</td>\n",
       "      <td>0.03</td>\n",
       "      <td>0.0</td>\n",
       "      <td>-2297.664847</td>\n",
       "      <td>1085.389886</td>\n",
       "      <td>1216.983532</td>\n",
       "      <td>327.521745</td>\n",
       "      <td>34.923018</td>\n",
       "      <td>0.903646</td>\n",
       "      <td>0</td>\n",
       "      <td>0.000000</td>\n",
       "      <td>25</td>\n",
       "      <td>0.004178</td>\n",
       "      <td>1247.0</td>\n",
       "      <td>0.208389</td>\n",
       "    </tr>\n",
       "    <tr>\n",
       "      <th>4</th>\n",
       "      <td>Bristol Bay Borough</td>\n",
       "      <td>0</td>\n",
       "      <td>0.03</td>\n",
       "      <td>0.0</td>\n",
       "      <td>-9005.019276</td>\n",
       "      <td>1381.682427</td>\n",
       "      <td>1549.198848</td>\n",
       "      <td>288.469648</td>\n",
       "      <td>19.400006</td>\n",
       "      <td>0.936986</td>\n",
       "      <td>0</td>\n",
       "      <td>0.000000</td>\n",
       "      <td>13</td>\n",
       "      <td>0.015169</td>\n",
       "      <td>428.5</td>\n",
       "      <td>0.500000</td>\n",
       "    </tr>\n",
       "  </tbody>\n",
       "</table>\n",
       "</div>"
      ],
      "text/plain": [
       "                  census_area  Rebate_dol  Fuel_Esc_Rate  Temp_Projection  \\\n",
       "0      Aleutians East Borough           0           0.03              0.0   \n",
       "1  Aleutians West Census Area           0           0.03              0.0   \n",
       "2      Anchorage Municipality           0           0.03              0.0   \n",
       "3          Bethel Census Area           0           0.03              0.0   \n",
       "4         Bristol Bay Borough           0           0.03              0.0   \n",
       "\n",
       "   NPV_weighted2  CO2_lbs_saved_weighted2  CO2_driving_miles_saved_weighted2  \\\n",
       "0     292.098980              2202.777896                        2469.844670   \n",
       "1   -7626.587914              2273.699688                        2549.365084   \n",
       "2   -5089.637038              1765.274706                        1979.298199   \n",
       "3   -2297.664847              1085.389886                        1216.983532   \n",
       "4   -9005.019276              1381.682427                        1549.198848   \n",
       "\n",
       "   Heating_Days_Above5_weighted2  Heating_Days_Below5_weighted2  \\\n",
       "0                     363.461122                       0.000000   \n",
       "1                     355.512971                       0.000000   \n",
       "2                     354.500000                       9.833333   \n",
       "3                     327.521745                      34.923018   \n",
       "4                     288.469648                      19.400006   \n",
       "\n",
       "   Heating_Days_Covered  hp_current  hp_current_prop_b  hp_5p  hp_5p_prop_b  \\\n",
       "0              1.000000           0           0.000000     27      0.039764   \n",
       "1              1.000000           0           0.000000     96      0.072126   \n",
       "2              0.973010         134           0.001129    217      0.001829   \n",
       "3              0.903646           0           0.000000     25      0.004178   \n",
       "4              0.936986           0           0.000000     13      0.015169   \n",
       "\n",
       "   hp_15p  hp_15p_prop_b  \n",
       "0   339.5       0.500000  \n",
       "1   665.5       0.500000  \n",
       "2  4195.0       0.035359  \n",
       "3  1247.0       0.208389  \n",
       "4   428.5       0.500000  "
      ]
     },
     "execution_count": 91,
     "metadata": {},
     "output_type": "execute_result"
    }
   ],
   "source": [
    "borough_estimates_wAdoptRate.head()"
   ]
  },
  {
   "cell_type": "code",
   "execution_count": 118,
   "metadata": {},
   "outputs": [],
   "source": [
    "## loading borough shapefiles\n",
    "boroughs = gpd.read_file('../DSSG2023-Heating-Loads-Data/shapefiles/Boroughs2020/')"
   ]
  },
  {
   "cell_type": "code",
   "execution_count": 119,
   "metadata": {},
   "outputs": [],
   "source": [
    "boroughs = boroughs[['NAME', 'HOUSEUNITS']]"
   ]
  },
  {
   "cell_type": "code",
   "execution_count": 120,
   "metadata": {},
   "outputs": [],
   "source": [
    "boroughs.rename(columns={'NAME':'census_area'}, inplace=True)"
   ]
  },
  {
   "cell_type": "code",
   "execution_count": 121,
   "metadata": {},
   "outputs": [],
   "source": [
    "borough_estimates_wAdoptRateHU = borough_estimates_wAdoptRate.merge(boroughs, on='census_area')"
   ]
  },
  {
   "cell_type": "code",
   "execution_count": 122,
   "metadata": {},
   "outputs": [],
   "source": [
    "borough_estimates_wAdoptRateHU['total_NPV_current'] = borough_estimates_wAdoptRateHU['NPV_weighted2'] * borough_estimates_wAdoptRateHU['hp_current_prop_b'] * borough_estimates_wAdoptRateHU['HOUSEUNITS']\n",
    "borough_estimates_wAdoptRateHU['total_NPV_5p'] = borough_estimates_wAdoptRateHU['NPV_weighted2'] * borough_estimates_wAdoptRateHU['hp_5p_prop_b'] * borough_estimates_wAdoptRateHU['HOUSEUNITS']\n",
    "borough_estimates_wAdoptRateHU['total_NPV_15p'] = borough_estimates_wAdoptRateHU['NPV_weighted2'] * borough_estimates_wAdoptRateHU['hp_15p_prop_b'] * borough_estimates_wAdoptRateHU['HOUSEUNITS']\n",
    "\n",
    "borough_estimates_wAdoptRateHU['total_CO2_lbs_current'] = borough_estimates_wAdoptRateHU['CO2_lbs_saved_weighted2'] * borough_estimates_wAdoptRateHU['hp_current_prop_b'] * borough_estimates_wAdoptRateHU['HOUSEUNITS']\n",
    "borough_estimates_wAdoptRateHU['total_CO2_lbs_5p'] = borough_estimates_wAdoptRateHU['CO2_lbs_saved_weighted2'] * borough_estimates_wAdoptRateHU['hp_5p_prop_b'] * borough_estimates_wAdoptRateHU['HOUSEUNITS']\n",
    "borough_estimates_wAdoptRateHU['total_CO2_lbs_15p'] = borough_estimates_wAdoptRateHU['CO2_lbs_saved_weighted2'] * borough_estimates_wAdoptRateHU['hp_15p_prop_b'] * borough_estimates_wAdoptRateHU['HOUSEUNITS']\n",
    "\n",
    "borough_estimates_wAdoptRateHU['total_CO2_miles_current'] = borough_estimates_wAdoptRateHU['CO2_driving_miles_saved_weighted2'] * borough_estimates_wAdoptRateHU['hp_current_prop_b'] * borough_estimates_wAdoptRateHU['HOUSEUNITS']\n",
    "borough_estimates_wAdoptRateHU['total_CO2_miles_5p'] = borough_estimates_wAdoptRateHU['CO2_driving_miles_saved_weighted2'] * borough_estimates_wAdoptRateHU['hp_5p_prop_b'] * borough_estimates_wAdoptRateHU['HOUSEUNITS']\n",
    "borough_estimates_wAdoptRateHU['total_CO2_miles_15p'] = borough_estimates_wAdoptRateHU['CO2_driving_miles_saved_weighted2'] * borough_estimates_wAdoptRateHU['hp_15p_prop_b'] * borough_estimates_wAdoptRateHU['HOUSEUNITS']\n",
    "\n",
    "borough_estimates_wAdoptRateHU['total_Heating_Days_Above5_current'] = borough_estimates_wAdoptRateHU['Heating_Days_Above5_weighted2'] * borough_estimates_wAdoptRateHU['hp_current_prop_b'] * borough_estimates_wAdoptRateHU['HOUSEUNITS']\n",
    "borough_estimates_wAdoptRateHU['total_Heating_Days_Above5_5p'] = borough_estimates_wAdoptRateHU['Heating_Days_Above5_weighted2'] * borough_estimates_wAdoptRateHU['hp_5p_prop_b'] * borough_estimates_wAdoptRateHU['HOUSEUNITS']\n",
    "borough_estimates_wAdoptRateHU['total_Heating_Days_Above5_15p'] = borough_estimates_wAdoptRateHU['Heating_Days_Above5_weighted2'] * borough_estimates_wAdoptRateHU['hp_15p_prop_b'] * borough_estimates_wAdoptRateHU['HOUSEUNITS']\n",
    "\n",
    "borough_estimates_wAdoptRateHU['total_Heating_Days_Below5_current'] = borough_estimates_wAdoptRateHU['Heating_Days_Below5_weighted2'] * borough_estimates_wAdoptRateHU['hp_current_prop_b'] * borough_estimates_wAdoptRateHU['HOUSEUNITS']\n",
    "borough_estimates_wAdoptRateHU['total_Heating_Days_Below5_5p'] = borough_estimates_wAdoptRateHU['Heating_Days_Below5_weighted2'] * borough_estimates_wAdoptRateHU['hp_5p_prop_b'] * borough_estimates_wAdoptRateHU['HOUSEUNITS']\n",
    "borough_estimates_wAdoptRateHU['total_Heating_Days_Below5_15p'] = borough_estimates_wAdoptRateHU['Heating_Days_Below5_weighted2'] * borough_estimates_wAdoptRateHU['hp_15p_prop_b'] * borough_estimates_wAdoptRateHU['HOUSEUNITS']"
   ]
  },
  {
   "cell_type": "code",
   "execution_count": 123,
   "metadata": {},
   "outputs": [],
   "source": [
    "borough_estimates_totals = borough_estimates_wAdoptRateHU.filter(regex=('total_'))"
   ]
  },
  {
   "cell_type": "code",
   "execution_count": 124,
   "metadata": {},
   "outputs": [],
   "source": [
    "state_estimates = borough_estimates_totals.sum()"
   ]
  },
  {
   "cell_type": "code",
   "execution_count": 132,
   "metadata": {},
   "outputs": [],
   "source": [
    "state_estimates['total_Heating_Days_Covered_current'] = state_estimates['total_Heating_Days_Above5_current'] / (state_estimates['total_Heating_Days_Above5_current'] + state_estimates['total_Heating_Days_Below5_current'])\n",
    "state_estimates['total_Heating_Days_Covered_5p'] = state_estimates['total_Heating_Days_Above5_5p'] / (state_estimates['total_Heating_Days_Above5_5p'] + state_estimates['total_Heating_Days_Below5_5p'])\n",
    "state_estimates['total_Heating_Days_Covered_15p'] = state_estimates['total_Heating_Days_Above5_15p'] / (state_estimates['total_Heating_Days_Above5_15p'] + state_estimates['total_Heating_Days_Below5_15p'])"
   ]
  },
  {
   "cell_type": "code",
   "execution_count": 133,
   "metadata": {},
   "outputs": [
    {
     "data": {
      "text/plain": [
       "total_NPV_current                     4.408303e+07\n",
       "total_NPV_5p                          6.213353e+07\n",
       "total_NPV_15p                         1.697973e+08\n",
       "total_CO2_lbs_current                 2.000964e+07\n",
       "total_CO2_lbs_5p                      3.088174e+07\n",
       "total_CO2_lbs_15p                     1.440788e+08\n",
       "total_CO2_miles_current               2.243563e+07\n",
       "total_CO2_miles_5p                    3.462587e+07\n",
       "total_CO2_miles_15p                   1.615470e+08\n",
       "total_Heating_Days_Above5_current     1.324617e+06\n",
       "total_Heating_Days_Above5_5p          2.223758e+06\n",
       "total_Heating_Days_Above5_15p         1.534180e+07\n",
       "total_Heating_Days_Below5_current     2.606896e+04\n",
       "total_Heating_Days_Below5_5p          3.661741e+04\n",
       "total_Heating_Days_Below5_15p         4.604929e+05\n",
       "total_Heating_Days_Covered_current    9.806995e-01\n",
       "total_Heating_Days_Covered_5p         9.838003e-01\n",
       "total_Heating_Days_Covered_15p        9.708591e-01\n",
       "Name: estimate, dtype: float64"
      ]
     },
     "execution_count": 133,
     "metadata": {},
     "output_type": "execute_result"
    }
   ],
   "source": [
    "state_estimates.rename('estimate', inplace=True)"
   ]
  },
  {
   "cell_type": "code",
   "execution_count": 134,
   "metadata": {},
   "outputs": [],
   "source": [
    "state_estimates.to_csv('../Output/state_estimates.csv')"
   ]
  }
 ],
 "metadata": {
  "kernelspec": {
   "display_name": "base",
   "language": "python",
   "name": "python3"
  },
  "language_info": {
   "codemirror_mode": {
    "name": "ipython",
    "version": 3
   },
   "file_extension": ".py",
   "mimetype": "text/x-python",
   "name": "python",
   "nbconvert_exporter": "python",
   "pygments_lexer": "ipython3",
   "version": "3.11.4"
  },
  "orig_nbformat": 4
 },
 "nbformat": 4,
 "nbformat_minor": 2
}
