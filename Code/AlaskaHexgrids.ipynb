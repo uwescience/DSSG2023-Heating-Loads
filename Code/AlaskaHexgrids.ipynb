{
 "cells": [
  {
   "cell_type": "code",
   "execution_count": null,
   "id": "6e02ac42-e1f3-454f-bc37-c801a49d468c",
   "metadata": {},
   "outputs": [],
   "source": [
    "from tobler.util import h3fy\n",
    "import geopandas as gpd\n",
    "import matplotlib.pyplot as plt\n",
    "import warnings\n",
    "warnings.filterwarnings('ignore')"
   ]
  },
  {
   "cell_type": "code",
   "execution_count": null,
   "id": "0559b5cd-aaf3-4449-90f5-99dbff4bf986",
   "metadata": {},
   "outputs": [],
   "source": [
    "# Boroughs shape file in EPSG:3338 crs \n",
    "geodf_boroughs = gpd.read_file('../DSSG2023-Heating-Loads-Data/shapefiles/Boroughs2020/Boroughs2020.shp')\n",
    "# Alaska shape file in EPSG:4269 crs \n",
    "# from here https://catalog.data.gov/dataset/tiger-line-shapefile-2019-state-alaska-current-alaska-native-regional-corporation-anrc-state-ba\n",
    "geodf_alaska = gpd.read_file('../DSSG2023-Heating-Loads-Data/shapefiles/tl_2019_02_anrc/tl_2019_02_anrc.shp')\n",
    "geodf_alaska = geodf_alaska.to_crs(epsg=3338) # convert crs\n",
    "\n",
    "# Generate a hexgrid geodataframe with resolution 4\n",
    "hexgrid_ak = h3fy(geodf_alaska.buffer(0.01), resolution=4)\n",
    "hexgrid_ak.plot();\n",
    "\n",
    "# The grid is created at resolution 4, but we can go to higher resolutions (H3 supports 16 resolutions) \n",
    "# — each finer resolution has cells with one-seventh of the area of the coarser resolution."
   ]
  },
  {
   "cell_type": "code",
   "execution_count": null,
   "id": "cfac20fe-53f6-49ed-968d-b5e17548581d",
   "metadata": {},
   "outputs": [],
   "source": [
    "# Plot borough boundaries with lower borough removed for plotting purposes\n",
    "geodf_boroughs.boundary.plot();"
   ]
  },
  {
   "cell_type": "code",
   "execution_count": null,
   "id": "0bb11938-a8a8-41ce-824b-2c5fc48681be",
   "metadata": {},
   "outputs": [],
   "source": [
    "# Overlay hexagons and boroughs with no crop\n",
    "fig, ax = plt.subplots()\n",
    "\n",
    "hexgrid_ak.plot(ax=ax)\n",
    "geodf_boroughs.boundary.plot(ax=ax, edgecolor = \"black\")\n",
    "plt.show()"
   ]
  },
  {
   "cell_type": "markdown",
   "id": "8798a1b6",
   "metadata": {},
   "source": [
    "Download hexgrids as geojson using the following: `hexgrid_ak.to_file(\"path\", driver=\"GeoJSON\")`"
   ]
  },
  {
   "cell_type": "code",
   "execution_count": null,
   "id": "252527e9-6c8c-4f6a-8bb4-061cd05bc593",
   "metadata": {},
   "outputs": [],
   "source": [
    "# Generate a hexgrid geodataframe with resolution 5\n",
    "hexgrid_ak_res5 = h3fy(geodf_alaska.buffer(0.01), resolution=5)"
   ]
  }
 ],
 "metadata": {
  "kernelspec": {
   "display_name": "Python 3 (ipykernel)",
   "language": "python",
   "name": "python3"
  },
  "language_info": {
   "codemirror_mode": {
    "name": "ipython",
    "version": 3
   },
   "file_extension": ".py",
   "mimetype": "text/x-python",
   "name": "python",
   "nbconvert_exporter": "python",
   "pygments_lexer": "ipython3",
   "version": "3.10.8"
  }
 },
 "nbformat": 4,
 "nbformat_minor": 5
}
