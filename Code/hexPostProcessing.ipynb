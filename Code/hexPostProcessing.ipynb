{
 "cells": [
  {
   "cell_type": "code",
   "execution_count": null,
   "metadata": {},
   "outputs": [],
   "source": [
    "import geopandas as gpd\n",
    "import pandas as pd\n",
    "import numpy as np\n",
    "from shapely.geometry import Point\n",
    "import matplotlib.pyplot as plt"
   ]
  },
  {
   "cell_type": "markdown",
   "metadata": {},
   "source": [
    "### Load hexagons (resolution of 5)"
   ]
  },
  {
   "cell_type": "code",
   "execution_count": null,
   "metadata": {},
   "outputs": [],
   "source": [
    "# load hex grid \n",
    "hexgrid_res5 = gpd.read_file(\"../DSSG2023-Heating-Loads-Data/Data/hex/hex_res5/\")"
   ]
  },
  {
   "cell_type": "code",
   "execution_count": null,
   "metadata": {},
   "outputs": [],
   "source": [
    "# find centroid and area of each hex cell \n",
    "hexgrid_res5['centroid'] = hexgrid_res5.centroid\n",
    "hexgrid_res5['area'] = hexgrid_res5.area"
   ]
  },
  {
   "cell_type": "code",
   "execution_count": null,
   "metadata": {},
   "outputs": [],
   "source": [
    "# avg cell size of H3 hexagon (res5)\n",
    "np.mean(hexgrid_res5['area'] / (10**3)**2)"
   ]
  },
  {
   "cell_type": "code",
   "execution_count": null,
   "metadata": {},
   "outputs": [],
   "source": [
    "# avg cell size of ERA5 (Resolution: 11132 meters)\n",
    "11132 ** 2  / (10**3)**2"
   ]
  },
  {
   "cell_type": "markdown",
   "metadata": {},
   "source": [
    "The average cell size of H3 hexagon (resolution = 5) is about 236 km^2, which is very close to the official documentation (https://h3geo.org/docs/core-library/restable/). The average cell size of ERA5 is about 123 km^2. That is, each H3 hexagon covers/overlaps with about 2 ERA5 cells. "
   ]
  },
  {
   "cell_type": "code",
   "execution_count": null,
   "metadata": {},
   "outputs": [],
   "source": [
    "# visualize centroid and hexagon\n",
    "fig, ax = plt.subplots(figsize=(21, 9))\n",
    "hexgrid_res5['geometry'].plot(ax = ax, facecolor='none', edgecolor='#187bcd')\n",
    "hexgrid_res5['centroid'].plot(ax = ax, facecolor='black', markersize = 0.5)\n",
    "ax.set_axis_off()"
   ]
  },
  {
   "cell_type": "markdown",
   "metadata": {},
   "source": [
    "### Load city info used in Heat Pump Calculator (HPC)"
   ]
  },
  {
   "cell_type": "code",
   "execution_count": null,
   "metadata": {},
   "outputs": [],
   "source": [
    "# load city info used in Heat Pump Calculator (HPC)\n",
    "city_url = 'https://github.com/leungkp/akwlib-export/blob/main/data/v01/city.csv' + '?raw=true'\n",
    "city_HPC = pd.read_csv(city_url)"
   ]
  },
  {
   "cell_type": "code",
   "execution_count": null,
   "metadata": {},
   "outputs": [],
   "source": [
    "# convert lat and long into a geometry / GDP object\n",
    "geometry = [Point(xy) for xy in zip(city_HPC['Longitude'], city_HPC['Latitude'])]\n",
    "city_HPC = gpd.GeoDataFrame(city_HPC, geometry = geometry, crs = 'epsg:4267')\n",
    "city_HPC = city_HPC.to_crs('epsg:3338')"
   ]
  },
  {
   "cell_type": "code",
   "execution_count": null,
   "metadata": {},
   "outputs": [],
   "source": [
    "# visualize cities used in HPC and hexagons\n",
    "fig, ax = plt.subplots(figsize=(21, 9))\n",
    "hexgrid_res5['geometry'].plot(ax = ax, facecolor='none', edgecolor='#187bcd', alpha=0.5)\n",
    "city_HPC.plot(ax = ax, facecolor='none', edgecolor=\"black\", markersize = 50, alpha=0.75)\n",
    "ax.set_axis_off()"
   ]
  },
  {
   "cell_type": "markdown",
   "metadata": {},
   "source": [
    "### Spatial joining"
   ]
  },
  {
   "cell_type": "code",
   "execution_count": null,
   "metadata": {},
   "outputs": [],
   "source": [
    "hexgrid_res5_wCity = gpd.sjoin_nearest(hexgrid_res5, city_HPC, distance_col = \"distance\")\n",
    "hexgrid_res5_wCity.head()"
   ]
  }
 ],
 "metadata": {
  "kernelspec": {
   "display_name": "Python 3 (ipykernel)",
   "language": "python",
   "name": "python3"
  },
  "language_info": {
   "codemirror_mode": {
    "name": "ipython",
    "version": 3
   },
   "file_extension": ".py",
   "mimetype": "text/x-python",
   "name": "python",
   "nbconvert_exporter": "python",
   "pygments_lexer": "ipython3",
   "version": "3.10.8"
  }
 },
 "nbformat": 4,
 "nbformat_minor": 2
}
